{
 "cells": [
  {
   "cell_type": "markdown",
   "metadata": {},
   "source": [
    "# Nội dung kiến thức\n",
    "1. Regular Expression là gì?\n",
    "2. Regular Expression trong Python\n",
    "3. Các cú pháp pattern trong Python\n",
    "4. Các flags trong Python\n",
    "5. Sử dụng https://regex101.com/ để test Regular expression\n",
    "6. Các ví dụ minh hoạ\n",
    "7. Bài tập tự luyện"
   ]
  },
  {
   "cell_type": "markdown",
   "metadata": {},
   "source": [
    "# 1. Regular Expression là gì?"
   ]
  },
  {
   "cell_type": "markdown",
   "metadata": {},
   "source": [
    "Đã bao giờ chúng ta đã đặt ra câu hỏi tại sao một số trường trên các trang web hay app nó kiểm tra được tính hợp lệ, giả sử như email nhập sai định dạng là báo lỗi, vân..vân... Tất cả những cái đó là nhờ regular expression.<br/>\n",
    "Regular expression (biểu thức chính quy) là một đoạn các ký tự đặc biệt dùng để so khớp các chuỗi hoặc một tập các chuỗi. Chúng ta có thể gọi Regular expression là một ngôn ngữ. Và hầu như ngôn ngữ lập trình nào cũng hỗ trợ Regular Expression."
   ]
  },
  {
   "cell_type": "markdown",
   "metadata": {},
   "source": [
    "<img src='./images/anh1.png'/>"
   ]
  },
  {
   "cell_type": "markdown",
   "metadata": {},
   "source": [
    "Bạn cần copy và paste rất nhiều text chỗ này sang chỗ kia. Ví dụ XML sang C#.<br/>\n",
    "<img src='./images/anh2.jpg'/>"
   ]
  },
  {
   "cell_type": "markdown",
   "metadata": {},
   "source": [
    "Bóc tách dữ liệu một trang web.<br/>\n",
    "<img src='./images/anh3.jpg'/>"
   ]
  },
  {
   "cell_type": "markdown",
   "metadata": {},
   "source": [
    "# 2. Regular Expression trong Python"
   ]
  },
  {
   "cell_type": "markdown",
   "metadata": {},
   "source": [
    "Regular Expression trong Python được thể hiện qua qua module <b><i>re</i></b>, nên việc đầu tiên khi chúng ta muốn sử dụng regular expression thì cần phải import module re vào chương trình, sử dụng cú pháp như sau:"
   ]
  },
  {
   "cell_type": "code",
   "execution_count": 1,
   "metadata": {},
   "outputs": [],
   "source": [
    "import re"
   ]
  },
  {
   "cell_type": "markdown",
   "metadata": {},
   "source": [
    "Trong module này thì có rất nhiều phương thức, chúng ta sẽ liệt kê một số phương thức hay sử dụng nhất và kèm ví dụ:"
   ]
  },
  {
   "cell_type": "markdown",
   "metadata": {},
   "source": [
    "## group(num)"
   ]
  },
  {
   "cell_type": "markdown",
   "metadata": {},
   "source": [
    "Phương thức này trả về các giá trị so khớp giữa biểu thức chính quy và chuỗi cần so. Trong đó thì <b><i>num</i></b> này là vị trí index của list so khớp trả về mà ta muốn lấy ra. Mặc định không điền thì python sẽ hiểu là 0."
   ]
  },
  {
   "cell_type": "code",
   "execution_count": 5,
   "metadata": {},
   "outputs": [
    {
     "name": "stdout",
     "output_type": "stream",
     "text": [
      "đẹp tờ zai\n"
     ]
    }
   ],
   "source": [
    "import re\n",
    "\n",
    "str = 'Nguyễn Đức Thắng đẹp tờ zai'\n",
    "match = re.search(r'đẹp tờ zai',str)\n",
    "if match: # Nếu tồn tại chuỗi khớp\n",
    "    print(match.group())\n",
    "else:\n",
    "    print('Không tìm thấy')"
   ]
  },
  {
   "cell_type": "markdown",
   "metadata": {},
   "source": [
    "## groups()"
   ]
  },
  {
   "cell_type": "markdown",
   "metadata": {},
   "source": [
    "Phương thức này sẽ trả về một tuple các chuỗi được so khớp."
   ]
  },
  {
   "cell_type": "code",
   "execution_count": 6,
   "metadata": {},
   "outputs": [
    {
     "name": "stdout",
     "output_type": "stream",
     "text": [
      "('Nguyễn Đức Thắng',)\n"
     ]
    }
   ],
   "source": [
    "import re\n",
    "\n",
    "str = 'Nguyễn Đức Thắng đẹp tờ zai'\n",
    "match = re.search(r'(.*) đẹp tờ zai', str)\n",
    "if match: # Nếu tồn tại chuỗi khớp\n",
    "    print(match.groups())\n",
    "else:\n",
    "    print('Không tìm thấy')"
   ]
  },
  {
   "cell_type": "markdown",
   "metadata": {},
   "source": [
    "## search(pattern, string, flags)"
   ]
  },
  {
   "cell_type": "markdown",
   "metadata": {},
   "source": [
    "Phương thức này thực hiện tìm kiếm chuỗi so khớp trên  string và nó sẽ trả về các giá trị được so khớp."
   ]
  },
  {
   "cell_type": "markdown",
   "metadata": {},
   "source": [
    "<b>Trong đó:</b><br/>\n",
    "* <b><i>pattern</i></b> là chuỗi regular expression\n",
    "* <b><i>string</i></b> là chuỗi cần so khớp\n",
    "* <b><i>flags</i></b> là các kiểu so khớp mà ta muốn thực hiện (bảng ở dưới). Nếu để trống thì mặc định là <br/>\n",
    "Bên trên chúng ta đã sử dụng phương thức này"
   ]
  },
  {
   "cell_type": "code",
   "execution_count": 7,
   "metadata": {},
   "outputs": [
    {
     "name": "stdout",
     "output_type": "stream",
     "text": [
      "<re.Match object; span=(17, 27), match='đẹp tờ zai'>\n"
     ]
    }
   ],
   "source": [
    "import re\n",
    "\n",
    "str = 'Nguyễn Đức Thắng đẹp tờ zai'\n",
    "match = re.search(r'đẹp tờ zai', str)\n",
    "print(match)"
   ]
  },
  {
   "cell_type": "markdown",
   "metadata": {},
   "source": [
    "## match(pattern, string, flags)"
   ]
  },
  {
   "cell_type": "markdown",
   "metadata": {},
   "source": [
    "Phương thức này cũng thực hiện việc so khớp chuỗi nhưng nó sẽ tính từ phạm vi đầu chuỗi cho đến kết thức, còn các tham số tương tự như <b>search()</b>"
   ]
  },
  {
   "cell_type": "code",
   "execution_count": 8,
   "metadata": {},
   "outputs": [
    {
     "name": "stdout",
     "output_type": "stream",
     "text": [
      "Không tìm thấy\n"
     ]
    }
   ],
   "source": [
    "import re\n",
    "str='Nguyễn Đức Thắng đẹp tờ zai'\n",
    "match = re.match(r'đẹp tờ zai', str)\n",
    "if match: # Nếu tồn tại chuỗi so khớp\n",
    "    print(match.group())\n",
    "else:\n",
    "    print('Không tìm thấy')"
   ]
  },
  {
   "cell_type": "code",
   "execution_count": 9,
   "metadata": {},
   "outputs": [
    {
     "name": "stdout",
     "output_type": "stream",
     "text": [
      "Nguyễn Đức Thắng\n"
     ]
    }
   ],
   "source": [
    "import re\n",
    "str='Nguyễn Đức Thắng đẹp tờ zai'\n",
    "match = re.match(r'Nguyễn Đức Thắng', str)\n",
    "if match: # Nếu tồn tại chuỗi so khớp\n",
    "    print(match.group())\n",
    "else:\n",
    "    print('Không tìm thấy')"
   ]
  },
  {
   "cell_type": "markdown",
   "metadata": {},
   "source": [
    "## fullmatch(pattern, string, flags)"
   ]
  },
  {
   "cell_type": "markdown",
   "metadata": {},
   "source": [
    "Phương thức này cũng thực hiện việc so khớp những nó là so khớp hoàn toàn, còn các tham số truyền vào tương tự match.<br/>"
   ]
  },
  {
   "cell_type": "code",
   "execution_count": 11,
   "metadata": {},
   "outputs": [
    {
     "name": "stdout",
     "output_type": "stream",
     "text": [
      "Không tìm thấy\n"
     ]
    }
   ],
   "source": [
    "import re \n",
    "str='Nguyễn Đức Thắng đẹp tờ zai'\n",
    "match = re.fullmatch(r'Nguyễn Đức Thắng', str)\n",
    "if match: # Nếu tồn tại chuỗi so khớp\n",
    "    print(match.group())\n",
    "else:\n",
    "    print('Không tìm thấy')\n"
   ]
  },
  {
   "cell_type": "markdown",
   "metadata": {},
   "source": [
    "## split(pattern, string, maxsplit)"
   ]
  },
  {
   "cell_type": "markdown",
   "metadata": {},
   "source": [
    "Hàm này có tác dụng so khớp và cắt chuỗi so khớp thành công"
   ]
  },
  {
   "cell_type": "markdown",
   "metadata": {},
   "source": [
    "Trong đó:<br/>\n",
    "    * pattern là chuỗi regular expression\n",
    "    * string là chuỗi cần so khớp\n",
    "    * maxsplit là số chuỗi tối đa sẽ được split. Nếu để trống thì python sẽ hiểu là cắt tất cả các chuỗi."
   ]
  },
  {
   "cell_type": "code",
   "execution_count": 16,
   "metadata": {},
   "outputs": [
    {
     "name": "stdout",
     "output_type": "stream",
     "text": [
      "['Nguyễn Đức Thắng đẹp tờ za', ' á h', ' h', '']\n"
     ]
    }
   ],
   "source": [
    "import re\n",
    "str = 'Nguyễn Đức Thắng đẹp tờ zai á hi hi'\n",
    "match = re.split(r'i',str)\n",
    "if match: #Nếu tồn tại chuỗi so khớp\n",
    "    print(match)\n",
    "else:\n",
    "    print('Không tìm thấy')\n",
    "    "
   ]
  },
  {
   "cell_type": "markdown",
   "metadata": {},
   "source": [
    "## findall(pattern, string, flags)"
   ]
  },
  {
   "cell_type": "markdown",
   "metadata": {},
   "source": [
    "Phương thức này có tác dụng so khớp và trả về tất cả các chuỗi mà nó đã so khớp được, còn lại các tham số truyền vào tương tự như search."
   ]
  },
  {
   "cell_type": "code",
   "execution_count": 19,
   "metadata": {},
   "outputs": [
    {
     "name": "stdout",
     "output_type": "stream",
     "text": [
      "['i', 'i', 'i']\n"
     ]
    }
   ],
   "source": [
    "import re\n",
    "str='Nguyễn Đức Thắng đẹp tờ zai a hi hi'\n",
    "match = re.findall(r'i', str)\n",
    "if match: #Nếu tồn tại chuỗi so khớp\n",
    "    print(match)\n",
    "else:\n",
    "    print('Không tìm thấy')"
   ]
  },
  {
   "cell_type": "markdown",
   "metadata": {},
   "source": [
    "## sub(pattern, replace, string, flags)"
   ]
  },
  {
   "cell_type": "markdown",
   "metadata": {},
   "source": [
    "Phương thức này có tác dụng so khớp và thay thế chuỗi so khớp được.<br/>"
   ]
  },
  {
   "cell_type": "markdown",
   "metadata": {},
   "source": [
    "Trong đó:\n",
    "    * pattern là chuỗi regular expression\n",
    "    * replace là chuỗi thay thế cho các chuỗi được so khớp\n",
    "    * string là chuỗi cần so khớp\n",
    "    * flags là các kiểu so khớp mà ta muốn thực hiện (xem bảng ở dưới). Nếu dể trống thì flags sẽ bằng 0."
   ]
  },
  {
   "cell_type": "code",
   "execution_count": 20,
   "metadata": {},
   "outputs": [
    {
     "name": "stdout",
     "output_type": "stream",
     "text": [
      "Nguyễn Đức Thắng chuỗi thay thế\n"
     ]
    }
   ],
   "source": [
    "import re\n",
    "str = 'Nguyễn Đức Thắng đẹp tờ zai'\n",
    "match = re.sub(r'đẹp tờ zai','chuỗi thay thế', str)\n",
    "if match:\n",
    "    print(match)\n",
    "else:\n",
    "    print('Không tìm thấy')"
   ]
  },
  {
   "cell_type": "markdown",
   "metadata": {},
   "source": [
    "# 3. Các cú pháp pattern trong Python"
   ]
  },
  {
   "cell_type": "markdown",
   "metadata": {},
   "source": [
    "Chúng ta cùng tìm hiểu các cú pháp pattern trong Python mà hay sử dụng."
   ]
  },
  {
   "cell_type": "markdown",
   "metadata": {},
   "source": [
    "## []"
   ]
  },
  {
   "cell_type": "markdown",
   "metadata": {},
   "source": [
    "Trong cặp dấu ngoặc vuông này chứa các ký tự có thể so khớp với văn bản. Nó gần giống như toán tử hoặc nghĩa là chỉ cần nó so khớp 1 trong các ký tự được liệt kê trong cặp dấu này thì chuỗi đó được so khớp."
   ]
  },
  {
   "cell_type": "code",
   "execution_count": 21,
   "metadata": {},
   "outputs": [
    {
     "name": "stdout",
     "output_type": "stream",
     "text": [
      "Khớp\n"
     ]
    }
   ],
   "source": [
    "# Ví dụ pattern bắt đầu bằng N hoặc n\n",
    "str = 'Nguyễn Đức Thắng đẹp tờ zai'\n",
    "match = re.match(r'[Nn]', str)\n",
    "if match: # Nếu tồn tại chuỗi so khớp\n",
    "    print('Khớp')\n",
    "else:\n",
    "    print('Không tìm thấy')\n"
   ]
  },
  {
   "cell_type": "markdown",
   "metadata": {},
   "source": [
    "Chúng ta cũng có thể liệt kê ra các ký tự dưới dạng từ ... đến bằng các thể hiện dấu Mb>-</b> giữa 2 khoảng đó."
   ]
  },
  {
   "cell_type": "code",
   "execution_count": 22,
   "metadata": {},
   "outputs": [
    {
     "name": "stdout",
     "output_type": "stream",
     "text": [
      "Không tìm thấy\n"
     ]
    }
   ],
   "source": [
    "# Vú dụ pattern bắt đầu bằng ký tự in thường hoặc số\n",
    "str = 'Nguyễn Đức Thắng đẹp tờ zai'\n",
    "match = re.match(r'[a-z0-9]',str)\n",
    "if match:\n",
    "    print('Khớp')\n",
    "else:\n",
    "    print('Không tìm thấy')"
   ]
  },
  {
   "cell_type": "markdown",
   "metadata": {},
   "source": [
    "## ."
   ]
  },
  {
   "cell_type": "markdown",
   "metadata": {},
   "source": [
    "Ký tự <b>.</b> này tương đương với việc so khớp một chuỗi phải chứa ít nhất một ký tự."
   ]
  },
  {
   "cell_type": "code",
   "execution_count": 23,
   "metadata": {},
   "outputs": [
    {
     "name": "stdout",
     "output_type": "stream",
     "text": [
      "Khớp\n"
     ]
    }
   ],
   "source": [
    "import re\n",
    "str='Nguyễn Đức Thắng đẹp tờ zai'\n",
    "match = re.match(r'.', str)\n",
    "if match:\n",
    "    print('Khớp')\n",
    "else:\n",
    "    print('Không tìm thấy')"
   ]
  },
  {
   "cell_type": "markdown",
   "metadata": {},
   "source": [
    "## ^"
   ]
  },
  {
   "cell_type": "markdown",
   "metadata": {},
   "source": [
    "Ký tự đại diện cho việc so khớp từ đầu chuỗi."
   ]
  },
  {
   "cell_type": "code",
   "execution_count": 24,
   "metadata": {},
   "outputs": [
    {
     "name": "stdout",
     "output_type": "stream",
     "text": [
      "Không tìm thấy\n"
     ]
    }
   ],
   "source": [
    "# Ví dụ so khớp xem chữ cái đầu có phải chữ t hay không\n",
    "import re\n",
    "\n",
    "str = 'Nguyễn Đức Thắng đẹp tờ zai'\n",
    "match = re.search(r'^t',str)\n",
    "if match:\n",
    "    print('Khớp')\n",
    "else:\n",
    "    print('Không tìm thấy')\n",
    "    "
   ]
  },
  {
   "cell_type": "markdown",
   "metadata": {},
   "source": [
    "## $"
   ]
  },
  {
   "cell_type": "markdown",
   "metadata": {},
   "source": [
    "Ký tự này đại diện cho việc so khớp đến cuỗi chuỗi"
   ]
  },
  {
   "cell_type": "code",
   "execution_count": 27,
   "metadata": {},
   "outputs": [
    {
     "name": "stdout",
     "output_type": "stream",
     "text": [
      "Khớp\n"
     ]
    }
   ],
   "source": [
    "# Ví dụ so khớp xem chữ cái cuối chuỗi có phải chữ i hay không\n",
    "import re\n",
    "\n",
    "str = 'Nguyễn Đức Thắng đẹp tờ zai'\n",
    "match = re.search(r'i$',str)\n",
    "if match:\n",
    "    print('Khớp')\n",
    "else:\n",
    "    print('Không tìm thấy')\n",
    "    "
   ]
  },
  {
   "cell_type": "markdown",
   "metadata": {},
   "source": [
    "## * "
   ]
  },
  {
   "cell_type": "markdown",
   "metadata": {},
   "source": [
    "Ký tự này đại diện cho có thể hay không một ký tự trước đó."
   ]
  },
  {
   "cell_type": "code",
   "execution_count": 29,
   "metadata": {},
   "outputs": [
    {
     "name": "stdout",
     "output_type": "stream",
     "text": [
      "Khớp!\n"
     ]
    }
   ],
   "source": [
    "# Ví dụ so khớp một chuỗi xem có thể bắt đầu bằng t hay không hoặc chuỗi rỗng\n",
    "import re\n",
    "\n",
    "str = ''\n",
    "match = re.match(r't*', str)\n",
    "if match: #nếu tồn tại chuỗi khớp                     \n",
    "    print('Khớp!');\n",
    "else:\n",
    "    print ('Không tìm thấy!')"
   ]
  },
  {
   "cell_type": "markdown",
   "metadata": {},
   "source": [
    "## + "
   ]
  },
  {
   "cell_type": "markdown",
   "metadata": {},
   "source": [
    "Ký tự này đại diện có thể xuất hiện ít nhất hoặc nhiều ký tự trước nó."
   ]
  },
  {
   "cell_type": "code",
   "execution_count": 30,
   "metadata": {},
   "outputs": [
    {
     "name": "stdout",
     "output_type": "stream",
     "text": [
      "Khớp!\n"
     ]
    }
   ],
   "source": [
    "# Ví dụ so khớp xem một chuỗi chỉ chứa chữ cái in thường\n",
    "str= 'nguyễn đức thắng'\n",
    "match = re.match(r'[a-z]+',str)\n",
    "if match: #nếu tồn tại chuỗi khớp                     \n",
    "    print('Khớp!');\n",
    "else:\n",
    "    print ('Không tìm thấy!')"
   ]
  },
  {
   "cell_type": "markdown",
   "metadata": {},
   "source": [
    "## ?"
   ]
  },
  {
   "cell_type": "markdown",
   "metadata": {},
   "source": [
    "Ký tự này đại diện cho chuỗi sẽ khớp với một trong các ký tự đằng trước nó."
   ]
  },
  {
   "cell_type": "code",
   "execution_count": 31,
   "metadata": {},
   "outputs": [
    {
     "name": "stdout",
     "output_type": "stream",
     "text": [
      "Khớp!\n"
     ]
    }
   ],
   "source": [
    "# Ví dụ kiểm tra xem chuỗi có được bắt đầu bằng n hoặc t hay không\n",
    "import re\n",
    "\n",
    "str = 'nguyễn đức Thắng'\n",
    "match = re.match(r'nt?', str)\n",
    "if match: #nếu tồn tại chuỗi khớp                     \n",
    "    print('Khớp!');\n",
    "else:\n",
    "    print ('Không tìm thấy!')"
   ]
  },
  {
   "cell_type": "markdown",
   "metadata": {},
   "source": [
    "## {m,n}"
   ]
  },
  {
   "cell_type": "markdown",
   "metadata": {},
   "source": [
    "Ký tự này đại diện cho việc so khớp xem chuỗi đằng trước nó xuất hiện bao nhiêu tối thiểu m lần và tối đa n lần. Nếu bỏ trống n thì so khớp sự xuất hiện m lần của chuỗi đằng trước nó."
   ]
  },
  {
   "cell_type": "code",
   "execution_count": 47,
   "metadata": {},
   "outputs": [
    {
     "name": "stdout",
     "output_type": "stream",
     "text": [
      "Khớp!\n"
     ]
    }
   ],
   "source": [
    "# Ví dụ kiểm tra xem 3 chữ cái đầu của chuỗi có phải là N không\n",
    "str = 'Nguyễn Đức Thắng'\n",
    "match = re.match(r'[N{3}]',str)\n",
    "if match: #nếu tồn tại chuỗi khớp                     \n",
    "    print('Khớp!');\n",
    "else:\n",
    "    print ('Không tìm thấy!')"
   ]
  },
  {
   "cell_type": "code",
   "execution_count": 55,
   "metadata": {},
   "outputs": [
    {
     "name": "stdout",
     "output_type": "stream",
     "text": [
      "Khớp!\n"
     ]
    }
   ],
   "source": [
    "# Ví dụ kiểm tra xem chữ cái hi của chuỗi có xuất hiện tối thiểu 1 \n",
    "# và tối đa 3 lần không\n",
    "str = 'Nguyễn Đức Thắng hihihihi'\n",
    "match = re.match(r'[^hi{1,3}$]',str)\n",
    "if match: #nếu tồn tại chuỗi khớp                     \n",
    "    print('Khớp!');\n",
    "else:\n",
    "    print ('Không tìm thấy!')"
   ]
  },
  {
   "cell_type": "markdown",
   "metadata": {},
   "source": [
    "## |"
   ]
  },
  {
   "cell_type": "markdown",
   "metadata": {},
   "source": [
    "Ký tự này đại diện cho sự tồn tại của một trong 2 ký tự trước nó (giống kiểu hoặc)"
   ]
  },
  {
   "cell_type": "code",
   "execution_count": 57,
   "metadata": {},
   "outputs": [
    {
     "name": "stdout",
     "output_type": "stream",
     "text": [
      "Không tìm thấy!\n"
     ]
    }
   ],
   "source": [
    "# Ví dụ kiểm tra xem đầu chuỗi có ký tự a hoăc b hay không\n",
    "import re\n",
    "\n",
    "str = 'Nguyễn Đức Thắng'\n",
    "match = re.match(r'a|b', str)\n",
    "if match: #nếu tồn tại chuỗi khớp                     \n",
    "    print('Khớp!');\n",
    "else:\n",
    "    print ('Không tìm thấy!')"
   ]
  },
  {
   "cell_type": "markdown",
   "metadata": {},
   "source": [
    "## ()"
   ]
  },
  {
   "cell_type": "markdown",
   "metadata": {},
   "source": [
    "Ký tự này dùng để gom nhóm các pattern lại với nhau."
   ]
  },
  {
   "cell_type": "code",
   "execution_count": 58,
   "metadata": {},
   "outputs": [
    {
     "name": "stdout",
     "output_type": "stream",
     "text": [
      "Khớp!\n"
     ]
    }
   ],
   "source": [
    "#Kiểm tra xem chuỗi cho chữ Đức hay không\n",
    "import re\n",
    "\n",
    "str = 'Nguyễn Đức Thắng'\n",
    "match = re.match(r'(.*)(Đức)(.*)', str)\n",
    "if match: #nếu tồn tại chuỗi khớp                     \n",
    "    print('Khớp!');\n",
    "else:\n",
    "    print ('Không tìm thấy!')"
   ]
  },
  {
   "cell_type": "markdown",
   "metadata": {},
   "source": [
    "## \\"
   ]
  },
  {
   "cell_type": "markdown",
   "metadata": {},
   "source": [
    "Ký tự này giúp phân biệt chuỗi sau nó không phải là ký tự đặc biệt"
   ]
  },
  {
   "cell_type": "code",
   "execution_count": 59,
   "metadata": {},
   "outputs": [
    {
     "name": "stdout",
     "output_type": "stream",
     "text": [
      "Không tìm thấy!\n"
     ]
    }
   ],
   "source": [
    "import re\n",
    "\n",
    "str = 'Nguyễn Đức Thắng'\n",
    "match = re.match(r'\\.', str)\n",
    "if match: #nếu tồn tại chuỗi khớp                     \n",
    "    print('Khớp!');\n",
    "else:\n",
    "    print ('Không tìm thấy!')"
   ]
  },
  {
   "cell_type": "markdown",
   "metadata": {},
   "source": [
    "## Các pattern khác\n"
   ]
  },
  {
   "cell_type": "markdown",
   "metadata": {},
   "source": [
    "* \\A : so khớp chuỗi là chuỗi\n",
    "* \\B : So khớp nếu vị trị đặt \\B không phải là đầu hoặc cuối chuỗi\n",
    "* \\d : So khớp với số nguyên\n",
    "* \\D : So khớp với các ký tự không phải là số\n",
    "* \\s : So khớp với khoảng trắng và các ký tự chữ\n",
    "* \\S : So khớp với các ký tự không phải là chữ\n",
    "* \\w : So khớp với chữ hoặc số\n",
    "* \\W : So khớp với các ký tự không phải là chữ hoặc số"
   ]
  },
  {
   "cell_type": "markdown",
   "metadata": {},
   "source": [
    "Tham khảo thêm các cú pháp khác: https://www.cheatography.com/davechild/cheat-sheets/regular-expressions/"
   ]
  },
  {
   "cell_type": "markdown",
   "metadata": {},
   "source": [
    "## Tóm tắt"
   ]
  },
  {
   "cell_type": "markdown",
   "metadata": {},
   "source": [
    "<img src='./images/anh7.png' width=\"80%\"/>"
   ]
  },
  {
   "cell_type": "markdown",
   "metadata": {},
   "source": [
    "<img src=\"./images/anh8.png\" width=\"80%\"/><br/>\n",
    "<img src=\"./images/anh9.png\" width=\"80%\"/>"
   ]
  },
  {
   "cell_type": "markdown",
   "metadata": {},
   "source": [
    "# 4. Các flags trong Python"
   ]
  },
  {
   "cell_type": "markdown",
   "metadata": {},
   "source": [
    "Mình có trình bày các thông số flag trong Regular Expression, nhưng mình chưa liệt kê ra các flag đó. Và dưới đây là một số các flags hay dùng trong Python.\n",
    "\n",
    "* I hoặc IGNORECASE - Không phân biệt hoa thường khi so khớp.\n",
    "* L hoặc LOCALE - So Khớp với local hiện tại.\n",
    "* M hoặc MULTILINE - Thay đổi $ và ^ thành kết thúc của một dòng và bắt đầu của một dòng thay vì mặc định là kết thúc chuỗi và bắt đầu chuỗi.\n",
    "* A hoặc ACSII - Thay đổi \\w, \\W, \\b, \\B, \\d, \\D, \\S và \\s thành so khơp full unicode.\n",
    "* S hoặc DOTALL -Thay đổi pattern . thành khớp với bất kỳ ký tự nào và dòng mới.\n",
    "....."
   ]
  },
  {
   "cell_type": "code",
   "execution_count": 61,
   "metadata": {},
   "outputs": [
    {
     "name": "stdout",
     "output_type": "stream",
     "text": [
      "Khớp!\n"
     ]
    }
   ],
   "source": [
    "# Ví dụ so khớp một chuỗi bắt đầu bằng N hoặc n\n",
    "import re\n",
    "str = 'Nguyễn Đức Thắng'\n",
    "match = re.match(r'n', str, re.IGNORECASE)\n",
    "if match: #nếu tồn tại chuỗi khớp                     \n",
    "    print('Khớp!');\n",
    "else:\n",
    "    print ('Không tìm thấy!')"
   ]
  },
  {
   "cell_type": "markdown",
   "metadata": {},
   "source": [
    "# 5. Sử dụng https://regex101.com/ để test Regular expression"
   ]
  },
  {
   "cell_type": "markdown",
   "metadata": {},
   "source": [
    "## Cách test regular expression"
   ]
  },
  {
   "cell_type": "markdown",
   "metadata": {},
   "source": [
    "<img src='./images/anh4.gif'/>"
   ]
  },
  {
   "cell_type": "markdown",
   "metadata": {},
   "source": [
    "## Cách generate ra code"
   ]
  },
  {
   "cell_type": "markdown",
   "metadata": {},
   "source": [
    "<img src='./images/anh5.gif'/>"
   ]
  },
  {
   "cell_type": "markdown",
   "metadata": {},
   "source": [
    "<img src='./images/anh6.gif'/>"
   ]
  },
  {
   "cell_type": "markdown",
   "metadata": {},
   "source": [
    "Ngoài ra có trang web khác cũng khá hay: https://regexr.com/"
   ]
  },
  {
   "cell_type": "markdown",
   "metadata": {},
   "source": [
    "# 6. Các ví dụ minh hoạ"
   ]
  },
  {
   "cell_type": "markdown",
   "metadata": {},
   "source": [
    "Các bạn hãy cố gắng tự hiểu phần này."
   ]
  },
  {
   "cell_type": "markdown",
   "metadata": {},
   "source": [
    "## Thời gian, ngày, tháng, năm"
   ]
  },
  {
   "cell_type": "code",
   "execution_count": 64,
   "metadata": {},
   "outputs": [
    {
     "name": "stdout",
     "output_type": "stream",
     "text": [
      "['14/12/1996', '14/12', '1996', '12/2000']\n"
     ]
    }
   ],
   "source": [
    "text = u'Ngày 14/12/1996 là ngày 14/12 của năm 1996. Tháng 12/2000 là tháng cuối cùng của năm.'\n",
    "datetime = '\\d{1,2}\\s?[:/-]\\s?\\d{1,2}\\s?[:/-]\\s?\\d{4}' \\\n",
    "           '|\\d{1,2}\\s?[:/-]\\s?\\d{4}' \\\n",
    "           '|\\d{1,2}\\s?[:/-]\\s?\\d{1,2}' \\\n",
    "           '|\\d{4}'\n",
    "\n",
    "import re\n",
    "print(re.findall(datetime, text))"
   ]
  },
  {
   "cell_type": "markdown",
   "metadata": {},
   "source": [
    "## Địa chỉ email"
   ]
  },
  {
   "cell_type": "code",
   "execution_count": 66,
   "metadata": {},
   "outputs": [
    {
     "name": "stdout",
     "output_type": "stream",
     "text": [
      "['nguyenducthang8a2@gmail.com', '201667693@student.hust.edu.vn']\n"
     ]
    }
   ],
   "source": [
    "text = u'địa chỉ mail của mình là nguyenducthang8a2@gmail.com và 201667693@student.hust.edu.vn'\n",
    "email = '[a-zA-Z0-9_.+-]+@[a-zA-Z0-9-]+.[a-zA-Z0-9-.]+'\n",
    " \n",
    "import re\n",
    "print(re.findall(email, text))"
   ]
  },
  {
   "cell_type": "markdown",
   "metadata": {},
   "source": [
    "## Link website"
   ]
  },
  {
   "cell_type": "code",
   "execution_count": 67,
   "metadata": {},
   "outputs": [
    {
     "name": "stdout",
     "output_type": "stream",
     "text": [
      "['https://facebook.com']\n"
     ]
    }
   ],
   "source": [
    "text = u'Đây là mạng xã hội facebook: https://facebook.com'\n",
    "url = 'https?:\\/\\/[^\\s]*'\n",
    " \n",
    "import re\n",
    "print(re.findall(url, text))"
   ]
  },
  {
   "cell_type": "markdown",
   "metadata": {},
   "source": [
    "## Số thực"
   ]
  },
  {
   "cell_type": "code",
   "execution_count": 68,
   "metadata": {},
   "outputs": [
    {
     "name": "stdout",
     "output_type": "stream",
     "text": [
      "['70.5', '175.8']\n"
     ]
    }
   ],
   "source": [
    "text = 'Mình nặng 70.5kg, nặng 175.8 cm.'\n",
    "digit = '\\d+[\\.,]\\d+'\n",
    " \n",
    "import re\n",
    "print(re.findall(digit, text))"
   ]
  },
  {
   "cell_type": "markdown",
   "metadata": {},
   "source": [
    "## Chuẩn hoá tiền tệ"
   ]
  },
  {
   "cell_type": "code",
   "execution_count": 71,
   "metadata": {},
   "outputs": [
    {
     "name": "stdout",
     "output_type": "stream",
     "text": [
      "mình có monney  trong tài khoản với hơn monney  tiền mặt mà k biết tiêu gì nên đổi hơn monney  vnđ ra đốt chơi.\n"
     ]
    }
   ],
   "source": [
    "import re\n",
    " \n",
    "text = u'mình có 2.000.000 yên trong tài khoản với hơn 2000$ tiền mặt mà k biết tiêu gì nên đổi hơn 10 tỷ vnđ ra đốt chơi.'\n",
    "moneytag = [u'k', u'đ', u'ngàn', u'nghìn', u'usd', u'tr', u'củ', u'triệu', u'yên', u'tỷ']\n",
    "for money in moneytag:\n",
    "    text = re.sub(u'(^|\\s)\\d*([,.]?\\d+)+\\s*' + money, ' monney ', text)\n",
    "text = re.sub('((^|\\s)(\\d+\\s*\\$)|((^|\\s)\\$\\d+\\s*))', ' monney ', text)\n",
    " \n",
    "print(text)"
   ]
  },
  {
   "cell_type": "markdown",
   "metadata": {},
   "source": [
    "## Chuẩn hoá láy âm tiết"
   ]
  },
  {
   "cell_type": "code",
   "execution_count": 72,
   "metadata": {},
   "outputs": [
    {
     "name": "stdout",
     "output_type": "stream",
     "text": [
      "Món này ngon quá đi!\n"
     ]
    }
   ],
   "source": [
    "import re\n",
    "text = u'Món này ngooon quá điiiiiiii!!!!!!!!!'\n",
    "print(re.sub(r'(\\D)\\1+', r'\\1', text))"
   ]
  },
  {
   "cell_type": "markdown",
   "metadata": {},
   "source": [
    "# 7. Bài tập tự luyện"
   ]
  },
  {
   "cell_type": "markdown",
   "metadata": {},
   "source": [
    "Luyện tập tại đây: https://www.hackerrank.com/domains/regex"
   ]
  },
  {
   "cell_type": "code",
   "execution_count": null,
   "metadata": {},
   "outputs": [],
   "source": []
  }
 ],
 "metadata": {
  "kernelspec": {
   "display_name": "Python 3",
   "language": "python",
   "name": "python3"
  },
  "language_info": {
   "codemirror_mode": {
    "name": "ipython",
    "version": 3
   },
   "file_extension": ".py",
   "mimetype": "text/x-python",
   "name": "python",
   "nbconvert_exporter": "python",
   "pygments_lexer": "ipython3",
   "version": "3.7.4"
  }
 },
 "nbformat": 4,
 "nbformat_minor": 2
}
