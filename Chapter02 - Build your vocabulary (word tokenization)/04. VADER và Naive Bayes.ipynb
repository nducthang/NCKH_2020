{
 "cells": [
  {
   "cell_type": "markdown",
   "metadata": {},
   "source": [
    "# Nội dung chính:\n",
    "1. Vader\n",
    "2. Naive Bayes\n",
    "3. Bài tập"
   ]
  },
  {
   "cell_type": "markdown",
   "metadata": {},
   "source": [
    "Bài toán <b>sentiment analysis</b> (Phân loại cảm xúc - phân loại sắc thái bình luận) là một trong những bài toán cơ bản của NLP. Xác định xem một comment là tích hợp hay tiêu cực hay bình thường. Nó còn được gọi là <b>optinion mining</b> (Khai thác ý kiến) bắt nguồn từ thái độ hoặc ý kiến của người nói."
   ]
  },
  {
   "cell_type": "markdown",
   "metadata": {},
   "source": [
    "Tại sao cần sentiment ananysis?\n",
    "1. Trong kinh doanh: các công ty cần phân loại sắc thái bình luận để phát triển chiến lược của họ, để hiểu cảm xúc của khách hàng về sản phẩm của công ty họ, cách mọi người phản ứng với chiến dịch mới của họ, hoặc tại sao khách hàng không mua 1 số sản phẩm.\n",
    "2. Trong chính trị: Sử dụng để theo dõi quan điểm chính trị, phân loại những trạng thái nhất trí và phản đối giữa lời nói và hành động của các cấp chính quyền. Nó có thể sử dụng để dự đoán kết quả bầu cử khá tốt.\n",
    "3. Mạng xã hội: được sử dụng để phân tích và theo dõi các hiện tượng xã hội. Hoặc phát hiện ra các tình huống nguy hiểm tiềm tàng và xác định tâm trạng chung của thế giới blog."
   ]
  },
  {
   "cell_type": "markdown",
   "metadata": {},
   "source": [
    "Có 2 phương pháp chính để xử lý bài toán sentiment:\n",
    "1. Dựa vào tập cá quy tắc do con người đề ra, gọi là heuristic.\n",
    "2. Sử dụng một mô hình Machine learning để học từ dữ liệu cho máy."
   ]
  },
  {
   "cell_type": "markdown",
   "metadata": {},
   "source": [
    "# VADER - Một tập cá quy tắc cơ bản cho bài toán phân tích cảm xúc."
   ]
  },
  {
   "cell_type": "markdown",
   "metadata": {},
   "source": [
    "Hutto và Gilbert tại GA Tech đã đưa ra một thuật toán phân tích cảm xúc thành công dựa trên một tập các quy tắc cơ bản. Họ gọi thuật toán này là VADER (Valence Aware Dictionary for sEntiment Reasoning). Nhiều packet NLP implement thuật toán này. Bao gồm cả NLTK."
   ]
  },
  {
   "cell_type": "markdown",
   "metadata": {},
   "source": [
    "Bạn cần cài đặt: <b>pip install vaderSentiment</b>"
   ]
  },
  {
   "cell_type": "markdown",
   "metadata": {},
   "source": [
    "Tìm hiểu thêm:\n",
    "- Bài báo VADER: http://comp.social.gatech.edu/papers/icwsm14.vader.hutto.pdf\n",
    "- Source code: https://github.com/cjhutto/vaderSentiment"
   ]
  },
  {
   "cell_type": "markdown",
   "metadata": {},
   "source": [
    "Khi VADER đã được cài đặt, chúng ta gọi đối tượng <b>SentimentIntensityAnalyser </b>:"
   ]
  },
  {
   "cell_type": "code",
   "execution_count": 1,
   "metadata": {},
   "outputs": [],
   "source": [
    "from vaderSentiment.vaderSentiment import SentimentIntensityAnalyzer\n",
    "analyser = SentimentIntensityAnalyzer()"
   ]
  },
  {
   "cell_type": "markdown",
   "metadata": {},
   "source": [
    "Chúng ta có thể hiện danh sách các điểm chấm bằng cách gọi đến <b>lexicon</b>"
   ]
  },
  {
   "cell_type": "markdown",
   "metadata": {},
   "source": [
    "Lệnh: <b>analyser.lexicon</b>"
   ]
  },
  {
   "cell_type": "markdown",
   "metadata": {},
   "source": [
    "VADER hoạt động theo kiểu tìm kiếm từ trong câu và chấm điểm, nếu có trong bộ lexicon thì nó sẽ chấm điểm theo quy tắc trong đó, còn không thì bỏ qua."
   ]
  },
  {
   "cell_type": "markdown",
   "metadata": {},
   "source": [
    "Chúng ta sử dụng phương thức <b>polarity_scores()</b> để chấm điểm cho một câu nào đó."
   ]
  },
  {
   "cell_type": "code",
   "execution_count": 2,
   "metadata": {},
   "outputs": [
    {
     "data": {
      "text/plain": [
       "{'neg': 0.0, 'neu': 0.661, 'pos': 0.339, 'compound': 0.6249}"
      ]
     },
     "execution_count": 2,
     "metadata": {},
     "output_type": "execute_result"
    }
   ],
   "source": [
    "analyser.polarity_scores(text=\"Python is very readable and it's great for NLP.\")"
   ]
  },
  {
   "cell_type": "markdown",
   "metadata": {},
   "source": [
    "Thuật toán xem xét 3 trạng thái phân biệt: tiêu cực, trung bình và tích cực, sau đó tổng hợp lại thành một trạng thái đánh giá \n",
    "tổng là <i>compound</i>"
   ]
  },
  {
   "cell_type": "code",
   "execution_count": 3,
   "metadata": {},
   "outputs": [
    {
     "data": {
      "text/plain": [
       "{'neg': 0.328, 'neu': 0.432, 'pos': 0.24, 'compound': -0.2534}"
      ]
     },
     "execution_count": 3,
     "metadata": {},
     "output_type": "execute_result"
    }
   ],
   "source": [
    "analyser.polarity_scores(text=\"Python is very bad, like a shittt :((\")"
   ]
  },
  {
   "cell_type": "code",
   "execution_count": 4,
   "metadata": {},
   "outputs": [
    {
     "data": {
      "text/plain": [
       "7503"
      ]
     },
     "execution_count": 4,
     "metadata": {},
     "output_type": "execute_result"
    }
   ],
   "source": [
    "len(analyser.lexicon)"
   ]
  },
  {
   "cell_type": "markdown",
   "metadata": {},
   "source": [
    "Ta thấy lexicon của VADER chỉ có 7503 từ, và thuật toán này bỏ qua những từ không có trong lexicon nên nó còn rất nhiều nhược điểm và không đánh giá chính xác một câu nói được. Đôi khi ngôn ngữ comment của con người còn biến tấu nhiều loại như là không dấu, teen code, ... Vì vậy, thực sự cách này không hiệu quả cho bài toán sentiment, và bạn cũng không muốn mình liên tục phải bổ sung các quy tắc cho lexicon, vì nó làm tăng dữ liệu và đồng thời muốn bổ sung thì bạn cũng cần mất thời gian và hiểu ngôn ngữ. Vì vậy, với cách tiếp cận bài toán sentiment bằng tập các quy tắc do con người đề ra là không hiệu quả. Vì vậy người ta thường tiếp cận theo cách thứ hai, và ở trong bài viết này, tôi giới thiệu 1 thuật toán cơ bản trong Machine learning đó là Naive Bayes."
   ]
  },
  {
   "cell_type": "markdown",
   "metadata": {},
   "source": [
    "# Thuật toán Naive Bayes"
   ]
  },
  {
   "cell_type": "markdown",
   "metadata": {},
   "source": [
    "Naive bayes là một mô hình cố gắng tìm kiếm các từ khoá ở trong tập document của bạn để dự đoán đầu ra mục tiêu. Khi các biến mục tiêu là cảm xúc bạn cần dự đoán, mô hình sẽ tìm kiếm các từ khoá về cảm xúc. Chúng ta cũng có thể áp dụng thuật toán này cho nhiều bài toán khác, sẽ có trong phần bài tập tại đây."
   ]
  },
  {
   "cell_type": "markdown",
   "metadata": {},
   "source": [
    "Ở trong bài này, chúng ta áp dụng thuật toán Naive bayes cho bài toán phân lớp văn bản. Tương tự ta có thể áp dụng với bài toán sentiment ananysis."
   ]
  },
  {
   "cell_type": "markdown",
   "metadata": {},
   "source": [
    "Data ở trong: <b>./data/classification_text/</b>"
   ]
  },
  {
   "cell_type": "markdown",
   "metadata": {},
   "source": [
    "Lý thuyết thuật toán xem tại: https://machinelearningcoban.com/2017/08/08/nbc/"
   ]
  },
  {
   "cell_type": "code",
   "execution_count": 5,
   "metadata": {},
   "outputs": [
    {
     "data": {
      "image/png": "[encoded data removed]",
      "text/plain": [
       "<Figure size 432x288 with 1 Axes>"
      ]
     },
     "metadata": {
      "needs_background": "light"
     },
     "output_type": "display_data"
    },
    {
     "name": "stdout",
     "output_type": "stream",
     "text": [
      "Number of words with frequency higher than cutoff frequency(80) : 4055\n",
      "Sklearn's score on training data : 0.9065146362605855\n",
      "Sklearn's score on testing data : 0.861\n",
      "Classification report for testing data :-\n",
      "                          precision    recall  f1-score   support\n",
      "\n",
      "             alt.atheism       0.73      0.80      0.77       233\n",
      "           comp.graphics       0.78      0.79      0.79       253\n",
      " comp.os.ms-windows.misc       0.83      0.82      0.83       249\n",
      "comp.sys.ibm.pc.hardware       0.81      0.88      0.84       240\n",
      "   comp.sys.mac.hardware       0.85      0.92      0.89       236\n",
      "          comp.windows.x       0.93      0.83      0.88       240\n",
      "            misc.forsale       0.81      0.87      0.84       261\n",
      "               rec.autos       0.90      0.92      0.91       269\n",
      "         rec.motorcycles       0.90      0.97      0.93       284\n",
      "      rec.sport.baseball       0.99      0.97      0.98       248\n",
      "        rec.sport.hockey       0.97      0.99      0.98       231\n",
      "               sci.crypt       0.96      0.90      0.93       233\n",
      "         sci.electronics       0.88      0.86      0.87       244\n",
      "                 sci.med       0.95      0.89      0.92       256\n",
      "               sci.space       0.92      0.92      0.92       246\n",
      "  soc.religion.christian       0.93      0.98      0.95       252\n",
      "      talk.politics.guns       0.74      0.89      0.81       249\n",
      "   talk.politics.mideast       0.94      0.89      0.91       281\n",
      "      talk.politics.misc       0.72      0.62      0.67       259\n",
      "      talk.religion.misc       0.66      0.47      0.55       236\n",
      "\n",
      "                accuracy                           0.86      5000\n",
      "               macro avg       0.86      0.86      0.86      5000\n",
      "            weighted avg       0.86      0.86      0.86      5000\n",
      "\n"
     ]
    }
   ],
   "source": [
    "import os\n",
    "import string\n",
    "import numpy as np\n",
    "import matplotlib.pyplot as plt\n",
    "from sklearn import model_selection\n",
    "from sklearn.naive_bayes import MultinomialNB\n",
    "from sklearn.metrics import classification_report\n",
    "\n",
    "X = []  # Một phần tử của X có dạng (filename,text)\n",
    "Y = []  # Một phần tử của Y biểu diễn dưới dạng từng danh mục của X\n",
    "\n",
    "# duyệt qua từng mục trong thư mục 20_newsgroups\n",
    "for category in os.listdir('./data/classification_text/20_newsgroups'):\n",
    "    # duyệt qua từng file trong thư mục con\n",
    "    for document in os.listdir('./data/classification_text/20_newsgroups/' + category):\n",
    "        # đọc file text\n",
    "        with open('./data/classification_text/20_newsgroups/' + category + '/' + document, \"r\") as f:\n",
    "            # thêm vào mảng X\n",
    "            X.append((document, f.read()))\n",
    "            # thêm nhãn vào mảng Y\n",
    "            Y.append(category)\n",
    "\n",
    "# sử dụng sklearn để chia dataset thành 2 phần test và train\n",
    "X_train, X_test, Y_train, Y_test = model_selection.train_test_split(X, Y, test_size=0.25, random_state=0)\n",
    "\n",
    "# định nghĩa 1 số từ tiếng anh thông dụng không ảnh hưởng đến dự đoán\n",
    "stopwords = ['a', 'about', 'above', 'across', 'after', 'afterwards', 'again', 'against', 'all', 'almost', 'alone',\n",
    "             'along', 'already', 'also', 'although', 'always', 'am', 'among', 'amongst', 'amoungst', 'amount',\n",
    "             'an', 'and', 'another', 'any', 'anyhow', 'anyone', 'anything', 'anyway', 'anywhere', 'are', 'around',\n",
    "             'as', 'at', 'back', 'be', 'became', 'because', 'become', 'becomes', 'becoming', 'been', 'before',\n",
    "             'beforehand', 'behind', 'being', 'below', 'beside', 'besides', 'between', 'beyond', 'bill', 'both',\n",
    "             'bottom', 'but', 'by', 'call', 'can', 'cannot', 'cant', 'co', 'con', 'could', 'couldnt', 'cry', 'de',\n",
    "             'describe', 'detail', 'did', 'do', 'does', 'doing', 'don', 'done', 'down', 'due', 'during', 'each', 'eg',\n",
    "             'eight', 'either', 'eleven', 'else', 'elsewhere', 'empty', 'enough', 'etc', 'even', 'ever', 'every',\n",
    "             'everyone',\n",
    "             'everything', 'everywhere', 'except', 'few', 'fifteen', 'fify', 'fill', 'find', 'fire', 'first', 'five',\n",
    "             'for',\n",
    "             'former', 'formerly', 'forty', 'found', 'four', 'from', 'front', 'full', 'further', 'get', 'give', 'go',\n",
    "             'had',\n",
    "             'has', 'hasnt', 'have', 'having', 'he', 'hence', 'her', 'here', 'hereafter', 'hereby', 'herein',\n",
    "             'hereupon',\n",
    "             'hers', 'herself', 'him', 'himself', 'his', 'how', 'however', 'hundred', 'i', 'ie', 'if', 'in', 'inc',\n",
    "             'indeed',\n",
    "             'interest', 'into', 'is', 'it', 'its', 'itself', 'just', 'keep', 'last', 'latter', 'latterly', 'least',\n",
    "             'less',\n",
    "             'ltd', 'made', 'many', 'may', 'me', 'meanwhile', 'might', 'mill', 'mine', 'more', 'moreover', 'most',\n",
    "             'mostly',\n",
    "             'move', 'much', 'must', 'my', 'myself', 'name', 'namely', 'neither', 'never', 'nevertheless', 'next',\n",
    "             'nine',\n",
    "             'no', 'nobody', 'none', 'noone', 'nor', 'not', 'nothing', 'now', 'nowhere', 'of', 'off', 'often', 'on',\n",
    "             'once',\n",
    "             'one', 'only', 'onto', 'or', 'other', 'others', 'otherwise', 'our', 'ours', 'ourselves', 'out', 'over',\n",
    "             'own',\n",
    "             'part', 'per', 'perhaps', 'please', 'put', 'rather', 're', 's', 'same', 'see', 'seem', 'seemed', 'seeming',\n",
    "             'seems', 'serious', 'several', 'she', 'should', 'show', 'side', 'since', 'sincere', 'six', 'sixty', 'so',\n",
    "             'some', 'somehow', 'someone', 'something', 'sometime', 'sometimes', 'somewhere', 'still', 'such', 'system',\n",
    "             't', 'take', 'ten', 'than', 'that', 'the', 'their', 'theirs', 'them', 'themselves', 'then', 'thence',\n",
    "             'there',\n",
    "             'thereafter', 'thereby', 'therefore', 'therein', 'thereupon', 'these', 'they', 'thickv', 'thin', 'third',\n",
    "             'this',\n",
    "             'those', 'though', 'three', 'through', 'throughout', 'thru', 'thus', 'to', 'together', 'too', 'top',\n",
    "             'toward',\n",
    "             'towards', 'twelve', 'twenty', 'two', 'un', 'under', 'until', 'up', 'upon', 'us', 'very', 'via', 'was',\n",
    "             'we',\n",
    "             'well', 'were', 'what', 'whatever', 'when', 'whence', 'whenever', 'where', 'whereafter', 'whereas',\n",
    "             'whereby',\n",
    "             'wherein', 'whereupon', 'wherever', 'whether', 'which', 'while', 'whither', 'who', 'whoever', 'whole',\n",
    "             'whom',\n",
    "             'whose', 'why', 'will', 'with', 'within', 'without', 'would', 'yet', 'you', 'your', 'yours', 'yourself',\n",
    "             'yourselves']\n",
    "\n",
    "# Xây dựng vốn từ vựng của các tài liệu\n",
    "vocab = {}  # khai báo một dict rỗng\n",
    "for i in range(len(X_train)):  # duyệt vòng lặp với kích thước của tập training\n",
    "    word_list = []  # tạo một list rỗng\n",
    "    for word in X_train[i][\n",
    "        1].split():  # duyệt qua từng từ trong text của tập training chú ý x có dạng (tên file, nội dung)\n",
    "        word_new = word.strip(string.punctuation).lower()  # Bỏ những ký tự đặc biệt ở đầu và cuối chuỗi hàm trip\n",
    "        if (len(word_new) > 2) and (\n",
    "                word_new not in stopwords):  # nếu 1 từ có từ 2 từ chở lên và nó không có trong tập từ không có nghĩa!\n",
    "            if word_new in vocab:  # nếu word_new đã có trong vocab thì\n",
    "                vocab[word_new] += 1  # nhảy đến vocab và tăng biến đếm lên 1 đơn vị\n",
    "            else:\n",
    "                vocab[word_new] = 1  # nếu không thì khởi tạo nó = 1\n",
    "\n",
    "# vẽ đồ thị với các từ thu được\n",
    "\n",
    "num_words = [0 for i in range(max(vocab.values()) + 1)]\n",
    "freq = [i for i in range(max(vocab.values()) + 1)]\n",
    "for key in vocab:\n",
    "    num_words[vocab[key]] += 1\n",
    "plt.plot(freq, num_words)\n",
    "plt.axis([1, 10, 0, 20000])\n",
    "plt.xlabel(\"Frequency\")\n",
    "plt.ylabel(\"No of words\")\n",
    "plt.grid()\n",
    "plt.show()\n",
    "\n",
    "cutoff_freq = 80\n",
    "# For deciding cutoff frequency\n",
    "# xác định từ có tần số nhiều hơn con số 80 ở trên\n",
    "\n",
    "num_words_above_cutoff = len(vocab) - sum(num_words[0:cutoff_freq])\n",
    "print(\"Number of words with frequency higher than cutoff frequency({}) :\".format(cutoff_freq), num_words_above_cutoff)\n",
    "\n",
    "# các từ có tần số nhiều hơn số 80 ở trên được chọn làm đặc trưng\n",
    "\n",
    "features = []\n",
    "for key in vocab:\n",
    "    if vocab[key] >= cutoff_freq:\n",
    "        features.append(key)\n",
    "\n",
    "# Để biểu diễn datatraing dưới dạng word vector counts\n",
    "X_train_dataset = np.zeros((len(X_train), len(features)))\n",
    "# Việc này chạy hơi lâu\n",
    "for i in range(len(X_train)):  # duyệt qua data train\n",
    "    # print(i) # bỏ comment để xem nó chạy\n",
    "    word_list = [word.strip(string.punctuation).lower() for word in X_train[i][1].split()]\n",
    "    for word in word_list:\n",
    "        if word in features:\n",
    "            X_train_dataset[i][features.index(word)] += 1\n",
    "\n",
    "# biểu diễn dữ liệu test dưới dạng word vector counts\n",
    "X_test_dataset = np.zeros((len(X_test), len(features)))\n",
    "# This can take some time to complete\n",
    "for i in range(len(X_test)):\n",
    "    # print(i) # Uncomment to see progress\n",
    "    word_list = [word.strip(string.punctuation).lower() for word in X_test[i][1].split()]\n",
    "    for word in word_list:\n",
    "        if word in features:\n",
    "            X_test_dataset[i][features.index(word)] += 1\n",
    "\n",
    "clf = MultinomialNB()\n",
    "clf.fit(X_train_dataset, Y_train)\n",
    "Y_test_pred = clf.predict(X_test_dataset)\n",
    "sklearn_score_train = clf.score(X_train_dataset, Y_train)\n",
    "print(\"Sklearn's score on training data :\", sklearn_score_train)\n",
    "sklearn_score_test = clf.score(X_test_dataset, Y_test)\n",
    "print(\"Sklearn's score on testing data :\", sklearn_score_test)\n",
    "print(\"Classification report for testing data :-\")\n",
    "print(classification_report(Y_test, Y_test_pred))"
   ]
  },
  {
   "cell_type": "markdown",
   "metadata": {},
   "source": [
    "# 3. Bài tập"
   ]
  },
  {
   "cell_type": "markdown",
   "metadata": {},
   "source": [
    "1. Code bài toán phân loại sắc thái bình luận tiếng việt sử dụng Naive Bayes, data và test trong <b>./data/sentiment_analysis/</b>. (Bộ dữ liệu này được lấy tại https://www.aivivn.com/ )<br/>\n",
    "<b>Xử lý các bài toán sau:</b><br/>\n",
    "* https://www.kaggle.com/nicapotato/womens-ecommerce-clothing-reviews <br/>\n",
    "(Lời giải tham khảo: https://www.kaggle.com/ankkur13/prediction-based-on-bayes-algo-nlp-wordcloud) <br/>\n",
    "* https://www.kaggle.com/uciml/sms-spam-collection-dataset <br/>\n",
    "(Lời giải tham khảo: https://www.kaggle.com/jeffysonar/spam-filter-using-naive-bayes-classifier ) <br/>\n",
    "* https://www.kaggle.com/marklvl/sentiment-labelled-sentences-data-set <br/>\n",
    "(Lời giải tham khảo: https://www.kaggle.com/marklvl/sentiment-classification-using-naive-bayes ) <br/>\n",
    "* https://www.kaggle.com/c/titanic <br/>\n",
    "(Lời giải tham khảo: https://www.kaggle.com/coledie/titanic-naive-bayes )"
   ]
  },
  {
   "cell_type": "code",
   "execution_count": null,
   "metadata": {},
   "outputs": [],
   "source": []
  }
 ],
 "metadata": {
  "kernelspec": {
   "display_name": "Python 3",
   "language": "python",
   "name": "python3"
  },
  "language_info": {
   "codemirror_mode": {
    "name": "ipython",
    "version": 3
   },
   "file_extension": ".py",
   "mimetype": "text/x-python",
   "name": "python",
   "nbconvert_exporter": "python",
   "pygments_lexer": "ipython3",
   "version": "3.7.4"
  }
 },
 "nbformat": 4,
 "nbformat_minor": 2
}
