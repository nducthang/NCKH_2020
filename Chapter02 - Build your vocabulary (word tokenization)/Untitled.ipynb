{
 "cells": [
  {
   "cell_type": "markdown",
   "metadata": {},
   "source": [
    "# Regular Expression trong Python và ứng dụng vào NLP - Nguyễn Phong Long\n"
   ]
  },
  {
   "cell_type": "markdown",
   "metadata": {},
   "source": [
    "## 1.Những kiến thức cơ bản về Regular Expression"
   ]
  },
  {
   "cell_type": "markdown",
   "metadata": {},
   "source": [
    "<b>Regular Expression ( Biểu thức chính quy)</b> là cách để diễn tả một đoạn mẫu phức tạp dùng để tìm kiếm (search pattern) bằng một chuỗi được ứng dụng rất nhiều trong lập trình, và trong NLP ta cũng cần dùng đến nó để tiền xử lí các đoạn dữ liệu dưới dạng văn bản (text) để lấy dữ liệu cho chúng ta ứng dụng vào ML, mà nếu chúng ta làm bằng tay hay dùng một tool nào đó thì sẽ rất vất vả, hoặc không thể làm nổi vì lượng dữ liệu chúng ta cần thực hiện là khổng lồ, trong khi đó sử dụng Regular Expression (Regex) thì cuộc sống lại đơn giản hơn. Một vài ứng dụng của Regular Expression (Regex) có thể nhìn ra rất dễ:\n",
    "\n",
    "<i>VD1</i>: Trong lập trình, khi làm chức năng đăng kí thành viên, thì người dùng phải nhập Email và mật khẩu chẳng hạn. Email cần có các điều kiện ví dụ cần có @,. chẳng hạn,.. trong khi đó mật khẩu thì chúng ta yêu cầu nhập ít nhất 6 kí tự chẳng hạn. Thì khi đó chúng ta phải dùng Regex giải quyết để tránh người dùng nhập linh tinh không đúng form\n",
    "    \n",
    "<i>VD2</i>: Giả sử một trường hợp thế này: chúng ta clone được source html của một trang web quốc tế, và lưu nó dưới dạng file text. Ngoài các đoạn chữ linh tinh ra thì trong file này có rất nhiều SDT từ nhiều nước trên thế giới. Nhiệm vụ chúng ta cần trích xuất ra các SDT đến từ lãnh thổ Việt Nam chẳng hạn. Như vậy nếu làm bằng tay thì chúng ta không thể làm nổi. Nhưng Regex sẽ giúp chúng ta làm điểu này một cách rất đơn giản và nhanh chóng "
   ]
  }
 ],
 "metadata": {
  "kernelspec": {
   "display_name": "Python 3",
   "language": "python",
   "name": "python3"
  },
  "language_info": {
   "codemirror_mode": {
    "name": "ipython",
    "version": 3
   },
   "file_extension": ".py",
   "mimetype": "text/x-python",
   "name": "python",
   "nbconvert_exporter": "python",
   "pygments_lexer": "ipython3",
   "version": "3.7.3"
  }
 },
 "nbformat": 4,
 "nbformat_minor": 2
}
