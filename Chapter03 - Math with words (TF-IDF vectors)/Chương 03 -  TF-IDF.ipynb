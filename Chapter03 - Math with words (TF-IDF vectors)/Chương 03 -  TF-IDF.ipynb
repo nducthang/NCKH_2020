{
 "cells": [
  {
   "cell_type": "markdown",
   "metadata": {},
   "source": [
    "# Chương này bao gồm những kiến thức chính:"
   ]
  },
  {
   "cell_type": "markdown",
   "metadata": {},
   "source": [
    "* Đếm từ và tần số xuất hiện để phân tích ngữ nghĩa\n",
    "* Dự đoán xác suất xuất hiện từ với Zip'f Law\n",
    "* Biểu diễn vecto từ và làm thế nào để bắt đầu sử dụng chúng\n",
    "* Tìm document liên quan từ một corpus sử dụng tần số document nghịch đảo\n",
    "* Ước tính sự giống nhau của document với cosine và Okapi BM25"
   ]
  },
  {
   "cell_type": "markdown",
   "metadata": {},
   "source": [
    "Trong chương này, chúng ta sẽ xem xét 3 cách mạnh mẽ để biểu diễn từ và tầm quan trọng của chúng trong 1 document:\n",
    "* <i>Bags of words</i>: Vector hóa số từ hoặc tần suất\n",
    "* <i>Bags of n-grams</i>: Đếm số cặp từ (bigram), triplets (trigrams), ...\n",
    "* <i>TF-IDF vectors</i>: Chấm điểm từ, đại diện cho mức độ quan trọng của chúng."
   ]
  },
  {
   "cell_type": "markdown",
   "metadata": {},
   "source": [
    "QUAN TRỌNG: TF-IDF là term frequenct times inverse document frequency.<br/>\n",
    "Team frequencies là đếm mỗi từ trong document, cái mà bạn đã học ở chương trước. Inverse document frequency nghĩa là bạn sẽ chia mỗi số từ đó cho số từ trong tài liệu.\n",
    "    "
   ]
  },
  {
   "cell_type": "markdown",
   "metadata": {},
   "source": [
    "Mỗi một kỹ thuật có thể được áp dụng riêng rẽ hoặc như một phần của pipeline NLP. Đây là mô hình thống kê dựa trên frequency (tần số) xuất hiện. Phần sau của quyển sách này, bạn sẽ có cách khác để tìm hiểu sâu hơn về mối quan hệ giữa các từ và mô hình giữa chúng."
   ]
  },
  {
   "cell_type": "markdown",
   "metadata": {},
   "source": [
    "Nhưng máy học NLP \"shallow\" (nông cạn) là mạnh mẽ và hữu ích cho nhiều ứng dụng thực tiễn như lọc spam và sentimen analysis (phân tích cảm xúc)."
   ]
  },
  {
   "cell_type": "markdown",
   "metadata": {},
   "source": [
    "## Bag of words"
   ]
  },
  {
   "cell_type": "markdown",
   "metadata": {},
   "source": [
    "Ở chương trước, bạn đã tạo một mô hình không gian vecto đầu tiên của một văn bản. Bạn sử dụng one-hot encoding cho mỗi từ và rồi tổ hợp tất cả các vector với một phép toán OR (hoặc sum) để tạo một vector biểu diễn cho 1 text. Và vecto bag-of-words nhị phân này cần một lượng index lớn để biểu diễn document khi load vào trong 1 cấu trúc như là Pandas DataFrame."
   ]
  },
  {
   "cell_type": "markdown",
   "metadata": {},
   "source": [
    "Ví dụ về đếm số lần xuất hiện của từ:"
   ]
  },
  {
   "cell_type": "code",
   "execution_count": 3,
   "metadata": {},
   "outputs": [],
   "source": [
    "from nltk.tokenize import TreebankWordTokenizer\n",
    "sentence = \"\"\"The faster Harry got to the store, the faster Harry,\n",
    "... the faster, would get home.\"\"\"\n",
    "tokenizer = TreebankWordTokenizer()\n",
    "tokens = tokenizer.tokenize(sentence.lower())"
   ]
  },
  {
   "cell_type": "code",
   "execution_count": 4,
   "metadata": {},
   "outputs": [
    {
     "data": {
      "text/plain": [
       "['the',\n",
       " 'faster',\n",
       " 'harry',\n",
       " 'got',\n",
       " 'to',\n",
       " 'the',\n",
       " 'store',\n",
       " ',',\n",
       " 'the',\n",
       " 'faster',\n",
       " 'harry',\n",
       " ',',\n",
       " '...',\n",
       " 'the',\n",
       " 'faster',\n",
       " ',',\n",
       " 'would',\n",
       " 'get',\n",
       " 'home',\n",
       " '.']"
      ]
     },
     "execution_count": 4,
     "metadata": {},
     "output_type": "execute_result"
    }
   ],
   "source": [
    "tokens"
   ]
  },
  {
   "cell_type": "markdown",
   "metadata": {},
   "source": [
    "Với list đơn của bạn, bạn muốn lấy unique words từ document và đếm chúng. Dictionary trong python phục vụ tốt cho mục đích này, và bởi vì bạn muốn đếm số từ, bạn có thể sử dụng <b>Counter</b>, như bạn đã làm ở chương trước:"
   ]
  },
  {
   "cell_type": "code",
   "execution_count": 6,
   "metadata": {},
   "outputs": [
    {
     "data": {
      "text/plain": [
       "Counter({'the': 4,\n",
       "         'faster': 3,\n",
       "         'harry': 2,\n",
       "         'got': 1,\n",
       "         'to': 1,\n",
       "         'store': 1,\n",
       "         ',': 3,\n",
       "         '...': 1,\n",
       "         'would': 1,\n",
       "         'get': 1,\n",
       "         'home': 1,\n",
       "         '.': 1})"
      ]
     },
     "execution_count": 6,
     "metadata": {},
     "output_type": "execute_result"
    }
   ],
   "source": [
    "from collections import Counter\n",
    "bag_of_words = Counter(tokens)\n",
    "bag_of_words"
   ]
  },
  {
   "cell_type": "markdown",
   "metadata": {},
   "source": [
    "Như dictionary Python, thứ tự các key bị xáo trộn. Sự sắp xếp mới này tối ưu cho lưu trữ, cập nhật và phục hồi, không thích hợp hiển thị. Thông tin về thứ tự ban đầu của các từ bị loại bỏ."
   ]
  },
  {
   "cell_type": "code",
   "execution_count": null,
   "metadata": {},
   "outputs": [],
   "source": []
  }
 ],
 "metadata": {
  "kernelspec": {
   "display_name": "Python 3",
   "language": "python",
   "name": "python3"
  },
  "language_info": {
   "codemirror_mode": {
    "name": "ipython",
    "version": 3
   },
   "file_extension": ".py",
   "mimetype": "text/x-python",
   "name": "python",
   "nbconvert_exporter": "python",
   "pygments_lexer": "ipython3",
   "version": "3.7.3"
  }
 },
 "nbformat": 4,
 "nbformat_minor": 2
}
