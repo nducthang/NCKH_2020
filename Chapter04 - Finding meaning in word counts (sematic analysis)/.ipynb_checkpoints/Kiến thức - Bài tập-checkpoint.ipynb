{
 "cells": [
  {
   "cell_type": "markdown",
   "metadata": {},
   "source": [
    "# 1. Single Value Decomposition (SVD)\n"
   ]
  },
  {
   "cell_type": "markdown",
   "metadata": {},
   "source": [
    "SVD có ứng dụng quan trọng trong xử lý mảng \n",
    "(array). Nó bào gồm giảm số chiều, nén ảnh và giảm nhiễu cho dữ liệu. Về bản chất, SVD thể hiện rằng một ma trận có thể được biểu diễn thành một tích của 3 ma trận khác, về mặt toán học, SVD có thể được viết dưới dạng sau :\n",
    "\n"
   ]
  },
  {
   "cell_type": "markdown",
   "metadata": {},
   "source": [
    "## 1.1 $\\textit{Lý thuyết toán}$"
   ]
  },
  {
   "cell_type": "markdown",
   "metadata": {},
   "source": [
    "## 1.2 Cài đặt - python"
   ]
  },
  {
   "cell_type": "markdown",
   "metadata": {},
   "source": [
    "Import các  thư viện cần thiện.\n",
    "Thực hiện SVD \"bằng tay\", tải dữ liệu từ sklearn.datasets, X - chứa 1798 ảnh 8x8, y chứa nhãn cho mỗi kí tự."
   ]
  },
  {
   "cell_type": "code",
   "execution_count": 7,
   "metadata": {},
   "outputs": [],
   "source": [
    "import numpy as np\n",
    "from sklearn.datasets import load_digits\n",
    "from matplotlib import pyplot as plt\n",
    "from sklearn.decomposition import TruncatedSVD\n",
    "float_formatter = lambda x : \"%.2f\" % x\n",
    "np.set_printoptions(formatter = {'float_kind' : float_formatter})\n",
    "from sklearn.ensemble import RandomForestClassifier"
   ]
  },
  {
   "cell_type": "code",
   "execution_count": 13,
   "metadata": {},
   "outputs": [],
   "source": [
    "X, y = load_digits(return_X_y = True)\n"
   ]
  },
  {
   "cell_type": "code",
   "execution_count": 14,
   "metadata": {},
   "outputs": [
    {
     "data": {
      "text/plain": [
       "(1797, 64)"
      ]
     },
     "execution_count": 14,
     "metadata": {},
     "output_type": "execute_result"
    }
   ],
   "source": [
    "X.shape"
   ]
  },
  {
   "cell_type": "code",
   "execution_count": 15,
   "metadata": {},
   "outputs": [
    {
     "data": {
      "text/plain": [
       "array([0, 1, 2, ..., 8, 9, 8])"
      ]
     },
     "execution_count": 15,
     "metadata": {},
     "output_type": "execute_result"
    }
   ],
   "source": [
    "y"
   ]
  },
  {
   "cell_type": "code",
   "execution_count": 17,
   "metadata": {},
   "outputs": [
    {
     "name": "stdout",
     "output_type": "stream",
     "text": [
      "[0.00 0.00 5.00 13.00 9.00 1.00 0.00 0.00 0.00 0.00 13.00 15.00 10.00\n",
      " 15.00 5.00 0.00 0.00 3.00 15.00 2.00 0.00 11.00 8.00 0.00 0.00 4.00 12.00\n",
      " 0.00 0.00 8.00 8.00 0.00 0.00 5.00 8.00 0.00 0.00 9.00 8.00 0.00 0.00\n",
      " 4.00 11.00 0.00 1.00 12.00 7.00 0.00 0.00 2.00 14.00 5.00 10.00 12.00\n",
      " 0.00 0.00 0.00 0.00 6.00 13.00 10.00 0.00 0.00 0.00]\n"
     ]
    }
   ],
   "source": [
    "image = X[0]\n",
    "print(image)"
   ]
  },
  {
   "cell_type": "code",
   "execution_count": 18,
   "metadata": {},
   "outputs": [
    {
     "data": {
      "text/plain": [
       "<matplotlib.image.AxesImage at 0x1b5704da668>"
      ]
     },
     "execution_count": 18,
     "metadata": {},
     "output_type": "execute_result"
    },
    {
     "data": {
      "image/png": "[encoded data removed]",
      "text/plain": [
       "<Figure size 288x288 with 1 Axes>"
      ]
     },
     "metadata": {
      "needs_background": "light"
     },
     "output_type": "display_data"
    }
   ],
   "source": [
    "image = image.reshape ((8, 8))\n",
    "plt.matshow(image, cmap = 'gray')"
   ]
  },
  {
   "cell_type": "code",
   "execution_count": 32,
   "metadata": {},
   "outputs": [
    {
     "name": "stdout",
     "output_type": "stream",
     "text": [
      "U = \n",
      " [[0.23 -0.49 0.28 0.16 0.13 -0.56 0.00 0.53]\n",
      " [0.54 -0.27 0.02 -0.72 -0.19 0.25 -0.13 0.03]\n",
      " [0.39 0.32 0.19 0.20 -0.63 -0.41 -0.08 -0.31]\n",
      " [0.30 0.32 0.27 0.36 -0.05 0.56 -0.13 0.52]\n",
      " [0.26 0.31 0.27 -0.09 0.67 -0.18 -0.43 -0.28]\n",
      " [0.34 0.33 -0.05 -0.12 0.25 -0.10 0.83 0.06]\n",
      " [0.42 -0.08 -0.82 0.32 0.11 -0.04 -0.19 0.01]\n",
      " [0.24 -0.51 0.27 0.40 0.11 0.33 0.23 -0.52]] \n",
      "\n",
      "s = \n",
      " [48.31 24.96 8.02 6.03 3.53 0.62 0.00 0.00] \n",
      "\n",
      "V = \n",
      " [[0.00 0.12 0.64 0.35 0.30 0.55 0.26 0.00]\n",
      " [0.00 0.20 0.18 -0.68 -0.51 0.29 0.34 0.00]\n",
      " [0.00 0.14 -0.06 0.47 -0.35 -0.40 0.69 0.00]\n",
      " [-0.00 0.29 0.60 -0.25 0.21 -0.66 -0.11 0.00]\n",
      " [-0.00 0.71 -0.44 -0.14 0.49 0.09 0.20 0.00]\n",
      " [0.00 -0.58 -0.06 -0.34 0.50 -0.11 0.53 0.00]\n",
      " [0.00 0.00 0.00 0.00 0.00 0.00 0.00 1.00]\n",
      " [1.00 0.00 0.00 0.00 0.00 0.00 0.00 0.00]] \n",
      "\n",
      "S = \n",
      " [[48.31 0.00 0.00 0.00 0.00 0.00 0.00 0.00]\n",
      " [0.00 24.96 0.00 0.00 0.00 0.00 0.00 0.00]\n",
      " [0.00 0.00 8.02 0.00 0.00 0.00 0.00 0.00]\n",
      " [0.00 0.00 0.00 6.03 0.00 0.00 0.00 0.00]\n",
      " [0.00 0.00 0.00 0.00 3.53 0.00 0.00 0.00]\n",
      " [0.00 0.00 0.00 0.00 0.00 0.62 0.00 0.00]\n",
      " [0.00 0.00 0.00 0.00 0.00 0.00 0.00 0.00]\n",
      " [0.00 0.00 0.00 0.00 0.00 0.00 0.00 0.00]] \n",
      "\n"
     ]
    }
   ],
   "source": [
    "U, s, V = np.linalg.svd(image)\n",
    "S = np.zeros((image.shape[0], image.shape[1]))\n",
    "S[:image.shape[0], :image.shape[0]] = np.diag(s)\n",
    "print(\"U = \\n\", U, \"\\n\")\n",
    "print(\"s = \\n\", s, \"\\n\")\n",
    "print(\"V = \\n\", V, \"\\n\")\n",
    "print(\"S = \\n\", S, \"\\n\")"
   ]
  },
  {
   "cell_type": "markdown",
   "metadata": {},
   "source": [
    "Kiểm tra lại kết quả : Image = U x S x V"
   ]
  },
  {
   "cell_type": "code",
   "execution_count": 33,
   "metadata": {},
   "outputs": [
    {
     "name": "stdout",
     "output_type": "stream",
     "text": [
      "[[0.00 0.00 5.00 13.00 9.00 1.00 0.00 0.00]\n",
      " [0.00 0.00 13.00 15.00 10.00 15.00 5.00 0.00]\n",
      " [0.00 3.00 15.00 2.00 -0.00 11.00 8.00 0.00]\n",
      " [0.00 4.00 12.00 0.00 0.00 8.00 8.00 0.00]\n",
      " [0.00 5.00 8.00 0.00 -0.00 9.00 8.00 0.00]\n",
      " [0.00 4.00 11.00 0.00 1.00 12.00 7.00 0.00]\n",
      " [0.00 2.00 14.00 5.00 10.00 12.00 0.00 0.00]\n",
      " [0.00 0.00 6.00 13.00 10.00 0.00 -0.00 0.00]]\n"
     ]
    }
   ],
   "source": [
    "K = U @ S @ V\n",
    "print(K)"
   ]
  },
  {
   "cell_type": "code",
   "execution_count": 36,
   "metadata": {},
   "outputs": [
    {
     "name": "stdout",
     "output_type": "stream",
     "text": [
      "[[0.00 5.88 30.72 16.99 14.35 26.47 12.67 0.00]\n",
      " [0.00 4.97 4.56 -16.94 -12.78 7.30 8.59 0.00]\n",
      " [0.00 0.00 0.00 0.00 0.00 0.00 0.00 0.00]\n",
      " [0.00 0.00 0.00 0.00 0.00 0.00 0.00 0.00]\n",
      " [0.00 0.00 0.00 0.00 0.00 0.00 0.00 0.00]\n",
      " [0.00 0.00 0.00 0.00 0.00 0.00 0.00 0.00]\n",
      " [0.00 0.00 0.00 0.00 0.00 0.00 0.00 0.00]\n",
      " [0.00 0.00 0.00 0.00 0.00 0.00 0.00 0.00]]\n",
      "[[0.00 -1.10 4.74 12.16 9.52 2.44 -1.33 0.00]\n",
      " [0.00 1.81 15.31 13.79 11.23 12.27 4.48 0.00]\n",
      " [0.00 3.86 13.36 1.19 1.49 12.59 7.65 0.00]\n",
      " [0.00 3.39 10.76 -0.35 0.20 10.36 6.61 0.00]\n",
      " [0.00 3.11 9.52 -0.85 -0.24 9.26 6.04 0.00]\n",
      " [0.00 3.61 11.79 0.12 0.60 11.27 7.07 0.00]\n",
      " [0.00 2.08 12.63 8.58 7.13 10.60 4.66 0.00]\n",
      " [0.00 -1.18 4.88 12.71 9.96 2.47 -1.44 0.00]]\n"
     ]
    }
   ],
   "source": [
    "n_components = 2\n",
    "Sigma = S[:, :n_components]\n",
    "VT = V[:n_components, :]\n",
    "A = U.dot(Sigma.dot(VT))\n",
    "print(Sigma.dot(VT))\n",
    "print(A)"
   ]
  },
  {
   "cell_type": "code",
   "execution_count": 37,
   "metadata": {},
   "outputs": [
    {
     "data": {
      "text/plain": [
       "<matplotlib.image.AxesImage at 0x1b570242438>"
      ]
     },
     "execution_count": 37,
     "metadata": {},
     "output_type": "execute_result"
    },
    {
     "data": {
      "image/png": "[encoded data removed]",
      "text/plain": [
       "<Figure size 288x288 with 1 Axes>"
      ]
     },
     "metadata": {
      "needs_background": "light"
     },
     "output_type": "display_data"
    }
   ],
   "source": [
    "plt.matshow(A, cmap ='gray')"
   ]
  },
  {
   "cell_type": "markdown",
   "metadata": {},
   "source": [
    "Ta có thể giảm không gian thuộc tính bằng cách lấy dot product của ma trận U và Sigma (Ma trận chéo sau khi giảm kích thước theo n_components = 2)"
   ]
  },
  {
   "cell_type": "code",
   "execution_count": 40,
   "metadata": {},
   "outputs": [
    {
     "name": "stdout",
     "output_type": "stream",
     "text": [
      "[[10.97 -12.23]\n",
      " [26.04 -6.82]\n",
      " [18.73 7.95]\n",
      " [14.60 8.08]\n",
      " [12.72 7.84]\n",
      " [16.19 8.21]\n",
      " [20.45 -2.05]\n",
      " [11.36 -12.85]]\n"
     ]
    }
   ],
   "source": [
    "print(U.dot(Sigma))"
   ]
  },
  {
   "cell_type": "markdown",
   "metadata": {},
   "source": [
    "Tiếp theo, chúng ta so sánh độ chính xác của mô hình Random Forest khi traning cho bài toán : Nhận dạng số viết tay ban đầu. Dữ liệu đầu vào là X - image, ứng với y - nhãn dán, khi sử dụng mô hình gốc và mô hình sau khi giảm số chiều SVD"
   ]
  },
  {
   "cell_type": "code",
   "execution_count": 44,
   "metadata": {},
   "outputs": [
    {
     "name": "stdout",
     "output_type": "stream",
     "text": [
      "1797\n",
      "(1797, 64)\n"
     ]
    }
   ],
   "source": [
    "print(len(y))\n",
    "print(X.shape)"
   ]
  },
  {
   "cell_type": "markdown",
   "metadata": {},
   "source": [
    "Mô hình ban đầu"
   ]
  },
  {
   "cell_type": "code",
   "execution_count": 54,
   "metadata": {},
   "outputs": [
    {
     "name": "stdout",
     "output_type": "stream",
     "text": [
      "Accuracy :  0.9244444444444444\n"
     ]
    }
   ],
   "source": [
    "\n",
    "from sklearn.model_selection import train_test_split\n",
    "X_train, X_test, y_train, y_test = train_test_split(X, y, test_size = 0.25, random_state = 0)\n",
    "\n",
    "from sklearn.ensemble import RandomForestClassifier\n",
    "classifier = RandomForestClassifier(n_estimators = 10, criterion = 'entropy', random_state = 0)\n",
    "classifier.fit(X_train, y_train)\n",
    "\n",
    "y_pred = classifier.predict(X_test)\n",
    "\n",
    "from sklearn.metrics import confusion_matrix\n",
    "cm = confusion_matrix(y_test, y_pred)\n",
    "print(\"Accuracy : \", sum(np.diag(cm))/np.sum(cm))"
   ]
  },
  {
   "cell_type": "code",
   "execution_count": 48,
   "metadata": {},
   "outputs": [
    {
     "name": "stdout",
     "output_type": "stream",
     "text": [
      "[[37  0  0  0  0  0  0  0  0  0]\n",
      " [ 0 42  0  0  0  1  0  0  0  0]\n",
      " [ 0  1 39  1  0  0  0  0  3  0]\n",
      " [ 0  0  0 41  0  1  0  1  1  1]\n",
      " [ 0  0  0  0 38  0  0  0  0  0]\n",
      " [ 0  2  0  1  0 43  1  0  0  1]\n",
      " [ 0  0  0  0  0  0 51  0  1  0]\n",
      " [ 0  1  0  1  3  0  0 43  0  0]\n",
      " [ 0  2  0  0  0  0  1  1 42  2]\n",
      " [ 0  0  1  3  0  2  0  0  1 40]]\n"
     ]
    }
   ],
   "source": [
    "print(cm)"
   ]
  },
  {
   "cell_type": "code",
   "execution_count": 49,
   "metadata": {},
   "outputs": [],
   "source": [
    "svd = TruncatedSVD(n_components=2)\n",
    "X_reduced = svd.fit_transform(X)"
   ]
  },
  {
   "cell_type": "code",
   "execution_count": 51,
   "metadata": {},
   "outputs": [
    {
     "name": "stdout",
     "output_type": "stream",
     "text": [
      "[[45.86 -1.19]\n",
      " [55.53 7.86]\n",
      " [55.83 6.91]\n",
      " ...\n",
      " [65.53 10.66]\n",
      " [58.61 -4.91]\n",
      " [64.45 -0.46]]\n",
      "[45.86 -1.19]\n"
     ]
    }
   ],
   "source": [
    "print(X_reduced)\n",
    "print(X_reduced[0])"
   ]
  },
  {
   "cell_type": "markdown",
   "metadata": {},
   "source": [
    "Mô hình sau khi giảm số chiều SVD"
   ]
  },
  {
   "cell_type": "code",
   "execution_count": 56,
   "metadata": {},
   "outputs": [],
   "source": [
    "from sklearn.model_selection import train_test_split\n",
    "X_train2, X_test2, y_train, y_test = train_test_split(X_reduced, y, test_size = 0.25, random_state = 0)\n",
    "\n",
    "from sklearn.ensemble import RandomForestClassifier\n",
    "classifier = RandomForestClassifier(n_estimators = 10, criterion = 'entropy', random_state = 0)\n",
    "classifier.fit(X_train2, y_train)\n",
    "\n",
    "y_pred2 = classifier.predict(X_test2)\n",
    "\n",
    "from sklearn.metrics import confusion_matrix\n",
    "cm2 = confusion_matrix(y_test, y_pred2)\n"
   ]
  },
  {
   "cell_type": "code",
   "execution_count": 59,
   "metadata": {},
   "outputs": [
    {
     "name": "stdout",
     "output_type": "stream",
     "text": [
      "[[15  7  1  0  0  4  0  6  2  2]\n",
      " [ 6 19  0  0  1  4  5  6  1  1]\n",
      " [ 2  0 16  8  0  7  1  3  4  3]\n",
      " [ 1  1  9 18  0  2  0  0  0 14]\n",
      " [ 0  1  0  0 30  0  7  0  0  0]\n",
      " [13  4  9  3  0  3  0  6  7  3]\n",
      " [ 0 11  0  0  6  0 35  0  0  0]\n",
      " [11  6  2  0  0  4  1 13  6  5]\n",
      " [ 7  6  5  0  0  4  0  4 21  1]\n",
      " [ 3  1  7 14  0  2  0  2  4 14]]\n",
      "Accuracy :  0.4088888888888889\n"
     ]
    }
   ],
   "source": [
    "print(cm2)\n",
    "print(\"Accuracy : \", sum(np.diag(cm2))/np.sum(cm2))"
   ]
  },
  {
   "cell_type": "markdown",
   "metadata": {},
   "source": [
    "Mô hình sau khi giảm số chiều SVD lần 2"
   ]
  },
  {
   "cell_type": "code",
   "execution_count": 61,
   "metadata": {},
   "outputs": [],
   "source": [
    "svd = TruncatedSVD(n_components=16)\n",
    "X_reduced16 = svd.fit_transform(X)"
   ]
  },
  {
   "cell_type": "code",
   "execution_count": 63,
   "metadata": {},
   "outputs": [
    {
     "name": "stdout",
     "output_type": "stream",
     "text": [
      "[[37  0  0  0  0  0  0  0  0  0]\n",
      " [ 0 43  0  0  0  0  0  0  0  0]\n",
      " [ 1  4 35  2  0  0  0  1  0  1]\n",
      " [ 0  0  2 39  0  0  0  0  1  3]\n",
      " [ 0  0  0  0 37  0  0  0  0  1]\n",
      " [ 0  0  1  0  0 46  0  0  0  1]\n",
      " [ 0  0  0  0  1  0 51  0  0  0]\n",
      " [ 1  0  0  2  0  0  0 45  0  0]\n",
      " [ 0  5  2  1  1  1  0  0 36  2]\n",
      " [ 0  0  0  2  0  1  0  0  0 44]]\n",
      "Accuracy :  0.9177777777777778\n"
     ]
    }
   ],
   "source": [
    "from sklearn.model_selection import train_test_split\n",
    "X_train3, X_test3, y_train, y_test = train_test_split(X_reduced16, y, test_size = 0.25, random_state = 0)\n",
    "\n",
    "from sklearn.ensemble import RandomForestClassifier\n",
    "classifier = RandomForestClassifier(n_estimators = 10, criterion = 'entropy', random_state = 0)\n",
    "classifier.fit(X_train3, y_train)\n",
    "\n",
    "y_pred3 = classifier.predict(X_test3)\n",
    "\n",
    "from sklearn.metrics import confusion_matrix\n",
    "cm3 = confusion_matrix(y_test, y_pred3)\n",
    "print(cm3)\n",
    "print(\"Accuracy : \", sum(np.diag(cm3))/np.sum(cm3))"
   ]
  },
  {
   "cell_type": "markdown",
   "metadata": {},
   "source": [
    "Độ chính xác với số chiều của X sau khi giảm số chiều SVD là 16 đạt được độ chính xác như mô hình ban đầu (64). Trong bài toán  thực tế, việc chọn số chiều tối ưu (không quá lớn) mà vẫn đem lại độ chính xác là mục tiêu mà DA muốn nhắm đến."
   ]
  },
  {
   "cell_type": "code",
   "execution_count": null,
   "metadata": {},
   "outputs": [],
   "source": []
  }
 ],
 "metadata": {
  "kernelspec": {
   "display_name": "Python 3",
   "language": "python",
   "name": "python3"
  },
  "language_info": {
   "codemirror_mode": {
    "name": "ipython",
    "version": 3
   },
   "file_extension": ".py",
   "mimetype": "text/x-python",
   "name": "python",
   "nbconvert_exporter": "python",
   "pygments_lexer": "ipython3",
   "version": "3.7.3"
  }
 },
 "nbformat": 4,
 "nbformat_minor": 2
}
