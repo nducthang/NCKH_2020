{
 "cells": [
  {
   "cell_type": "markdown",
   "metadata": {},
   "source": [
    "## 1. Các phần kiến thức : \n"
   ]
  },
  {
   "cell_type": "markdown",
   "metadata": {},
   "source": [
    "1. SVD ( Singular Value Decompotion)\n",
    "    * TL Tiếng Việt https://viblo.asia/p/handbook-singular-values-decomposition-va-mot-so-ung-dung-yMnKMOoml7P\n",
    "    * TL Tiếng Anh https://www.cs.cmu.edu/~venkatg/teaching/CStheory-infoage/book-chapter-4.pdf\n",
    "2. PCA (Principal Component Analysis)\n",
    "    * TL Tiếng Việt https://machinelearningcoban.com/2017/06/15/pca/\n",
    "    * TL Tiếng Anh http://www.cs.otago.ac.nz/cosc453/student_tutorials/principal_components.pdf\n",
    "3. LSA (Bản chất SVD hoặc PCA áp dụng trong NLP)\n",
    "4. LDA (Bản chất là LSA giảm về 1 chiều + cũng có thể là Classification model)\n",
    "    * TL Tiếng Việt https://machinelearningcoban.com/2017/06/30/lda/\n",
    "5. LDiA (Bản chất là LSA nhưng khác một chút về mô hình thống kê : LSA - tuyến tính; LDiA - phân phối Dirichlet)\n",
    "    * TL Tiếng Việt https://phamdinhkhanh.github.io/2019/09/08/LDATopicModel.html\n",
    "    * TL Tiếng Anh https://medium.com/@jonathan_hui/machine-learning-latent-dirichlet-allocation-lda-1d9d148f13a4\n",
    "6. Khoảng cách và sự giống nhau\n",
    "    * Một số cách tính KC và sự giống nhau khác nhau có trong tài liệu đã dịch [Link github NCKH2020/4]( https://github.com/nducthang/NCKH_2020/tree/master/Chapter04%20-%20Finding%20meaning%20in%20word%20counts%20(sematic%20analysis))\n",
    "7. Naive Bayes\n",
    "    * Công cụ có sẵn VADER để tìm sentiment cho một câu [Link github Vader](https://github.com/cjhutto/vaderSentiment)\n",
    "    * Naive Bayes : mô hình phân loại Naive Bayes - Classification kết hợp với VADER và TF-IDF để tìm sentiment cho một từ trong văn bản."
   ]
  },
  {
   "cell_type": "markdown",
   "metadata": {},
   "source": [
    "## 2. Bài tập\n"
   ]
  },
  {
   "cell_type": "markdown",
   "metadata": {},
   "source": [
    "**Bài 1 :** (Lý thuyết) Cho ma trận  M = \\begin{bmatrix}\n",
    "                            1 & 2 & 3\\\\\n",
    "                            3 & 4 & 5\\\\\n",
    "                            5 & 4 & 3\\\\\n",
    "                            0 & 2 & 4\\\\\n",
    "                            1 & 3 & 5\n",
    "                            \\end{bmatrix}\n"
   ]
  },
  {
   "cell_type": "markdown",
   "metadata": {},
   "source": [
    "a. Phân tích SVD cho ma trận M .\n",
    "\n",
    "b. Giảm số chiều cho ma trận M từ kết quả phần a. (Truncated SVD)"
   ]
  },
  {
   "cell_type": "markdown",
   "metadata": {},
   "source": [
    "**Bài 2 :** (Thực hành)\n",
    "Thực hiện giảm số chiều cho dữ liệu bài toán nhận biết chữ số viết tay, sau đó dùng 1 mô hình Classification để training (VD : Random Forest). Qua đó chọn số chiều phù hợp để đạt độ chính xác tốt (accuracy > 90%) "
   ]
  },
  {
   "cell_type": "code",
   "execution_count": 10,
   "metadata": {},
   "outputs": [
    {
     "name": "stdout",
     "output_type": "stream",
     "text": [
      "Chiều của dữ liệu đầu vào X - ảnh:  (1797, 64)\n",
      "Chiều của dữ liệu đầu vào y - nhãn:  (1797,)\n"
     ]
    }
   ],
   "source": [
    "import numpy as np\n",
    "from sklearn.datasets import load_digits\n",
    "from matplotlib import pyplot as plt\n",
    "from sklearn.decomposition import TruncatedSVD\n",
    "float_formatter = lambda x : \"%.2f\" % x\n",
    "np.set_printoptions(formatter = {'float_kind' : float_formatter})\n",
    "#from sklearn.ensemble import RandomForestClassifier\n",
    "X, y = load_digits(return_X_y = True)\n",
    "print(\"Chiều của dữ liệu đầu vào X - ảnh: \", X.shape)\n",
    "print(\"Chiều của dữ liệu đầu vào y - nhãn: \", y.shape)"
   ]
  },
  {
   "cell_type": "code",
   "execution_count": 5,
   "metadata": {},
   "outputs": [
    {
     "name": "stdout",
     "output_type": "stream",
     "text": [
      "Ví dụ ảnh của một image 1, với nhãn y =  0\n"
     ]
    },
    {
     "data": {
      "text/plain": [
       "<matplotlib.image.AxesImage at 0x1c9ef720198>"
      ]
     },
     "execution_count": 5,
     "metadata": {},
     "output_type": "execute_result"
    },
    {
     "data": {
      "image/png": "[encoded data removed]",
      "text/plain": [
       "<Figure size 288x288 with 1 Axes>"
      ]
     },
     "metadata": {
      "needs_background": "light"
     },
     "output_type": "display_data"
    }
   ],
   "source": [
    "print(\"Ví dụ ảnh của một image 1, với nhãn y = \", y[0])\n",
    "image = X[0].reshape ((8, 8))\n",
    "plt.matshow(image, cmap = 'gray')"
   ]
  },
  {
   "cell_type": "markdown",
   "metadata": {},
   "source": [
    "Lời giải : [Solution2](http://localhost:8888/notebooks/Desktop/NCKH_2020/Chapter04%20-%20Finding%20meaning%20in%20word%20counts%20(sematic%20analysis)/Solution2.ipynb)"
   ]
  },
  {
   "cell_type": "markdown",
   "metadata": {},
   "source": [
    "**Bài 3 :** Bài toán phát hiện tin nhắn SPAM (dữ liệu tại nlpia.data - cần cài nlpia trước)\n",
    "Cho dữ liệu gồm 4837 tin nhắn đã được dãn nhãn SPAM/NonSPAM. Chuyển dữ liệu về ma trận TF-IDF, sau đó dùng các mô hình sau để chuyển về các topic model và đoán nhận.\n",
    "\n",
    "a. LDA để đoán nhận( cài đặt bằng tay)\n",
    "\n",
    "b. PCA và SVD để giảm số chiều, sau đó chuyển thành topic model\n",
    "\n",
    "c. LDiA để chuyển về topic model + áp dụng LDA ( dưới dạng mô hình classification) để đoán nhận\n",
    "\n",
    "*(Bài này nên trong sách hoặc xem lời giải rồi thực hành)*"
   ]
  },
  {
   "cell_type": "code",
   "execution_count": null,
   "metadata": {},
   "outputs": [],
   "source": [
    "import pandas as pd\n",
    "from nlpia.data.loaders import get_data\n",
    "pd.options.display.width = 120  # heaps display the wide columnof SMS text withn Pandas DF printout\n",
    "sms= get_data(\"sms-spam\")\n",
    "index = ['sms{}{}'.format(i, '!'*j) for (i,j) in zip(range(len(sms)), sms.spam)]\n",
    "sms= pd.DataFrame(sms.values, columns = sms.columns, index = index)\n",
    "print(\"sms : \", len(sms), \"; sms spam : \", sms.spam.sum())\n",
    "\n",
    "# Do tokenization and tf-idf vector transformation\n",
    "from sklearn.feature_extraction.text import TfidfVectorizer\n",
    "from nltk.tokenize.casual import casual_tokenize\n",
    "tfidf_model = TfidfVectorizer(tokenizer = casual_tokenize)\n",
    "tfidf_docs = tfidf_model.fit_transform(raw_documents = sms.text).toarray()\n",
    "print(\"Dữ liệu TF-IDF : \", tfidf_docs.shape)\n",
    "# (4837, 9232)"
   ]
  },
  {
   "cell_type": "markdown",
   "metadata": {},
   "source": [
    "Lời giải : [Solution3](http://localhost:8888/edit/Desktop/NCKH_2020/Chapter04%20-%20Finding%20meaning%20in%20word%20counts%20(sematic%20analysis)/imp_and_solution3.py)"
   ]
  },
  {
   "cell_type": "code",
   "execution_count": null,
   "metadata": {},
   "outputs": [],
   "source": []
  }
 ],
 "metadata": {
  "kernelspec": {
   "display_name": "Python 3",
   "language": "python",
   "name": "python3"
  },
  "language_info": {
   "codemirror_mode": {
    "name": "ipython",
    "version": 3
   },
   "file_extension": ".py",
   "mimetype": "text/x-python",
   "name": "python",
   "nbconvert_exporter": "python",
   "pygments_lexer": "ipython3",
   "version": "3.7.3"
  }
 },
 "nbformat": 4,
 "nbformat_minor": 2
}
