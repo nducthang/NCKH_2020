{
 "cells": [
  {
   "cell_type": "markdown",
   "metadata": {},
   "source": [
    "# Nội dung chính:\n",
    "1. Xây dựng mô hình Linear Regression với Tensorflow\n",
    "2. Control flow: Huber loss\n",
    "3. tf.data\n",
    "4. Các hàm tối ưu trong Tensorflow\n",
    "5. Bài tập"
   ]
  },
  {
   "cell_type": "markdown",
   "metadata": {},
   "source": [
    "# 1. Xây dựng mô hình Linear Regression với Tensorflow"
   ]
  },
  {
   "cell_type": "markdown",
   "metadata": {},
   "source": [
    "<b>Linear Regression (hồi quy tuyến tính)</b> là mô hình cơ bản nhất trong Machine learning.<br/>\n",
    "Lý thuyết và cách xây dựng thông thường các bạn có thể tham khảo tại:\n",
    "1. https://machinelearningcoban.com/2016/12/28/linearregression/\n",
    "2. http://nttuan8.com/bai-1:-linear-regression-va-gradient-descent/"
   ]
  },
  {
   "cell_type": "markdown",
   "metadata": {},
   "source": [
    "Trong bài này, chúng ta sẽ cùng nhau sử dụng Tensorflow để build model Linear Regression."
   ]
  },
  {
   "cell_type": "code",
   "execution_count": 1,
   "metadata": {},
   "outputs": [
    {
     "name": "stdout",
     "output_type": "stream",
     "text": [
      "WARNING:tensorflow:From c:\\program files\\python37\\lib\\site-packages\\tensorflow_core\\python\\compat\\v2_compat.py:65: disable_resource_variables (from tensorflow.python.ops.variable_scope) is deprecated and will be removed in a future version.\n",
      "Instructions for updating:\n",
      "non-resource variables are not supported in the long term\n"
     ]
    }
   ],
   "source": [
    "import tensorflow.compat.v1 as tf\n",
    "tf.disable_v2_behavior()"
   ]
  },
  {
   "cell_type": "markdown",
   "metadata": {},
   "source": [
    "Để đơn giản và dễ hiểu, bài này chúng ta sẽ thiết lập mô hình Y = w * X + b, dữ liệu tự tạo có sẵn."
   ]
  },
  {
   "cell_type": "code",
   "execution_count": 2,
   "metadata": {},
   "outputs": [],
   "source": [
    "import numpy as np\n",
    "X_train = np.asarray([3.3, 4.4, 5.5, 6.71, 6.93, 4.168, 9.779, 6.182, 7.59, 2.167,\n",
    "                      7.042, 10.791, 5.313, 7.997, 5.654, 9.27, 3.1])\n",
    "Y_train = np.asarray([1.7, 2.76, 2.09, 3.19, 1.694, 1.573, 3.366, 2.596, 2.53, 1.221,\n",
    "                      2.827, 3.465, 1.65, 2.904, 2.42, 2.94, 1.3])"
   ]
  },
  {
   "cell_type": "code",
   "execution_count": 3,
   "metadata": {},
   "outputs": [
    {
     "data": {
      "text/plain": [
       "17"
      ]
     },
     "execution_count": 3,
     "metadata": {},
     "output_type": "execute_result"
    }
   ],
   "source": [
    "# Lấy số lương mẫu huấn luyện\n",
    "n_samples = X_train.shape[0]\n",
    "n_samples"
   ]
  },
  {
   "cell_type": "markdown",
   "metadata": {},
   "source": [
    "Với bài toàn của chúng ta, w và b là 2 tham số cần tìm. Hai tham số này sẽ thay đổi để tối ưu hàm mất mát trong quá trình huấn luyện. Do đó, chúng ta sử dụng `tf.Variable` và khởi tạo 2 biến này ngẫu nhiên."
   ]
  },
  {
   "cell_type": "code",
   "execution_count": 4,
   "metadata": {},
   "outputs": [],
   "source": [
    "W = tf.Variable(np.random.rand(), name=\"weight\")\n",
    "b = tf.Variable(np.random.rand(), name=\"bias\")"
   ]
  },
  {
   "cell_type": "markdown",
   "metadata": {},
   "source": [
    "Chúng ta cần tạo 2 biến `tf.placeholder` để giữ chỗ để truyền X_train và Y_train vào để train."
   ]
  },
  {
   "cell_type": "code",
   "execution_count": 5,
   "metadata": {},
   "outputs": [],
   "source": [
    "X = tf.placeholder(tf.float32, name='X')\n",
    "Y = tf.placeholder(tf.float32, name='Y')"
   ]
  },
  {
   "cell_type": "markdown",
   "metadata": {},
   "source": [
    "Mô hình:"
   ]
  },
  {
   "cell_type": "code",
   "execution_count": 6,
   "metadata": {},
   "outputs": [],
   "source": [
    "Y_predict = W * X + b"
   ]
  },
  {
   "cell_type": "markdown",
   "metadata": {},
   "source": [
    "Để biết W và b thực sự tốt chưa, chúng ta cần đánh giá thông qua loss function (hàm mất mát). Hàm mất mát trong mô hình này sử dụng là hàm bình phương độ chênh lệch giữa kết quả thực tế và kết quả dự đoán."
   ]
  },
  {
   "cell_type": "code",
   "execution_count": 7,
   "metadata": {},
   "outputs": [],
   "source": [
    "loss = tf.square(Y-Y_predict, name=\"loss\")"
   ]
  },
  {
   "cell_type": "markdown",
   "metadata": {},
   "source": [
    "Mục tiêu là tìm W và b sao cho loss function cực tiểu. Ở đây ta dùng Gradient Descent có sẵn của TF của cực tiểu hoá hàm loss."
   ]
  },
  {
   "cell_type": "code",
   "execution_count": 8,
   "metadata": {},
   "outputs": [],
   "source": [
    "optimizer = tf.train.GradientDescentOptimizer(learning_rate=0.001).minimize(loss)"
   ]
  },
  {
   "cell_type": "code",
   "execution_count": 9,
   "metadata": {},
   "outputs": [],
   "source": [
    "# Khởi tạo các biến\n",
    "init = tf.global_variables_initializer()"
   ]
  },
  {
   "cell_type": "code",
   "execution_count": 10,
   "metadata": {
    "scrolled": false
   },
   "outputs": [
    {
     "name": "stdout",
     "output_type": "stream",
     "text": [
      "Epoch: 50, cost = 0.155443072, W = 0.23811, b = 0.85891\n",
      "Epoch: 100, cost = 0.155331522, W = 0.23946, b = 0.84891\n",
      "Epoch: 150, cost = 0.155259654, W = 0.24055, b = 0.84082\n",
      "Epoch: 200, cost = 0.155213550, W = 0.24144, b = 0.83428\n",
      "Epoch: 250, cost = 0.155184075, W = 0.24215, b = 0.82900\n",
      "Epoch: 300, cost = 0.155165389, W = 0.24273, b = 0.82473\n",
      "Epoch: 350, cost = 0.155153602, W = 0.24320, b = 0.82128\n",
      "Epoch: 400, cost = 0.155146241, W = 0.24357, b = 0.81849\n",
      "Epoch: 450, cost = 0.155141756, W = 0.24388, b = 0.81623\n",
      "Epoch: 500, cost = 0.155139029, W = 0.24412, b = 0.81441\n",
      "Epoch: 550, cost = 0.155137420, W = 0.24432, b = 0.81293\n",
      "Epoch: 600, cost = 0.155136496, W = 0.24448, b = 0.81174\n",
      "Epoch: 650, cost = 0.155136079, W = 0.24461, b = 0.81078\n",
      "Epoch: 700, cost = 0.155135885, W = 0.24472, b = 0.81000\n",
      "Epoch: 750, cost = 0.155135825, W = 0.24480, b = 0.80937\n",
      "Epoch: 800, cost = 0.155135855, W = 0.24487, b = 0.80886\n",
      "Epoch: 850, cost = 0.155135959, W = 0.24493, b = 0.80845\n",
      "Epoch: 900, cost = 0.155135989, W = 0.24497, b = 0.80812\n",
      "Epoch: 950, cost = 0.155136108, W = 0.24501, b = 0.80785\n",
      "Epoch: 1000, cost = 0.155136198, W = 0.24504, b = 0.80764\n",
      "Optimization Finished!\n",
      "Training cost = 0.155136198, W = 0.24504, b= 0.80764\n"
     ]
    },
    {
     "data": {
      "image/png": "[encoded data removed]",
      "text/plain": [
       "<Figure size 432x288 with 1 Axes>"
      ]
     },
     "metadata": {
      "needs_background": "light"
     },
     "output_type": "display_data"
    }
   ],
   "source": [
    "import matplotlib.pyplot as plt\n",
    "# Training\n",
    "training_epochs = 1000\n",
    "display_step = 50\n",
    "\n",
    "with tf.Session() as sess:\n",
    "    sess.run(init) # Khởi tạo các biến\n",
    "    for epoch in range(training_epochs):\n",
    "        for (x,y) in zip(X_train, Y_train):\n",
    "            sess.run(optimizer, feed_dict={X: x, Y: y})\n",
    "        # hiển thị log cho epoch tiếp theo\n",
    "        if (epoch + 1) % display_step == 0:\n",
    "            cost = sess.run(tf.reduce_mean(loss)\\\n",
    "                            , feed_dict={X: X_train, Y: Y_train})\n",
    "            print(\"Epoch: {}, cost = {:.9f}, W = {:.5f}, b = {:.5f}\"\\\n",
    "                  .format(epoch+1, cost, sess.run(W), sess.run(b)))\n",
    "    print(\"Optimization Finished!\")\n",
    "    print(\"Training cost = {:.9f}, W = {:.5f}, b= {:.5f}\"\\\n",
    "          .format(cost, sess.run(W), sess.run(b)))\n",
    "    # Biểu diễn kết quả\n",
    "    plt.plot(X_train, Y_train, 'ro', label=\"Original data\")\n",
    "    plt.plot(X_train, sess.run(Y_predict, feed_dict = {X: X_train}),label=\"Predict line\")\n",
    "    plt.legend() # hiển thị chú thích\n",
    "    plt.show()"
   ]
  },
  {
   "cell_type": "code",
   "execution_count": 11,
   "metadata": {},
   "outputs": [],
   "source": [
    "# Hiển thị kết quả trên tensorboard\n",
    "writer = tf.summary.FileWriter('./LinearRegression', tf.get_default_graph())\n",
    " \n",
    "# Close sau khi kết thúc session\n",
    "writer.close()"
   ]
  },
  {
   "cell_type": "markdown",
   "metadata": {},
   "source": [
    "Đồ thị thu được trên tensorboard:"
   ]
  },
  {
   "cell_type": "markdown",
   "metadata": {},
   "source": [
    "<img src=\"./images/LR.png\"/>"
   ]
  },
  {
   "cell_type": "markdown",
   "metadata": {},
   "source": [
    "# 2. Control flow: Huber loss"
   ]
  },
  {
   "cell_type": "markdown",
   "metadata": {},
   "source": [
    "Nhìn vào đồ thị, chúng ta dễ dàng nhận thấy rằng mô hình hồi quy tuyến tính dễ bị ảnh hưởng bởi các giá trị ngoại lai (Các giá trị nằm cách xa đường tuyến tính). Các giá trị này ảnh hưởng lớn đến mô hình và chúng kéo đường thẳng dự đoán của chúng ta về phía chúng. Một phương pháp xử lý với giá trị ngoại lai là sử dụng Huber loss. Bằng trực giác, hàm squared loss là bất lợi khi mà mô hình có nhiều weight ngoại lai (Nó sẽ nhận giá trị loss lớn nếu giá trị ngoại lai càng cách xa đường dự đoán). Huber loss thiết kế 1 hàm mà sẽ trả về 1 giá trị nhỏ hơn cho các weight ngoại lai."
   ]
  },
  {
   "cell_type": "markdown",
   "metadata": {},
   "source": [
    "<img src=\"./images/huberloss.png\"/>"
   ]
  },
  {
   "cell_type": "markdown",
   "metadata": {},
   "source": [
    "Chúng ta có thể thiết lập mã như là:"
   ]
  },
  {
   "cell_type": "markdown",
   "metadata": {},
   "source": [
    "`if tf.abs(Y_predict-Y) <= delta:\n",
    "    ... do something`"
   ]
  },
  {
   "cell_type": "markdown",
   "metadata": {},
   "source": [
    "Tuy nhiên, nếu thực thi như trên, sẽ báo lỗi `TypeError: Using a <b>tf.Tensor</b> as a Python <b>bool</b> is not allowed.” We will need to use control flow ops defined by TensorFlow` , nó chỉ làm việc với Tensorflow's eager execution, chúng ta sẽ cùng tìm hiểu ở bài sau."
   ]
  },
  {
   "cell_type": "markdown",
   "metadata": {},
   "source": [
    "Để thực thi Huber loss, chúng ta có thể sử dụng các hàm: `tf.greater`, `tf.less`, hoặc `tf.cond`."
   ]
  },
  {
   "cell_type": "code",
   "execution_count": 12,
   "metadata": {},
   "outputs": [],
   "source": [
    "def huber_loss(labels, predicts, delta=14.0):\n",
    "    residual = tf.abs(labels - predicts)\n",
    "    def f1(): return 0.5*tf.square(residual)\n",
    "    def f2(): return delta * residual - 0.5 * tf.square(delta)\n",
    "    return tf.cond(residual < delta, f1, f2)"
   ]
  },
  {
   "cell_type": "code",
   "execution_count": 13,
   "metadata": {},
   "outputs": [
    {
     "name": "stdout",
     "output_type": "stream",
     "text": [
      "Optimization Finished!\n",
      "Training W = 0.24504, b= 0.80764\n"
     ]
    },
    {
     "data": {
      "image/png": "[encoded data removed]",
      "text/plain": [
       "<Figure size 432x288 with 1 Axes>"
      ]
     },
     "metadata": {
      "needs_background": "light"
     },
     "output_type": "display_data"
    }
   ],
   "source": [
    "import matplotlib.pyplot as plt\n",
    "# Training\n",
    "training_epochs = 1000\n",
    "display_step = 50\n",
    "loss = huber_loss(Y, Y_predict)\n",
    "\n",
    "with tf.Session() as sess:\n",
    "    sess.run(init) # Khởi tạo các biến\n",
    "    for epoch in range(training_epochs):\n",
    "        for (x,y) in zip(X_train, Y_train):\n",
    "            sess.run(optimizer, feed_dict={X: x, Y: y})\n",
    "    print(\"Optimization Finished!\")\n",
    "    print(\"Training W = {:.5f}, b= {:.5f}\"\\\n",
    "          .format(sess.run(W), sess.run(b)))\n",
    "    # Biểu diễn kết quả\n",
    "    plt.plot(X_train, Y_train, 'ro', label=\"Original data\")\n",
    "    plt.plot(X_train, sess.run(Y_predict, feed_dict = {X: X_train}),label=\"Predict line\")\n",
    "    plt.legend() # hiển thị chú thích\n",
    "    plt.show()"
   ]
  },
  {
   "cell_type": "markdown",
   "metadata": {},
   "source": [
    "# 3. tf.data"
   ]
  },
  {
   "cell_type": "markdown",
   "metadata": {},
   "source": [
    "Có một điều thú vị về placeholder và feed_dict là chúng ta có thể đặt việc xử lý data bên ngoài Tensorflow, giúp dễ dàng xáo trộn và tạo dữ liệu tuỳ ý trong Python. Hạn chế là cơ chế này có khả năng làm chậm chương trình của bạn. Người dùng thường kết thúc việc xử lý dữ liệu của họ trong một luồng và tạo ra nút cổ chai dữ liệu (data bottleneck) làm chậm quá trình thực thi."
   ]
  },
  {
   "cell_type": "markdown",
   "metadata": {},
   "source": [
    "Tensorflow cung cấp module `tf.data`, hứa hẹn sẽ nhanh hơn placeholder."
   ]
  },
  {
   "cell_type": "markdown",
   "metadata": {},
   "source": [
    "Nhớ rằng, ở trong mô hình hồi quy tuyến tính, chúng ta lưu trữ input data trong một mảng numpy gọi là data, mỗi hàm trong mảng numpy này là một cặp (x,y), tương ứng với một điểm dữ liệu. Import data này vào trong mô hình Tensorflow, chúng ta tạo các placeholder x (feature) và y (label). Chúng ta iterate qua mỗi điểm dữ liệu với một vòng lặp `for (x,y) in zip(X_train, Y_train)` và feed nó vào trong placeholder với một feed_dict. Tất nhiên, chúng ta có thể sử dụng các lô (batch) các điểm dữ liệu thay vì các diểm dữ liệu riêng lẻ, nhưng mấu chốt ở đây là quá trình cung cấp dữ liệu từ mảng numpy sang mô hình TensorFlow chậm và có thể cản trở việc thực thi các op khác."
   ]
  },
  {
   "cell_type": "markdown",
   "metadata": {},
   "source": [
    "Với `tf.data`, thay vì lưu trữ một input data trong một đối tượng non-Tensorflow (không phải kiểu dữ liệu của Tensorflow), chúng ta lưu trữ nó trong một đối tượng `tf.data.Dataset`. Chúng ta có thể tạo một `Dataset` từ tensors với:<br/>\n",
    "`tf.data.Dataset.from_tensor_slices((features, labels))` <br/>\n",
    "<b>features</b> và <b>labels</b> là các tensor, nhưng hãy nhớ rằng vì TensorFlow và Numpy được tích hợp liền mạch, chúng có thể là mảng NumPy. Tôi có thể khởi tạo tập dữ liệu của mình như sau:"
   ]
  },
  {
   "cell_type": "code",
   "execution_count": 14,
   "metadata": {},
   "outputs": [],
   "source": [
    "dataset = tf.data.Dataset.from_tensor_slices((X_train, Y_train))"
   ]
  },
  {
   "cell_type": "markdown",
   "metadata": {},
   "source": [
    "In ra type và shape trong bộ dữ liệu:"
   ]
  },
  {
   "cell_type": "code",
   "execution_count": 15,
   "metadata": {},
   "outputs": [
    {
     "name": "stdout",
     "output_type": "stream",
     "text": [
      "WARNING:tensorflow:From <ipython-input-15-9960aeacb882>:1: DatasetV1.output_types (from tensorflow.python.data.ops.dataset_ops) is deprecated and will be removed in a future version.\n",
      "Instructions for updating:\n",
      "Use `tf.compat.v1.data.get_output_types(dataset)`.\n",
      "(tf.float64, tf.float64)\n"
     ]
    }
   ],
   "source": [
    "print(dataset.output_types)"
   ]
  },
  {
   "cell_type": "code",
   "execution_count": 16,
   "metadata": {},
   "outputs": [
    {
     "name": "stdout",
     "output_type": "stream",
     "text": [
      "WARNING:tensorflow:From <ipython-input-16-c54df000dfe2>:1: DatasetV1.output_shapes (from tensorflow.python.data.ops.dataset_ops) is deprecated and will be removed in a future version.\n",
      "Instructions for updating:\n",
      "Use `tf.compat.v1.data.get_output_shapes(dataset)`.\n",
      "(TensorShape([]), TensorShape([]))\n"
     ]
    }
   ],
   "source": [
    "print(dataset.output_shapes)"
   ]
  },
  {
   "cell_type": "markdown",
   "metadata": {},
   "source": [
    "Bạn cũng có thể tạo một `tf.data.Dataset` từ các file bằng cách sử dụng một trong các trình phân tích cú pháp định dạng tệp TensorFlow bằng cách sử dụng một trong các trình phân tích cú pháp định dạng tệp TensorFlow.\n",
    "* <b>tf.data.TextLineDataset(filenames)</b>: Mỗi dòng trong file sẽ trở thành một thực thể (entry), nó tốt cho các dataset mà mỗi entry được giới hạn trong một dòng như là các data sử dụng cho machine translation hoặc data trong file csv.\n",
    "* <b>tf.data.FixedLengthRecordDataset(filenames)</b>: mỗi điểm data trong dataset có cùng một độ dài. Nó tốt cho các dataset mà các entry có độ dài cố định, như là CIFAR hoặc ImageNet.\n",
    "* <b>tf.data.TFRecordDataset(filenames)</b>: Tốt nếu data của ta lưu trữ trong dạng tfrecord.\n",
    "<br/>\n",
    "Ví dụ:<br/>\n",
    "dataset = tf.data.FixedLengthRecordDataset([file1, file2, ...])"
   ]
  },
  {
   "cell_type": "markdown",
   "metadata": {},
   "source": [
    "Sau khi biến data của mình thành đối tượng `Dataset`, chúng ta có thể iterate qua các mẫu (samples) trong Dataset sử dụng interator. Một iterator qua Dataset và trả về một mẫu (sample) hoặc batch mỗi lần khi chúng ta gọi `get_next()`. Bắt đầu với `make_one_shot_iterator()`, chúng ta sẽ tìm ra cái gì ở trong mỗi bit. Iterator là một class `tf.data.Iterator`."
   ]
  },
  {
   "cell_type": "code",
   "execution_count": 17,
   "metadata": {},
   "outputs": [
    {
     "name": "stdout",
     "output_type": "stream",
     "text": [
      "WARNING:tensorflow:From <ipython-input-17-e6d6c30c365b>:1: DatasetV1.make_one_shot_iterator (from tensorflow.python.data.ops.dataset_ops) is deprecated and will be removed in a future version.\n",
      "Instructions for updating:\n",
      "Use `for ... in dataset:` to iterate over a dataset. If using `tf.estimator`, return the `Dataset` object directly from your input function. As a last resort, you can use `tf.compat.v1.data.make_one_shot_iterator(dataset)`.\n"
     ]
    }
   ],
   "source": [
    "iterator = dataset.make_one_shot_iterator()\n",
    "X, Y = iterator.get_next()"
   ]
  },
  {
   "cell_type": "markdown",
   "metadata": {},
   "source": [
    "Mỗi lần thực thi, X và Y sẽ trả về các điểm dữ liệu mới."
   ]
  },
  {
   "cell_type": "code",
   "execution_count": 19,
   "metadata": {},
   "outputs": [
    {
     "name": "stdout",
     "output_type": "stream",
     "text": [
      "[3.3, 1.7]\n",
      "[4.4, 2.76]\n",
      "[5.5, 2.09]\n"
     ]
    }
   ],
   "source": [
    "with tf.Session() as sess:\n",
    "    print(sess.run([X, Y]))\n",
    "    print(sess.run([X, Y]))\n",
    "    print(sess.run([X, Y]))"
   ]
  },
  {
   "cell_type": "markdown",
   "metadata": {},
   "source": [
    "Bây giờ có thể tính toán Y_predict và loss function từ X và Y giống như bạn đã làm với placeholder. Sự khác biệt là không còn cần phải bổ sung dữ liệu thông qua feed_dict."
   ]
  },
  {
   "cell_type": "markdown",
   "metadata": {},
   "source": [
    "Tham khảo code: https://github.com/chiphuyen/stanford-tensorflow-tutorials/blob/master/examples/03_linreg_dataset.py"
   ]
  },
  {
   "cell_type": "markdown",
   "metadata": {},
   "source": [
    "<b>Chú ý</b>: Nếu máy cài tensorflow 2.0, chạy sẽ báo lỗi. (Cố gắng tự fix nhá)"
   ]
  },
  {
   "cell_type": "markdown",
   "metadata": {},
   "source": [
    "Với `tf.data.Dataset`, bạn có thể batch, shuffle, repeat dữ liệu của bạn chỉ với một lệnh. Bạn cũng có thể map (ánh xạ) phần từ dataset chuyển đổi nó thành dữ liệu mới."
   ]
  },
  {
   "cell_type": "code",
   "execution_count": 30,
   "metadata": {},
   "outputs": [],
   "source": [
    "dataset = dataset.shuffle(1000)\n",
    "dataset = dataset.repeat(100)\n",
    "dataset = dataset.batch(128)\n",
    "dataset = tf.data.Dataset.from_tensor_slices([1, 2, 3])\n",
    "dataset = dataset.map(lambda x: x*2) \n",
    "# convert each element of dataset to one_hot vector"
   ]
  },
  {
   "cell_type": "markdown",
   "metadata": {},
   "source": [
    "Thí nghiệm cho thấy rằng tf.data nhanh hơn so với placeholder khoảng 32%."
   ]
  },
  {
   "cell_type": "markdown",
   "metadata": {},
   "source": [
    "# 4. Các hàm tối ưu trong Tensorflow"
   ]
  },
  {
   "cell_type": "markdown",
   "metadata": {},
   "source": [
    "Ngoài Gradient Descent, Tensorflow còn có một số phương thức tối ưu như sau:"
   ]
  },
  {
   "cell_type": "markdown",
   "metadata": {},
   "source": [
    "`\n",
    "tf.train.Optimizer\n",
    "tf.train.GradientDescentOptimizer\n",
    "tf.train.AdadeltaOptimizer\n",
    "tf.train.AdagradOptimizer\n",
    "tf.train.AdagradDAOptimizer\n",
    "tf.train.MomentumOptimizer\n",
    "tf.train.AdamOptimizer\n",
    "tf.train.FtrlOptimizer\n",
    "tf.train.ProximalGradientDescentOptimizer\n",
    "tf.train.ProximalAdagradOptimizer\n",
    "tf.train.RMSPropOptimizer`"
   ]
  },
  {
   "cell_type": "markdown",
   "metadata": {},
   "source": [
    "Xem thêm: https://ruder.io/optimizing-gradient-descent/"
   ]
  },
  {
   "cell_type": "markdown",
   "metadata": {},
   "source": [
    "# 5. Bài tập"
   ]
  },
  {
   "cell_type": "markdown",
   "metadata": {},
   "source": [
    "<b>Bài 1:</b> <br/>\n",
    "a. Tạo 2 tensor 0 chiều ngẫu nhiên x và y với phân phối bất kỳ. <br/>\n",
    "Tạo một đối tượng Tensorflow trả về x + y nếu x > y và x - y trong trường hợp còn lại.<br/>\n",
    "Gợi ý: Dùng toàn `tf.cond()` <br/>\n",
    "Tôi làm mẫu cho bạn bài này như sau:"
   ]
  },
  {
   "cell_type": "code",
   "execution_count": 38,
   "metadata": {},
   "outputs": [
    {
     "name": "stdout",
     "output_type": "stream",
     "text": [
      "-0.47482836\n"
     ]
    }
   ],
   "source": [
    "import tensorflow.compat.v1 as tf\n",
    "tf.disable_v2_behavior()\n",
    "\n",
    "sess = tf.InteractiveSession()\n",
    "x = tf.random_uniform([]) # Mảng trống như shape vô hướng (0-d)\n",
    "y = tf.random_uniform([])\n",
    "out = tf.cond(tf.greater(x, y), lambda: x+y, lambda: x-y)\n",
    "print(sess.run(out))"
   ]
  },
  {
   "cell_type": "markdown",
   "metadata": {},
   "source": [
    "b. Tạo 2 Tensor 0-d x và y ngẫu nhiên trong khoảng [-1, 1). <br/>\n",
    "Trả về x+y nếu x<y và x-y nếu x>y và 0 trong trường hợp còn lại <br/>\n",
    "Gợi ý: Tìm hiểu về `tf.case()`"
   ]
  },
  {
   "cell_type": "markdown",
   "metadata": {},
   "source": [
    "c. Tạo tensor x có giá trị là [[0, -2, -1], [0, 1, 2]] <br/>\n",
    "và y là một tensor zeros với chiều giống như x.<br/>\n",
    "Trả về một tensor boolean yields True nếu các phần tử x và y bằng nhau tương ứng.<br/>\n",
    "Gợi ý: Tìm hiểu `tf.equal()`."
   ]
  },
  {
   "cell_type": "markdown",
   "metadata": {},
   "source": [
    "d. Tạo tensor x có giá trị:<br/>\n",
    "[29.05088806,  27.61298943,  31.19073486,  29.35532951, <br/>\n",
    "  30.97266006,  26.67541885,  38.08450317,  20.74983215, <br/>\n",
    "  34.94445419,  34.45999146,  29.06485367,  36.01657104, <br/>\n",
    "  27.88236427,  20.56035233,  30.20379066,  29.51215172, <br/>\n",
    "  33.71149445,  28.59134293,  36.05556488,  28.66994858]   <br/>\n",
    "Lấy các chỉ số mà phần tử ủa x tại đó lớn hơn 30.<br/>\n",
    "Gợi ý: Tìm hiểu `tf.where()` <br/>\n",
    "Rồi extract (xuất) các phần tử có giá trị lớn hơn 30 <br/>\n",
    "Gợi ý: Tìm hiểu `tf.gather()`"
   ]
  },
  {
   "cell_type": "markdown",
   "metadata": {},
   "source": [
    "e. Tạo tensor diagnoal 2-d kích cỡ 6x6 với đường chéo (diagonal) có giá trị là 1,2,...,6.<br/>\n",
    "Gợi ý: Tìm hiểu `tf.range()` và `tf.diag()`"
   ]
  },
  {
   "cell_type": "markdown",
   "metadata": {},
   "source": [
    "f. Tạo tensor 2-d ngẫu nhiên kích cỡ 10x10 từ phân phối bất kỳ. Tính định thức của tensor này.<br/>\n",
    "Gợi ý: Tìm hiểu `tf.matrix_determinant()`"
   ]
  },
  {
   "cell_type": "markdown",
   "metadata": {},
   "source": [
    "g. Tạo tensor x với giá trị [5, 2, 3, 5, 10, 6, 2, 3, 4, 2, 1, 1, 0, 9].<br/>\n",
    "Trả về unique các phần tử trong x.<br/>\n",
    "Gợi ý: Tìm hiểu `tf.unique()`. Hãy nhớ rằng tf.unique() trả về 1 tuple."
   ]
  },
  {
   "cell_type": "markdown",
   "metadata": {},
   "source": [
    "h. Tạo 2 tensor x và y có chiều là 300 từ phân phối bất kỳ, miễn là chúng cùng phân phối.<br/>\n",
    "Sử dụng `tf.cond()` trả về: <br/>\n",
    "- MSE (mean squared error) của (x-y) nếu trung bình của tất cả các phần tử trong (x-y) là âm, hoặc <br/>\n",
    "- Tổng các trị tuyệt đối của tất cả các phần tử trong tensor (x-y) trong các trường hợp còn lại. <br/>\n",
    "Gợi ý: Xem lại Huber loss function."
   ]
  },
  {
   "cell_type": "markdown",
   "metadata": {},
   "source": [
    "<b>Bài 2:</b> Hoàn thiện code sau:"
   ]
  },
  {
   "cell_type": "markdown",
   "metadata": {},
   "source": [
    "file <b>utils.py</b>:"
   ]
  },
  {
   "cell_type": "code",
   "execution_count": 41,
   "metadata": {},
   "outputs": [],
   "source": [
    "import os\n",
    "import gzip\n",
    "import shutil\n",
    "import struct\n",
    "import urllib\n",
    "\n",
    "os.environ['TF_CPP_MIN_LOG_LEVEL']='2'\n",
    "\n",
    "from matplotlib import pyplot as plt\n",
    "import numpy as np\n",
    "import tensorflow as tf\n",
    "\n",
    "def huber_loss(labels, predictions, delta=14.0):\n",
    "    residual = tf.abs(labels - predictions)\n",
    "    def f1(): return 0.5 * tf.square(residual)\n",
    "    def f2(): return delta * residual - 0.5 * tf.square(delta)\n",
    "    return tf.cond(residual < delta, f1, f2)\n",
    "\n",
    "def safe_mkdir(path):\n",
    "    \"\"\" Create a directory if there isn't one already. \"\"\"\n",
    "    try:\n",
    "        os.mkdir(path)\n",
    "    except OSError:\n",
    "        pass\n",
    "\n",
    "def read_birth_life_data(filename):\n",
    "    \"\"\"\n",
    "    Read in birth_life_2010.txt and return:\n",
    "    data in the form of NumPy array\n",
    "    n_samples: number of samples\n",
    "    \"\"\"\n",
    "    text = open(filename, 'r').readlines()[1:]\n",
    "    data = [line[:-1].split('\\t') for line in text]\n",
    "    births = [float(line[1]) for line in data]\n",
    "    lifes = [float(line[2]) for line in data]\n",
    "    data = list(zip(births, lifes))\n",
    "    n_samples = len(data)\n",
    "    data = np.asarray(data, dtype=np.float32)\n",
    "    return data, n_samples\n",
    "\n",
    "def download_one_file(download_url, \n",
    "                    local_dest, \n",
    "                    expected_byte=None, \n",
    "                    unzip_and_remove=False):\n",
    "    \"\"\" \n",
    "    Download the file from download_url into local_dest\n",
    "    if the file doesn't already exists.\n",
    "    If expected_byte is provided, check if \n",
    "    the downloaded file has the same number of bytes.\n",
    "    If unzip_and_remove is True, unzip the file and remove the zip file\n",
    "    \"\"\"\n",
    "    if os.path.exists(local_dest) or os.path.exists(local_dest[:-3]):\n",
    "        print('%s already exists' %local_dest)\n",
    "    else:\n",
    "        print('Downloading %s' %download_url)\n",
    "        local_file, _ = urllib.request.urlretrieve(download_url, local_dest)\n",
    "        file_stat = os.stat(local_dest)\n",
    "        if expected_byte:\n",
    "            if file_stat.st_size == expected_byte:\n",
    "                print('Successfully downloaded %s' %local_dest)\n",
    "                if unzip_and_remove:\n",
    "                    with gzip.open(local_dest, 'rb') as f_in, open(local_dest[:-3],'wb') as f_out:\n",
    "                        shutil.copyfileobj(f_in, f_out)\n",
    "                    os.remove(local_dest)\n",
    "            else:\n",
    "                print('The downloaded file has unexpected number of bytes')\n",
    "\n",
    "def download_mnist(path):\n",
    "    \"\"\" \n",
    "    Download and unzip the dataset mnist if it's not already downloaded \n",
    "    Download from http://yann.lecun.com/exdb/mnist\n",
    "    \"\"\"\n",
    "    safe_mkdir(path)\n",
    "    url = 'http://yann.lecun.com/exdb/mnist'\n",
    "    filenames = ['train-images-idx3-ubyte.gz',\n",
    "                'train-labels-idx1-ubyte.gz',\n",
    "                't10k-images-idx3-ubyte.gz',\n",
    "                't10k-labels-idx1-ubyte.gz']\n",
    "    expected_bytes = [9912422, 28881, 1648877, 4542]\n",
    "\n",
    "    for filename, byte in zip(filenames, expected_bytes):\n",
    "        download_url = os.path.join(url, filename)\n",
    "        local_dest = os.path.join(path, filename)\n",
    "        download_one_file(download_url, local_dest, byte, True)\n",
    "\n",
    "def parse_data(path, dataset, flatten):\n",
    "    if dataset != 'train' and dataset != 't10k':\n",
    "        raise NameError('dataset must be train or t10k')\n",
    "\n",
    "    label_file = os.path.join(path, dataset + '-labels-idx1-ubyte')\n",
    "    with open(label_file, 'rb') as file:\n",
    "        _, num = struct.unpack(\">II\", file.read(8))\n",
    "        labels = np.fromfile(file, dtype=np.int8) #int8\n",
    "        new_labels = np.zeros((num, 10))\n",
    "        new_labels[np.arange(num), labels] = 1\n",
    "    \n",
    "    img_file = os.path.join(path, dataset + '-images-idx3-ubyte')\n",
    "    with open(img_file, 'rb') as file:\n",
    "        _, num, rows, cols = struct.unpack(\">IIII\", file.read(16))\n",
    "        imgs = np.fromfile(file, dtype=np.uint8).reshape(num, rows, cols) #uint8\n",
    "        imgs = imgs.astype(np.float32) / 255.0\n",
    "        if flatten:\n",
    "            imgs = imgs.reshape([num, -1])\n",
    "\n",
    "    return imgs, new_labels\n",
    "\n",
    "def read_mnist(path, flatten=True, num_train=55000):\n",
    "    \"\"\"\n",
    "    Read in the mnist dataset, given that the data is stored in path\n",
    "    Return two tuples of numpy arrays\n",
    "    ((train_imgs, train_labels), (test_imgs, test_labels))\n",
    "    \"\"\"\n",
    "    imgs, labels = parse_data(path, 'train', flatten)\n",
    "    indices = np.random.permutation(labels.shape[0])\n",
    "    train_idx, val_idx = indices[:num_train], indices[num_train:]\n",
    "    train_img, train_labels = imgs[train_idx, :], labels[train_idx, :]\n",
    "    val_img, val_labels = imgs[val_idx, :], labels[val_idx, :]\n",
    "    test = parse_data(path, 't10k', flatten)\n",
    "    return (train_img, train_labels), (val_img, val_labels), test\n",
    "\n",
    "def get_mnist_dataset(batch_size):\n",
    "    # Step 1: Read in data\n",
    "    mnist_folder = 'data/mnist'\n",
    "    download_mnist(mnist_folder)\n",
    "    train, val, test = read_mnist(mnist_folder, flatten=False)\n",
    "\n",
    "    # Step 2: Create datasets and iterator\n",
    "    train_data = tf.data.Dataset.from_tensor_slices(train)\n",
    "    train_data = train_data.shuffle(10000) # if you want to shuffle your data\n",
    "    train_data = train_data.batch(batch_size)\n",
    "\n",
    "    test_data = tf.data.Dataset.from_tensor_slices(test)\n",
    "    test_data = test_data.batch(batch_size)\n",
    "\n",
    "    return train_data, test_data\n",
    "    \n",
    "def show(image):\n",
    "    \"\"\"\n",
    "    Render a given numpy.uint8 2D array of pixel data.\n",
    "    \"\"\"\n",
    "    plt.imshow(image, cmap='gray')\n",
    "    plt.show()"
   ]
  },
  {
   "cell_type": "markdown",
   "metadata": {},
   "source": [
    "file cần hoàn thiện code:"
   ]
  },
  {
   "cell_type": "code",
   "execution_count": null,
   "metadata": {},
   "outputs": [],
   "source": [
    "\"\"\" Starter code for simple logistic regression model for MNIST\n",
    "with tf.data module\n",
    "MNIST dataset: yann.lecun.com/exdb/mnist/\n",
    "\"\"\"\n",
    "\n",
    "import numpy as np\n",
    "import tensorflow as tf\n",
    "import time\n",
    "\n",
    "import utils\n",
    "\n",
    "# Define paramaters for the model\n",
    "learning_rate = 0.01\n",
    "batch_size = 128\n",
    "n_epochs = 30\n",
    "n_train = 60000\n",
    "n_test = 10000\n",
    "\n",
    "# Step 1: Read in data\n",
    "mnist_folder = 'data/mnist'\n",
    "utils.download_mnist(mnist_folder)\n",
    "train, val, test = utils.read_mnist(mnist_folder, flatten=True)\n",
    "\n",
    "# Step 2: Create datasets and iterator\n",
    "# create training Dataset and batch it\n",
    "train_data = tf.data.Dataset.from_tensor_slices(train)\n",
    "train_data = train_data.shuffle(10000) # if you want to shuffle your data\n",
    "train_data = train_data.batch(batch_size)\n",
    "\n",
    "# create testing Dataset and batch it\n",
    "test_data = None\n",
    "#############################\n",
    "########## TO DO ############\n",
    "#############################\n",
    "\n",
    "\n",
    "# create one iterator and initialize it with different datasets\n",
    "iterator = tf.data.Iterator.from_structure(train_data.output_types, \n",
    "                                           train_data.output_shapes)\n",
    "img, label = iterator.get_next()\n",
    "\n",
    "train_init = iterator.make_initializer(train_data)\t# initializer for train_data\n",
    "test_init = iterator.make_initializer(test_data)\t# initializer for train_data\n",
    "\n",
    "# Step 3: create weights and bias\n",
    "# w is initialized to random variables with mean of 0, stddev of 0.01\n",
    "# b is initialized to 0\n",
    "# shape of w depends on the dimension of X and Y so that Y = tf.matmul(X, w)\n",
    "# shape of b depends on Y\n",
    "w, b = None, None\n",
    "#############################\n",
    "########## TO DO ############\n",
    "#############################\n",
    "\n",
    "\n",
    "# Step 4: build model\n",
    "# the model that returns the logits.\n",
    "# this logits will be later passed through softmax layer\n",
    "logits = None\n",
    "#############################\n",
    "########## TO DO ############\n",
    "#############################\n",
    "\n",
    "\n",
    "# Step 5: define loss function\n",
    "# use cross entropy of softmax of logits as the loss function\n",
    "loss = None\n",
    "#############################\n",
    "########## TO DO ############\n",
    "#############################\n",
    "\n",
    "\n",
    "# Step 6: define optimizer\n",
    "# using Adamn Optimizer with pre-defined learning rate to minimize loss\n",
    "optimizer = None\n",
    "#############################\n",
    "########## TO DO ############\n",
    "#############################\n",
    "\n",
    "\n",
    "# Step 7: calculate accuracy with test set\n",
    "preds = tf.nn.softmax(logits)\n",
    "correct_preds = tf.equal(tf.argmax(preds, 1), tf.argmax(label, 1))\n",
    "accuracy = tf.reduce_sum(tf.cast(correct_preds, tf.float32))\n",
    "\n",
    "writer = tf.summary.FileWriter('./graphs/logreg', tf.get_default_graph())\n",
    "with tf.Session() as sess:\n",
    "   \n",
    "    start_time = time.time()\n",
    "    sess.run(tf.global_variables_initializer())\n",
    "\n",
    "    # train the model n_epochs times\n",
    "    for i in range(n_epochs): \t\n",
    "        sess.run(train_init)\t# drawing samples from train_data\n",
    "        total_loss = 0\n",
    "        n_batches = 0\n",
    "        try:\n",
    "            while True:\n",
    "                _, l = sess.run([optimizer, loss])\n",
    "                total_loss += l\n",
    "                n_batches += 1\n",
    "        except tf.errors.OutOfRangeError:\n",
    "            pass\n",
    "        print('Average loss epoch {0}: {1}'.format(i, total_loss/n_batches))\n",
    "    print('Total time: {0} seconds'.format(time.time() - start_time))\n",
    "\n",
    "    # test the model\n",
    "    sess.run(test_init)\t\t\t# drawing samples from test_data\n",
    "    total_correct_preds = 0\n",
    "    try:\n",
    "        while True:\n",
    "            accuracy_batch = sess.run(accuracy)\n",
    "            total_correct_preds += accuracy_batch\n",
    "    except tf.errors.OutOfRangeError:\n",
    "        pass\n",
    "\n",
    "    print('Accuracy {0}'.format(total_correct_preds/n_test))\n",
    "writer.close()"
   ]
  },
  {
   "cell_type": "markdown",
   "metadata": {},
   "source": [
    "<b>Bài 3:</b><br/>\n",
    "a. Cải thiện độ chính xác của logistic regression trên MNIST <br/>\n",
    "Mô hình của chúng ta bên trên sẽ khoảng 91%. Điều này là không thể chấp nhận được, chúng ta cần cải tiến mô hình trên 99%. Bạn có thể làm bất cứ điều gì để cải tiến, miễn là mô hình được xây dựng bằng Tensorflow. <br/>\n",
    "b. Logistic regression trên notMNIST <br/>\n",
    "Yaroslav Bulatov, một kỹ sư nghiên cứu tại OpenAI, đã tạo ra một bộ dữ liệu tương tự và được đặt tên theo nghĩa đen là notMNIST. Bộ này được thiết kế để trông giống như bộ dữ liệu cổ điển của MNIST, nhưng ít sạch hơn và cực kỳ dễ thương. Các hình ảnh vẫn có kích thước 28x28 và cũng có 10 nhãn, đại diện cho các chữ cái ’A’ đến 'J'. <br/>\n",
    "<img src=\"./images/notMNIST.png\"/> <br/>\n",
    "Định dạng của notMNIST không giống với MNIST, nhưng David Flanagan rất tốt khi xuất bản code của mình để chuyển đổi notMNIST sang định dạng MNIST.<br/>\n",
    "Xem tại: https://github.com/davidflanagan/notMNIST-to-MNIST <br/>\n",
    "Sau khi chuyển đổi định dạng notMNIST sang định dạng MNIST, bạn có thể sử dụng mô-đun read_mnist trong utils.py để đọc nó."
   ]
  },
  {
   "cell_type": "markdown",
   "metadata": {},
   "source": [
    "Tham khảo thêm: https://nguyenvanhieu.vn/xay-dung-mo-hinh-logistic-regression/"
   ]
  },
  {
   "cell_type": "markdown",
   "metadata": {},
   "source": [
    "<b>Bài 4:</b> Triển khai thuật toán Nearest Neighbor bằng Tensorflow."
   ]
  },
  {
   "cell_type": "markdown",
   "metadata": {},
   "source": [
    "<b>Bài 5:</b> Triển khai mô hình K-mean cho bài toán phân lớp bằng Tensorflow."
   ]
  }
 ],
 "metadata": {
  "kernelspec": {
   "display_name": "Python 3",
   "language": "python",
   "name": "python3"
  },
  "language_info": {
   "codemirror_mode": {
    "name": "ipython",
    "version": 3
   },
   "file_extension": ".py",
   "mimetype": "text/x-python",
   "name": "python",
   "nbconvert_exporter": "python",
   "pygments_lexer": "ipython3",
   "version": "3.7.4"
  }
 },
 "nbformat": 4,
 "nbformat_minor": 2
}
