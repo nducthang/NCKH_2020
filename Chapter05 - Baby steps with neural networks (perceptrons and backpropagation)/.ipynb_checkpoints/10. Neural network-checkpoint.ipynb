{
 "cells": [
  {
   "cell_type": "markdown",
   "metadata": {},
   "source": [
    "# Nội dung chính:\n",
    "1. Lý thuyết về mạng Neural\n",
    "2. Thực hành xây dựng mạng Neural xử lý bài toán XOR bằng thư viện keras\n",
    "3. Bài tập"
   ]
  },
  {
   "cell_type": "markdown",
   "metadata": {},
   "source": [
    "# 1. Lý thuyết về mạng Neural"
   ]
  },
  {
   "cell_type": "markdown",
   "metadata": {},
   "source": [
    "Đã có rất nhiều bài viết xuất sắc về mạng Neural nên trong phần này, tôi chỉ dẫn link lý thuyết đến các bài viết đó. Chúng ta sẽ tập trung vào thực hành để hiểu rõ hơn bản chất về mạng neural.\n",
    "- Các thuật toán cần biết trước khi vào phần này: Logistic regression, Softmax Regression (có tài liệu thì gọi softmax regression là logistic regression luôn), Perceptron ...\n",
    "- Lý thuyết cơ bản: (Cấu trúc mạng, lan truyền tiến): \n",
    "    * https://nttuan8.com/bai-3-neural-network/\n",
    "    * https://dominhhai.github.io/vi/2018/04/nn-intro/\n",
    "- Lan truyền ngược: \n",
    "    * https://dominhhai.github.io/vi/2018/04/nn-bp/\n",
    "    * https://nttuan8.com/bai-4-backpropagation/\n",
    "- Các hàm active:\n",
    "    * https://aivietnam.ai/courses/aisummer2019/lessons/ham-activations/\n",
    "- Thuật toán gradient descent:\n",
    "    * https://machinelearningcoban.com/2017/01/12/gradientdescent/\n",
    "    * https://machinelearningcoban.com/2017/01/16/gradientdescent2/\n",
    "    <br/>\n",
    "Ngoài ra nếu có thể hãy tìm hiểu thêm thuật toán khác để tối ưu tham số như: momentum, Adagrad, Adadelta, RMSProps, Adam.\n",
    "- Vấn đề overfiting:\n",
    "    * https://machinelearningcoban.com/2017/03/04/overfitting/\n",
    "    * https://dominhhai.github.io/vi/2017/12/ml-overfitting/\n",
    "    * https://dominhhai.github.io/vi/2018/05/nn-overfitting/\n",
    "    <br/>\n",
    "Các bạn <b>cần đọc và hiểu hết các bài viết trên</b> trước khi bắt đầu vào bài viết này.\n",
    "\n",
    "Sau khi đọc xong lý thuyết, thực hành theo bài sau: https://dominhhai.github.io/vi/2018/04/nn-implement/\n",
    "\n",
    "Tham khảo thêm (tiếng Anh): http://cs231n.github.io/"
   ]
  },
  {
   "cell_type": "markdown",
   "metadata": {},
   "source": [
    "# 2. Thực hành xây dựng mạng Neural xử lý bài toán XOR bằng thư viện keras"
   ]
  },
  {
   "cell_type": "markdown",
   "metadata": {},
   "source": [
    "Keras là một trong số những thư viện giúp ta xây dựng một mạng neural. Chúng ta sẽ cùng xây dựng bằng tay một mạng neural ở phần sau. Và ở các bài viết sau, chúng ta sẽ cùng sử dụng tensorflow để xây dựng mạng neural."
   ]
  },
  {
   "cell_type": "markdown",
   "metadata": {},
   "source": [
    "Trong bài viết này, chúng ta sẽ cùng thực hành theo mức độ khó tăng dần, với việc sử dụng thư viện sẵn có, chúng ta không cần hiểu quá sâu về mạng neural vẫn có thể code được, vì các thư viện này đã hỗ trợ hết. Trong mục này, chúng ta xây dựng mạng neural bằng thư viện keras cho bài toán XOR."
   ]
  },
  {
   "cell_type": "markdown",
   "metadata": {},
   "source": [
    "Import các module cần thiết."
   ]
  },
  {
   "cell_type": "code",
   "execution_count": 1,
   "metadata": {},
   "outputs": [
    {
     "name": "stderr",
     "output_type": "stream",
     "text": [
      "Using TensorFlow backend.\n"
     ]
    }
   ],
   "source": [
    "import numpy as np\n",
    "from keras.models import Sequential\n",
    "from keras.layers import Dense, Activation\n",
    "from keras.optimizers import SGD"
   ]
  },
  {
   "cell_type": "markdown",
   "metadata": {},
   "source": [
    "Data và nhãn."
   ]
  },
  {
   "cell_type": "code",
   "execution_count": 2,
   "metadata": {},
   "outputs": [],
   "source": [
    "x_train = np.array([[0, 0],\n",
    "                   [0, 1],\n",
    "                   [1, 0],\n",
    "                   [1, 1]])\n",
    "y_train = np.array([[0],\n",
    "                   [1],\n",
    "                   [1],\n",
    "                   [0]])"
   ]
  },
  {
   "cell_type": "markdown",
   "metadata": {},
   "source": [
    "Thiết lập model:"
   ]
  },
  {
   "cell_type": "code",
   "execution_count": 3,
   "metadata": {},
   "outputs": [
    {
     "name": "stdout",
     "output_type": "stream",
     "text": [
      "Model: \"sequential_1\"\n",
      "_________________________________________________________________\n",
      "Layer (type)                 Output Shape              Param #   \n",
      "=================================================================\n",
      "dense_1 (Dense)              (None, 10)                30        \n",
      "_________________________________________________________________\n",
      "activation_1 (Activation)    (None, 10)                0         \n",
      "_________________________________________________________________\n",
      "dense_2 (Dense)              (None, 1)                 11        \n",
      "_________________________________________________________________\n",
      "activation_2 (Activation)    (None, 1)                 0         \n",
      "=================================================================\n",
      "Total params: 41\n",
      "Trainable params: 41\n",
      "Non-trainable params: 0\n",
      "_________________________________________________________________\n"
     ]
    }
   ],
   "source": [
    "model = Sequential()\n",
    "num_neurons = 10\n",
    "model.add(Dense(num_neurons, input_dim=2))\n",
    "model.add(Activation('tanh'))\n",
    "model.add(Dense(1))\n",
    "model.add(Activation('sigmoid'))\n",
    "model.summary()"
   ]
  },
  {
   "cell_type": "markdown",
   "metadata": {},
   "source": [
    "Ở trên, phương thức `summary` trả về thống kê mô hình của ta. <br/>\n",
    "`Sequential`: khởi tạo đây là 1 mạng neural tuần tự <br/>\n",
    "`add Dense`: thêm lớp fully connected layer <br/>\n",
    "`add Activation`: thêm hàm kích hoạt <br/>\n",
    "Với mô hình trên, mạng chúng ta thiết lập gồm 2 layer: <br/>\n",
    "* 1 lớp input đầu vào với 2 tham số (Không được tính là 1 layer của mạng) <br/>\n",
    "* 1 lớp ẩn với 10 tham số, hàm kích hoạt là tanh (dense_1) <br/>\n",
    "* 1 lớp output với hàm kích hoạt là sigmoid (dense_2) <br/>\n",
    "\n",
    "\n",
    "Nếu đầu ra mà nhỏ hơn 0.5 ta sẽ trả về 0, lớn hơn 0.5 trả về 1. Đây là bài toán phân lớp nhị phân. <br/>\n",
    "* Số tham số ở cặp (input, dense_1) là 30 vì đầu input là 2 + bias = 3. Lớp dense_1 có 10 node. --> số tham số là 3*10 = 30 <br/>\n",
    "* Số tham số ở ở cặp (dense_1, desen_2) là 11 vì desent_1 có 10 node + bias = 11. Dense_2 có 1 node --> số tham số là 11*1 = 11 <br/>"
   ]
  },
  {
   "cell_type": "markdown",
   "metadata": {},
   "source": [
    "Tiếp theo, chúng ta gọi hàm loss là hàm cross_entropy (tốt cho phân lớp nhị phân), và sử dụng SGD để tối ưu, gọi metric là accuracy để có thể hiển thị kết quả đánh giá mô hình qua từng epoch khi train."
   ]
  },
  {
   "cell_type": "code",
   "execution_count": 4,
   "metadata": {},
   "outputs": [],
   "source": [
    "sgd = SGD(lr=0.1)\n",
    "model.compile(loss='binary_crossentropy', optimizer=sgd, metrics=['accuracy'])"
   ]
  },
  {
   "cell_type": "markdown",
   "metadata": {},
   "source": [
    "Nếu chưa train mà dự đoán ta được kết quả sau:"
   ]
  },
  {
   "cell_type": "code",
   "execution_count": 5,
   "metadata": {
    "scrolled": false
   },
   "outputs": [
    {
     "data": {
      "text/plain": [
       "array([[0.5      ],\n",
       "       [0.5791017],\n",
       "       [0.5736111],\n",
       "       [0.641612 ]], dtype=float32)"
      ]
     },
     "execution_count": 5,
     "metadata": {},
     "output_type": "execute_result"
    }
   ],
   "source": [
    "model.predict(x_train)"
   ]
  },
  {
   "cell_type": "markdown",
   "metadata": {},
   "source": [
    "Theo kết quả này thì output sẽ sai.<br/>\n",
    "Ta train mô hình với 200 epochs như sau:"
   ]
  },
  {
   "cell_type": "code",
   "execution_count": 6,
   "metadata": {
    "scrolled": false
   },
   "outputs": [
    {
     "name": "stdout",
     "output_type": "stream",
     "text": [
      "Epoch 1/200\n",
      "4/4 [==============================] - 0s 17ms/step - loss: 0.7053 - accuracy: 0.7500\n",
      "Epoch 2/200\n",
      "4/4 [==============================] - 0s 1ms/step - loss: 0.7029 - accuracy: 0.7500\n",
      "Epoch 3/200\n",
      "4/4 [==============================] - 0s 1ms/step - loss: 0.7008 - accuracy: 0.7500\n",
      "Epoch 4/200\n",
      "4/4 [==============================] - 0s 1ms/step - loss: 0.6990 - accuracy: 0.7500\n",
      "Epoch 5/200\n",
      "4/4 [==============================] - 0s 1ms/step - loss: 0.6975 - accuracy: 0.7500\n",
      "Epoch 6/200\n",
      "4/4 [==============================] - 0s 1ms/step - loss: 0.6962 - accuracy: 0.7500\n",
      "Epoch 7/200\n",
      "4/4 [==============================] - 0s 1ms/step - loss: 0.6951 - accuracy: 0.7500\n",
      "Epoch 8/200\n",
      "4/4 [==============================] - 0s 1ms/step - loss: 0.6941 - accuracy: 0.7500\n",
      "Epoch 9/200\n",
      "4/4 [==============================] - 0s 1ms/step - loss: 0.6932 - accuracy: 0.7500\n",
      "Epoch 10/200\n",
      "4/4 [==============================] - 0s 1ms/step - loss: 0.6924 - accuracy: 0.7500\n",
      "Epoch 11/200\n",
      "4/4 [==============================] - 0s 1ms/step - loss: 0.6917 - accuracy: 0.7500\n",
      "Epoch 12/200\n",
      "4/4 [==============================] - 0s 1ms/step - loss: 0.6910 - accuracy: 0.7500\n",
      "Epoch 13/200\n",
      "4/4 [==============================] - 0s 1ms/step - loss: 0.6904 - accuracy: 0.7500\n",
      "Epoch 14/200\n",
      "4/4 [==============================] - 0s 748us/step - loss: 0.6899 - accuracy: 0.7500\n",
      "Epoch 15/200\n",
      "4/4 [==============================] - 0s 995us/step - loss: 0.6893 - accuracy: 0.7500\n",
      "Epoch 16/200\n",
      "4/4 [==============================] - 0s 997us/step - loss: 0.6888 - accuracy: 0.7500\n",
      "Epoch 17/200\n",
      "4/4 [==============================] - 0s 998us/step - loss: 0.6883 - accuracy: 0.7500\n",
      "Epoch 18/200\n",
      "4/4 [==============================] - 0s 992us/step - loss: 0.6879 - accuracy: 0.7500\n",
      "Epoch 19/200\n",
      "4/4 [==============================] - 0s 748us/step - loss: 0.6874 - accuracy: 0.7500\n",
      "Epoch 20/200\n",
      "4/4 [==============================] - 0s 985us/step - loss: 0.6870 - accuracy: 0.7500\n",
      "Epoch 21/200\n",
      "4/4 [==============================] - 0s 1ms/step - loss: 0.6866 - accuracy: 0.7500\n",
      "Epoch 22/200\n",
      "4/4 [==============================] - 0s 1ms/step - loss: 0.6861 - accuracy: 0.7500\n",
      "Epoch 23/200\n",
      "4/4 [==============================] - 0s 1ms/step - loss: 0.6857 - accuracy: 0.7500\n",
      "Epoch 24/200\n",
      "4/4 [==============================] - 0s 999us/step - loss: 0.6853 - accuracy: 0.7500\n",
      "Epoch 25/200\n",
      "4/4 [==============================] - 0s 996us/step - loss: 0.6849 - accuracy: 0.7500\n",
      "Epoch 26/200\n",
      "4/4 [==============================] - 0s 996us/step - loss: 0.6845 - accuracy: 0.7500\n",
      "Epoch 27/200\n",
      "4/4 [==============================] - 0s 992us/step - loss: 0.6841 - accuracy: 0.7500\n",
      "Epoch 28/200\n",
      "4/4 [==============================] - 0s 1ms/step - loss: 0.6837 - accuracy: 0.7500\n",
      "Epoch 29/200\n",
      "4/4 [==============================] - 0s 1ms/step - loss: 0.6833 - accuracy: 0.7500\n",
      "Epoch 30/200\n",
      "4/4 [==============================] - 0s 1ms/step - loss: 0.6829 - accuracy: 0.7500\n",
      "Epoch 31/200\n",
      "4/4 [==============================] - 0s 1ms/step - loss: 0.6825 - accuracy: 0.7500\n",
      "Epoch 32/200\n",
      "4/4 [==============================] - 0s 1ms/step - loss: 0.6821 - accuracy: 0.7500\n",
      "Epoch 33/200\n",
      "4/4 [==============================] - 0s 1ms/step - loss: 0.6816 - accuracy: 0.7500\n",
      "Epoch 34/200\n",
      "4/4 [==============================] - 0s 1ms/step - loss: 0.6812 - accuracy: 0.7500\n",
      "Epoch 35/200\n",
      "4/4 [==============================] - 0s 997us/step - loss: 0.6808 - accuracy: 0.7500\n",
      "Epoch 36/200\n",
      "4/4 [==============================] - 0s 997us/step - loss: 0.6804 - accuracy: 0.7500\n",
      "Epoch 37/200\n",
      "4/4 [==============================] - 0s 997us/step - loss: 0.6800 - accuracy: 0.7500\n",
      "Epoch 38/200\n",
      "4/4 [==============================] - 0s 1ms/step - loss: 0.6796 - accuracy: 0.7500\n",
      "Epoch 39/200\n",
      "4/4 [==============================] - 0s 744us/step - loss: 0.6792 - accuracy: 0.7500\n",
      "Epoch 40/200\n",
      "4/4 [==============================] - 0s 1ms/step - loss: 0.6787 - accuracy: 0.7500\n",
      "Epoch 41/200\n",
      "4/4 [==============================] - 0s 995us/step - loss: 0.6783 - accuracy: 0.7500\n",
      "Epoch 42/200\n",
      "4/4 [==============================] - 0s 1ms/step - loss: 0.6779 - accuracy: 0.7500\n",
      "Epoch 43/200\n",
      "4/4 [==============================] - 0s 997us/step - loss: 0.6775 - accuracy: 0.7500\n",
      "Epoch 44/200\n",
      "4/4 [==============================] - 0s 1ms/step - loss: 0.6770 - accuracy: 0.7500\n",
      "Epoch 45/200\n",
      "4/4 [==============================] - 0s 1ms/step - loss: 0.6766 - accuracy: 0.7500\n",
      "Epoch 46/200\n",
      "4/4 [==============================] - 0s 994us/step - loss: 0.6762 - accuracy: 0.7500\n",
      "Epoch 47/200\n",
      "4/4 [==============================] - 0s 999us/step - loss: 0.6757 - accuracy: 0.7500\n",
      "Epoch 48/200\n",
      "4/4 [==============================] - 0s 746us/step - loss: 0.6753 - accuracy: 0.7500\n",
      "Epoch 49/200\n",
      "4/4 [==============================] - 0s 1ms/step - loss: 0.6749 - accuracy: 0.7500\n",
      "Epoch 50/200\n",
      "4/4 [==============================] - 0s 998us/step - loss: 0.6744 - accuracy: 0.7500\n",
      "Epoch 51/200\n",
      "4/4 [==============================] - 0s 1ms/step - loss: 0.6740 - accuracy: 0.7500\n",
      "Epoch 52/200\n",
      "4/4 [==============================] - 0s 748us/step - loss: 0.6735 - accuracy: 0.7500\n",
      "Epoch 53/200\n",
      "4/4 [==============================] - 0s 1ms/step - loss: 0.6731 - accuracy: 0.7500\n",
      "Epoch 54/200\n",
      "4/4 [==============================] - 0s 997us/step - loss: 0.6726 - accuracy: 0.7500\n",
      "Epoch 55/200\n",
      "4/4 [==============================] - 0s 1ms/step - loss: 0.6722 - accuracy: 0.7500\n",
      "Epoch 56/200\n",
      "4/4 [==============================] - 0s 1ms/step - loss: 0.6717 - accuracy: 0.7500\n",
      "Epoch 57/200\n",
      "4/4 [==============================] - 0s 997us/step - loss: 0.6713 - accuracy: 0.7500\n",
      "Epoch 58/200\n",
      "4/4 [==============================] - 0s 1ms/step - loss: 0.6708 - accuracy: 0.7500\n",
      "Epoch 59/200\n",
      "4/4 [==============================] - 0s 998us/step - loss: 0.6703 - accuracy: 0.7500\n",
      "Epoch 60/200\n",
      "4/4 [==============================] - 0s 1ms/step - loss: 0.6699 - accuracy: 0.7500\n",
      "Epoch 61/200\n",
      "4/4 [==============================] - 0s 997us/step - loss: 0.6694 - accuracy: 0.7500\n",
      "Epoch 62/200\n",
      "4/4 [==============================] - 0s 2ms/step - loss: 0.6689 - accuracy: 0.7500\n",
      "Epoch 63/200\n",
      "4/4 [==============================] - 0s 995us/step - loss: 0.6685 - accuracy: 0.7500\n",
      "Epoch 64/200\n",
      "4/4 [==============================] - 0s 1ms/step - loss: 0.6680 - accuracy: 0.7500\n",
      "Epoch 65/200\n",
      "4/4 [==============================] - 0s 1ms/step - loss: 0.6675 - accuracy: 0.7500\n",
      "Epoch 66/200\n",
      "4/4 [==============================] - 0s 1ms/step - loss: 0.6670 - accuracy: 0.7500\n",
      "Epoch 67/200\n",
      "4/4 [==============================] - 0s 998us/step - loss: 0.6665 - accuracy: 0.7500\n",
      "Epoch 68/200\n",
      "4/4 [==============================] - 0s 748us/step - loss: 0.6660 - accuracy: 0.7500\n",
      "Epoch 69/200\n",
      "4/4 [==============================] - 0s 998us/step - loss: 0.6655 - accuracy: 0.7500\n",
      "Epoch 70/200\n",
      "4/4 [==============================] - 0s 1ms/step - loss: 0.6650 - accuracy: 0.7500\n",
      "Epoch 71/200\n",
      "4/4 [==============================] - 0s 747us/step - loss: 0.6646 - accuracy: 0.7500\n",
      "Epoch 72/200\n",
      "4/4 [==============================] - 0s 1ms/step - loss: 0.6641 - accuracy: 0.7500\n",
      "Epoch 73/200\n",
      "4/4 [==============================] - 0s 997us/step - loss: 0.6635 - accuracy: 0.7500\n",
      "Epoch 74/200\n",
      "4/4 [==============================] - 0s 1ms/step - loss: 0.6630 - accuracy: 0.7500\n",
      "Epoch 75/200\n",
      "4/4 [==============================] - 0s 997us/step - loss: 0.6625 - accuracy: 0.7500\n",
      "Epoch 76/200\n",
      "4/4 [==============================] - 0s 1ms/step - loss: 0.6620 - accuracy: 0.7500\n",
      "Epoch 77/200\n",
      "4/4 [==============================] - 0s 993us/step - loss: 0.6615 - accuracy: 0.7500\n",
      "Epoch 78/200\n",
      "4/4 [==============================] - 0s 1ms/step - loss: 0.6610 - accuracy: 0.7500\n",
      "Epoch 79/200\n",
      "4/4 [==============================] - 0s 997us/step - loss: 0.6605 - accuracy: 0.7500\n",
      "Epoch 80/200\n",
      "4/4 [==============================] - 0s 1ms/step - loss: 0.6599 - accuracy: 0.7500\n",
      "Epoch 81/200\n",
      "4/4 [==============================] - 0s 1ms/step - loss: 0.6594 - accuracy: 0.7500\n",
      "Epoch 82/200\n",
      "4/4 [==============================] - 0s 1ms/step - loss: 0.6589 - accuracy: 0.7500\n",
      "Epoch 83/200\n",
      "4/4 [==============================] - 0s 1ms/step - loss: 0.6583 - accuracy: 0.7500\n"
     ]
    },
    {
     "name": "stdout",
     "output_type": "stream",
     "text": [
      "Epoch 84/200\n",
      "4/4 [==============================] - 0s 747us/step - loss: 0.6578 - accuracy: 0.7500\n",
      "Epoch 85/200\n",
      "4/4 [==============================] - 0s 2ms/step - loss: 0.6572 - accuracy: 0.7500\n",
      "Epoch 86/200\n",
      "4/4 [==============================] - 0s 1ms/step - loss: 0.6567 - accuracy: 0.7500\n",
      "Epoch 87/200\n",
      "4/4 [==============================] - 0s 2ms/step - loss: 0.6561 - accuracy: 0.7500\n",
      "Epoch 88/200\n",
      "4/4 [==============================] - 0s 998us/step - loss: 0.6556 - accuracy: 0.7500\n",
      "Epoch 89/200\n",
      "4/4 [==============================] - 0s 754us/step - loss: 0.6550 - accuracy: 0.7500\n",
      "Epoch 90/200\n",
      "4/4 [==============================] - 0s 1ms/step - loss: 0.6545 - accuracy: 0.7500\n",
      "Epoch 91/200\n",
      "4/4 [==============================] - 0s 1ms/step - loss: 0.6539 - accuracy: 0.7500\n",
      "Epoch 92/200\n",
      "4/4 [==============================] - 0s 1ms/step - loss: 0.6533 - accuracy: 0.7500\n",
      "Epoch 93/200\n",
      "4/4 [==============================] - 0s 1ms/step - loss: 0.6527 - accuracy: 0.7500\n",
      "Epoch 94/200\n",
      "4/4 [==============================] - 0s 1ms/step - loss: 0.6522 - accuracy: 0.7500\n",
      "Epoch 95/200\n",
      "4/4 [==============================] - 0s 998us/step - loss: 0.6516 - accuracy: 0.7500\n",
      "Epoch 96/200\n",
      "4/4 [==============================] - 0s 995us/step - loss: 0.6510 - accuracy: 0.7500\n",
      "Epoch 97/200\n",
      "4/4 [==============================] - 0s 996us/step - loss: 0.6504 - accuracy: 0.7500\n",
      "Epoch 98/200\n",
      "4/4 [==============================] - 0s 996us/step - loss: 0.6498 - accuracy: 0.7500\n",
      "Epoch 99/200\n",
      "4/4 [==============================] - 0s 989us/step - loss: 0.6492 - accuracy: 0.7500\n",
      "Epoch 100/200\n",
      "4/4 [==============================] - 0s 1ms/step - loss: 0.6486 - accuracy: 0.7500\n",
      "Epoch 101/200\n",
      "4/4 [==============================] - 0s 996us/step - loss: 0.6480 - accuracy: 0.7500\n",
      "Epoch 102/200\n",
      "4/4 [==============================] - 0s 997us/step - loss: 0.6474 - accuracy: 0.7500\n",
      "Epoch 103/200\n",
      "4/4 [==============================] - 0s 997us/step - loss: 0.6468 - accuracy: 0.7500\n",
      "Epoch 104/200\n",
      "4/4 [==============================] - 0s 748us/step - loss: 0.6462 - accuracy: 0.7500\n",
      "Epoch 105/200\n",
      "4/4 [==============================] - 0s 997us/step - loss: 0.6455 - accuracy: 0.7500\n",
      "Epoch 106/200\n",
      "4/4 [==============================] - 0s 996us/step - loss: 0.6449 - accuracy: 0.7500\n",
      "Epoch 107/200\n",
      "4/4 [==============================] - 0s 995us/step - loss: 0.6443 - accuracy: 0.7500\n",
      "Epoch 108/200\n",
      "4/4 [==============================] - 0s 748us/step - loss: 0.6436 - accuracy: 0.7500\n",
      "Epoch 109/200\n",
      "4/4 [==============================] - 0s 996us/step - loss: 0.6430 - accuracy: 0.7500\n",
      "Epoch 110/200\n",
      "4/4 [==============================] - 0s 1ms/step - loss: 0.6423 - accuracy: 0.7500\n",
      "Epoch 111/200\n",
      "4/4 [==============================] - 0s 748us/step - loss: 0.6417 - accuracy: 0.7500\n",
      "Epoch 112/200\n",
      "4/4 [==============================] - 0s 997us/step - loss: 0.6410 - accuracy: 0.7500\n",
      "Epoch 113/200\n",
      "4/4 [==============================] - 0s 748us/step - loss: 0.6404 - accuracy: 0.7500\n",
      "Epoch 114/200\n",
      "4/4 [==============================] - 0s 748us/step - loss: 0.6397 - accuracy: 0.7500\n",
      "Epoch 115/200\n",
      "4/4 [==============================] - 0s 1ms/step - loss: 0.6390 - accuracy: 0.7500\n",
      "Epoch 116/200\n",
      "4/4 [==============================] - 0s 997us/step - loss: 0.6383 - accuracy: 0.7500\n",
      "Epoch 117/200\n",
      "4/4 [==============================] - 0s 1ms/step - loss: 0.6377 - accuracy: 0.7500\n",
      "Epoch 118/200\n",
      "4/4 [==============================] - 0s 999us/step - loss: 0.6370 - accuracy: 0.7500\n",
      "Epoch 119/200\n",
      "4/4 [==============================] - 0s 747us/step - loss: 0.6363 - accuracy: 0.7500\n",
      "Epoch 120/200\n",
      "4/4 [==============================] - 0s 750us/step - loss: 0.6356 - accuracy: 0.7500\n",
      "Epoch 121/200\n",
      "4/4 [==============================] - 0s 1ms/step - loss: 0.6349 - accuracy: 0.7500\n",
      "Epoch 122/200\n",
      "4/4 [==============================] - 0s 1ms/step - loss: 0.6342 - accuracy: 0.7500\n",
      "Epoch 123/200\n",
      "4/4 [==============================] - 0s 1ms/step - loss: 0.6335 - accuracy: 0.7500\n",
      "Epoch 124/200\n",
      "4/4 [==============================] - 0s 997us/step - loss: 0.6327 - accuracy: 0.7500\n",
      "Epoch 125/200\n",
      "4/4 [==============================] - 0s 753us/step - loss: 0.6320 - accuracy: 0.7500\n",
      "Epoch 126/200\n",
      "4/4 [==============================] - 0s 997us/step - loss: 0.6313 - accuracy: 0.7500\n",
      "Epoch 127/200\n",
      "4/4 [==============================] - 0s 1ms/step - loss: 0.6306 - accuracy: 0.7500\n",
      "Epoch 128/200\n",
      "4/4 [==============================] - 0s 1ms/step - loss: 0.6298 - accuracy: 0.7500\n",
      "Epoch 129/200\n",
      "4/4 [==============================] - 0s 1ms/step - loss: 0.6291 - accuracy: 0.7500\n",
      "Epoch 130/200\n",
      "4/4 [==============================] - 0s 994us/step - loss: 0.6283 - accuracy: 0.7500\n",
      "Epoch 131/200\n",
      "4/4 [==============================] - 0s 1ms/step - loss: 0.6276 - accuracy: 0.7500\n",
      "Epoch 132/200\n",
      "4/4 [==============================] - 0s 997us/step - loss: 0.6268 - accuracy: 0.7500\n",
      "Epoch 133/200\n",
      "4/4 [==============================] - 0s 1ms/step - loss: 0.6260 - accuracy: 0.7500\n",
      "Epoch 134/200\n",
      "4/4 [==============================] - 0s 1ms/step - loss: 0.6253 - accuracy: 0.7500\n",
      "Epoch 135/200\n",
      "4/4 [==============================] - 0s 997us/step - loss: 0.6245 - accuracy: 0.7500\n",
      "Epoch 136/200\n",
      "4/4 [==============================] - 0s 748us/step - loss: 0.6237 - accuracy: 0.7500\n",
      "Epoch 137/200\n",
      "4/4 [==============================] - 0s 997us/step - loss: 0.6229 - accuracy: 0.7500\n",
      "Epoch 138/200\n",
      "4/4 [==============================] - 0s 996us/step - loss: 0.6221 - accuracy: 0.7500\n",
      "Epoch 139/200\n",
      "4/4 [==============================] - 0s 997us/step - loss: 0.6213 - accuracy: 0.7500\n",
      "Epoch 140/200\n",
      "4/4 [==============================] - 0s 1ms/step - loss: 0.6205 - accuracy: 0.7500\n",
      "Epoch 141/200\n",
      "4/4 [==============================] - 0s 1ms/step - loss: 0.6197 - accuracy: 0.7500\n",
      "Epoch 142/200\n",
      "4/4 [==============================] - 0s 1ms/step - loss: 0.6189 - accuracy: 0.7500\n",
      "Epoch 143/200\n",
      "4/4 [==============================] - 0s 1ms/step - loss: 0.6181 - accuracy: 0.7500\n",
      "Epoch 144/200\n",
      "4/4 [==============================] - 0s 1ms/step - loss: 0.6172 - accuracy: 0.7500\n",
      "Epoch 145/200\n",
      "4/4 [==============================] - 0s 997us/step - loss: 0.6164 - accuracy: 0.7500\n",
      "Epoch 146/200\n",
      "4/4 [==============================] - 0s 1ms/step - loss: 0.6156 - accuracy: 0.7500\n",
      "Epoch 147/200\n",
      "4/4 [==============================] - 0s 752us/step - loss: 0.6147 - accuracy: 0.7500\n",
      "Epoch 148/200\n",
      "4/4 [==============================] - 0s 1ms/step - loss: 0.6139 - accuracy: 0.7500\n",
      "Epoch 149/200\n",
      "4/4 [==============================] - 0s 1ms/step - loss: 0.6130 - accuracy: 0.7500\n",
      "Epoch 150/200\n",
      "4/4 [==============================] - 0s 997us/step - loss: 0.6121 - accuracy: 0.7500\n",
      "Epoch 151/200\n",
      "4/4 [==============================] - 0s 997us/step - loss: 0.6113 - accuracy: 0.7500\n",
      "Epoch 152/200\n",
      "4/4 [==============================] - 0s 1ms/step - loss: 0.6104 - accuracy: 0.7500\n",
      "Epoch 153/200\n",
      "4/4 [==============================] - 0s 1ms/step - loss: 0.6095 - accuracy: 0.7500\n",
      "Epoch 154/200\n",
      "4/4 [==============================] - 0s 1ms/step - loss: 0.6086 - accuracy: 0.7500\n",
      "Epoch 155/200\n",
      "4/4 [==============================] - 0s 748us/step - loss: 0.6077 - accuracy: 0.7500\n",
      "Epoch 156/200\n",
      "4/4 [==============================] - 0s 997us/step - loss: 0.6068 - accuracy: 0.7500\n",
      "Epoch 157/200\n",
      "4/4 [==============================] - 0s 997us/step - loss: 0.6059 - accuracy: 0.7500\n",
      "Epoch 158/200\n",
      "4/4 [==============================] - 0s 748us/step - loss: 0.6050 - accuracy: 0.7500\n",
      "Epoch 159/200\n",
      "4/4 [==============================] - 0s 1ms/step - loss: 0.6041 - accuracy: 0.7500\n",
      "Epoch 160/200\n",
      "4/4 [==============================] - 0s 1ms/step - loss: 0.6032 - accuracy: 0.7500\n",
      "Epoch 161/200\n",
      "4/4 [==============================] - 0s 1ms/step - loss: 0.6022 - accuracy: 0.7500\n",
      "Epoch 162/200\n",
      "4/4 [==============================] - 0s 997us/step - loss: 0.6013 - accuracy: 0.7500\n",
      "Epoch 163/200\n",
      "4/4 [==============================] - 0s 990us/step - loss: 0.6003 - accuracy: 0.7500\n",
      "Epoch 164/200\n",
      "4/4 [==============================] - 0s 993us/step - loss: 0.5994 - accuracy: 0.7500\n",
      "Epoch 165/200\n",
      "4/4 [==============================] - 0s 1ms/step - loss: 0.5984 - accuracy: 0.7500\n"
     ]
    },
    {
     "name": "stdout",
     "output_type": "stream",
     "text": [
      "Epoch 166/200\n",
      "4/4 [==============================] - 0s 997us/step - loss: 0.5975 - accuracy: 0.7500\n",
      "Epoch 167/200\n",
      "4/4 [==============================] - 0s 1ms/step - loss: 0.5965 - accuracy: 0.7500\n",
      "Epoch 168/200\n",
      "4/4 [==============================] - 0s 1ms/step - loss: 0.5955 - accuracy: 0.7500\n",
      "Epoch 169/200\n",
      "4/4 [==============================] - 0s 748us/step - loss: 0.5945 - accuracy: 0.7500\n",
      "Epoch 170/200\n",
      "4/4 [==============================] - 0s 1ms/step - loss: 0.5936 - accuracy: 0.7500\n",
      "Epoch 171/200\n",
      "4/4 [==============================] - 0s 1ms/step - loss: 0.5926 - accuracy: 0.7500\n",
      "Epoch 172/200\n",
      "4/4 [==============================] - 0s 755us/step - loss: 0.5916 - accuracy: 0.7500\n",
      "Epoch 173/200\n",
      "4/4 [==============================] - 0s 1ms/step - loss: 0.5906 - accuracy: 0.7500\n",
      "Epoch 174/200\n",
      "4/4 [==============================] - 0s 1ms/step - loss: 0.5895 - accuracy: 0.7500\n",
      "Epoch 175/200\n",
      "4/4 [==============================] - 0s 1ms/step - loss: 0.5885 - accuracy: 0.7500\n",
      "Epoch 176/200\n",
      "4/4 [==============================] - 0s 1ms/step - loss: 0.5875 - accuracy: 0.7500\n",
      "Epoch 177/200\n",
      "4/4 [==============================] - 0s 748us/step - loss: 0.5865 - accuracy: 0.7500\n",
      "Epoch 178/200\n",
      "4/4 [==============================] - 0s 748us/step - loss: 0.5854 - accuracy: 0.7500\n",
      "Epoch 179/200\n",
      "4/4 [==============================] - 0s 747us/step - loss: 0.5844 - accuracy: 0.7500\n",
      "Epoch 180/200\n",
      "4/4 [==============================] - 0s 1ms/step - loss: 0.5834 - accuracy: 0.7500\n",
      "Epoch 181/200\n",
      "4/4 [==============================] - 0s 997us/step - loss: 0.5823 - accuracy: 0.7500\n",
      "Epoch 182/200\n",
      "4/4 [==============================] - 0s 1ms/step - loss: 0.5812 - accuracy: 0.7500\n",
      "Epoch 183/200\n",
      "4/4 [==============================] - 0s 998us/step - loss: 0.5802 - accuracy: 0.7500\n",
      "Epoch 184/200\n",
      "4/4 [==============================] - 0s 749us/step - loss: 0.5791 - accuracy: 0.7500\n",
      "Epoch 185/200\n",
      "4/4 [==============================] - 0s 998us/step - loss: 0.5780 - accuracy: 0.7500\n",
      "Epoch 186/200\n",
      "4/4 [==============================] - 0s 748us/step - loss: 0.5769 - accuracy: 0.7500\n",
      "Epoch 187/200\n",
      "4/4 [==============================] - 0s 1ms/step - loss: 0.5758 - accuracy: 0.7500\n",
      "Epoch 188/200\n",
      "4/4 [==============================] - 0s 1ms/step - loss: 0.5748 - accuracy: 0.7500\n",
      "Epoch 189/200\n",
      "4/4 [==============================] - 0s 1ms/step - loss: 0.5737 - accuracy: 0.7500\n",
      "Epoch 190/200\n",
      "4/4 [==============================] - 0s 749us/step - loss: 0.5725 - accuracy: 0.7500\n",
      "Epoch 191/200\n",
      "4/4 [==============================] - 0s 996us/step - loss: 0.5714 - accuracy: 1.0000\n",
      "Epoch 192/200\n",
      "4/4 [==============================] - 0s 997us/step - loss: 0.5703 - accuracy: 1.0000\n",
      "Epoch 193/200\n",
      "4/4 [==============================] - 0s 992us/step - loss: 0.5692 - accuracy: 1.0000\n",
      "Epoch 194/200\n",
      "4/4 [==============================] - 0s 1ms/step - loss: 0.5681 - accuracy: 1.0000\n",
      "Epoch 195/200\n",
      "4/4 [==============================] - 0s 2ms/step - loss: 0.5669 - accuracy: 1.0000\n",
      "Epoch 196/200\n",
      "4/4 [==============================] - 0s 1ms/step - loss: 0.5658 - accuracy: 1.0000\n",
      "Epoch 197/200\n",
      "4/4 [==============================] - 0s 1ms/step - loss: 0.5646 - accuracy: 1.0000\n",
      "Epoch 198/200\n",
      "4/4 [==============================] - 0s 1ms/step - loss: 0.5635 - accuracy: 1.0000\n",
      "Epoch 199/200\n",
      "4/4 [==============================] - 0s 997us/step - loss: 0.5623 - accuracy: 1.0000\n",
      "Epoch 200/200\n",
      "4/4 [==============================] - 0s 1ms/step - loss: 0.5612 - accuracy: 1.0000\n"
     ]
    },
    {
     "data": {
      "text/plain": [
       "<keras.callbacks.callbacks.History at 0x1f109ef4a08>"
      ]
     },
     "execution_count": 6,
     "metadata": {},
     "output_type": "execute_result"
    }
   ],
   "source": [
    "model.fit(x_train, y_train, epochs=200)"
   ]
  },
  {
   "cell_type": "markdown",
   "metadata": {},
   "source": [
    "Thực hiện dự đoán:"
   ]
  },
  {
   "cell_type": "code",
   "execution_count": 7,
   "metadata": {},
   "outputs": [
    {
     "data": {
      "text/plain": [
       "array([[0.345927  ],\n",
       "       [0.5620699 ],\n",
       "       [0.57575417],\n",
       "       [0.49706164]], dtype=float32)"
      ]
     },
     "execution_count": 7,
     "metadata": {},
     "output_type": "execute_result"
    }
   ],
   "source": [
    "model.predict(x_train)"
   ]
  },
  {
   "cell_type": "code",
   "execution_count": 8,
   "metadata": {},
   "outputs": [
    {
     "data": {
      "text/plain": [
       "array([[0],\n",
       "       [1],\n",
       "       [1],\n",
       "       [0]])"
      ]
     },
     "execution_count": 8,
     "metadata": {},
     "output_type": "execute_result"
    }
   ],
   "source": [
    "model.predict_classes(x_train)"
   ]
  },
  {
   "cell_type": "markdown",
   "metadata": {},
   "source": [
    "Lưu model:"
   ]
  },
  {
   "cell_type": "code",
   "execution_count": 9,
   "metadata": {},
   "outputs": [],
   "source": [
    "import h5py\n",
    "# Xuất cấu trúc của mạng đến một JSON blob để sử dụng sau \n",
    "model_structure = model.to_json()\n",
    "with open(\"basic_mode.json\", \"w\") as json_file:\n",
    "    json_file.write(model_structure)\n",
    "# Các trọng số được đào tạo phải được lưu riêng biệt. \n",
    "# Lưu trọng số để load lại chúng chúng sau này.\n",
    "model.save_weights(\"basic_weights.h5\")"
   ]
  },
  {
   "cell_type": "markdown",
   "metadata": {},
   "source": [
    "# 3. Bài tập"
   ]
  },
  {
   "cell_type": "markdown",
   "metadata": {},
   "source": [
    "<b><u>Chú ý:</u></b> Tất cả bài tập dưới đây yêu cầu không sử dụng các thư viện hỗ trợ mạng neural, chỉ được code bằng Python thuần."
   ]
  },
  {
   "cell_type": "markdown",
   "metadata": {},
   "source": [
    "<b>Bài 1:</b> Hồi quy Logistic sử dụng mạng neural nhân tạo. (Mạng neuron không có lớp ẩn)<br/>\n",
    "Yêu cầu: Hoàn thiện code còn thiếu."
   ]
  },
  {
   "cell_type": "markdown",
   "metadata": {},
   "source": [
    "Bạn có dataset trong thư mục `./data/cat` của chương này.\n",
    "- Một tập những ảnh với nhãn là cat (y=1) và non-cat (y=0) dùng để luyện máy học\n",
    "- Một tập những ảnh với nhãn cat và non-cat dùng để kiểm tra.\n",
    "- Mỗi ảnh có kích thước (num_px, num-px, 3) với 3 là số kênh của ảnh (RGB). Các ảnh đã được clean cho chiều cao và chiều rộng bằng nhau.\n",
    "\n",
    "Bạn sẽ xây dựng một thuật toán nhận diện mèo trong ảnh có khả năng phân biệt giữa ảnh có và không có mèo."
   ]
  },
  {
   "cell_type": "code",
   "execution_count": 4,
   "metadata": {},
   "outputs": [],
   "source": [
    "import matplotlib.pyplot as plt\n",
    "import h5py\n",
    "import scipy\n",
    "from PIL import Image\n",
    "from scipy import ndimage\n",
    "import numpy as np\n",
    "\n",
    "# sets the backend of matplotlib to the 'inline' backend\n",
    "%matplotlib inline\n",
    "def load_dataset():\n",
    "    train_dataset = h5py.File('./data/cat/train_catvnoncat.h5', \"r\")\n",
    "    train_set_x_orig = np.array(train_dataset[\"train_set_x\"][:]) # your train set features\n",
    "    train_set_y_orig = np.array(train_dataset[\"train_set_y\"][:]) # your train set labels\n",
    "\n",
    "    test_dataset = h5py.File('./data/cat/test_catvnoncat.h5', \"r\")\n",
    "    test_set_x_orig = np.array(test_dataset[\"test_set_x\"][:]) # your test set features\n",
    "    test_set_y_orig = np.array(test_dataset[\"test_set_y\"][:]) # your test set labels\n",
    "\n",
    "    classes = np.array(test_dataset[\"list_classes\"][:]) # the list of classes\n",
    "    \n",
    "    train_set_y_orig = train_set_y_orig.reshape((1, train_set_y_orig.shape[0]))\n",
    "    test_set_y_orig = test_set_y_orig.reshape((1, test_set_y_orig.shape[0]))\n",
    "    \n",
    "    return train_set_x_orig, train_set_y_orig, test_set_x_orig, test_set_y_orig, classes\n",
    "# Loading the data (cat/non-cat)\n",
    "train_set_x_orig, train_set_y, test_set_x_orig, test_set_y, classes = load_dataset()"
   ]
  },
  {
   "cell_type": "markdown",
   "metadata": {},
   "source": [
    "Chú ta thêm từ \"orig\" vào cuối tên của dataset (dữ liệu train và test) vì ta sẽ tiền xử lý dữ liệu. Sau khi tiền xử lý, ta được hai bộ dữ liệu `trainset_x` và `test_set_x`.\n",
    "\n",
    "Mỗi hàng ở trong `train_set_x_orig` và `test_set_x_orig` là một mảng đại diện cho một ảnh. Bạn có thể hiển thị một ảnh ví dụ bằng cách chạy cell sau. Thay đổi giá trị biến index và chạy lại để cập nhật ảnh."
   ]
  },
  {
   "cell_type": "code",
   "execution_count": 5,
   "metadata": {},
   "outputs": [
    {
     "name": "stdout",
     "output_type": "stream",
     "text": [
      "y = [0], it's a 'non-cat' picture.\n"
     ]
    },
    {
     "data": {
      "image/png": "[encoded data removed]",
      "text/plain": [
       "<Figure size 432x288 with 1 Axes>"
      ]
     },
     "metadata": {
      "needs_background": "light"
     },
     "output_type": "display_data"
    }
   ],
   "source": [
    "# Example of a picture\n",
    "index = 28\n",
    "plt.imshow(train_set_x_orig[index])\n",
    "print (\"y = \" + str(train_set_y[:, index]) + \n",
    "       \", it's a '\" + \n",
    "       classes[np.squeeze(train_set_y[:, index])].decode(\"utf-8\") + \"' picture.\")"
   ]
  },
  {
   "cell_type": "code",
   "execution_count": 8,
   "metadata": {},
   "outputs": [
    {
     "name": "stdout",
     "output_type": "stream",
     "text": [
      "y = [1], it's a 'cat' picture.\n"
     ]
    },
    {
     "data": {
      "image/png": "[encoded data removed]",
      "text/plain": [
       "<Figure size 432x288 with 1 Axes>"
      ]
     },
     "metadata": {
      "needs_background": "light"
     },
     "output_type": "display_data"
    }
   ],
   "source": [
    "# Example of a picture\n",
    "index = 2\n",
    "plt.imshow(train_set_x_orig[index])\n",
    "print (\"y = \" + str(train_set_y[:, index]) + \n",
    "       \", it's a '\" + \n",
    "       classes[np.squeeze(train_set_y[:, index])].decode(\"utf-8\") + \"' picture.\")"
   ]
  },
  {
   "cell_type": "markdown",
   "metadata": {},
   "source": [
    "<b>a.</b> Tìm giá trị cho:\n",
    "- m_train (số mẫu trong tập train)\n",
    "- m_test (số mẫu trong tập test)\n",
    "- num_px (= chiều cao = chiều rộng của ảnh)\n",
    "\n",
    "Biết rằng train_set_x_orig là một mảng numpy với kích thước (m_train, num_px, num_px, 3)."
   ]
  },
  {
   "cell_type": "code",
   "execution_count": null,
   "metadata": {},
   "outputs": [],
   "source": [
    "### START CODE HERE ### (≈ 3 lines of code)\n",
    "m_train = None\n",
    "m_test = None\n",
    "num_px = None\n",
    "### END CODE HERE ###\n",
    "\n",
    "print (\"Number of training examples: m_train = \" + str(m_train))\n",
    "print (\"Number of testing examples: m_test = \" + str(m_test))\n",
    "print (\"Height/Width of each image: num_px = \" + str(num_px))\n",
    "print (\"Each image is of size: (\" + str(num_px) + \", \" + str(num_px) + \", 3)\")\n",
    "print (\"train_set_x shape: \" + str(train_set_x_orig.shape))\n",
    "print (\"train_set_y shape: \" + str(train_set_y.shape))\n",
    "print (\"test_set_x shape: \" + str(test_set_x_orig.shape))\n",
    "print (\"test_set_y shape: \" + str(test_set_y.shape))"
   ]
  },
  {
   "cell_type": "markdown",
   "metadata": {},
   "source": [
    "| Trường  | Kết quả |\n",
    "|---------|---------|\n",
    "|m_train  |\t     209|\n",
    "|m_test   |\t      50|\n",
    "|num_px   |       64|"
   ]
  },
  {
   "cell_type": "markdown",
   "metadata": {},
   "source": [
    "<b>b.</b> Biến dạng dữ liệu train và test sao cho mỗi ảnh có kích thước (num_px, num_px, 3) được trải phằng về một vector có kích thước (num_px $\\times$ num_px $\\times$ 3, 1)."
   ]
  },
  {
   "cell_type": "code",
   "execution_count": null,
   "metadata": {},
   "outputs": [],
   "source": [
    "### START CODE HERE ### (≈ 2 lines of code)\n",
    "train_set_x_flatten = None\n",
    "test_set_x_flatten = None\n",
    "### END CODE HERE ###\n",
    "\n",
    "print (\"train_set_x_flatten shape: \" + str(train_set_x_flatten.shape))\n",
    "print (\"train_set_y shape: \" + str(train_set_y.shape))\n",
    "print (\"test_set_x_flatten shape: \" + str(test_set_x_flatten.shape))\n",
    "print (\"test_set_y shape: \" + str(test_set_y.shape))\n",
    "print (\"sanity check after reshaping: \" + str(train_set_x_flatten[0:5,0]))"
   ]
  },
  {
   "cell_type": "markdown",
   "metadata": {},
   "source": [
    "| Trường                         |  Kết quả          |\n",
    "|--------------------------------|-------------------|\n",
    "| train_set_x_flatten.shape      | (12288, 209)      |\n",
    "| train_set_y.shape              | (1, 209)          |\n",
    "| test_set_x_flatten.shape       | (12288, 50)       |\n",
    "| test_set_y.shape               | (1, 50)           |\n",
    "| sanity check after reshaping   | [17 31 56 22 33]  |"
   ]
  },
  {
   "cell_type": "markdown",
   "metadata": {},
   "source": [
    "Để biểu diễn ảnh màu trong máy tính, 3 kênh màu đỏ, xanh lục và xanh lá cây (RGB) được sử đụng cho mỗi pixel, và mỗi pixel có giá trị là một vector gồm có 3 phần tử tương ứng, mỗi phần tử có giá trị trong khoảng từ 0 đến 255.\n",
    "\n",
    "Một ví dụ thông thường trong máy học là chuẩn hóa dữ liệu, ví dụ như lấy giá trị dữ liệu trừ đi kì vọng của dataset, sau đó chia kết quả cho độ lệch chuẩn của dataset, còn gọi là Z-score.\n",
    "\n",
    "Nhưng với dữ liệu ảnh này, một cách đơn giản và tiện hơn nhưng cũng khá hiệu quả là chia giá trị mỗi pixel cho 255 (giá trị cực đại của mỗi kênh của một pixel).\n",
    "\n",
    "Sau đây là bước chuẩn hóa dữ liệu."
   ]
  },
  {
   "cell_type": "code",
   "execution_count": null,
   "metadata": {},
   "outputs": [],
   "source": [
    "train_set_x = train_set_x_flatten/255.\n",
    "test_set_x = test_set_x_flatten/255."
   ]
  },
  {
   "cell_type": "markdown",
   "metadata": {},
   "source": [
    "Bạn sẽ xây dựng một thuật toán hồi quy Logistic sử dụng mạng neuron. Hồi quy Logistic thực ra là một mạng neuron đơn giản!<br/>\n",
    "<img src=\"./images/logistic.png\"/>"
   ]
  },
  {
   "cell_type": "markdown",
   "metadata": {},
   "source": [
    "<b>Nhắc lại:</b> Biểu thức toán học của thuật toán:<br/>\n",
    "Với mỗi mẫu $x^{(i)}$<br/>\n",
    "$$z^{(i)}=w^T.x^{(i)}+b$$\n",
    "$$y_{predict}^{(i)}=a^{(i)}=sigmoid(z^{(i)})$$\n",
    "$$L(a^{(i)},y^{(i)})=-y^{(i)}log(a^{(i)})-(1-y^{(i)})log(1-a^{(i)})$$"
   ]
  },
  {
   "cell_type": "markdown",
   "metadata": {},
   "source": [
    "Note: Hàm chi phí được tính bằng trung bình chi phí của tất cả các mẫu"
   ]
  },
  {
   "cell_type": "markdown",
   "metadata": {},
   "source": [
    "Các bước chính để xây dựng một mạng Neuron:\n",
    "\n",
    "1. Xác định kiến trúc của mô hình (số đặc trưng đầu vào, số kết quả đầu ra, số lớp trong mạng, cấu trúc của mỗi lớp, số lượng tham số, etc)\n",
    "2. Khởi tạo giá trị ban đầu cho các tham số cho mô hình\n",
    "3. Vòng lặp:\n",
    "    - Tính hàm loss (hay cost) (lan truyền thẳng)\n",
    "    - Tính gradient dựa trên giá trị hàm loss (lan truyền ngược)\n",
    "    - Cập nhật giá trị cho các tham số dựa trên gradient tính được (phương pháp hướng giảm gradient)\n",
    "    \n",
    "Bạn thường sẽ xây dựng các bước độc lập sau đó tích hợp vào chung một hàm gọi là model()."
   ]
  },
  {
   "cell_type": "markdown",
   "metadata": {},
   "source": [
    "<b>c.</b> Triển khai hàm `sigmoid()`."
   ]
  },
  {
   "cell_type": "code",
   "execution_count": null,
   "metadata": {},
   "outputs": [],
   "source": [
    "# GRADED FUNCTION: sigmoid\n",
    "\n",
    "def sigmoid(z):\n",
    "    \"\"\"\n",
    "    Compute the sigmoid of z\n",
    "\n",
    "    Arguments:\n",
    "    z -- A scalar or numpy array of any size.\n",
    "\n",
    "    Return:\n",
    "    s -- sigmoid(z)\n",
    "    \"\"\"\n",
    "\n",
    "    ### START CODE HERE ### (≈ 1 line of code)\n",
    "    s = None\n",
    "    ### END CODE HERE ###\n",
    "    \n",
    "    return s"
   ]
  },
  {
   "cell_type": "code",
   "execution_count": null,
   "metadata": {},
   "outputs": [],
   "source": [
    "print (\"sigmoid([0, 2]) = \" + str(sigmoid(np.array([0,2]))))"
   ]
  },
  {
   "cell_type": "markdown",
   "metadata": {},
   "source": [
    "Kết quả mong đợi: `sigmoid([0, 2]) = [ 0.5, 0.88079708]`"
   ]
  },
  {
   "cell_type": "markdown",
   "metadata": {},
   "source": [
    "<b>d.</b> Khởi tạo các tham số. <br/>\n",
    "Hãy khởi tạo bộ tham số w là vector với toàn giá trị 0. Nên sử dụng hàm `numpy.zeros()`. <br/>\n",
    "Với kích thước ảnh đầu vào, w sẽ có kích thước (num_px $\\times$ num_px $\\times$ 3, 1)."
   ]
  },
  {
   "cell_type": "code",
   "execution_count": null,
   "metadata": {},
   "outputs": [],
   "source": [
    "\n",
    "def initialize_with_zeros(dim):\n",
    "    \"\"\"\n",
    "    This function creates a vector of zeros of shape (dim, 1) for w and initializes b to 0.\n",
    "    \n",
    "    Argument:\n",
    "    dim -- size of the w vector we want (or number of parameters in this case)\n",
    "    \n",
    "    Returns:\n",
    "    w -- initialized vector of shape (dim, 1)\n",
    "    b -- initialized scalar (corresponds to the bias)\n",
    "    \"\"\"\n",
    "    \n",
    "    ### START CODE HERE ### (≈ 1 line of code)\n",
    "    w = None\n",
    "    b = None\n",
    "    ### END CODE HERE ###\n",
    "\n",
    "    assert(w.shape == (dim, 1))\n",
    "    assert(isinstance(b, float) or isinstance(b, int))\n",
    "    \n",
    "    return w, b"
   ]
  },
  {
   "cell_type": "code",
   "execution_count": null,
   "metadata": {},
   "outputs": [],
   "source": [
    "dim = 2\n",
    "w, b = initialize_with_zeros(dim)\n",
    "print (\"w = \" + str(w))\n",
    "print (\"b = \" + str(b))"
   ]
  },
  {
   "cell_type": "markdown",
   "metadata": {},
   "source": [
    "| Tham số | Đầu ra      |\n",
    "|---------|-------------|\n",
    "| w       |[[ 0.],[ 0.]]|\n",
    "| b       | 0           |"
   ]
  },
  {
   "cell_type": "markdown",
   "metadata": {},
   "source": [
    "<b>e.</b> Lan truyền tiến và lan truyền ngược:"
   ]
  },
  {
   "cell_type": "markdown",
   "metadata": {},
   "source": [
    "Bây giờ các tham số đã được khởi tạo, bạn có thể lan thuyền thẳng và ngược để cập nhật các tham số.\n",
    "\n",
    "Bài tập: triển khai hàm `propagate()` tính hàm chi phí và gradient của nó."
   ]
  },
  {
   "cell_type": "code",
   "execution_count": null,
   "metadata": {},
   "outputs": [],
   "source": [
    "# GRADED FUNCTION: propagate\n",
    "\n",
    "def propagate(w, b, X, Y):\n",
    "    \"\"\"\n",
    "    Implement the cost function and its gradient for the propagation explained above\n",
    "\n",
    "    Arguments:\n",
    "    w -- weights, a numpy array of size (num_px * num_px * 3, 1)\n",
    "    b -- bias, a scalar\n",
    "    X -- data of size (num_px * num_px * 3, number of examples)\n",
    "    Y -- true \"label\" vector (containing 0 if non-cat, 1 if cat) of size (1, number of examples)\n",
    "\n",
    "    Return:\n",
    "    cost -- negative log-likelihood cost for logistic regression\n",
    "    dw -- gradient of the loss with respect to w, thus same shape as w\n",
    "    db -- gradient of the loss with respect to b, thus same shape as b\n",
    "    \n",
    "    Tips:\n",
    "    - Write your code step by step for the propagation. np.log(), np.dot()\n",
    "    \"\"\"\n",
    "    \n",
    "    m = X.shape[1]\n",
    "    \n",
    "    # FORWARD PROPAGATION (FROM X TO COST)\n",
    "    ### START CODE HERE ### (≈ 2 lines of code)\n",
    "    A = None                                    # compute activation\n",
    "    cost = None                                 # compute cost\n",
    "    ### END CODE HERE ###\n",
    "    \n",
    "    # BACKWARD PROPAGATION (TO FIND GRAD)\n",
    "    ### START CODE HERE ### (≈ 2 lines of code)\n",
    "    dw = None\n",
    "    db = None\n",
    "    ### END CODE HERE ###\n",
    "\n",
    "    assert(dw.shape == w.shape)\n",
    "    assert(db.dtype == float)\n",
    "    cost = np.squeeze(cost)\n",
    "    assert(cost.shape == ())\n",
    "    \n",
    "    grads = {\"dw\": dw,\n",
    "             \"db\": db}\n",
    "    \n",
    "    return grads, cost"
   ]
  },
  {
   "cell_type": "code",
   "execution_count": null,
   "metadata": {},
   "outputs": [],
   "source": [
    "w, b, X, Y = np.array([[1.],[2.]]), 2., np.array([[1.,2.,-1.],[3.,4.,-3.2]]), np.array([[1,0,1]])\n",
    "grads, cost = propagate(w, b, X, Y)\n",
    "print (\"dw = \" + str(grads[\"dw\"]))\n",
    "print (\"db = \" + str(grads[\"db\"]))\n",
    "print (\"cost = \" + str(cost))"
   ]
  },
  {
   "cell_type": "markdown",
   "metadata": {},
   "source": [
    "| Tham số | Đầu ra                      |\n",
    "|---------|-----------------------------|\n",
    "|dw       |[[ 0.99845601] [ 2.39507239]]|\n",
    "|db       |0.00145557813678             |\n",
    "|cost     |5.801545319394553            |"
   ]
  },
  {
   "cell_type": "markdown",
   "metadata": {},
   "source": [
    "<b>f.</b> Tối ưu: sử dụng Gradient descent"
   ]
  },
  {
   "cell_type": "code",
   "execution_count": null,
   "metadata": {},
   "outputs": [],
   "source": [
    "# GRADED FUNCTION: optimize\n",
    "\n",
    "def optimize(w, b, X, Y, num_iterations, learning_rate, print_cost = False):\n",
    "    \"\"\"\n",
    "    This function optimizes w and b by running a gradient descent algorithm\n",
    "    \n",
    "    Arguments:\n",
    "    w -- weights, a numpy array of size (num_px * num_px * 3, 1)\n",
    "    b -- bias, a scalar\n",
    "    X -- data of shape (num_px * num_px * 3, number of examples)\n",
    "    Y -- true \"label\" vector (containing 0 if non-cat, 1 if cat), of shape (1, number of examples)\n",
    "    num_iterations -- number of iterations of the optimization loop\n",
    "    learning_rate -- learning rate of the gradient descent update rule\n",
    "    print_cost -- True to print the loss every 100 steps\n",
    "    \n",
    "    Returns:\n",
    "    params -- dictionary containing the weights w and bias b\n",
    "    grads -- dictionary containing the gradients of the weights and bias with respect to the cost function\n",
    "    costs -- list of all the costs computed during the optimization, this will be used to plot the learning curve.\n",
    "    \n",
    "    Tips:\n",
    "    You basically need to write down two steps and iterate through them:\n",
    "        1) Calculate the cost and the gradient for the current parameters. Use propagate().\n",
    "        2) Update the parameters using gradient descent rule for w and b.\n",
    "    \"\"\"\n",
    "    \n",
    "    costs = []\n",
    "    \n",
    "    for i in range(num_iterations):\n",
    "        \n",
    "        \n",
    "        # Cost and gradient calculation (≈ 1-4 lines of code)\n",
    "        ### START CODE HERE ### \n",
    "        grads, cost = None\n",
    "        ### END CODE HERE ###\n",
    "        \n",
    "        # Retrieve derivatives from grads\n",
    "        dw = grads[\"dw\"]\n",
    "        db = grads[\"db\"]\n",
    "        \n",
    "        # update rule (≈ 2 lines of code)\n",
    "        ### START CODE HERE ###\n",
    "        w = None\n",
    "        b = None\n",
    "        ### END CODE HERE ###\n",
    "        \n",
    "        # Record the costs\n",
    "        if i % 100 == 0:\n",
    "            costs.append(cost)\n",
    "        \n",
    "        # Print the cost every 100 training iterations\n",
    "        if print_cost and i % 100 == 0:\n",
    "            print (\"Cost after iteration %i: %f\" %(i, cost))\n",
    "    \n",
    "    params = {\"w\": w,\n",
    "              \"b\": b}\n",
    "    \n",
    "    grads = {\"dw\": dw,\n",
    "             \"db\": db}\n",
    "    \n",
    "    return params, grads, costs"
   ]
  },
  {
   "cell_type": "code",
   "execution_count": null,
   "metadata": {},
   "outputs": [],
   "source": [
    "params, grads, costs = optimize(w, b, X, Y, num_iterations= 100, learning_rate = 0.009, print_cost = False)\n",
    "\n",
    "print (\"w = \" + str(params[\"w\"]))\n",
    "print (\"b = \" + str(params[\"b\"]))\n",
    "print (\"dw = \" + str(grads[\"dw\"]))\n",
    "print (\"db = \" + str(grads[\"db\"]))"
   ]
  },
  {
   "cell_type": "markdown",
   "metadata": {},
   "source": [
    "| Tham số | Đầu ra                       |\n",
    "|---------|------------------------------|\n",
    "|w        |[[ 0.19033591] [ 0.12259159]] |\n",
    "|b        |1.92535983008                 |\n",
    "|dw       |[[ 0.67752042] [ 1.41625495]] |\n",
    "|db       |0.219194504541                |"
   ]
  },
  {
   "cell_type": "markdown",
   "metadata": {},
   "source": [
    "<b>g.</b> Dự đoán kết quả:"
   ]
  },
  {
   "cell_type": "code",
   "execution_count": null,
   "metadata": {},
   "outputs": [],
   "source": [
    "# GRADED FUNCTION: predict\n",
    "\n",
    "def predict(w, b, X):\n",
    "    '''\n",
    "    Predict whether the label is 0 or 1 using learned logistic regression parameters (w, b)\n",
    "    \n",
    "    Arguments:\n",
    "    w -- weights, a numpy array of size (num_px * num_px * 3, 1)\n",
    "    b -- bias, a scalar\n",
    "    X -- data of size (num_px * num_px * 3, number of examples)\n",
    "    \n",
    "    Returns:\n",
    "    Y_prediction -- a numpy array (vector) containing all predictions (0/1) for the examples in X\n",
    "    '''\n",
    "    \n",
    "    m = X.shape[1]\n",
    "    Y_prediction = np.zeros((1,m))\n",
    "    w = w.reshape(X.shape[0], 1)\n",
    "    \n",
    "    # Compute vector \"A\" predicting the probabilities of a cat being present in the picture\n",
    "    ### START CODE HERE ### (≈ 1 line of code)\n",
    "    A = None\n",
    "    ### END CODE HERE ###\n",
    "    \n",
    "    for i in range(A.shape[1]):\n",
    "        \n",
    "        # Convert probabilities A[0,i] to actual predictions p[0,i]\n",
    "        ### START CODE HERE ### (≈ 4 lines of code)\n",
    "        pass\n",
    "        ### END CODE HERE ###\n",
    "    \n",
    "    assert(Y_prediction.shape == (1, m))\n",
    "    \n",
    "    return Y_prediction"
   ]
  },
  {
   "cell_type": "code",
   "execution_count": null,
   "metadata": {},
   "outputs": [],
   "source": [
    "w = np.array([[0.1124579],[0.23106775]])\n",
    "b = -0.3\n",
    "X = np.array([[1.,-1.1,-3.2],[1.2,2.,0.1]])\n",
    "print (\"predictions = \" + str(predict(w, b, X)))"
   ]
  },
  {
   "cell_type": "markdown",
   "metadata": {},
   "source": [
    "Đầu ra mong muốn: predictions = [[ 1. 1. 0.]]"
   ]
  },
  {
   "cell_type": "markdown",
   "metadata": {},
   "source": [
    "<b>h.</b> Thực thi hàm `model` sử dụng các định danh sau:\n",
    "- `Y_prediction_test` dành cho dự đoán trên tập dữ liệu test.\n",
    "- `Y_prediction_train` dành cho dự đoán trên tập dữ liệu train.\n",
    "-  w, costs, grads là các đầu ra của hàm optimize()"
   ]
  },
  {
   "cell_type": "code",
   "execution_count": null,
   "metadata": {},
   "outputs": [],
   "source": [
    "# GRADED FUNCTION: model\n",
    "\n",
    "def model(X_train, Y_train, X_test, Y_test, num_iterations = 2000, learning_rate = 0.5, print_cost = False):\n",
    "    \"\"\"\n",
    "    Builds the logistic regression model by calling the function you've implemented previously\n",
    "    \n",
    "    Arguments:\n",
    "    X_train -- training set represented by a numpy array of shape (num_px * num_px * 3, m_train)\n",
    "    Y_train -- training labels represented by a numpy array (vector) of shape (1, m_train)\n",
    "    X_test -- test set represented by a numpy array of shape (num_px * num_px * 3, m_test)\n",
    "    Y_test -- test labels represented by a numpy array (vector) of shape (1, m_test)\n",
    "    num_iterations -- hyperparameter representing the number of iterations to optimize the parameters\n",
    "    learning_rate -- hyperparameter representing the learning rate used in the update rule of optimize()\n",
    "    print_cost -- Set to true to print the cost every 100 iterations\n",
    "    \n",
    "    Returns:\n",
    "    d -- dictionary containing information about the model.\n",
    "    \"\"\"\n",
    "    \n",
    "    ### START CODE HERE ###\n",
    "    \n",
    "    # initialize parameters with zeros (≈ 1 line of code)\n",
    "    w, b = None\n",
    "\n",
    "    # Gradient descent (≈ 1 line of code)\n",
    "    parameters, grads, costs = None\n",
    "    \n",
    "    # Retrieve parameters w and b from dictionary \"parameters\"\n",
    "    w = parameters[\"w\"]\n",
    "    b = parameters[\"b\"]\n",
    "    \n",
    "    # Predict test/train set examples (≈ 2 lines of code)\n",
    "    Y_prediction_test = None\n",
    "    Y_prediction_train = None\n",
    "\n",
    "    ### END CODE HERE ###\n",
    "\n",
    "    # Print train/test Errors\n",
    "    print(\"train accuracy: {} %\".format(100 - np.mean(np.abs(Y_prediction_train - Y_train)) * 100))\n",
    "    print(\"test accuracy: {} %\".format(100 - np.mean(np.abs(Y_prediction_test - Y_test)) * 100))\n",
    "\n",
    "    \n",
    "    d = {\"costs\": costs,\n",
    "         \"Y_prediction_test\": Y_prediction_test, \n",
    "         \"Y_prediction_train\" : Y_prediction_train, \n",
    "         \"w\" : w, \n",
    "         \"b\" : b,\n",
    "         \"learning_rate\" : learning_rate,\n",
    "         \"num_iterations\": num_iterations}\n",
    "    \n",
    "    return d"
   ]
  },
  {
   "cell_type": "markdown",
   "metadata": {},
   "source": [
    "Chạy cell để luyện mô hình:"
   ]
  },
  {
   "cell_type": "code",
   "execution_count": null,
   "metadata": {},
   "outputs": [],
   "source": [
    "d = model(train_set_x, train_set_y, test_set_x, test_set_y, num_iterations = 2000, learning_rate = 0.005, print_cost = True)"
   ]
  },
  {
   "cell_type": "markdown",
   "metadata": {},
   "source": [
    "| Tham số               | Đầu ra            |\n",
    "|-----------------------|-------------------|\n",
    "|Cost after iteration 0 | 0.693147          |\n",
    "| Train Accuracy        |99.04306220095694% |\n",
    "| Test Accuracy         |70.0%              |"
   ]
  },
  {
   "cell_type": "markdown",
   "metadata": {},
   "source": [
    "<b>Bình luận:</b> Độ chính xác của tập luyện đã gần 100%. Đây là một cách kiểm tra tốt: Mô hình của bạn hoạt động và có khả năng khớp với dữ liệu luyện. độ chính xác trên tập test là 68%. Đây không phải là kết quả tệ cho một mô hình đơn giản, với số lượng mẫu mà chúng ta sử dụng cũng như mô hình hồi quy logistic là một phân lớp tuyến tính. Đừng lo lắng, bạn sẽ xây dựng được những phân lớp tốt hơn trong những bài tiếp theo!\n",
    "\n",
    "Bạn cũng có thể thấy mô hình này đã overfit trên dữ liệu luyện. Sử dụng code phía dưới (và thay đổi giá trị biến index) bạn có thể thấy dự đoán của những bức ảnh trong tập test."
   ]
  },
  {
   "cell_type": "code",
   "execution_count": null,
   "metadata": {},
   "outputs": [],
   "source": [
    "# Example of a picture that was wrongly classified.\n",
    "index = 1\n",
    "plt.imshow(test_set_x[:,index].reshape((num_px, num_px, 3)))\n",
    "print (\"y = \" + str(test_set_y[0,index]) + \", you predicted that it is a \\\"\" + classes[d[\"Y_prediction_test\"][0,index]].decode(\"utf-8\") +  \"\\\" picture.\")"
   ]
  },
  {
   "cell_type": "markdown",
   "metadata": {},
   "source": [
    "Biểu diễn hàm chi phí và gradients."
   ]
  },
  {
   "cell_type": "code",
   "execution_count": null,
   "metadata": {},
   "outputs": [],
   "source": [
    "# Plot learning curve (with costs)\n",
    "costs = np.squeeze(d['costs'])\n",
    "plt.plot(costs)\n",
    "plt.ylabel('cost')\n",
    "plt.xlabel('iterations (per hundreds)')\n",
    "plt.title(\"Learning rate =\" + str(d[\"learning_rate\"]))\n",
    "plt.show()"
   ]
  },
  {
   "cell_type": "markdown",
   "metadata": {},
   "source": [
    "<b>Nhận xét:</b> Bạn có thể thấy hàm chi phí giảm. Điều này chỉ ra rằng các tham số đã được học. Tuy nhiên bạn càng tăng số vòng lặp lên, độ chính xác trên dữ liệu luyện càng tăng nhưng độ chính xác trên dữ liệu test giảm xuống. Đây được gọi là overfitting."
   ]
  },
  {
   "cell_type": "markdown",
   "metadata": {},
   "source": [
    "<b>i.</b> Chạy ô bên dưới để thử nghiệm các learning rate khác nhau. Phân tích và đánh giá kết quả."
   ]
  },
  {
   "cell_type": "code",
   "execution_count": null,
   "metadata": {},
   "outputs": [],
   "source": [
    "learning_rates = [0.01, 0.001, 0.0001]\n",
    "models = {}\n",
    "for i in learning_rates:\n",
    "    print (\"learning rate is: \" + str(i))\n",
    "    models[str(i)] = model(train_set_x, train_set_y, test_set_x, test_set_y, num_iterations = 1500, learning_rate = i, print_cost = False)\n",
    "    print ('\\n' + \"-------------------------------------------------------\" + '\\n')\n",
    "\n",
    "for i in learning_rates:\n",
    "    plt.plot(np.squeeze(models[str(i)][\"costs\"]), label= str(models[str(i)][\"learning_rate\"]))\n",
    "\n",
    "plt.ylabel('cost')\n",
    "plt.xlabel('iterations (hundreds)')\n",
    "\n",
    "legend = plt.legend(loc='upper center', shadow=True)\n",
    "frame = legend.get_frame()\n",
    "frame.set_facecolor('0.90')\n",
    "plt.show()"
   ]
  },
  {
   "cell_type": "markdown",
   "metadata": {},
   "source": [
    "<b>j.</b> Kiểm tra với ảnh mèo của chính bạn. Chỉnh lại các đường dẫn đến 1 ảnh mèo của bạn và thử chạy code sau để xem dự đoán đúng không."
   ]
  },
  {
   "cell_type": "code",
   "execution_count": null,
   "metadata": {},
   "outputs": [],
   "source": [
    "\n",
    "## START CODE HERE ## (PUT YOUR IMAGE NAME) \n",
    "my_image = \"my_image.jpg\"   # change this to the name of your image file \n",
    "## END CODE HERE ##\n",
    "\n",
    "# We preprocess the image to fit your algorithm.\n",
    "fname = \"images/\" + my_image\n",
    "image = np.array(ndimage.imread(fname, flatten=False))\n",
    "image = image/255.\n",
    "my_image = scipy.misc.imresize(image, size=(num_px,num_px)).reshape((1, num_px*num_px*3)).T\n",
    "my_predicted_image = predict(d[\"w\"], d[\"b\"], my_image)\n",
    "\n",
    "plt.imshow(image)\n",
    "print(\"y = \" + str(np.squeeze(my_predicted_image)) + \", your algorithm predicts a \\\"\" + classes[int(np.squeeze(my_predicted_image)),].decode(\"utf-8\") +  \"\\\" picture.\")"
   ]
  },
  {
   "cell_type": "markdown",
   "metadata": {},
   "source": [
    "<b>Bài 2:</b> Phân lớp dữ liệu trên mặt phẳng với mạng neuron có lớp ẩn."
   ]
  },
  {
   "cell_type": "markdown",
   "metadata": {},
   "source": [
    "Sử dụng mạng neuron để giải quyết bài toán phân lớp dữ liệu có dạng như dưới đây. Yêu cầu code chay, không sử dụng thư viện."
   ]
  },
  {
   "cell_type": "code",
   "execution_count": 14,
   "metadata": {},
   "outputs": [],
   "source": [
    "# Package imports\n",
    "import numpy as np\n",
    "import matplotlib.pyplot as plt\n",
    "import sklearn\n",
    "import sklearn.datasets\n",
    "import sklearn.linear_model\n",
    "\n",
    "%matplotlib inline\n",
    "\n",
    "np.random.seed(1) # set a seed so that the results are consistent\n",
    "\n",
    "def load_planar_dataset():\n",
    "    np.random.seed(1)\n",
    "    m = 400 # number of examples\n",
    "    N = int(m/2) # number of points per class\n",
    "    D = 2 # dimensionality\n",
    "    X = np.zeros((m,D)) # data matrix where each row is a single example\n",
    "    Y = np.zeros((m,1), dtype='uint8') # labels vector (0 for red, 1 for blue)\n",
    "    a = 4 # maximum ray of the flower\n",
    "\n",
    "    for j in range(2):\n",
    "        ix = range(N*j,N*(j+1))\n",
    "        t = np.linspace(j*3.12,(j+1)*3.12,N) + np.random.randn(N)*0.2 # theta\n",
    "        r = a*np.sin(4*t) + np.random.randn(N)*0.2 # radius\n",
    "        X[ix] = np.c_[r*np.sin(t), r*np.cos(t)]\n",
    "        Y[ix] = j\n",
    "        \n",
    "    X = X.T\n",
    "    Y = Y.T\n",
    "\n",
    "    return X, Y\n",
    "\n",
    "X, Y = load_planar_dataset()\n",
    "Y = Y.ravel()"
   ]
  },
  {
   "cell_type": "code",
   "execution_count": 16,
   "metadata": {},
   "outputs": [
    {
     "data": {
      "image/png": "[encoded data removed]",
      "text/plain": [
       "<Figure size 432x288 with 1 Axes>"
      ]
     },
     "metadata": {
      "needs_background": "light"
     },
     "output_type": "display_data"
    }
   ],
   "source": [
    "# Visualize the data:\n",
    "plt.scatter(X[0, :], X[1, :], c=Y, s=40, cmap=plt.cm.Spectral);"
   ]
  },
  {
   "cell_type": "markdown",
   "metadata": {},
   "source": [
    "<b>Bài 3:</b> Xử lý phân <i>các</i> lớp bộ dữ liệu dưới đây bằng mạng neuron (code chay)."
   ]
  },
  {
   "cell_type": "code",
   "execution_count": 27,
   "metadata": {},
   "outputs": [],
   "source": [
    "def load_extra_datasets():  \n",
    "    N = 200\n",
    "    noisy_circles = sklearn.datasets.make_circles(n_samples=N, factor=.5, noise=.3)\n",
    "    noisy_moons = sklearn.datasets.make_moons(n_samples=N, noise=.2)\n",
    "    blobs = sklearn.datasets.make_blobs(n_samples=N, random_state=5, n_features=2, centers=6)\n",
    "    gaussian_quantiles = sklearn.datasets.make_gaussian_quantiles(mean=None, cov=0.5, n_samples=N, n_features=2, n_classes=2, shuffle=True, random_state=None)\n",
    "    no_structure = np.random.rand(N, 2), np.random.rand(N, 2)\n",
    "    \n",
    "    return noisy_circles, noisy_moons, blobs, gaussian_quantiles, no_structure"
   ]
  },
  {
   "cell_type": "code",
   "execution_count": 36,
   "metadata": {},
   "outputs": [
    {
     "data": {
      "text/plain": [
       "<matplotlib.collections.PathCollection at 0x1ad47a08908>"
      ]
     },
     "execution_count": 36,
     "metadata": {},
     "output_type": "execute_result"
    },
    {
     "data": {
      "image/png": "[encoded data removed]",
      "text/plain": [
       "<Figure size 720x576 with 1 Axes>"
      ]
     },
     "metadata": {
      "needs_background": "light"
     },
     "output_type": "display_data"
    }
   ],
   "source": [
    "# Datasets\n",
    "noisy_circles, noisy_moons, blobs, gaussian_quantiles, no_structure = load_extra_datasets()\n",
    "\n",
    "datasets = {\"noisy_circles\": noisy_circles,\n",
    "            \"noisy_moons\": noisy_moons,\n",
    "            \"blobs\": blobs,\n",
    "            \"gaussian_quantiles\": gaussian_quantiles}\n",
    "\n",
    "### START CODE HERE ### (choose your dataset)\n",
    "dataset = \"noisy_moons\"\n",
    "### END CODE HERE ###\n",
    "\n",
    "X, Y = datasets[dataset]\n",
    "plt.scatter(X[:,0], X[:,1], s=40, c=Y, cmap=plt.cm.Spectral)"
   ]
  },
  {
   "cell_type": "code",
   "execution_count": null,
   "metadata": {},
   "outputs": [],
   "source": []
  }
 ],
 "metadata": {
  "kernelspec": {
   "display_name": "Python 3",
   "language": "python",
   "name": "python3"
  },
  "language_info": {
   "codemirror_mode": {
    "name": "ipython",
    "version": 3
   },
   "file_extension": ".py",
   "mimetype": "text/x-python",
   "name": "python",
   "nbconvert_exporter": "python",
   "pygments_lexer": "ipython3",
   "version": "3.7.4"
  }
 },
 "nbformat": 4,
 "nbformat_minor": 2
}
