{
 "cells": [
  {
   "cell_type": "markdown",
   "metadata": {},
   "source": [
    "<b>Câu 1:</b>"
   ]
  },
  {
   "cell_type": "markdown",
   "metadata": {},
   "source": [
    "a. Tạo 2 tensor 0 chiều ngẫu nhiên x và y với phân phối bất kỳ. <br/>\n",
    "Tạo một đối tượng Tensorflow trả về x + y nếu x > y và x - y trong trường hợp còn lại. <br/>\n",
    "Gợi ý: Dùng toàn `tf.cond()`"
   ]
  },
  {
   "cell_type": "code",
   "execution_count": 1,
   "metadata": {},
   "outputs": [
    {
     "name": "stdout",
     "output_type": "stream",
     "text": [
      "WARNING:tensorflow:From c:\\program files\\python37\\lib\\site-packages\\tensorflow_core\\python\\compat\\v2_compat.py:65: disable_resource_variables (from tensorflow.python.ops.variable_scope) is deprecated and will be removed in a future version.\n",
      "Instructions for updating:\n",
      "non-resource variables are not supported in the long term\n"
     ]
    }
   ],
   "source": [
    "import tensorflow.compat.v1 as tf\n",
    "tf.disable_v2_behavior()\n",
    "\n",
    "sess = tf.InteractiveSession()"
   ]
  },
  {
   "cell_type": "code",
   "execution_count": 2,
   "metadata": {},
   "outputs": [
    {
     "name": "stdout",
     "output_type": "stream",
     "text": [
      "1.336593\n"
     ]
    }
   ],
   "source": [
    "x = tf.random_uniform([])\n",
    "y = tf.random_uniform([])\n",
    "out = tf.cond(tf.greater(x, y),lambda: x+y,lambda: x-y)\n",
    "print(sess.run(out))"
   ]
  },
  {
   "cell_type": "markdown",
   "metadata": {},
   "source": [
    "<b><i>Chú ý:</i></b> Mỗi lần chạy sess.run(out) thì đồng thời x và y cũng được khởi tạo lại. Thế nên nếu bạn có in x và y ra rồi in out thì kết quả sẽ không thấy out có dạng x+y và x-y. Bởi vì, khi khởi chạy out thì x và y đồng thời cũng reset và khởi tạo lại."
   ]
  },
  {
   "cell_type": "markdown",
   "metadata": {},
   "source": [
    "b. Tạo 2 Tensor 0-d x và y ngẫu nhiên trong khoảng [-1, 1). <br/>\n",
    "Trả về x+y nếu x<y và x-y nếu x>y và 0 trong trường hợp còn lại <br/>\n",
    "Gợi ý: Tìm hiểu về `tf.case()` <br/>"
   ]
  },
  {
   "cell_type": "code",
   "execution_count": 3,
   "metadata": {},
   "outputs": [
    {
     "name": "stdout",
     "output_type": "stream",
     "text": [
      "-0.13406205\n"
     ]
    }
   ],
   "source": [
    "x = tf.random.uniform([], minval=-1, maxval=1)\n",
    "y = tf.random.uniform([], minval=-1, maxval=1)\n",
    "out = tf.case([(tf.less(x,y),lambda: x+y), (tf.greater(x,y), lambda: x-y)], default=lambda: tf.constant(0.0))\n",
    "print(sess.run(out))"
   ]
  },
  {
   "cell_type": "markdown",
   "metadata": {},
   "source": [
    "c. Tạo tensor x có giá trị là [[0, -2, -1], [0, 1, 2]] <br/>\n",
    "và y là một tensor zeros với chiều giống như x. <br/>\n",
    "Trả về một tensor boolean yields True nếu các phần tử x và y bằng nhau tương ứng. <br/>\n",
    "Gợi ý: Tìm hiểu `tf.equal()`. "
   ]
  },
  {
   "cell_type": "code",
   "execution_count": 4,
   "metadata": {},
   "outputs": [
    {
     "name": "stdout",
     "output_type": "stream",
     "text": [
      "Tensor x: \n",
      " [[ 0 -2 -1]\n",
      " [ 0  1  2]]\n",
      "Tensor y: \n",
      " [[0 0 0]\n",
      " [0 0 0]]\n",
      "Tensor out: \n",
      " [[ True False False]\n",
      " [ True False False]]\n"
     ]
    }
   ],
   "source": [
    "x = tf.constant( [[0, -2, -1], [0, 1, 2]])\n",
    "y = tf.zeros_like(x)\n",
    "out = tf.equal(x,y)\n",
    "print(\"Tensor x: \\n\",sess.run(x))\n",
    "print(\"Tensor y: \\n\",sess.run(y))\n",
    "print(\"Tensor out: \\n\", sess.run(out))"
   ]
  },
  {
   "cell_type": "markdown",
   "metadata": {},
   "source": [
    "d. Tạo tensor x có giá trị: <br/>\n",
    "[29.05088806, 27.61298943, 31.19073486, 29.35532951, <br/>\n",
    "30.97266006, 26.67541885, 38.08450317, 20.74983215, <br/>\n",
    "34.94445419, 34.45999146, 29.06485367, 36.01657104, <br/>\n",
    "27.88236427, 20.56035233, 30.20379066, 29.51215172, <br/>\n",
    "33.71149445, 28.59134293, 36.05556488, 28.66994858] <br/>\n",
    "Lấy các chỉ số mà phần tử ủa x tại đó lớn hơn 30. <br/>\n",
    "Gợi ý: Tìm hiểu `tf.where()` <br/>\n",
    "Rồi extract (xuất) các phần tử có giá trị lớn hơn 30 <br/>\n",
    "Gợi ý: Tìm hiểu `tf.gather()` <br/>"
   ]
  },
  {
   "cell_type": "code",
   "execution_count": 5,
   "metadata": {},
   "outputs": [
    {
     "name": "stdout",
     "output_type": "stream",
     "text": [
      "x:\n",
      " [29.050888 27.61299  31.190735 29.35533  30.97266  26.675419 38.084503\n",
      " 20.749832 34.944454 34.45999  29.064854 36.01657  27.882364 20.560352\n",
      " 30.20379  29.512152 33.711494 28.591343 36.055565 28.669949]\n",
      "out1:\n",
      " [[ 2]\n",
      " [ 4]\n",
      " [ 6]\n",
      " [ 8]\n",
      " [ 9]\n",
      " [11]\n",
      " [14]\n",
      " [16]\n",
      " [18]]\n",
      "out2:\n",
      " [[31.190735]\n",
      " [30.97266 ]\n",
      " [38.084503]\n",
      " [34.944454]\n",
      " [34.45999 ]\n",
      " [36.01657 ]\n",
      " [30.20379 ]\n",
      " [33.711494]\n",
      " [36.055565]]\n"
     ]
    }
   ],
   "source": [
    "x = tf.constant([29.05088806, 27.61298943, 31.19073486, 29.35532951,\n",
    "30.97266006, 26.67541885, 38.08450317, 20.74983215,\n",
    "34.94445419, 34.45999146, 29.06485367, 36.01657104,\n",
    "27.88236427, 20.56035233, 30.20379066, 29.51215172,\n",
    "33.71149445, 28.59134293, 36.05556488, 28.66994858])\n",
    "out1 = tf.where(tf.greater(x, tf.constant(30.0)))\n",
    "out2 = tf.gather(x, out1)\n",
    "print(\"x:\\n\", sess.run(x))\n",
    "print(\"out1:\\n\", sess.run(out1))\n",
    "print(\"out2:\\n\", sess.run(out2))"
   ]
  },
  {
   "cell_type": "markdown",
   "metadata": {},
   "source": [
    "e. Tạo tensor diagnoal 2-d kích cỡ 6x6 với đường chéo (diagonal) có giá trị là 1,2,...,6. <br/>\n",
    "Gợi ý: Tìm hiểu `tf.range()` và `tf.diag()`"
   ]
  },
  {
   "cell_type": "code",
   "execution_count": 6,
   "metadata": {},
   "outputs": [
    {
     "name": "stdout",
     "output_type": "stream",
     "text": [
      "[[1 0 0 0 0 0]\n",
      " [0 2 0 0 0 0]\n",
      " [0 0 3 0 0 0]\n",
      " [0 0 0 4 0 0]\n",
      " [0 0 0 0 5 0]\n",
      " [0 0 0 0 0 6]]\n"
     ]
    }
   ],
   "source": [
    "x = tf.diag(tf.range(1,7))\n",
    "print(sess.run(x))"
   ]
  },
  {
   "cell_type": "markdown",
   "metadata": {},
   "source": [
    "f. Tạo tensor 2-d ngẫu nhiên kích cỡ 10x10 từ phân phối bất kỳ. Tính định thức của tensor này. <br/>\n",
    "Gợi ý: Tìm hiểu `tf.matrix_determinant()`"
   ]
  },
  {
   "cell_type": "code",
   "execution_count": 7,
   "metadata": {},
   "outputs": [
    {
     "name": "stdout",
     "output_type": "stream",
     "text": [
      "0.010355058\n"
     ]
    }
   ],
   "source": [
    "x = tf.random_uniform((10,10))\n",
    "deter_x = tf.matrix_determinant(x)\n",
    "print(sess.run(deter_x))"
   ]
  },
  {
   "cell_type": "markdown",
   "metadata": {},
   "source": [
    "g. Tạo tensor x với giá trị [5, 2, 3, 5, 10, 6, 2, 3, 4, 2, 1, 1, 0, 9]. \n",
    "Trả về unique các phần tử trong x.  <br/>\n",
    "Gợi ý: Tìm hiểu `tf.unique()`. Hãy nhớ rằng `tf.unique()` trả về 1 tuple."
   ]
  },
  {
   "cell_type": "code",
   "execution_count": 8,
   "metadata": {},
   "outputs": [
    {
     "name": "stdout",
     "output_type": "stream",
     "text": [
      "x:\n",
      " [ 5  2  3  5 10  6  2  3  4  2  1  1  0  9]\n",
      "unique of x:\n",
      " Unique(y=array([ 5,  2,  3, 10,  6,  4,  1,  0,  9]), idx=array([0, 1, 2, 0, 3, 4, 1, 2, 5, 1, 6, 6, 7, 8]))\n"
     ]
    }
   ],
   "source": [
    "x = tf.constant([5, 2, 3, 5, 10, 6, 2, 3, 4, 2, 1, 1, 0, 9])\n",
    "unique_x = tf.unique(x)\n",
    "print(\"x:\\n\", sess.run(x))\n",
    "print(\"unique of x:\\n\", sess.run(unique_x))"
   ]
  },
  {
   "cell_type": "markdown",
   "metadata": {},
   "source": [
    "h. Tạo 2 tensor x và y có chiều là 300 từ phân phối bất kỳ, miễn là chúng cùng phân phối. <br/>\n",
    "Sử dụng `tf.cond()` trả về: <br/>\n",
    "\n",
    "* MSE (mean squared error) của (x-y) nếu trung bình của tất cả các phần tử trong (x-y) là âm, hoặc <br/>\n",
    "* Tổng các trị tuyệt đối của tất cả các phần tử trong tensor (x-y) trong các trường hợp còn lại. <br/>\n",
    "Gợi ý: Xem lại Huber loss function.<br/>"
   ]
  },
  {
   "cell_type": "code",
   "execution_count": 9,
   "metadata": {},
   "outputs": [
    {
     "name": "stdout",
     "output_type": "stream",
     "text": [
      "346.6408\n"
     ]
    }
   ],
   "source": [
    "x = tf.random.normal([300])\n",
    "y = tf.random.normal([300])\n",
    "def out(x, y):\n",
    "    sum = tf.reduce_mean(x-y)\n",
    "    def f1(): return tf.reduce_mean(tf.square(x-y))\n",
    "    def f2(): return tf.reduce_sum(tf.abs(x-y))\n",
    "    return tf.cond(sum<0, f1, f2)\n",
    "print(sess.run(out(x,y)))"
   ]
  }
 ],
 "metadata": {
  "kernelspec": {
   "display_name": "Python 3",
   "language": "python",
   "name": "python3"
  },
  "language_info": {
   "codemirror_mode": {
    "name": "ipython",
    "version": 3
   },
   "file_extension": ".py",
   "mimetype": "text/x-python",
   "name": "python",
   "nbconvert_exporter": "python",
   "pygments_lexer": "ipython3",
   "version": "3.7.4"
  }
 },
 "nbformat": 4,
 "nbformat_minor": 2
}
