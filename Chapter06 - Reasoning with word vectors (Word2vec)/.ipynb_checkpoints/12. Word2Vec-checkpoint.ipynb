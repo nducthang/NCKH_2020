{
 "cells": [
  {
   "cell_type": "markdown",
   "metadata": {},
   "source": [
    "# Nội dung chính:\n",
    "1. Ma trận đồng xuất hiện (Co-occurrence matrix)\n",
    "2. Word2Vec <br/>\n",
    "    2.1 Skip-gram <br/>\n",
    "    2.2 CBOW <br/>\n",
    "3. Thực hành sử dụng word2vec của packet gensim để xây dựng model\n",
    "4. Glove\n",
    "5. Fasttext\n",
    "6. Doc2Vec"
   ]
  },
  {
   "cell_type": "markdown",
   "metadata": {},
   "source": [
    "# 1. Ma trận đồng xuất hiện (Co-occurrence matrix)"
   ]
  },
  {
   "cell_type": "markdown",
   "metadata": {},
   "source": [
    "Ở các phần trước, chúng ta đã cùng nhau tìm hiểu một số phương pháp nhúng từ (đổi text sang số) để máy tính có thể hiểu ngôn ngữ là: one-hot encoding, bag of word, tf-idf. Đặc điểm của các phương pháp trên là vẫn chưa mang thông tin về mối quan hệ giữa các từ. Trong phần này, chúng ta sẽ cùng nhau tìm hiểu về phương pháp nhúng từ mà có thể đem thông tin về mối quan hệ các từ với nhau. \n",
    "\n",
    "Từ năm 1957, nhà ngôn ngữ học J.R.Firth đã định nghĩa `you shall know a word by the company it keeps` (Bạn sẽ hiểu một từ qua các từ đi cùng với nó). Và đó là cơ sở để ra đời cho ma trận đồng xuất hiện.\n",
    "\n",
    "ví dụ với tập dữ liệu có các câu sau:\n",
    "\n",
    "Câu 1: *Tôi đang đi tìm một_nửa của mình*\n",
    "\n",
    "Câu 2: *Tôi đã ăn một_nửa quả táo*\n",
    "\n",
    "Câu 3: *Tôi đã đi tìm một_nửa quả táo*\n",
    "\n",
    "Như vậy bộ từ điển:\n",
    "\n",
    "`V={tôi, đang, đi, tìm, một_nửa, của, mình, đã, ăn, quả, táo} có |v|=11`. Biểu diễn theo one-hot encoding thì:\n",
    "\n",
    "`\n",
    "tôi = [1 0 0 0 0 0 0 0 0 0 0]\n",
    "đang = [0 1 0 0 0 0 0 0 0 0 0]\n",
    "...\n",
    "táo = [0 0 0 0 0 0 0 0 0 0 1]`\n",
    "\n",
    "Cách biểu diễn này rõ ràng là rất đơn giản nhưng giới hạn của nó cũng đão. Chẳng hạn muốn tính độ tương đồng giữa từ *tôi* và *mình* thì sẽ ra kết quả là 0 (dùng cosine similarity). Nhưng trên thực tế, chúng ta hiểu tôi và mình ở ngữ cảnh này đều là một. Cách biểu diễn này đơn giản nhưng tốn tài nguyên mà lại không lưu trữ được nhiều thông tin.\n",
    "\n",
    "Với ví dụ, biểu diễn ma trận đồng xuất hiện với `window_size=1` (tức là cửa sổ quét từ, quét các từ có khoảng cách với nhau là 1), ta có ma trận sau:\n",
    "\n",
    "<img src=\"./images/comatrix.png\"/>\n",
    "\n",
    "Giải thích: Khi windown_size=1 thì ta có từ \"tôi\" đi kèm với từ \"đi\", vì thế vị trí tương ứng của chúng với nhau là 1. Từ \"đi\" với từ \"tìm\" xuất hiện cùng nhau 2 lần nên vị trí tương ứng trên ma trận là 2. Nhận thấy rằng ma trận đồng xuất hiện là ma trận đối xứng.\n",
    "\n",
    "Khi tăng window_size=2 thì giá trị từ \"tôi\" và \"đi\" sẽ là 2 do xuất hiện ở câu 1 và câu 3 và cách nhau 2 đơn vị từ.\n",
    "\n",
    "Sau đây chúng ta thử code mô hình trên:"
   ]
  },
  {
   "cell_type": "code",
   "execution_count": 1,
   "metadata": {},
   "outputs": [
    {
     "data": {
      "text/plain": [
       "['của',\n",
       " 'mình',\n",
       " 'một_nửa',\n",
       " 'quả',\n",
       " 'táo',\n",
       " 'tìm',\n",
       " 'tôi',\n",
       " 'ăn',\n",
       " 'đang',\n",
       " 'đi',\n",
       " 'đã']"
      ]
     },
     "execution_count": 1,
     "metadata": {},
     "output_type": "execute_result"
    }
   ],
   "source": [
    "import numpy as np\n",
    "corpus = [\"tôi đang đi tìm một_nửa của mình\",\\\n",
    "         \"tôi đã ăn một_nửa quả táo\",\\\n",
    "         \"tôi đã đi tìm một_nửa quả táo\"]\n",
    "words = []\n",
    "for sentences in corpus:\n",
    "    words.extend(sentences.split())\n",
    "\n",
    "words = list(set(words))\n",
    "words.sort()\n",
    "words"
   ]
  },
  {
   "cell_type": "code",
   "execution_count": 2,
   "metadata": {},
   "outputs": [
    {
     "name": "stdout",
     "output_type": "stream",
     "text": [
      "[[0. 1. 1. 0. 0. 0. 0. 0. 0. 0. 0.]\n",
      " [1. 0. 0. 0. 0. 0. 0. 0. 0. 0. 0.]\n",
      " [1. 0. 0. 2. 0. 2. 0. 1. 0. 0. 0.]\n",
      " [0. 0. 2. 0. 2. 0. 0. 0. 0. 0. 0.]\n",
      " [0. 0. 0. 2. 0. 0. 0. 0. 0. 0. 0.]\n",
      " [0. 0. 2. 0. 0. 0. 0. 0. 0. 2. 0.]\n",
      " [0. 0. 0. 0. 0. 0. 0. 0. 1. 0. 2.]\n",
      " [0. 0. 1. 0. 0. 0. 0. 0. 0. 0. 1.]\n",
      " [0. 0. 0. 0. 0. 0. 1. 0. 0. 1. 0.]\n",
      " [0. 0. 0. 0. 0. 2. 0. 0. 1. 0. 1.]\n",
      " [0. 0. 0. 0. 0. 0. 2. 1. 0. 1. 0.]]\n"
     ]
    }
   ],
   "source": [
    "X = np.zeros([len(words), len(words)])\n",
    "\n",
    "for sentences in corpus:\n",
    "    tokens = sentences.split()\n",
    "    for i, token in enumerate(tokens):\n",
    "        if(i == 0):\n",
    "            X[words.index(token), words.index(tokens[i + 1])] += 1\n",
    "        elif(i == len(tokens) - 1):\n",
    "            X[words.index(token), words.index(tokens[i - 1])] += 1\n",
    "        else:\n",
    "            X[words.index(token), words.index(tokens[i + 1])] += 1\n",
    "            X[words.index(token), words.index(tokens[i - 1])] += 1\n",
    "\n",
    "print(X)"
   ]
  },
  {
   "cell_type": "markdown",
   "metadata": {},
   "source": [
    "Sử dụng SVD để giảm số chiều và biểu diễn trên hình:"
   ]
  },
  {
   "cell_type": "code",
   "execution_count": 3,
   "metadata": {},
   "outputs": [
    {
     "data": {
      "image/png": "[encoded data removed]",
      "text/plain": [
       "<Figure size 432x288 with 1 Axes>"
      ]
     },
     "metadata": {
      "needs_background": "light"
     },
     "output_type": "display_data"
    }
   ],
   "source": [
    "import matplotlib.pyplot as plt\n",
    "la = np.linalg\n",
    "U, s, Vh = la.svd(X, full_matrices=False)\n",
    "\n",
    "plt.xlim(-1, 1)\n",
    "plt.ylim(-1, 1)\n",
    "\n",
    "for i in range(len(words)):\n",
    "    plt.text(U[i, 0], U[i, 1], words[i])\n",
    "\n",
    "plt.show()"
   ]
  },
  {
   "cell_type": "markdown",
   "metadata": {},
   "source": [
    "Nhận thấy là từ \"tôi\" và từ \"mình\" đã khá gần nhau, chứng tỏ chúng có mối quan hệ sát với nhau. Ma trận đồng xuất hiện đã biểu diễn thành công."
   ]
  },
  {
   "cell_type": "markdown",
   "metadata": {},
   "source": [
    "Ưu điểm:\n",
    "* Đơn giản, dễ cài đặt\n",
    "* Ghi nhận được thông tin đồng xuất hiện của các từ trong dữ liệu train\n",
    "\n",
    "Nhược điểm:\n",
    "* Cần không gian lưu trữ thông tin. Có thể cải thiện bằng phương pháp SVD để giảm chiều dữ liệu, nhưng chi phí tính toán cũng tăng theo và gây khó khăn nếu thêm dữ liệu mới.\n",
    "* Chưa chi tiết được mức độ tương quan giữa 2 từ bất kỳ."
   ]
  },
  {
   "cell_type": "markdown",
   "metadata": {},
   "source": [
    "# 2. Word2Vec"
   ]
  },
  {
   "cell_type": "markdown",
   "metadata": {},
   "source": [
    "Trong năm 2012, Thomas Mikolov, khi đó là một thực tập sinh tại Microsoft, tìm một phương pháp mã hoá ý nghĩa của từ trong không gian vector nhỏ nhất. Mikolov đã train một mạng neuron để dự đáon từ xung quan gần một từ mục tiêu nào đó. Trong năm 2013, một lần ở Google, Mikolov và team của anh ấy đã phát hành word2vec - một model word embedding học không giám sát (Không cần gán nhãn các từ).\n",
    "\n",
    "Word2Vec lần đầu được công bố năm 2013 tại hội nghị ACL. Word2Vec embedding chính xác hơn (45%) khoảng 4 lần so với mô hình LSA (11%) với bài toán trả lời câu hỏi tự động. Độ chính xác cải tiến đáng ngạc nhiên đến mức ban đầu, báo cáo của team Mikolov bị loại, vì nfuowfi ta cho rằng hoạt động của mô hình quá tốt đến mức khó tin. Phải mất gần 1 năm cho team của Mikolov để chứng minh và được chấp nhận.\n",
    "\n",
    "Word2Vec là một mạng neuron với 1 tầng ẩn duy nhất. Thay vì lưu thông tin xuất hiện của các từ bằng cách đếm trực tiếp như ma trận đồng xuất hiện, word2vec học để đoán từ lân cận của tất cả các từ. Mô hình này tính toán nhanh hơn và dễ dàng thêm dữ liệu mới vào mô hình. Nhờ vào tool này mà các bạn có thể train hay sử dụng lại pretrained model word embedding rất đơn giản. \n",
    "\n",
    "**Khái niệm windown size:**\n",
    "\n",
    "Window size được hiểu như một cửa sổ trượt qua mỗi từ, ví dụ windown_size=2 tức là lấy 2 từ bên trái và bên phải mỗi từ trung tâm.\n",
    "\n",
    "<img src=\"./images/windown_size.png\"/>\n",
    "\n",
    "Word2Vec có 2 cách để train mô hình là **skip-gram** và **continous bag of words (CBOW)**"
   ]
  },
  {
   "cell_type": "markdown",
   "metadata": {},
   "source": [
    "## 2.1 Skip-gram"
   ]
  },
  {
   "cell_type": "markdown",
   "metadata": {},
   "source": [
    "Đối với skip-gram, input là từ mục tiêu, output là các từ xung quanh (có quan hệ gần nhất với các từ đó).\n",
    "\n",
    "Ví dụ câu: `I have a cute dog`\n",
    "\n",
    "Input là `a`\n",
    "\n",
    "Output sẽ là `have`, `cute`, `dog`\n",
    "\n",
    "Input và output cùng kích thước và được mã hoá one-hot, lớp ẩn có kích thước nhỏ hơn kích thước lớp input và output.\n",
    "\n",
    "<img src=\"./images/skipgrammodel.png\"/>\n",
    "\n",
    "Hidden layer là tuyến tính.\n",
    "\n",
    "Hàm kích hoạt cho lớp output là softmax.\n",
    "\n",
    "<img src=\"./images/skipgramclean.png\"/>"
   ]
  },
  {
   "cell_type": "markdown",
   "metadata": {},
   "source": [
    "**Ký hiệu mô hình:**\n",
    "\n",
    "<img src=\"./images/sgram.png\"/>"
   ]
  },
  {
   "cell_type": "markdown",
   "metadata": {},
   "source": [
    "$w_i$: Từ thứ i của bộ từ vựng vocabulary $V$\n",
    "\n",
    "$W \\in \\mathbb{R}^{V\\times N}$ : ma trận word input\n",
    "\n",
    "$v_i$ : cột thứ $i$ của $W$, là vector biểu diễn cho $w_i$\n",
    "\n",
    "${{\\text{W}}^{'}}\\in {{\\mathbb{R}}^{N\\times V}}$ : ma trận word output\n",
    "\n",
    "$u_i$: hàng thứ i của ma trận ${{\\text{W}}^{'}}$, là vector đại diện cho word $w_i$"
   ]
  },
  {
   "cell_type": "markdown",
   "metadata": {},
   "source": [
    "**Cách thức hoạt động:**\n",
    "1. Tạo 1 vector one-hot $x$ là input đầu vào (shape = 1xV) đóng vai trò là từ trung tâm.\n",
    "2. Lấy được vector nhúng của từ trung tâm ${{x}_{1xV}}{{\\text{W}}_{VxN}}={{v}_{1xN}}$. Gọi là $v_c$.  <br/>\n",
    "<img src=\"./images/matrix_mult_w_one_hot.png\"/><br/>\n",
    "3. Tạo vector score $z={{v}_{c}}{{\\text{W}}^{'}}$, shape=(1,V).\n",
    "4. Biến vector thành xác suất: $y_{\\text{predict}}=\\text{softmax(}z\\text{)}$"
   ]
  },
  {
   "cell_type": "markdown",
   "metadata": {},
   "source": [
    "**Hàm mục tiêu:**\n",
    "\n",
    "<img src=\"./images/hammuctieuskip.png\"/>\n",
    "\n",
    "\n",
    "**Hàm mất mát:**\n",
    "\n",
    "<img src=\"./images/hammatmatskip.png\"/>\n"
   ]
  },
  {
   "cell_type": "markdown",
   "metadata": {},
   "source": [
    "# 2.2 CBOW"
   ]
  },
  {
   "cell_type": "markdown",
   "metadata": {},
   "source": [
    "CBOW thì ngược lại có với skip-gram, input là context (ngữ cảnh), output là từ gần nhất với context đó.\n",
    "\n",
    "<img src=\"./images/cbowmodel.png\"/>\n",
    "\n",
    "**Ký hiệu mô hình:**\n",
    "\n",
    "<img src=\"./images/CBOW.png\"/>\n"
   ]
  },
  {
   "cell_type": "markdown",
   "metadata": {},
   "source": [
    "$w_i$: Từ thứ i của bộ từ vựng vocabulary $V$\n",
    "\n",
    "$W \\in \\mathbb{R}^{V\\times N}$ : ma trận word input\n",
    "\n",
    "$v_i$ : cột thứ $i$ của $W$, là vector biểu diễn cho $w_i$\n",
    "\n",
    "${{\\text{W}}^{'}}\\in {{\\mathbb{R}}^{N\\times V}}$ : ma trận word output\n",
    "\n",
    "$u_i$: hàng thứ i của ma trận ${{\\text{W}}^{'}}$, là vector đại diện cho word $w_i$"
   ]
  },
  {
   "cell_type": "markdown",
   "metadata": {},
   "source": [
    "**Cách thức hoạt động:**\n",
    "1. Tạo ra các vecor one-hot cho input context: ${{x}^{(c-m)}},...,{{x}^{(c-1)}},{{x}^{(c+1)}},...,{{x}^{(c+m)}}\\in {{\\mathbb{R}}^{|V|}}$, shape=(1, V)\n",
    "\n",
    "2. Lấy được các vector từ nhúng cho các từ ngữ cảnh: $v_{c-m}= x^{(c-m)}W$,...,$v_{c+m}= x^{(c+m)}W$, shape=(1, N)\n",
    "\n",
    "3. Tính trung bình các vector nhúng: $\\overline{v}=\\frac{{{v}_{c-m}}+...+{{v}_{c+m}}}{2m}$\n",
    "\n",
    "4. Tính vector score: $z=\\overline{v}{\\text{W}}^{'}$ , shape = (1, V)\n",
    "\n",
    "5. Biến các score thành xác xuất $y_\\text{predict} = \\text{softmax}(z)$"
   ]
  },
  {
   "cell_type": "markdown",
   "metadata": {},
   "source": [
    "<img src=\"./images/muctieu_matmat_CBOW.png\"/>"
   ]
  },
  {
   "cell_type": "markdown",
   "metadata": {},
   "source": [
    "# 3. Thực hành sử dụng word2vec của packet gensim để xây dựng model"
   ]
  },
  {
   "cell_type": "markdown",
   "metadata": {},
   "source": [
    "Thiết lập hàm đọc dữ liệu <br/>\n",
    "Chúng ta sẽ đọc dữ liệu từ file truyện tiểu thuyết `Tôi ghét anh, đồ cu côn` của web Teencity.Xtgem.Com\n"
   ]
  },
  {
   "cell_type": "code",
   "execution_count": 4,
   "metadata": {},
   "outputs": [],
   "source": [
    "import pandas as pd\n",
    "import re\n",
    "from nltk import ngrams\n",
    "from gensim.models import Word2Vec\n",
    "\n",
    "pd.options.display.max_rows = 50"
   ]
  },
  {
   "cell_type": "code",
   "execution_count": 5,
   "metadata": {},
   "outputs": [
    {
     "data": {
      "text/html": [
       "<div>\n",
       "<style scoped>\n",
       "    .dataframe tbody tr th:only-of-type {\n",
       "        vertical-align: middle;\n",
       "    }\n",
       "\n",
       "    .dataframe tbody tr th {\n",
       "        vertical-align: top;\n",
       "    }\n",
       "\n",
       "    .dataframe thead th {\n",
       "        text-align: right;\n",
       "    }\n",
       "</style>\n",
       "<table border=\"1\" class=\"dataframe\">\n",
       "  <thead>\n",
       "    <tr style=\"text-align: right;\">\n",
       "      <th></th>\n",
       "      <th>row</th>\n",
       "    </tr>\n",
       "  </thead>\n",
       "  <tbody>\n",
       "    <tr>\n",
       "      <th>0</th>\n",
       "      <td>[ten]Tôi ghét anh...Đồ du côn[/ten]</td>\n",
       "    </tr>\n",
       "    <tr>\n",
       "      <th>1</th>\n",
       "      <td>[info]</td>\n",
       "    </tr>\n",
       "    <tr>\n",
       "      <th>2</th>\n",
       "      <td>[img]http://teencity.xtgem.us/teencity/img/toi...</td>\n",
       "    </tr>\n",
       "    <tr>\n",
       "      <th>3</th>\n",
       "      <td>Tôi tên Nhiên - Tôn Nữ Hà Nhiên vs số điểm đỗ ...</td>\n",
       "    </tr>\n",
       "    <tr>\n",
       "      <th>4</th>\n",
       "      <td>* học là con đường duy nhất dẫn đến 1 tương la...</td>\n",
       "    </tr>\n",
       "    <tr>\n",
       "      <th>5</th>\n",
       "      <td>* ko được để bất cứ chuyện gì ảnh hưởng đến vi...</td>\n",
       "    </tr>\n",
       "    <tr>\n",
       "      <th>6</th>\n",
       "      <td>* phải tránh xa những việc tầm xào ba láp, nhữ...</td>\n",
       "    </tr>\n",
       "    <tr>\n",
       "      <th>7</th>\n",
       "      <td>Lúc còn nhỏ tôi thường hay thắc mắc ko hiểu sa...</td>\n",
       "    </tr>\n",
       "    <tr>\n",
       "      <th>8</th>\n",
       "      <td>' ghét của nào trời trao của ấy' các cụ nói cấ...</td>\n",
       "    </tr>\n",
       "    <tr>\n",
       "      <th>9</th>\n",
       "      <td>- Dừng lại….</td>\n",
       "    </tr>\n",
       "  </tbody>\n",
       "</table>\n",
       "</div>"
      ],
      "text/plain": [
       "                                                 row\n",
       "0                [ten]Tôi ghét anh...Đồ du côn[/ten]\n",
       "1                                             [info]\n",
       "2  [img]http://teencity.xtgem.us/teencity/img/toi...\n",
       "3  Tôi tên Nhiên - Tôn Nữ Hà Nhiên vs số điểm đỗ ...\n",
       "4  * học là con đường duy nhất dẫn đến 1 tương la...\n",
       "5  * ko được để bất cứ chuyện gì ảnh hưởng đến vi...\n",
       "6  * phải tránh xa những việc tầm xào ba láp, nhữ...\n",
       "7  Lúc còn nhỏ tôi thường hay thắc mắc ko hiểu sa...\n",
       "8  ' ghét của nào trời trao của ấy' các cụ nói cấ...\n",
       "9                                      - Dừng lại…. "
      ]
     },
     "execution_count": 5,
     "metadata": {},
     "output_type": "execute_result"
    }
   ],
   "source": [
    "df = pd.read_csv(\"./toi-ghet-anh-do-du-con.txt\",sep=\"\\n\", names=[\"row\"], encoding=\"utf8\").dropna()\n",
    "df.head(10)"
   ]
  },
  {
   "cell_type": "code",
   "execution_count": 6,
   "metadata": {},
   "outputs": [
    {
     "data": {
      "text/html": [
       "<div>\n",
       "<style scoped>\n",
       "    .dataframe tbody tr th:only-of-type {\n",
       "        vertical-align: middle;\n",
       "    }\n",
       "\n",
       "    .dataframe tbody tr th {\n",
       "        vertical-align: top;\n",
       "    }\n",
       "\n",
       "    .dataframe thead th {\n",
       "        text-align: right;\n",
       "    }\n",
       "</style>\n",
       "<table border=\"1\" class=\"dataframe\">\n",
       "  <thead>\n",
       "    <tr style=\"text-align: right;\">\n",
       "      <th></th>\n",
       "      <th>row</th>\n",
       "    </tr>\n",
       "  </thead>\n",
       "  <tbody>\n",
       "    <tr>\n",
       "      <th>0</th>\n",
       "      <td>[ten]Tôi ghét anhĐồ du côn[/ten]</td>\n",
       "    </tr>\n",
       "    <tr>\n",
       "      <th>1</th>\n",
       "      <td>[info]</td>\n",
       "    </tr>\n",
       "    <tr>\n",
       "      <th>2</th>\n",
       "      <td>[img]http//teencityxtgemus/teencity/img/toi-gh...</td>\n",
       "    </tr>\n",
       "    <tr>\n",
       "      <th>3</th>\n",
       "      <td>Tôi tên Nhiên - Tôn Nữ Hà Nhiên vs số điểm đỗ ...</td>\n",
       "    </tr>\n",
       "    <tr>\n",
       "      <th>4</th>\n",
       "      <td>học là con đường duy nhất dẫn đến  tương lai s...</td>\n",
       "    </tr>\n",
       "    <tr>\n",
       "      <th>5</th>\n",
       "      <td>ko được để bất cứ chuyện gì ảnh hưởng đến việc...</td>\n",
       "    </tr>\n",
       "    <tr>\n",
       "      <th>6</th>\n",
       "      <td>phải tránh xa những việc tầm xào ba láp những ...</td>\n",
       "    </tr>\n",
       "    <tr>\n",
       "      <th>7</th>\n",
       "      <td>Lúc còn nhỏ tôi thường hay thắc mắc ko hiểu sa...</td>\n",
       "    </tr>\n",
       "    <tr>\n",
       "      <th>8</th>\n",
       "      <td>ghét của nào trời trao của ấy các cụ nói cấm c...</td>\n",
       "    </tr>\n",
       "    <tr>\n",
       "      <th>9</th>\n",
       "      <td>- Dừng lại…</td>\n",
       "    </tr>\n",
       "  </tbody>\n",
       "</table>\n",
       "</div>"
      ],
      "text/plain": [
       "                                                 row\n",
       "0                   [ten]Tôi ghét anhĐồ du côn[/ten]\n",
       "1                                             [info]\n",
       "2  [img]http//teencityxtgemus/teencity/img/toi-gh...\n",
       "3  Tôi tên Nhiên - Tôn Nữ Hà Nhiên vs số điểm đỗ ...\n",
       "4  học là con đường duy nhất dẫn đến  tương lai s...\n",
       "5  ko được để bất cứ chuyện gì ảnh hưởng đến việc...\n",
       "6  phải tránh xa những việc tầm xào ba láp những ...\n",
       "7  Lúc còn nhỏ tôi thường hay thắc mắc ko hiểu sa...\n",
       "8  ghét của nào trời trao của ấy các cụ nói cấm c...\n",
       "9                                        - Dừng lại…"
      ]
     },
     "execution_count": 6,
     "metadata": {},
     "output_type": "execute_result"
    }
   ],
   "source": [
    "def transform_row(row):\n",
    "    # Xóa số \n",
    "    row = re.sub(r\"[0-9\\.]+\", \"\", row)\n",
    "    \n",
    "    # Xóa dấu chấm, phẩy, hỏi ở cuối câu\n",
    "    row = re.sub(r\"[\\.,\\?]+\", \"\", row)\n",
    "    \n",
    "    # Xóa tất cả dấu chấm, phẩy, chấm phẩy, chấm thang, ... trong câu\n",
    "    row = row.replace(\",\", \"\").replace(\".\", \"\") \\\n",
    "        .replace(\";\", \"\").replace(\"“\", \"\") \\\n",
    "        .replace(\":\", \"\").replace(\"”\", \"\") \\\n",
    "        .replace('\"', \"\").replace(\"'\", \"\") \\\n",
    "        .replace(\"!\", \"\").replace(\"?\", \"\") \\\n",
    "        .replace(\"*\",\"\")\n",
    "    \n",
    "    row = row.strip()\n",
    "    return row \n",
    "\n",
    "df[\"row\"] = df.row.apply(transform_row)\n",
    "df.head(10)"
   ]
  },
  {
   "cell_type": "markdown",
   "metadata": {},
   "source": [
    "Tách từ sử dụng ngram. Để cho nhanh thay vì sử dụng `tokenize` tiếng Việt, chúng ta sẽ dùng `unigram(1-gram)` và `bigram(2-gram)` để tách từ ra.\n",
    "Với các bigram không có nghĩa, các từ này sẽ xuất hiện ít hơn `n` lần sẽ bị loại bỏ bằng tham số `min_count` của Word2Vec."
   ]
  },
  {
   "cell_type": "code",
   "execution_count": 7,
   "metadata": {},
   "outputs": [
    {
     "name": "stdout",
     "output_type": "stream",
     "text": [
      "\n"
     ]
    }
   ],
   "source": [
    "def kieu_ngram(string, n=1):\n",
    "    try:\n",
    "        gram_str = list(ngrams(string.strip().split(), n))\n",
    "        return [ \" \".join(gram).lower() for gram in gram_str]\n",
    "    except:\n",
    "        print(string)\n",
    "        return []\n",
    "\n",
    "df[\"1gram\"] = df.row.apply(lambda t: kieu_ngram(t, 1))\n",
    "df[\"2gram\"] = df.row.apply(lambda t: kieu_ngram(t, 2))"
   ]
  },
  {
   "cell_type": "code",
   "execution_count": 8,
   "metadata": {},
   "outputs": [
    {
     "data": {
      "text/html": [
       "<div>\n",
       "<style scoped>\n",
       "    .dataframe tbody tr th:only-of-type {\n",
       "        vertical-align: middle;\n",
       "    }\n",
       "\n",
       "    .dataframe tbody tr th {\n",
       "        vertical-align: top;\n",
       "    }\n",
       "\n",
       "    .dataframe thead th {\n",
       "        text-align: right;\n",
       "    }\n",
       "</style>\n",
       "<table border=\"1\" class=\"dataframe\">\n",
       "  <thead>\n",
       "    <tr style=\"text-align: right;\">\n",
       "      <th></th>\n",
       "      <th>row</th>\n",
       "      <th>1gram</th>\n",
       "      <th>2gram</th>\n",
       "    </tr>\n",
       "  </thead>\n",
       "  <tbody>\n",
       "    <tr>\n",
       "      <th>0</th>\n",
       "      <td>[ten]Tôi ghét anhĐồ du côn[/ten]</td>\n",
       "      <td>[[ten]tôi, ghét, anhđồ, du, côn[/ten]]</td>\n",
       "      <td>[[ten]tôi ghét, ghét anhđồ, anhđồ du, du côn[/...</td>\n",
       "    </tr>\n",
       "    <tr>\n",
       "      <th>1</th>\n",
       "      <td>[info]</td>\n",
       "      <td>[[info]]</td>\n",
       "      <td>[]</td>\n",
       "    </tr>\n",
       "    <tr>\n",
       "      <th>2</th>\n",
       "      <td>[img]http//teencityxtgemus/teencity/img/toi-gh...</td>\n",
       "      <td>[[img]http//teencityxtgemus/teencity/img/toi-g...</td>\n",
       "      <td>[]</td>\n",
       "    </tr>\n",
       "    <tr>\n",
       "      <th>3</th>\n",
       "      <td>Tôi tên Nhiên - Tôn Nữ Hà Nhiên vs số điểm đỗ ...</td>\n",
       "      <td>[tôi, tên, nhiên, -, tôn, nữ, hà, nhiên, vs, s...</td>\n",
       "      <td>[tôi tên, tên nhiên, nhiên -, - tôn, tôn nữ, n...</td>\n",
       "    </tr>\n",
       "    <tr>\n",
       "      <th>4</th>\n",
       "      <td>học là con đường duy nhất dẫn đến  tương lai s...</td>\n",
       "      <td>[học, là, con, đường, duy, nhất, dẫn, đến, tươ...</td>\n",
       "      <td>[học là, là con, con đường, đường duy, duy nhấ...</td>\n",
       "    </tr>\n",
       "    <tr>\n",
       "      <th>5</th>\n",
       "      <td>ko được để bất cứ chuyện gì ảnh hưởng đến việc...</td>\n",
       "      <td>[ko, được, để, bất, cứ, chuyện, gì, ảnh, hưởng...</td>\n",
       "      <td>[ko được, được để, để bất, bất cứ, cứ chuyện, ...</td>\n",
       "    </tr>\n",
       "    <tr>\n",
       "      <th>6</th>\n",
       "      <td>phải tránh xa những việc tầm xào ba láp những ...</td>\n",
       "      <td>[phải, tránh, xa, những, việc, tầm, xào, ba, l...</td>\n",
       "      <td>[phải tránh, tránh xa, xa những, những việc, v...</td>\n",
       "    </tr>\n",
       "  </tbody>\n",
       "</table>\n",
       "</div>"
      ],
      "text/plain": [
       "                                                 row  \\\n",
       "0                   [ten]Tôi ghét anhĐồ du côn[/ten]   \n",
       "1                                             [info]   \n",
       "2  [img]http//teencityxtgemus/teencity/img/toi-gh...   \n",
       "3  Tôi tên Nhiên - Tôn Nữ Hà Nhiên vs số điểm đỗ ...   \n",
       "4  học là con đường duy nhất dẫn đến  tương lai s...   \n",
       "5  ko được để bất cứ chuyện gì ảnh hưởng đến việc...   \n",
       "6  phải tránh xa những việc tầm xào ba láp những ...   \n",
       "\n",
       "                                               1gram  \\\n",
       "0             [[ten]tôi, ghét, anhđồ, du, côn[/ten]]   \n",
       "1                                           [[info]]   \n",
       "2  [[img]http//teencityxtgemus/teencity/img/toi-g...   \n",
       "3  [tôi, tên, nhiên, -, tôn, nữ, hà, nhiên, vs, s...   \n",
       "4  [học, là, con, đường, duy, nhất, dẫn, đến, tươ...   \n",
       "5  [ko, được, để, bất, cứ, chuyện, gì, ảnh, hưởng...   \n",
       "6  [phải, tránh, xa, những, việc, tầm, xào, ba, l...   \n",
       "\n",
       "                                               2gram  \n",
       "0  [[ten]tôi ghét, ghét anhđồ, anhđồ du, du côn[/...  \n",
       "1                                                 []  \n",
       "2                                                 []  \n",
       "3  [tôi tên, tên nhiên, nhiên -, - tôn, tôn nữ, n...  \n",
       "4  [học là, là con, con đường, đường duy, duy nhấ...  \n",
       "5  [ko được, được để, để bất, bất cứ, cứ chuyện, ...  \n",
       "6  [phải tránh, tránh xa, xa những, những việc, v...  "
      ]
     },
     "execution_count": 8,
     "metadata": {},
     "output_type": "execute_result"
    }
   ],
   "source": [
    "df.head(7)"
   ]
  },
  {
   "cell_type": "code",
   "execution_count": 9,
   "metadata": {},
   "outputs": [
    {
     "data": {
      "text/html": [
       "<div>\n",
       "<style scoped>\n",
       "    .dataframe tbody tr th:only-of-type {\n",
       "        vertical-align: middle;\n",
       "    }\n",
       "\n",
       "    .dataframe tbody tr th {\n",
       "        vertical-align: top;\n",
       "    }\n",
       "\n",
       "    .dataframe thead th {\n",
       "        text-align: right;\n",
       "    }\n",
       "</style>\n",
       "<table border=\"1\" class=\"dataframe\">\n",
       "  <thead>\n",
       "    <tr style=\"text-align: right;\">\n",
       "      <th></th>\n",
       "      <th>row</th>\n",
       "      <th>1gram</th>\n",
       "      <th>2gram</th>\n",
       "      <th>context</th>\n",
       "    </tr>\n",
       "  </thead>\n",
       "  <tbody>\n",
       "    <tr>\n",
       "      <th>0</th>\n",
       "      <td>[ten]Tôi ghét anhĐồ du côn[/ten]</td>\n",
       "      <td>[[ten]tôi, ghét, anhđồ, du, côn[/ten]]</td>\n",
       "      <td>[[ten]tôi ghét, ghét anhđồ, anhđồ du, du côn[/...</td>\n",
       "      <td>[[ten]tôi, ghét, anhđồ, du, côn[/ten], [ten]tô...</td>\n",
       "    </tr>\n",
       "    <tr>\n",
       "      <th>1</th>\n",
       "      <td>[info]</td>\n",
       "      <td>[[info]]</td>\n",
       "      <td>[]</td>\n",
       "      <td>[[info]]</td>\n",
       "    </tr>\n",
       "    <tr>\n",
       "      <th>2</th>\n",
       "      <td>[img]http//teencityxtgemus/teencity/img/toi-gh...</td>\n",
       "      <td>[[img]http//teencityxtgemus/teencity/img/toi-g...</td>\n",
       "      <td>[]</td>\n",
       "      <td>[[img]http//teencityxtgemus/teencity/img/toi-g...</td>\n",
       "    </tr>\n",
       "    <tr>\n",
       "      <th>3</th>\n",
       "      <td>Tôi tên Nhiên - Tôn Nữ Hà Nhiên vs số điểm đỗ ...</td>\n",
       "      <td>[tôi, tên, nhiên, -, tôn, nữ, hà, nhiên, vs, s...</td>\n",
       "      <td>[tôi tên, tên nhiên, nhiên -, - tôn, tôn nữ, n...</td>\n",
       "      <td>[tôi, tên, nhiên, -, tôn, nữ, hà, nhiên, vs, s...</td>\n",
       "    </tr>\n",
       "    <tr>\n",
       "      <th>4</th>\n",
       "      <td>học là con đường duy nhất dẫn đến  tương lai s...</td>\n",
       "      <td>[học, là, con, đường, duy, nhất, dẫn, đến, tươ...</td>\n",
       "      <td>[học là, là con, con đường, đường duy, duy nhấ...</td>\n",
       "      <td>[học, là, con, đường, duy, nhất, dẫn, đến, tươ...</td>\n",
       "    </tr>\n",
       "    <tr>\n",
       "      <th>5</th>\n",
       "      <td>ko được để bất cứ chuyện gì ảnh hưởng đến việc...</td>\n",
       "      <td>[ko, được, để, bất, cứ, chuyện, gì, ảnh, hưởng...</td>\n",
       "      <td>[ko được, được để, để bất, bất cứ, cứ chuyện, ...</td>\n",
       "      <td>[ko, được, để, bất, cứ, chuyện, gì, ảnh, hưởng...</td>\n",
       "    </tr>\n",
       "    <tr>\n",
       "      <th>6</th>\n",
       "      <td>phải tránh xa những việc tầm xào ba láp những ...</td>\n",
       "      <td>[phải, tránh, xa, những, việc, tầm, xào, ba, l...</td>\n",
       "      <td>[phải tránh, tránh xa, xa những, những việc, v...</td>\n",
       "      <td>[phải, tránh, xa, những, việc, tầm, xào, ba, l...</td>\n",
       "    </tr>\n",
       "  </tbody>\n",
       "</table>\n",
       "</div>"
      ],
      "text/plain": [
       "                                                 row  \\\n",
       "0                   [ten]Tôi ghét anhĐồ du côn[/ten]   \n",
       "1                                             [info]   \n",
       "2  [img]http//teencityxtgemus/teencity/img/toi-gh...   \n",
       "3  Tôi tên Nhiên - Tôn Nữ Hà Nhiên vs số điểm đỗ ...   \n",
       "4  học là con đường duy nhất dẫn đến  tương lai s...   \n",
       "5  ko được để bất cứ chuyện gì ảnh hưởng đến việc...   \n",
       "6  phải tránh xa những việc tầm xào ba láp những ...   \n",
       "\n",
       "                                               1gram  \\\n",
       "0             [[ten]tôi, ghét, anhđồ, du, côn[/ten]]   \n",
       "1                                           [[info]]   \n",
       "2  [[img]http//teencityxtgemus/teencity/img/toi-g...   \n",
       "3  [tôi, tên, nhiên, -, tôn, nữ, hà, nhiên, vs, s...   \n",
       "4  [học, là, con, đường, duy, nhất, dẫn, đến, tươ...   \n",
       "5  [ko, được, để, bất, cứ, chuyện, gì, ảnh, hưởng...   \n",
       "6  [phải, tránh, xa, những, việc, tầm, xào, ba, l...   \n",
       "\n",
       "                                               2gram  \\\n",
       "0  [[ten]tôi ghét, ghét anhđồ, anhđồ du, du côn[/...   \n",
       "1                                                 []   \n",
       "2                                                 []   \n",
       "3  [tôi tên, tên nhiên, nhiên -, - tôn, tôn nữ, n...   \n",
       "4  [học là, là con, con đường, đường duy, duy nhấ...   \n",
       "5  [ko được, được để, để bất, bất cứ, cứ chuyện, ...   \n",
       "6  [phải tránh, tránh xa, xa những, những việc, v...   \n",
       "\n",
       "                                             context  \n",
       "0  [[ten]tôi, ghét, anhđồ, du, côn[/ten], [ten]tô...  \n",
       "1                                           [[info]]  \n",
       "2  [[img]http//teencityxtgemus/teencity/img/toi-g...  \n",
       "3  [tôi, tên, nhiên, -, tôn, nữ, hà, nhiên, vs, s...  \n",
       "4  [học, là, con, đường, duy, nhất, dẫn, đến, tươ...  \n",
       "5  [ko, được, để, bất, cứ, chuyện, gì, ảnh, hưởng...  \n",
       "6  [phải, tránh, xa, những, việc, tầm, xào, ba, l...  "
      ]
     },
     "execution_count": 9,
     "metadata": {},
     "output_type": "execute_result"
    }
   ],
   "source": [
    "df[\"context\"] = df[\"1gram\"] + df[\"2gram\"]\n",
    "df.head(7)"
   ]
  },
  {
   "cell_type": "code",
   "execution_count": 10,
   "metadata": {},
   "outputs": [],
   "source": [
    "train_data = df.context.tolist()"
   ]
  },
  {
   "cell_type": "markdown",
   "metadata": {},
   "source": [
    "Train_Data lúc này sẽ là 1 list chứa các `1-gram` và `2-gram`. Chúng ta sử dụng model Word2Vec sẵn có của gensim để build."
   ]
  },
  {
   "cell_type": "code",
   "execution_count": 11,
   "metadata": {},
   "outputs": [],
   "source": [
    "# train model with gensim\n",
    "num_features = 300 # số phần tử vector từ để biểu diễn từ\n",
    "min_word_count = 3 # số min cho phép trong mô hình W2V\n",
    "num_workers = 2 # số nhân CPU sử dụng để train\n",
    "window_size = 6 # cửa số từ , ngữ cảnh\n",
    "subsampling = 1e-3 # tỷ lệ mẫu con \n",
    "\n",
    "model = Word2Vec(\n",
    "    train_data,\n",
    "    workers=num_workers,\n",
    "    size=num_features,\n",
    "    min_count=min_word_count,\n",
    "    window=window_size,\n",
    "    sample=subsampling)"
   ]
  },
  {
   "cell_type": "code",
   "execution_count": 12,
   "metadata": {},
   "outputs": [
    {
     "data": {
      "text/plain": [
       "8710"
      ]
     },
     "execution_count": 12,
     "metadata": {},
     "output_type": "execute_result"
    }
   ],
   "source": [
    "# Số từ vựng trong model\n",
    "len(model.wv.vocab)"
   ]
  },
  {
   "cell_type": "code",
   "execution_count": 30,
   "metadata": {},
   "outputs": [
    {
     "data": {
      "text/plain": [
       "[('anh chàng', 0.9999722242355347),\n",
       " ('lúc ấy', 0.999966025352478),\n",
       " ('cuối cùng', 0.9999651908874512),\n",
       " ('xuất hiện', 0.9999611377716064),\n",
       " ('nước mắt', 0.9999601244926453),\n",
       " ('thần đồng', 0.9999585747718811),\n",
       " ('xin lỗi', 0.9999579191207886),\n",
       " ('của trường', 0.9999567270278931),\n",
       " ('chỉ tại', 0.999956488609314),\n",
       " ('tôi chưa', 0.9999563694000244)]"
      ]
     },
     "execution_count": 30,
     "metadata": {},
     "output_type": "execute_result"
    }
   ],
   "source": [
    "# Xem những từ có quan hệ gần với từ du con\n",
    "model.wv.similar_by_word(\"du côn\")"
   ]
  },
  {
   "cell_type": "markdown",
   "metadata": {},
   "source": [
    "Kết quả có vẻ ra đúng, câu chuyện này nói về một tình yêu, du côn trong câu chuyện này ám chỉ một `anh chàng `, và anh này học rất giỏi trong trường, tức là ` thần đồng `, ` của trường `. vân vân.. để chi tiết hơn thì bạn có thể đọc truyện và thấy những từ kia có liên quan. Tất nhiên với bộ dữ liệu của chúng ta là quá nhỏ, chỉ là một tiểu thuyết, trong thực tế, để mô hình hoạt động tốt và tổng quát, thường phải train với dữ liệu rất lớn. Người ta hay dùng mô hình này dưới dạng pretrained, tức là file đã train và load model để sử dụng luôn."
   ]
  },
  {
   "cell_type": "markdown",
   "metadata": {},
   "source": [
    "Để **lưu model** chúng ta làm như sau:"
   ]
  },
  {
   "cell_type": "code",
   "execution_count": 31,
   "metadata": {},
   "outputs": [],
   "source": [
    "model_name = \"toi_ghet_anh_do_du_con_word2vec_model\"\n",
    "model.save(model_name)"
   ]
  },
  {
   "cell_type": "markdown",
   "metadata": {},
   "source": [
    "Để load model và sử dụng lại chúng ta làm như sau:"
   ]
  },
  {
   "cell_type": "code",
   "execution_count": 42,
   "metadata": {},
   "outputs": [],
   "source": [
    "# Test model\n",
    "from gensim.models.word2vec import Word2Vec\n",
    "model_name = \"toi_ghet_anh_do_du_con_word2vec_model\"\n",
    "model = Word2Vec.load(model_name)"
   ]
  },
  {
   "cell_type": "code",
   "execution_count": 70,
   "metadata": {},
   "outputs": [
    {
     "data": {
      "text/plain": [
       "[('con trang', 0.9999856352806091),\n",
       " ('thế mà', 0.9999839067459106),\n",
       " ('cái gì', 0.9999822974205017),\n",
       " ('gì cả', 0.9999814629554749),\n",
       " ('như tôi', 0.9999805688858032),\n",
       " ('bao h', 0.9999803304672241),\n",
       " ('con nhỏ', 0.9999783039093018),\n",
       " ('chuyện gì', 0.9999783039093018),\n",
       " ('đưa tay', 0.9999780058860779),\n",
       " ('nữa chứ', 0.9999765157699585)]"
      ]
     },
     "execution_count": 70,
     "metadata": {},
     "output_type": "execute_result"
    }
   ],
   "source": [
    "model.wv.most_similar('đẹp trai')"
   ]
  },
  {
   "cell_type": "markdown",
   "metadata": {},
   "source": [
    "Chúng ta sẽ thử giảm chiều dữ liệu bằng PCA để hiện thị mối quan hệ các từ lên không gian 2 chiều."
   ]
  },
  {
   "cell_type": "code",
   "execution_count": 32,
   "metadata": {},
   "outputs": [
    {
     "data": {
      "image/png": "[encoded data removed]",
      "text/plain": [
       "<Figure size 1440x1440 with 1 Axes>"
      ]
     },
     "metadata": {
      "needs_background": "light"
     },
     "output_type": "display_data"
    }
   ],
   "source": [
    "from sklearn.decomposition import PCA\n",
    "import matplotlib.pyplot as plt\n",
    "words_np = []\n",
    "words_label = []\n",
    "for word in model.wv.vocab.keys():\n",
    "    words_np.append(model.wv[word])\n",
    "    words_label.append(word)\n",
    "\n",
    "pca = PCA(n_components=2)\n",
    "pca.fit(words_np)\n",
    "reduced = pca.transform(words_np)\n",
    "%matplotlib inline\n",
    "plt.rcParams[\"figure.figsize\"] = (20,20)\n",
    "for index,vec in enumerate(reduced):\n",
    "    if index <200:\n",
    "        x,y=vec[0],vec[1]\n",
    "        plt.scatter(x,y)\n",
    "        plt.annotate(words_label[index],xy=(x,y))\n",
    "plt.show()\n"
   ]
  },
  {
   "cell_type": "markdown",
   "metadata": {},
   "source": [
    "**Ưu điểm:**\n",
    "-\tWord2Vec thực sự chính xác khi bộ copus thật lớn và tiền xử lý chuẩn. Các ví dụ bên trên chỉ mang tính chất thử nghiệm nên dữ liệu còn nhỏ và chưa xử lý chuẩn hoàn toàn. Word2Vec đã khắc phục được nhược điểm của ma trận đồng xuất hiện và bag of word.\n",
    "-\tNgười ta cho rằng Skip-gram có xu hướng làm tốt hơn với những từ hiếm. Tuy nhiên, hiệu suất của Skip-Gram và Cbow thường ngang nhau.\n",
    "\n",
    "**Nhược điểm:**\n",
    "-\tWord2vec không biểu thị được những từ không có trong tập huấn luyện. \n",
    "-\tMạng Neural lớn, nếu chạy gradien descent sẽ rất chậm.\n",
    "\n",
    "**Cải tiến:**\n",
    "\n",
    "Có 3 cải tiến cơ bản cho mô hình word2vec truyền thống:<br/>\n",
    "-\tXử lý các cặp từ thông dụng hoặc cụm từ như là một từ đơn: Ví dụ các từ như “thành_phố_Cảng” có nghĩa khác nhau với từng từ “thành_phố” và “cảng”<br/>\n",
    "-\tLoại bỏ các từ thường xuyên lặp lại để giảm số lượng các ví dụ huấn luyện : Các từ thường xuyên lặp lại như “các”, “những”,<br/>\n",
    "-\tSửa đổi mục tiêu tối ưu hóa bằng một kỹ thuật gọi là “Negative Sampling”: Mỗi mẫu huấn luyện chỉ thay đổi một tỷ lệ phần trăm nhỏ các trọng số, thay vì tất cả chúng.<br/>\n"
   ]
  },
  {
   "cell_type": "markdown",
   "metadata": {},
   "source": [
    "Tìm hiểu thêm về pretraied word2vec tiếng việt: https://github.com/sonvx/word2vecVN"
   ]
  },
  {
   "cell_type": "markdown",
   "metadata": {},
   "source": [
    "# 4. Glove"
   ]
  },
  {
   "cell_type": "markdown",
   "metadata": {},
   "source": [
    "**GloVe** là viết tắt của **glo**bal **ve**ctors, một dự án mã nguồn mở của Stanford nhằm tạo ra các véc tơ biểu diễn cho các từ. Sử dụng các véc tơ từ được huấn luyện bởi GloVe, các mô hình có thể tận dụng thông tin về mối quan hệ ngữ nghĩa giữa các từ tốt hơn, từ đó có kết quả tốt hơn trong các bài toán NLP.\n",
    "\n",
    "Trang chủ của glove: https://nlp.stanford.edu/projects/glove/\n",
    "\n",
    "Trang chủ của GloVe cung cấp 4 file chứa các vectơ từ được huấn luyện trên các bộ dữ liệu web khác nhau (đều rất đồ sộ). Chúng ta sẽ sử dụng “Wikipedia 2014 + Gigaword 5”, đây là file nhỏ nhất `(“ glove.6B.zip”)` có dung lượng `822 MB`. Nó được huấn luyện trên một kho ngữ liệu chứa 6 tỷ từ trong tập từ vựng chứa 400 nghìn từ khác nhau.\n",
    "\n",
    "Sau khi tải và giải nén, chúng ta có 4 file txt: `glove.6B.50d.txt`, `glove.6B.100d.txt`, `glove.6B.200d.txt`, `glove.6B.300d.txt`. *50d*, *100d*, *200d* và *300d* biểu diễn số chiều (dimension) của véc tơ từ. Trong bài này, chúng ta sẽ sử dụng véc tơ có chiều 50 `(glove.6B.50d.txt)`. Để nạp các véc tơ từ GloVe, chúng ta thực hiện như sau:"
   ]
  },
  {
   "cell_type": "code",
   "execution_count": 34,
   "metadata": {},
   "outputs": [],
   "source": [
    "import numpy as np\n",
    "words = []\n",
    "idx = 0\n",
    "word2idx = {}\n",
    "vectors = []\n",
    "with open(\"./glove.6B.50d.txt\",\"rb\") as f:\n",
    "    for l in f:\n",
    "        line = l.decode().split()\n",
    "        word = line[0]\n",
    "        words.append(word)\n",
    "        word2idx[word] = idx\n",
    "        idx += 1\n",
    "        vect = np.array(line[1:]).astype(np.float)\n",
    "        vectors.append(vect)\n",
    "glove = {w:vectors[word2idx[w]] for w in words}"
   ]
  },
  {
   "cell_type": "markdown",
   "metadata": {},
   "source": [
    "Như vậy chúng ta đã nạp thành công véc tơ của GloVe, chúng ta in vector biểu diễn cho từ `“the”` và nhận được kết quả như sau:"
   ]
  },
  {
   "cell_type": "code",
   "execution_count": 35,
   "metadata": {},
   "outputs": [
    {
     "data": {
      "text/plain": [
       "array([ 4.1800e-01,  2.4968e-01, -4.1242e-01,  1.2170e-01,  3.4527e-01,\n",
       "       -4.4457e-02, -4.9688e-01, -1.7862e-01, -6.6023e-04, -6.5660e-01,\n",
       "        2.7843e-01, -1.4767e-01, -5.5677e-01,  1.4658e-01, -9.5095e-03,\n",
       "        1.1658e-02,  1.0204e-01, -1.2792e-01, -8.4430e-01, -1.2181e-01,\n",
       "       -1.6801e-02, -3.3279e-01, -1.5520e-01, -2.3131e-01, -1.9181e-01,\n",
       "       -1.8823e+00, -7.6746e-01,  9.9051e-02, -4.2125e-01, -1.9526e-01,\n",
       "        4.0071e+00, -1.8594e-01, -5.2287e-01, -3.1681e-01,  5.9213e-04,\n",
       "        7.4449e-03,  1.7778e-01, -1.5897e-01,  1.2041e-02, -5.4223e-02,\n",
       "       -2.9871e-01, -1.5749e-01, -3.4758e-01, -4.5637e-02, -4.4251e-01,\n",
       "        1.8785e-01,  2.7849e-03, -1.8411e-01, -1.1514e-01, -7.8581e-01])"
      ]
     },
     "execution_count": 35,
     "metadata": {},
     "output_type": "execute_result"
    }
   ],
   "source": [
    "glove[\"the\"]"
   ]
  },
  {
   "cell_type": "markdown",
   "metadata": {},
   "source": [
    "các véc tơ từ có thể biểu diễn mức độ tương đồng về ý nghĩa giữa các từ. Để kiểm chứng điều đó, ta sử dụng hàm cosine similarity đã giới thiệu ở các bài trước. Đoạn code dưới đây sử dụng Cú pháp giản lược trong Python."
   ]
  },
  {
   "cell_type": "code",
   "execution_count": 36,
   "metadata": {},
   "outputs": [],
   "source": [
    "cos_sim = lambda a,b: np.dot(a,b)/(np.linalg.norm(a)*np.linalg.norm(b))"
   ]
  },
  {
   "cell_type": "markdown",
   "metadata": {},
   "source": [
    "chúng ta sẽ đo độ tương đồng giữa các từ: `table`, `chair`, `dog` và `cat`"
   ]
  },
  {
   "cell_type": "code",
   "execution_count": 37,
   "metadata": {},
   "outputs": [
    {
     "data": {
      "text/plain": [
       "0.9218005273769252"
      ]
     },
     "execution_count": 37,
     "metadata": {},
     "output_type": "execute_result"
    }
   ],
   "source": [
    "cos_sim(glove['dog'], glove['cat'])"
   ]
  },
  {
   "cell_type": "code",
   "execution_count": 38,
   "metadata": {},
   "outputs": [
    {
     "data": {
      "text/plain": [
       "0.5915805854022259"
      ]
     },
     "execution_count": 38,
     "metadata": {},
     "output_type": "execute_result"
    }
   ],
   "source": [
    "cos_sim(glove['table'], glove['chair'])"
   ]
  },
  {
   "cell_type": "code",
   "execution_count": 40,
   "metadata": {},
   "outputs": [
    {
     "data": {
      "text/plain": [
       "0.3796810258522838"
      ]
     },
     "execution_count": 40,
     "metadata": {},
     "output_type": "execute_result"
    }
   ],
   "source": [
    "cos_sim(glove['dog'], glove['table'])"
   ]
  },
  {
   "cell_type": "markdown",
   "metadata": {},
   "source": [
    "Như vậy chúng ta có thể thấy, độ gần gũi về mặt ngữ nghĩa giữa “dog” và “cat”, “table” và “chair” cao hơn giữa “dog” và “table”."
   ]
  },
  {
   "cell_type": "markdown",
   "metadata": {},
   "source": [
    "# 5. Fasttext"
   ]
  },
  {
   "cell_type": "markdown",
   "metadata": {},
   "source": [
    "Như đã đề cập, word2vec có một nhược điểm rất lớn đó là không biểu thị được những từ không có trong tập huấn luyện. Để khắc phục điều này, chúng ta có FastText là mở rộng của Word2vec, được xây dựng bởi Facebook năm 2016. \n",
    "\n",
    "**Ý tưởng:**\n",
    "\n",
    "Thay vì training n-gram cho đơn vị word, Fasttext chia text ra làm nhiều đoạn nhỏ được gọi là n-gram cho ký tự. Ví dụ từ apple sẽ thành app, ppl và ple, vector của apple sẽ bằng tổng tất cả các vecto của các n-gram ký tự của nó. Do vậy, nó xử lý rất tốt cho những từ hiếm gặp.\n",
    "\n",
    "**Thực hành:**\n",
    "\n",
    "Chúng ta sẽ thực hành tiếp tục trên dữ liệu đã sử dụng ở phần sử dụng thư viện `gensim` cho word2vec. Trong gensim cũng hỗ trợ mô hình FastText. Với word2vec, với bộ dữ liệu đã sử dụng, từ `ly` không có trong tập train và sẽ báo lỗi nếu ta gọi đến nó.\n",
    "\n",
    "<img src=\"./images/error.png\"/>\n",
    "\n",
    "Để sử dụng mô hình Fasttext trong gensim, ta làm như sau:"
   ]
  },
  {
   "cell_type": "code",
   "execution_count": 67,
   "metadata": {},
   "outputs": [],
   "source": [
    "from gensim.models import FastText\n",
    "model_fasttext = FastText(size=4, window=3, min_count=1, sentences=train_data)"
   ]
  },
  {
   "cell_type": "code",
   "execution_count": 69,
   "metadata": {},
   "outputs": [
    {
     "data": {
      "text/plain": [
       "[('(dĩ', 0.9972333312034607),\n",
       " ('gỡ', 0.9853051900863647),\n",
       " ('(nv', 0.9809396862983704),\n",
       " ('bõ', 0.9777457118034363),\n",
       " ('ỉu', 0.975545346736908),\n",
       " ('bờ', 0.9754458069801331),\n",
       " ('lẹ', 0.9728058576583862),\n",
       " ('xệ', 0.9698982834815979),\n",
       " ('nè)', 0.9696400761604309),\n",
       " ('_', 0.9641013145446777)]"
      ]
     },
     "execution_count": 69,
     "metadata": {},
     "output_type": "execute_result"
    }
   ],
   "source": [
    "model_fasttext.wv.similar_by_word(\"ly\")"
   ]
  },
  {
   "cell_type": "markdown",
   "metadata": {},
   "source": [
    "**Ưu điểm:**\n",
    "-\tKhắc phục nhược điểm lớn nhất của word2vec là không biểu diễn được từ không có trong tập huấn luyện.\n",
    "\n",
    "**Nhược điểm:**\n",
    "-\tĐào tạo theo mô hình FastText mất nhiều thời gian hơn (số lượng n-gram lớn hơn nhiều so với số từ). Tuy nhiên nó hoạt động tốt hơn word2vec và cho phép các từ hiếm gặp được trình bày một cách thích hợp."
   ]
  },
  {
   "cell_type": "markdown",
   "metadata": {},
   "source": [
    "# 6. Doc2Vec"
   ]
  },
  {
   "cell_type": "markdown",
   "metadata": {},
   "source": [
    "Trong bài báo `Distributed Representations of Sentences and Document `(http://proceedings.mlr.press/v32/le14.pdf) của Quốc Lê và Mikolov năm 2015, các tác giả đã giới thiệu một phương pháp mới có khả năng tìm vector biểu diễn tốt hơn cho các câu văn/đoạn văn thông qua một mô hình tương tự word2vec được giới thiệu trước đó cũng bởi Mikolov.\n",
    "\n",
    "<img src=\"./images/doc2vec.png\"/>"
   ]
  },
  {
   "cell_type": "markdown",
   "metadata": {},
   "source": [
    "Nhìn vào mô hình, bạn có thể thấy mô hình này chỉ khác mô hình word2vec một điểm duy nhất là ngoài input là các ngữ cảnh, chúng ta còn có thêm một giá trị mới là Paragraph. Mô hình sử dụng các vector của câu văn này kết hợp với các vector từ cấu thành lên câu đó để dự đoán từ tiếp theo cho ngữ cảnh. Thông qua quá trình đào tạo như vậy, các vector của câu sẽ có thể lưu trữ thông tin về ngữ cảnh, ý nghĩa của câu, những thông tin mà bản thân ý nghĩa của từng từ trong câu không thể thể hiện được. Nó hoạt động như một bộ nhớ lưu trữ của câu. Cũng chính vì vậy, phương pháp này được gọi là Distributed Memory model (PV-DM)."
   ]
  },
  {
   "cell_type": "markdown",
   "metadata": {},
   "source": [
    "Cũng như Word2Vec, Doc2Vec cũng có 2 model chính là **DBOW** và **DM**.\n",
    "- **DBOW** (distributed bag of words): Mô hình này đơn giản là không quan tâm thứ tự các từ, training nhanh hơn, không sử dụng local-context/neighboring. Mô hình chèn thêm một \"word\" là ParagraphID. ParagraphID này đại diện cho văn bản được training. Sau khi training xong có thể hiểu các vector ParagraphID này là vector embedded của các văn bản.\n",
    "\n",
    "<img src=\"./images/DBOW.jpg\"/>\n",
    "\n",
    "- **DM** (distributed memory): xem một paragraph là một từ, sau đó nối từ này vào tập các từ trong câu. Trong quá trình training, vector của paragraph và vector từ đều được update.\n",
    "\n",
    "<img src=\"./images/DM.jpg\"/>\n",
    "\n",
    "**Tóm lại:** ta xem văn bản như là một từ, docID/paragraphID được biểu diễn dạng 1-hot, được embedded vào không gian vector.\n",
    "\n",
    "**Thực hành:** Chúng ta sử dụng gensim để build Doc2Vec:"
   ]
  },
  {
   "cell_type": "code",
   "execution_count": 71,
   "metadata": {},
   "outputs": [
    {
     "name": "stderr",
     "output_type": "stream",
     "text": [
      "c:\\program files\\python37\\lib\\site-packages\\gensim\\models\\doc2vec.py:570: UserWarning: The parameter `iter` is deprecated, will be removed in 4.0.0, use `epochs` instead.\n",
      "  warnings.warn(\"The parameter `iter` is deprecated, will be removed in 4.0.0, use `epochs` instead.\")\n",
      "c:\\program files\\python37\\lib\\site-packages\\gensim\\models\\doc2vec.py:574: UserWarning: The parameter `size` is deprecated, will be removed in 4.0.0, use `vector_size` instead.\n",
      "  warnings.warn(\"The parameter `size` is deprecated, will be removed in 4.0.0, use `vector_size` instead.\")\n",
      "c:\\program files\\python37\\lib\\site-packages\\ipykernel_launcher.py:20: DeprecationWarning: Call to deprecated `iter` (Attribute will be removed in 4.0.0, use self.epochs instead).\n"
     ]
    }
   ],
   "source": [
    "import multiprocessing\n",
    "num_cores = multiprocessing.cpu_count() # số core cpu máy tính\n",
    "# Mô hình gensim Doc2Vec bao gồm vector word cũng như vector document\n",
    "from gensim.models.doc2vec import TaggedDocument, Doc2Vec\n",
    "# simple_preprocess là xử lý bỏ qua ký hiệu và dấu chấm câu ...\n",
    "from gensim.utils import simple_preprocess\n",
    "\n",
    "corpus=['thắng đẹp trai đây là văn bản thứ nhất', \\\n",
    "        'đây là văn bản thứ hai của thắng']\n",
    "\n",
    "training_corpus = []\n",
    "for i, text in enumerate(corpus):\n",
    "    # input doc2vec gensim là  object TaggedDocument\n",
    "    tagged_doc = TaggedDocument(simple_preprocess(text),[i])\n",
    "    training_corpus.append(tagged_doc)\n",
    "    \n",
    "model = Doc2Vec(size=100, min_count=2, workers=num_cores, iter=10)\n",
    "# trước khi mô hình train, cần phải complie vocabulary\n",
    "model.build_vocab(training_corpus)\n",
    "model.train(training_corpus, total_examples=model.corpus_count, epochs=model.iter)"
   ]
  },
  {
   "cell_type": "markdown",
   "metadata": {},
   "source": [
    "Sau khi training, chúng ta có được các vector từ và vector văn bản. Tìm similarity của một từ (theo khoảng cách cosine)."
   ]
  },
  {
   "cell_type": "code",
   "execution_count": 74,
   "metadata": {},
   "outputs": [
    {
     "name": "stderr",
     "output_type": "stream",
     "text": [
      "c:\\program files\\python37\\lib\\site-packages\\ipykernel_launcher.py:1: DeprecationWarning: Call to deprecated `most_similar` (Method will be removed in 4.0.0, use self.wv.most_similar() instead).\n",
      "  \"\"\"Entry point for launching an IPython kernel.\n"
     ]
    },
    {
     "data": {
      "text/plain": [
       "[('bản', 0.02564198337495327),\n",
       " ('là', 0.02521197311580181),\n",
       " ('thứ', -0.045802101492881775),\n",
       " ('thắng', -0.08075515180826187),\n",
       " ('văn', -0.09938586503267288)]"
      ]
     },
     "execution_count": 74,
     "metadata": {},
     "output_type": "execute_result"
    }
   ],
   "source": [
    "model.most_similar('đây')"
   ]
  },
  {
   "cell_type": "markdown",
   "metadata": {},
   "source": [
    "Vector của văn bản thứ nhất của chúng ta:"
   ]
  },
  {
   "cell_type": "code",
   "execution_count": 78,
   "metadata": {},
   "outputs": [
    {
     "data": {
      "text/plain": [
       "array([ 2.2568493e-03,  9.3210052e-04,  3.3087980e-03, -4.5263441e-03,\n",
       "        4.2507282e-04,  5.4394436e-04, -2.8708375e-03,  3.3961046e-03,\n",
       "       -1.2784940e-03,  1.8597243e-03,  8.3724648e-04,  4.5096473e-04,\n",
       "        3.3182912e-03, -2.4315291e-03,  1.9031673e-03,  1.1731599e-03,\n",
       "        4.7343406e-03,  2.5118522e-03, -2.6075919e-03,  1.4940462e-03,\n",
       "        2.2388312e-03, -2.3263115e-03,  3.4513237e-04,  2.3890643e-03,\n",
       "        2.7572860e-03,  3.8538016e-03,  3.7525895e-03, -7.1223947e-04,\n",
       "       -4.0871260e-04,  1.6142105e-03, -2.2683982e-03,  1.8744587e-03,\n",
       "        4.6680658e-03,  1.4490859e-03, -1.6990985e-03,  7.3453976e-04,\n",
       "        3.9756796e-03,  2.2051791e-03,  2.2266730e-04,  1.0837726e-03,\n",
       "       -2.0195534e-04,  1.7704483e-03,  1.5906746e-03, -1.4135871e-03,\n",
       "       -4.9906494e-03, -6.6548435e-04, -3.8828668e-03, -1.7918881e-03,\n",
       "       -1.0591266e-03,  1.8492700e-03, -3.6987038e-03, -3.1262864e-03,\n",
       "        4.0405798e-03,  9.8607922e-04, -4.2108018e-03, -2.3143960e-03,\n",
       "        1.1613976e-03, -4.5680730e-03,  2.7326492e-03,  3.8036874e-03,\n",
       "        3.2522928e-03, -4.5014401e-03,  2.4021883e-03, -1.4607797e-03,\n",
       "        3.3882456e-03,  2.3190753e-04, -7.9858299e-05,  4.2390008e-03,\n",
       "        3.8448884e-03,  4.4249338e-03, -3.7954608e-03,  5.7634513e-04,\n",
       "       -1.1879667e-03,  8.1074046e-04,  2.9556525e-03, -1.4967244e-03,\n",
       "       -7.4570469e-04, -2.6525715e-03,  2.5637117e-03,  1.5752342e-03,\n",
       "       -3.0620492e-03,  7.1425718e-04,  2.5514467e-03, -4.5856824e-03,\n",
       "       -1.0519279e-03,  1.0310721e-03,  4.5545418e-03, -4.5627942e-03,\n",
       "        6.8364537e-04, -9.7440055e-04, -2.3475485e-03,  7.2896719e-04,\n",
       "       -1.0460827e-03, -1.8673989e-03, -1.9720566e-05, -2.5225035e-03,\n",
       "       -4.3941177e-03, -1.3665515e-03, -2.1073769e-03, -3.1605044e-03],\n",
       "      dtype=float32)"
      ]
     },
     "execution_count": 78,
     "metadata": {},
     "output_type": "execute_result"
    }
   ],
   "source": [
    "model.docvecs[0]"
   ]
  },
  {
   "cell_type": "markdown",
   "metadata": {},
   "source": [
    "Bạn cũng có thể suy ra một vector document mới. Doc2Vec đòi hỏi training trước khi suy ra vector mới. Dưới đây, bạn cập nhật vector đã train qua 10 step:"
   ]
  },
  {
   "cell_type": "code",
   "execution_count": 79,
   "metadata": {},
   "outputs": [
    {
     "data": {
      "text/plain": [
       "array([ 0.00042273, -0.00212791, -0.00234536, -0.00288724, -0.00067708,\n",
       "       -0.00261725,  0.00253147, -0.00449194, -0.00318389,  0.00229323,\n",
       "        0.00328198, -0.00267998,  0.00488255,  0.00119804,  0.00249112,\n",
       "        0.00026277, -0.00377307, -0.00280915,  0.00016934, -0.00350419,\n",
       "       -0.00211357, -0.00276206,  0.00062321, -0.00144887, -0.0013088 ,\n",
       "        0.0019634 ,  0.00147185,  0.0027908 ,  0.00190866, -0.00053225,\n",
       "       -0.00302875, -0.00373762, -0.0032662 , -0.00081044, -0.00317489,\n",
       "        0.00251423,  0.00291931, -0.00064837, -0.00090624,  0.00456312,\n",
       "        0.00444463, -0.00253792,  0.00066835, -0.00307435, -0.00381751,\n",
       "       -0.00224048,  0.001548  ,  0.00328555, -0.00322006, -0.00149964,\n",
       "       -0.00284264, -0.0040367 ,  0.0018896 ,  0.00327697,  0.00434652,\n",
       "        0.00231997,  0.00399489, -0.00292885, -0.00369009,  0.00242991,\n",
       "       -0.00129411, -0.00115089, -0.00238366, -0.00452808,  0.00392235,\n",
       "        0.00441561, -0.00352977, -0.00180126, -0.00368502, -0.00273659,\n",
       "       -0.00492609, -0.00494705,  0.0040342 , -0.00037577,  0.00029058,\n",
       "        0.00224697, -0.00441622,  0.00310049,  0.00143951, -0.00131362,\n",
       "        0.00265068, -0.00447683,  0.00343147, -0.00407779, -0.00310304,\n",
       "        0.00191089, -0.00288387,  0.00102132, -0.00260853, -0.00358311,\n",
       "        0.00436071, -0.004525  ,  0.00300238, -0.00028154,  0.00354192,\n",
       "        0.00326768, -0.00375517, -0.00094937,  0.00430756,  0.0043356 ],\n",
       "      dtype=float32)"
      ]
     },
     "execution_count": 79,
     "metadata": {},
     "output_type": "execute_result"
    }
   ],
   "source": [
    "model.infer_vector(simple_preprocess('đây là document thứ 3'), steps=10)"
   ]
  },
  {
   "cell_type": "markdown",
   "metadata": {},
   "source": [
    "Ngoài những mô hình tôi đã giới thiệu, word embedding các bạn có thể tìm hiểu thêm các mô hình sau: `ELMo, BERT, XLNet, ERNIE, Skip-thoughts, Quick-thoughts, FastSent và Denoising autoencoders, InferSent`. Đây đều là các mô hình mới hơn và phức tạp hơn các mô hình đã giới thiệu bên trên.\n",
    "\n",
    "Xem thêm: https://topdev.vn/blog/mo-hinh-hoa-cau-van-thanh-vetor-trong-mo-hinh-hoc-may/"
   ]
  }
 ],
 "metadata": {
  "kernelspec": {
   "display_name": "Python 3",
   "language": "python",
   "name": "python3"
  },
  "language_info": {
   "codemirror_mode": {
    "name": "ipython",
    "version": 3
   },
   "file_extension": ".py",
   "mimetype": "text/x-python",
   "name": "python",
   "nbconvert_exporter": "python",
   "pygments_lexer": "ipython3",
   "version": "3.7.4"
  }
 },
 "nbformat": 4,
 "nbformat_minor": 2
}
