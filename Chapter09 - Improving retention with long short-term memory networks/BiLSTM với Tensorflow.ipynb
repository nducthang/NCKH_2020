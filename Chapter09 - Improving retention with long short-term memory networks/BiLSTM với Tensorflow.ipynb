{
 "cells": [
  {
   "cell_type": "markdown",
   "metadata": {},
   "source": [
    "BiLSTM tức là LSTM 2 chiều, đôi khi với dữ liệu chuỗi, từ hiện tại không chỉ phụ thuộc vào từ trước nó mà còn phụ thuộc vào từ sau nó. Vì vậy , BiLSTM là cần thiết, nó là 2 lstm ngược chiều nhau. Ví dụ 1 câu anh yêu em thì LSTM thứ nhất sẽ chạy theo chiều \"anh yêu em\", LSTM thứ 2 sẽ chạy theo chiều \"em yêu anh\".\n",
    "\n",
    "Trong tensorflow hỗ trợ `static_bidirectional_rnn`.\n",
    "\n",
    "Ở phần này, ta vẫn làm với dữ liệu MNIST như bài trước, chỉ là thay vì xây dựng mạng LSTM thì chúng ta sẽ xây dựng mạng Bi-LSTM abwfng Tensorflow."
   ]
  },
  {
   "cell_type": "code",
   "execution_count": 1,
   "metadata": {},
   "outputs": [],
   "source": [
    "import tensorflow as tf\n",
    "from tensorflow.contrib import rnn\n",
    "import numpy as np\n",
    "from tensorflow.examples.tutorials.mnist import input_data"
   ]
  },
  {
   "cell_type": "code",
   "execution_count": 2,
   "metadata": {},
   "outputs": [
    {
     "name": "stdout",
     "output_type": "stream",
     "text": [
      "WARNING:tensorflow:From <ipython-input-2-d651cc53d7d8>:1: read_data_sets (from tensorflow.contrib.learn.python.learn.datasets.mnist) is deprecated and will be removed in a future version.\n",
      "Instructions for updating:\n",
      "Please use alternatives such as official/mnist/dataset.py from tensorflow/models.\n",
      "WARNING:tensorflow:From c:\\program files\\python37\\lib\\site-packages\\tensorflow_core\\contrib\\learn\\python\\learn\\datasets\\mnist.py:260: maybe_download (from tensorflow.contrib.learn.python.learn.datasets.base) is deprecated and will be removed in a future version.\n",
      "Instructions for updating:\n",
      "Please write your own downloading logic.\n",
      "WARNING:tensorflow:From c:\\program files\\python37\\lib\\site-packages\\tensorflow_core\\contrib\\learn\\python\\learn\\datasets\\mnist.py:262: extract_images (from tensorflow.contrib.learn.python.learn.datasets.mnist) is deprecated and will be removed in a future version.\n",
      "Instructions for updating:\n",
      "Please use tf.data to implement this functionality.\n",
      "Extracting /tmp/data/train-images-idx3-ubyte.gz\n",
      "WARNING:tensorflow:From c:\\program files\\python37\\lib\\site-packages\\tensorflow_core\\contrib\\learn\\python\\learn\\datasets\\mnist.py:267: extract_labels (from tensorflow.contrib.learn.python.learn.datasets.mnist) is deprecated and will be removed in a future version.\n",
      "Instructions for updating:\n",
      "Please use tf.data to implement this functionality.\n",
      "Extracting /tmp/data/train-labels-idx1-ubyte.gz\n",
      "WARNING:tensorflow:From c:\\program files\\python37\\lib\\site-packages\\tensorflow_core\\contrib\\learn\\python\\learn\\datasets\\mnist.py:110: dense_to_one_hot (from tensorflow.contrib.learn.python.learn.datasets.mnist) is deprecated and will be removed in a future version.\n",
      "Instructions for updating:\n",
      "Please use tf.one_hot on tensors.\n",
      "Extracting /tmp/data/t10k-images-idx3-ubyte.gz\n",
      "Extracting /tmp/data/t10k-labels-idx1-ubyte.gz\n",
      "WARNING:tensorflow:From c:\\program files\\python37\\lib\\site-packages\\tensorflow_core\\contrib\\learn\\python\\learn\\datasets\\mnist.py:290: DataSet.__init__ (from tensorflow.contrib.learn.python.learn.datasets.mnist) is deprecated and will be removed in a future version.\n",
      "Instructions for updating:\n",
      "Please use alternatives such as official/mnist/dataset.py from tensorflow/models.\n"
     ]
    }
   ],
   "source": [
    "mnist = input_data.read_data_sets(\"/tmp/data/\", one_hot=True)"
   ]
  },
  {
   "cell_type": "code",
   "execution_count": 3,
   "metadata": {},
   "outputs": [],
   "source": [
    "# Training Parameters\n",
    "learning_rate = 0.001\n",
    "training_steps = 10000\n",
    "batch_size = 128\n",
    "display_step = 200\n",
    "\n",
    "# Network Parameters\n",
    "num_input = 28 # MNIST data input (img shape: 28*28)\n",
    "timesteps = 28 # timesteps\n",
    "num_hidden = 128 # hidden layer num of features\n",
    "num_classes = 10 # MNIST total classes (0-9 digits)\n",
    "\n",
    "# tf Graph input\n",
    "X = tf.placeholder(\"float\", [None, timesteps, num_input])\n",
    "Y = tf.placeholder(\"float\", [None, num_classes])"
   ]
  },
  {
   "cell_type": "code",
   "execution_count": 4,
   "metadata": {},
   "outputs": [],
   "source": [
    "# Define weights\n",
    "weights = {\n",
    "    # Hidden layer weights => 2*n_hidden because of forward + backward cells\n",
    "    'out': tf.Variable(tf.random_normal([2*num_hidden, num_classes]))\n",
    "}\n",
    "biases = {\n",
    "    'out': tf.Variable(tf.random_normal([num_classes]))\n",
    "}"
   ]
  },
  {
   "cell_type": "code",
   "execution_count": 5,
   "metadata": {},
   "outputs": [],
   "source": [
    "def BiLSTM(x, weights, biases):\n",
    "\n",
    "    # Prepare data shape to match `rnn` function requirements\n",
    "    # Current data input shape: (batch_size, timesteps, n_input)\n",
    "    # Required shape: 'timesteps' tensors list of shape (batch_size, num_input)\n",
    "\n",
    "    # Unstack to get a list of 'timesteps' tensors of shape (batch_size, num_input)\n",
    "    x = tf.unstack(x, timesteps, 1)\n",
    "\n",
    "    # Define lstm cells with tensorflow\n",
    "    # Forward direction cell\n",
    "    lstm_fw_cell = rnn.BasicLSTMCell(num_hidden, forget_bias=1.0)\n",
    "    # Backward direction cell\n",
    "    lstm_bw_cell = rnn.BasicLSTMCell(num_hidden, forget_bias=1.0)\n",
    "\n",
    "    # Get lstm cell output\n",
    "    try:\n",
    "        outputs, _, _ = rnn.static_bidirectional_rnn(lstm_fw_cell, lstm_bw_cell, x,\n",
    "                                              dtype=tf.float32)\n",
    "    except Exception: # Old TensorFlow version only returns outputs not states\n",
    "        outputs = rnn.static_bidirectional_rnn(lstm_fw_cell, lstm_bw_cell, x,\n",
    "                                        dtype=tf.float32)\n",
    "\n",
    "    # Linear activation, using rnn inner loop last output\n",
    "    return tf.matmul(outputs[-1], weights['out']) + biases['out']"
   ]
  },
  {
   "cell_type": "code",
   "execution_count": 6,
   "metadata": {
    "scrolled": false
   },
   "outputs": [
    {
     "name": "stdout",
     "output_type": "stream",
     "text": [
      "WARNING:tensorflow:From <ipython-input-5-fc6ddbcc6aaf>:12: BasicLSTMCell.__init__ (from tensorflow.python.ops.rnn_cell_impl) is deprecated and will be removed in a future version.\n",
      "Instructions for updating:\n",
      "This class is equivalent as tf.keras.layers.LSTMCell, and will be replaced by that in Tensorflow 2.0.\n",
      "WARNING:tensorflow:From <ipython-input-5-fc6ddbcc6aaf>:19: static_bidirectional_rnn (from tensorflow.python.ops.rnn) is deprecated and will be removed in a future version.\n",
      "Instructions for updating:\n",
      "Please use `keras.layers.Bidirectional(keras.layers.RNN(cell, unroll=True))`, which is equivalent to this API\n",
      "WARNING:tensorflow:From c:\\program files\\python37\\lib\\site-packages\\tensorflow_core\\python\\ops\\rnn.py:1610: static_rnn (from tensorflow.python.ops.rnn) is deprecated and will be removed in a future version.\n",
      "Instructions for updating:\n",
      "Please use `keras.layers.RNN(cell, unroll=True)`, which is equivalent to this API\n",
      "WARNING:tensorflow:From c:\\program files\\python37\\lib\\site-packages\\tensorflow_core\\python\\ops\\rnn_cell_impl.py:735: Layer.add_variable (from tensorflow.python.keras.engine.base_layer) is deprecated and will be removed in a future version.\n",
      "Instructions for updating:\n",
      "Please use `layer.add_weight` method instead.\n",
      "WARNING:tensorflow:From c:\\program files\\python37\\lib\\site-packages\\tensorflow_core\\python\\ops\\rnn_cell_impl.py:739: calling Zeros.__init__ (from tensorflow.python.ops.init_ops) with dtype is deprecated and will be removed in a future version.\n",
      "Instructions for updating:\n",
      "Call initializer instance with the dtype argument instead of passing it to the constructor\n",
      "WARNING:tensorflow:From <ipython-input-6-594a2258e9c4>:5: softmax_cross_entropy_with_logits (from tensorflow.python.ops.nn_ops) is deprecated and will be removed in a future version.\n",
      "Instructions for updating:\n",
      "\n",
      "Future major versions of TensorFlow will allow gradients to flow\n",
      "into the labels input on backprop by default.\n",
      "\n",
      "See `tf.nn.softmax_cross_entropy_with_logits_v2`.\n",
      "\n"
     ]
    }
   ],
   "source": [
    "logits = BiLSTM(X, weights, biases)\n",
    "prediction = tf.nn.softmax(logits)\n",
    "\n",
    "# Define loss and optimizer\n",
    "loss_op = tf.reduce_mean(tf.nn.softmax_cross_entropy_with_logits(logits=logits, labels=Y))\n",
    "optimizer = tf.train.GradientDescentOptimizer(learning_rate=learning_rate)\n",
    "train_op = optimizer.minimize(loss_op)\n",
    "\n",
    "# Evaluate model (with test logits, for dropout to be disabled)\n",
    "correct_pred = tf.equal(tf.argmax(prediction, 1), tf.argmax(Y, 1))\n",
    "accuracy = tf.reduce_mean(tf.cast(correct_pred, tf.float32))\n",
    "\n",
    "# Initialize the variables (i.e. assign their default value)\n",
    "init = tf.global_variables_initializer()"
   ]
  },
  {
   "cell_type": "code",
   "execution_count": 7,
   "metadata": {},
   "outputs": [
    {
     "name": "stdout",
     "output_type": "stream",
     "text": [
      "Step 1, Minibatch Loss= 2.6842, Training Accuracy= 0.047\n",
      "Step 200, Minibatch Loss= 2.0886, Training Accuracy= 0.344\n",
      "Step 400, Minibatch Loss= 1.9863, Training Accuracy= 0.375\n",
      "Step 600, Minibatch Loss= 1.8868, Training Accuracy= 0.453\n",
      "Step 800, Minibatch Loss= 1.6947, Training Accuracy= 0.469\n",
      "Step 1000, Minibatch Loss= 1.6783, Training Accuracy= 0.438\n",
      "Step 1200, Minibatch Loss= 1.4354, Training Accuracy= 0.617\n",
      "Step 1400, Minibatch Loss= 1.3872, Training Accuracy= 0.602\n",
      "Step 1600, Minibatch Loss= 1.4069, Training Accuracy= 0.617\n",
      "Step 1800, Minibatch Loss= 1.4222, Training Accuracy= 0.539\n",
      "Step 2000, Minibatch Loss= 1.3150, Training Accuracy= 0.594\n",
      "Step 2200, Minibatch Loss= 1.2757, Training Accuracy= 0.570\n",
      "Step 2400, Minibatch Loss= 1.1143, Training Accuracy= 0.617\n",
      "Step 2600, Minibatch Loss= 1.2129, Training Accuracy= 0.602\n",
      "Step 2800, Minibatch Loss= 0.9737, Training Accuracy= 0.711\n",
      "Step 3000, Minibatch Loss= 0.9416, Training Accuracy= 0.797\n",
      "Step 3200, Minibatch Loss= 0.9869, Training Accuracy= 0.719\n",
      "Step 3400, Minibatch Loss= 1.0198, Training Accuracy= 0.734\n",
      "Step 3600, Minibatch Loss= 1.0601, Training Accuracy= 0.672\n",
      "Step 3800, Minibatch Loss= 0.8777, Training Accuracy= 0.695\n",
      "Step 4000, Minibatch Loss= 0.9926, Training Accuracy= 0.695\n",
      "Step 4200, Minibatch Loss= 0.9673, Training Accuracy= 0.688\n",
      "Step 4400, Minibatch Loss= 0.9655, Training Accuracy= 0.695\n",
      "Step 4600, Minibatch Loss= 0.8600, Training Accuracy= 0.727\n",
      "Step 4800, Minibatch Loss= 0.9241, Training Accuracy= 0.742\n",
      "Step 5000, Minibatch Loss= 0.8871, Training Accuracy= 0.703\n",
      "Step 5200, Minibatch Loss= 0.9327, Training Accuracy= 0.695\n",
      "Step 5400, Minibatch Loss= 0.8253, Training Accuracy= 0.773\n",
      "Step 5600, Minibatch Loss= 0.7566, Training Accuracy= 0.734\n",
      "Step 5800, Minibatch Loss= 0.8041, Training Accuracy= 0.742\n",
      "Step 6000, Minibatch Loss= 0.8215, Training Accuracy= 0.727\n",
      "Step 6200, Minibatch Loss= 0.7522, Training Accuracy= 0.742\n",
      "Step 6400, Minibatch Loss= 0.6887, Training Accuracy= 0.758\n",
      "Step 6600, Minibatch Loss= 0.7649, Training Accuracy= 0.750\n",
      "Step 6800, Minibatch Loss= 0.6364, Training Accuracy= 0.773\n",
      "Step 7000, Minibatch Loss= 0.7087, Training Accuracy= 0.766\n",
      "Step 7200, Minibatch Loss= 0.6975, Training Accuracy= 0.758\n",
      "Step 7400, Minibatch Loss= 0.6607, Training Accuracy= 0.781\n",
      "Step 7600, Minibatch Loss= 0.6473, Training Accuracy= 0.773\n",
      "Step 7800, Minibatch Loss= 0.5086, Training Accuracy= 0.859\n",
      "Step 8000, Minibatch Loss= 0.7646, Training Accuracy= 0.820\n",
      "Step 8200, Minibatch Loss= 0.4257, Training Accuracy= 0.867\n",
      "Step 8400, Minibatch Loss= 0.5088, Training Accuracy= 0.852\n",
      "Step 8600, Minibatch Loss= 0.5246, Training Accuracy= 0.828\n",
      "Step 8800, Minibatch Loss= 0.4753, Training Accuracy= 0.867\n",
      "Step 9000, Minibatch Loss= 0.6082, Training Accuracy= 0.852\n",
      "Step 9200, Minibatch Loss= 0.5819, Training Accuracy= 0.812\n",
      "Step 9400, Minibatch Loss= 0.6696, Training Accuracy= 0.836\n",
      "Step 9600, Minibatch Loss= 0.4873, Training Accuracy= 0.828\n",
      "Step 9800, Minibatch Loss= 0.4434, Training Accuracy= 0.867\n",
      "Step 10000, Minibatch Loss= 0.3630, Training Accuracy= 0.891\n",
      "Optimization Finished!\n",
      "Testing Accuracy: 0.875\n"
     ]
    }
   ],
   "source": [
    "# Start training\n",
    "with tf.Session() as sess:\n",
    "\n",
    "    # Run the initializer\n",
    "    sess.run(init)\n",
    "\n",
    "    for step in range(1, training_steps+1):\n",
    "        batch_x, batch_y = mnist.train.next_batch(batch_size)\n",
    "        # Reshape data to get 28 seq of 28 elements\n",
    "        batch_x = batch_x.reshape((batch_size, timesteps, num_input))\n",
    "        # Run optimization op (backprop)\n",
    "        sess.run(train_op, feed_dict={X: batch_x, Y: batch_y})\n",
    "        if step % display_step == 0 or step == 1:\n",
    "            # Calculate batch loss and accuracy\n",
    "            loss, acc = sess.run([loss_op, accuracy], feed_dict={X: batch_x,\n",
    "                                                                 Y: batch_y})\n",
    "            print(\"Step \" + str(step) + \", Minibatch Loss= \" + \\\n",
    "                  \"{:.4f}\".format(loss) + \", Training Accuracy= \" + \\\n",
    "                  \"{:.3f}\".format(acc))\n",
    "\n",
    "    print(\"Optimization Finished!\")\n",
    "\n",
    "    # Calculate accuracy for 128 mnist test images\n",
    "    test_len = 128\n",
    "    test_data = mnist.test.images[:test_len].reshape((-1, timesteps, num_input))\n",
    "    test_label = mnist.test.labels[:test_len]\n",
    "    print(\"Testing Accuracy:\", \\\n",
    "        sess.run(accuracy, feed_dict={X: test_data, Y: test_label}))"
   ]
  }
 ],
 "metadata": {
  "kernelspec": {
   "display_name": "Python 3",
   "language": "python",
   "name": "python3"
  },
  "language_info": {
   "codemirror_mode": {
    "name": "ipython",
    "version": 3
   },
   "file_extension": ".py",
   "mimetype": "text/x-python",
   "name": "python",
   "nbconvert_exporter": "python",
   "pygments_lexer": "ipython3",
   "version": "3.7.4"
  }
 },
 "nbformat": 4,
 "nbformat_minor": 2
}
