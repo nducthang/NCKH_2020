{
 "cells": [
  {
   "cell_type": "markdown",
   "metadata": {},
   "source": [
    "# Chương này bao gồm:\n",
    "- Ánh xạ một chuỗi văn bản này sang chuỗi văn bản khác với mạng neural.\n",
    "- Hiểu về mô hình seq2seq và khác biệt như thế nào với những mô hình đã học.\n",
    "- Sử dụng kiến trúc mô hình encoder-decoder cho dịch máy và chat\n",
    "- Huấn luyện một mô hình với cơ chế attention trong một chuooix"
   ]
  },
  {
   "cell_type": "markdown",
   "metadata": {},
   "source": [
    "# 1. Kiến trúc Encoder-decoder"
   ]
  },
  {
   "cell_type": "markdown",
   "metadata": {},
   "source": [
    "## 1.1 Decoding thought"
   ]
  },
  {
   "cell_type": "markdown",
   "metadata": {},
   "source": [
    "Hãy tưởng tượng bạn muốn phát triển một mô hình dịch từ tiếng Anh sang tiếng Đức. Bạn muốn ánh xạ chuỗi ký tự hoặc một từ với một chuỗi hoặc ký tự khác. Trước đây bạn đã biết cách xây dựng mô hình để dự đoán một phần tử ở bước thời gian t dựa vào bước thời gian trước đó là t-1. Nhưng trực tiếp sử dụng một LSTM để ánh xạ một ngôn ngữ này sang ngôn ngữ khác nhanh chóng gặp sự cố, vì với LSTM thì chuỗi đầu vào và đầu ra phải giống nhau về độ dài. Bạn mong muốn một mô hình tổng quát hơn.\n",
    "\n",
    "Mạng sequence-to-sequence, đối khi được gọi tắt là *seq2seq* giải quyết vấn đề này bằng cách tạo một biểu diễn đầu vào dưới dạng một vector suy nghĩ *throght vector*. Mô hình seq2seq sử dụng vector đó, thỉnh thoảng gọi là *context vector* như là một điểm bắt đầu cho một mạng thứ 2 nhận một tập các đầu vào khác nhau để sinh chuỗi đầu ra."
   ]
  },
  {
   "cell_type": "markdown",
   "metadata": {},
   "source": [
    "**THOUGHT VECTOR**: Hãy nhớ khi bạn phát hiện ra word vector? Word vector là biểu diễn một từ thành một vector có độ dài cố định. Các từ có nghĩa tương tự nhau thì gần nhau trong không gian vector này. Một thought vector cũng rất giống như vậy. Một mạng neural có thể  nén thông tin từ một câu không chỉ là một từ thành một vector có độ dài cố định. Thought vector là vector này, Chúng sử dụng một biểu diễn số của tài liệu để thúc đẩy một mô hình giải mã (Decoder), "
   ]
  },
  {
   "cell_type": "code",
   "execution_count": null,
   "metadata": {},
   "outputs": [],
   "source": []
  }
 ],
 "metadata": {
  "kernelspec": {
   "display_name": "Python 3",
   "language": "python",
   "name": "python3"
  },
  "language_info": {
   "codemirror_mode": {
    "name": "ipython",
    "version": 3
   },
   "file_extension": ".py",
   "mimetype": "text/x-python",
   "name": "python",
   "nbconvert_exporter": "python",
   "pygments_lexer": "ipython3",
   "version": "3.8.2"
  }
 },
 "nbformat": 4,
 "nbformat_minor": 4
}
