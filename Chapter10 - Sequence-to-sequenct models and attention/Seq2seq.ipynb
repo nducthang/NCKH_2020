{
 "cells": [
  {
   "cell_type": "markdown",
   "metadata": {},
   "source": [
    "# Nội dung\n",
    "\n",
    "1. Tổng quan <br/>\n",
    "    1.1 Encoder<br/>\n",
    "    1.2 Decoder<br/>\n",
    "2. Áp dụng Seq2Seq cho bài toán dịch tiếng Việt sang tiếng Anh<br/>\n",
    "    2.1 Xử lý dữ liệu <br/>\n",
    "    2.2 Xây dựng mô hình <br/>\n"
   ]
  },
  {
   "cell_type": "markdown",
   "metadata": {},
   "source": [
    "# Các tài liệu tham khảo:\n",
    "1. NEURAL MACHINE TRANSLATION BY JOINTLY LEARNING TO ALIGN AND TRANSLATE: https://arxiv.org/pdf/1409.0473.pdf\n",
    "2. http://itechseeker.com/tutorials/nlp-with-deep-learning/ly-thuyet-chung/attention-mechanism/\n",
    "3. http://itechseeker.com/tutorials/nlp-with-deep-learning/ly-thuyet-chung/sequence-to-sequence-model/\n",
    "4. Nature Language Processing in action\n",
    "5. Sequence to Sequence Learning with Neural Networks - Ilya Sutskever, Oriol Vinyals, Quoc V. Le\n",
    "6. https://towardsdatascience.com/nlp-sequence-to-sequence-networks-part-1-processing-text-data-d141a5643b72\n",
    "7. https://towardsdatascience.com/nlp-sequence-to-sequence-networks-part-2-seq2seq-model-encoderdecoder-model-6c22e29fd7e1\n",
    "8. https://nerophung.github.io/2019/05/18/nlp-p3"
   ]
  },
  {
   "cell_type": "markdown",
   "metadata": {},
   "source": [
    "# 1. Tổng quan"
   ]
  },
  {
   "cell_type": "markdown",
   "metadata": {},
   "source": [
    "Kể từ khi RNN, LSTM ra đời đã giải quyết được nhiều bài toán. Trong LSTM, chúng ta đã biết cách để xây dựng một mô hình để dự đoán một phần tử ở bước thời gian t dựa vào bước thời gian trước đó là t-1. Nhưng trực tiếp sử dụng LSTM để ánh xạ ngôn ngữ ngày sang ngôn ngữ khác nhanh chóng gặp phải sự cố, vì với LSTM thì chuỗi đầu vào và chuỗi đầu ra phải giống nhau về độ dài. Nhưng với bài toán dịch thì chuỗi đầu vào và chuỗi đầu ra có thể khác nhau về độ dài.\n",
    "\n",
    "Mạng **sequence to sequence** hay gọi tắt là **seq2seq** giải quyết vấn đề này bằng cách tạo một biễu diễn đầu vào dưới dạng một vector (gọi là **thought vector**, hay **context vector**). Mô hình seq2seq sau đó sử dụng vector đó như một đầu vào cho mạng thứ 2 gọi là mạng *decoder* để sinh các chuỗi đầu ra.\n",
    "\n",
    "**Seq2seq** là mô hình Deep Learning được giới thiệu bởi nhóm nghiên cứu của Google vào năm 2014. Seq2Seq được tạo ra nhằm mục đích tạo ra một output sequence từ một input sequence mà độ dài 2 chuỗi input và output có thể khác nhau.\n",
    "\n",
    "Mục đích ban đầu của mô hình là áp dụng vào các bài Machine Translation, tuy nhiên hiện nay Seq2Seq cũng được áp dụng vào rất nhiều các bài toán khác nhau như Nhận dạng giọng nói, Tóm tắt văn bản, Chú thích ảnh, ..."
   ]
  },
  {
   "cell_type": "markdown",
   "metadata": {},
   "source": [
    "**Seq2Seq** gồm 2 thành phần chính: Encoder và Decoder. Cả hai thành phần này đều được hình thành từ các mạng như RNN, LSTM, GRU. Nhiệm vụ của mỗi thành phần là:\n",
    "* **Encoder**: Chuyển đổi dữ liệu đầu vào thành một vecto đại diện (*thought vector*)\n",
    "* **Decoder**: Tạo ra chuỗi đầu ra từ vector đại diện được tạo ra từ Encoder.\n",
    "\n",
    "![Unroll encoder decoder](./images/2.png)\n",
    "\n",
    "\n",
    "**Thought Vector**: Hãy nhớ lại khi chúng ta tìm hiểu về word embedding? Word vector (word embedding) là biểu diễn một từ thành một vector có độ dài cố định. Các từ có mối quan hệ tương tự nhau thì gần nhau trong không gian vector này. Một thought vector cũng rất giống như vậy, nó là một vector có độ dài cố định mà được nén thông tin từ một câu chứ không chỉ đơn thuần là một từ. Sau đó vector này được đưa vào bộ giải mã (decoder) để xử lý và đưa ra đầu ra."
   ]
  },
  {
   "cell_type": "markdown",
   "metadata": {},
   "source": [
    "## 1.1 Encoder:"
   ]
  },
  {
   "cell_type": "markdown",
   "metadata": {},
   "source": [
    "Thành phần encoder chứa các mạng con là phần tử của RNN (hoặc LSTM, GRU,..), mục đích duy nhất của encoder là tạo ra thought vector, vector này sau đó được sử dụng làm trạng thái ban đầu của bộ giải mã (decoder).\n",
    "![Thought vector](./images/6.png)\n",
    "Thought vector chính là vector state cuối cùng của chuỗi LSTM. Tại sao lại sử dụng vector state cuối cùng mà không phải toàn bộ?\n",
    "\n",
    "Lấy ví dụ mạng RNN: **X=\"How are your\"**\n",
    "\n",
    "$x_1=\\text{How}$\n",
    "\n",
    "$x_2=\\text{are}$\n",
    "\n",
    "$x_3=\\text{you}$\n",
    "\n",
    "Công việc tính toán các state sẽ được thực hiện như sau:\n",
    "\n",
    "$S_1=f(S_0, x_1)$\n",
    "\n",
    "$S_2=f(S_1, x_2)=f(f(S_0,x_1), x_2)$\n",
    "\n",
    "$S_3=f(S_2, x_3)=f(f(f(S_0,x_1), x_2), x_3)$\n",
    "\n",
    "Có thể thấy $S_3$ đã mang thông tin của $x_1, x_2, x_3$, như vậy, ta có thể kỳ vọng rằng trạng thái cuối cùng sẽ mang thông tin của cả câu đầu vào, và có thể đưa trạng thái này vào mạng decoder cho bước sau."
   ]
  },
  {
   "cell_type": "markdown",
   "metadata": {},
   "source": [
    "## 1.2 Decoder:"
   ]
  },
  {
   "cell_type": "markdown",
   "metadata": {},
   "source": [
    "Tương tự như Encoder, Decoder cũng là ngăn xếp chứa các mạng con là phần từ của RNN (hoặc LSTM, GRU, ...) sẽ dự đoán đầu ra y<sub>t</sub> tại thời điểm t. Mỗi phần tử này nhận đầu vào là trạng thái ẩn, đầu ra trước đó tạo ra kết quả đầu ra và trạng thái ẩn của chính nó.\n",
    "\n",
    "Hình dưới đây mô tả mô hình seq2seq sử dụng lstm cho bài toán chatbot tiếng Anh:\n",
    "\n",
    "![9](./images/9.png)\n",
    "\n",
    "\n",
    "Chuỗi đầu ra là tập các từ của câu trả lời, giả sử ta có tập các từ $y_i$trong đó $i$ là thứ tự của các từ.\n",
    "\n",
    "\n",
    "Đầu ra tại thời điểm $t$ được tính bằng công thức: $y_t = \\text{softmax}(W_s h_t)$\n",
    "\n",
    "Trong đó:\n",
    "* $W_s$ là ma trận trọng số của trạng thái ẩn và đầu ra.\n",
    "* $h_t$ là trạng thái ẩn ở bước $t$\n",
    "\n",
    "Hình dưới đây mô tả mô hình seq2seq cho bài toán dịch từ tiếng Anh sang tiếng Pháp:\n",
    "![8](./images/8.png)\n",
    "\n",
    "Tùy từng bài toán cụ thể mà Encoder và Decoder sẽ sử dụng các mạng Deep Learning khác nhau. Ví dụ như trong bài toán Machine Translation thì Encoder thường là LSTM, GRU, Bidirectional RNN, còn trong bài toán Chú thích ảnh thì Encoder lại là CNN."
   ]
  },
  {
   "cell_type": "markdown",
   "metadata": {},
   "source": [
    "# 2. Áp dụng mô hình Seq2seq cho bài toán dịch tiếng Anh sang tiếng Việt"
   ]
  },
  {
   "cell_type": "markdown",
   "metadata": {},
   "source": [
    "Để hiểu rõ hơn về mô hình, trong phần này chúng ta sẽ học cách tạo một mạng seq2seq và huấn luyện nó để dịch văn bản tiếng Anh sang văn bản tiếng Việt hoặc ta cũng có thể sử dụng mô hình cho mục đích khác.\n",
    "\n",
    "Bộ dữ liệu sử dụng được tải tại http://www.manythings.org/anki/\n"
   ]
  },
  {
   "cell_type": "markdown",
   "metadata": {},
   "source": [
    "## 2.1 Xử lý dữ liệu\n",
    "Chúng ta sẽ học các phương pháp xử lý dữ liệu sau:\n",
    "* Xử lý mức ký tự (Character level)\n",
    "* Xử lý mức độ từ (Word level) (Dùng Embedding)"
   ]
  },
  {
   "cell_type": "markdown",
   "metadata": {},
   "source": [
    "### 2.1.1 Xử lý mức ký tự (Character level)"
   ]
  },
  {
   "cell_type": "code",
   "execution_count": 1,
   "metadata": {},
   "outputs": [],
   "source": [
    "import numpy as np\n",
    "\n",
    "# read txt file into a list line by line\n",
    "with open('./vie-eng/vie.txt', 'r', encoding='utf-8-sig') as f:\n",
    "    text = f.readlines()"
   ]
  },
  {
   "cell_type": "code",
   "execution_count": 2,
   "metadata": {},
   "outputs": [
    {
     "data": {
      "text/plain": [
       "['Run!\\tChạy!\\tCC-BY 2.0 (France) Attribution: tatoeba.org #906328 (papabear) & #1541945 (Aomori)\\n',\n",
       " 'Help!\\tGiúp tôi với!\\tCC-BY 2.0 (France) Attribution: tatoeba.org #435084 (lukaszpp) & #5489308 (phuc)\\n',\n",
       " 'Hello!\\tChào bạn.\\tCC-BY 2.0 (France) Attribution: tatoeba.org #373330 (CK) & #510482 (tucm)\\n',\n",
       " 'Hurry!\\tNhanh lên nào!\\tCC-BY 2.0 (France) Attribution: tatoeba.org #1182334 (Hideousss) & #5489313 (phuc)\\n',\n",
       " 'Help me!\\tCứu tôi với!\\tCC-BY 2.0 (France) Attribution: tatoeba.org #1126684 (CK) & #1550859 (trieuho)\\n',\n",
       " 'You run.\\tBạn chạy.\\tCC-BY 2.0 (France) Attribution: tatoeba.org #672252 (CK) & #3681115 (tucm)\\n',\n",
       " 'Cheer up.\\tĐừng có rầu rĩ quá như thế.\\tCC-BY 2.0 (France) Attribution: tatoeba.org #2946394 (alvations) & #1549527 (trieuho)\\n',\n",
       " 'He tries.\\tHắn thử.\\tCC-BY 2.0 (France) Attribution: tatoeba.org #288166 (CM) & #5767749 (yippe)\\n',\n",
       " 'He tries.\\tAnh thử.\\tCC-BY 2.0 (France) Attribution: tatoeba.org #288166 (CM) & #5767750 (yippe)\\n',\n",
       " 'Hurry up.\\tThoáng cái chân lên!\\tCC-BY 2.0 (France) Attribution: tatoeba.org #1329 (brauliobezerra) & #5168544 (truongap)\\n']"
      ]
     },
     "execution_count": 2,
     "metadata": {},
     "output_type": "execute_result"
    }
   ],
   "source": [
    "text[:10]"
   ]
  },
  {
   "cell_type": "code",
   "execution_count": 3,
   "metadata": {},
   "outputs": [],
   "source": [
    "# split sample and nesscessary dictionnaries\n",
    "# Define empty list to story the samples in them:\n",
    "en_samples = []\n",
    "vi_samples = []\n",
    "\n",
    "# Define empty set to store the character in them:\n",
    "en_chars = set()\n",
    "vi_chars = set()\n",
    "\n",
    "# split sample and get the character sets:\n",
    "for line in text:\n",
    "    en_, vi_, _ = line.split('\\t')\n",
    "    for char in vi_:\n",
    "        if char not in vi_chars:\n",
    "            vi_chars.add(char)\n",
    "    for char in en_:\n",
    "        if char not in en_chars:\n",
    "            en_chars.add(char)\n",
    "            \n",
    "    en_samples.append(en_)\n",
    "    vi_samples.append(vi_)\n",
    "\n",
    "# Add the chars \\t and \\n to the sets\n",
    "vi_chars.add('\\n')\n",
    "vi_chars.add('\\t')\n",
    "\n",
    "en_chars.add('\\n')\n",
    "en_chars.add('\\t')"
   ]
  },
  {
   "cell_type": "code",
   "execution_count": 4,
   "metadata": {},
   "outputs": [],
   "source": [
    "# Make the needed dictionaries to convert characters to intergers and the opposite\n",
    "\n",
    "vi_char_to_int = dict()\n",
    "vi_int_to_char = dict()\n",
    "en_char_to_int = dict()\n",
    "en_int_to_char = dict()\n",
    "\n",
    "for i, char in enumerate(vi_chars):\n",
    "    vi_char_to_int[char] = i\n",
    "    vi_int_to_char[i] = char\n",
    "    \n",
    "for i, char in enumerate(en_chars):\n",
    "    en_char_to_int[char] = i\n",
    "    en_int_to_char[i] = char"
   ]
  },
  {
   "cell_type": "code",
   "execution_count": 5,
   "metadata": {},
   "outputs": [
    {
     "name": "stdout",
     "output_type": "stream",
     "text": [
      "Num english char: 74\n",
      "Num vietnamese char: 161\n",
      "Max chars per sample Enlish: 182\n",
      "Max chars per sample Vietnamese: 161\n",
      "Num sample Englise: 3450\n",
      "Num sample vietnamese: 3450\n"
     ]
    }
   ],
   "source": [
    "# Compute the length of the longest sample and some other variables:\n",
    "# Get length and size\n",
    "num_en_chars = len(en_chars)\n",
    "num_vi_chars = len(vi_chars)\n",
    "\n",
    "max_en_chars_per_sample = max([len(sample) for sample in en_samples])\n",
    "max_vi_chars_per_sample = max([len(sample) for sample in vi_samples])\n",
    "\n",
    "num_en_samples = len(en_samples)\n",
    "num_vi_samples = len(vi_samples)\n",
    "\n",
    "print(\"Num english char:\", num_en_chars)\n",
    "print(\"Num vietnamese char:\", num_vi_chars)\n",
    "\n",
    "print(\"Max chars per sample Enlish:\", max_en_chars_per_sample)\n",
    "print(\"Max chars per sample Vietnamese:\", max_vi_chars_per_sample)\n",
    "\n",
    "print(\"Num sample Englise:\", num_en_samples)\n",
    "print(\"Num sample vietnamese:\", num_vi_samples)"
   ]
  },
  {
   "cell_type": "markdown",
   "metadata": {},
   "source": [
    "Tiếp theo, chúng ta dùng one hot encode các mẫu theo các chữ cái.\n",
    "\n",
    "Ví dụ:\n",
    "\n",
    "Hi -> [0,0,0,…,1,0,0,0],[0,0,0,…,0,1,0,0]]\n",
    "\n",
    "Với mỗi sample chúng ta biểu diễn thành vector $n$ hàng và $j$ cột, trong đó:\n",
    "* $n$ là số ký tự trong mẫu dài nhất\n",
    "* $j$ là số ký tự trong dictionnary\n",
    "\n",
    "Chúng ta sẽ chia data thành 3 tập:\n",
    "1. Các đầu vào cho Encoder (các câu tiếng Anh)\n",
    "2. Các đầu vào cho Decoder (các câu tiếng Việt)\n",
    "3. Mục tiêu (Target) (các câu tiếng Việt)\n",
    "\n",
    "**Target** sẽ giống như đầu vào cho Decoder, có dạng kiểu như sau:\n",
    "\n",
    "Ví dụ:\n",
    "\n",
    "> Decoder input = '\\tHow are yo' <br/>\n",
    "Target = 'How are you'\n"
   ]
  },
  {
   "cell_type": "code",
   "execution_count": 6,
   "metadata": {},
   "outputs": [],
   "source": [
    "encoder_input_data = np.zeros((num_en_samples, max_en_chars_per_sample, num_en_chars), dtype='float32')\n",
    "decoder_input_data = np.zeros((num_vi_samples, max_vi_chars_per_sample, num_vi_chars), dtype='float32')\n",
    "target_data = np.zeros((num_vi_samples, max_vi_chars_per_sample, num_vi_chars), dtype='float32')"
   ]
  },
  {
   "cell_type": "code",
   "execution_count": 7,
   "metadata": {},
   "outputs": [],
   "source": [
    "for i, (en_sample, vi_sample) in enumerate(zip(en_samples, vi_samples)):\n",
    "    for char, en_char in enumerate(en_sample):\n",
    "        encoder_input_data[i, char, en_char_to_int[en_char]] = 1\n",
    "        \n",
    "    for char, vi_char in enumerate(vi_sample):\n",
    "        decoder_input_data[i, char, vi_char_to_int[vi_char]] = 1\n",
    "        if char > 0:\n",
    "            target_data[i, char-1, vi_char_to_int[vi_char]] = 1"
   ]
  },
  {
   "cell_type": "code",
   "execution_count": 8,
   "metadata": {},
   "outputs": [
    {
     "name": "stdout",
     "output_type": "stream",
     "text": [
      "Shape encoder_input_data: (3450, 182, 74)\n",
      "Shape decoder_input_data: (3450, 161, 161)\n",
      "Shape target_data: (3450, 161, 161)\n"
     ]
    }
   ],
   "source": [
    "print(\"Shape encoder_input_data:\", encoder_input_data.shape)\n",
    "print(\"Shape decoder_input_data:\", decoder_input_data.shape)\n",
    "print(\"Shape target_data:\", target_data.shape)"
   ]
  },
  {
   "cell_type": "markdown",
   "metadata": {},
   "source": [
    "### 2.1.2 Xử lý mức độ từ (Word level) \n",
    "Ok, tiếp theo, chúng ta có thể xử lý cấp độ từ, thực hiện tương tự như phương pháp đầu tiên, nhưng ở đây thay vì tạo từ điển các ký tự, chúng ta tạo từ điển các từ được sử dụng trong văn bản mà chúng ta muốn xử lý hoặc đôi khi chúng ta sử dụng 10000 từ thường xuyên nhất của văn bản.\n",
    "\n",
    "Đây là các bước thực hiện:\n",
    "1. Chuyển văn bản thành chữ thường\n",
    "2. Làm sạch dữ liệu, bỏ các chữ số và dấu chấm câu\n",
    "3. Nối 'SOS' và 'EOS' vào target data trong đó:\n",
    "    \n",
    "> SOS -> Start of Senience (Bắt đầu câu) <br/>\n",
    "EOS -> End of Sentience (Kết thúc câu)\n",
    "\n",
    "Chúng ta cần thêm các ký hiệu này để decoder phân biệt được đầu và cuối của 1 câu (Khi nào bắt đầu công việc giải mã và khi nào hoàn thành).\n",
    "\n",
    "4. Tạo dictionary chuyển word sang các chỉ số. (Word to number)\n",
    "5. Sử dụng lớp Embedding để chuyển mỗi từ thành một vector có độ dài cố định (Chúng ta cũng có thể sử dụng các phương pháp Embedding khác)\n",
    "\n",
    "6. Sử dụng data cho mạng seq2seq :D "
   ]
  },
  {
   "cell_type": "code",
   "execution_count": 9,
   "metadata": {},
   "outputs": [],
   "source": [
    "# Load data\n",
    "# using pandas for read data to easy process text\n",
    "import pandas as pd\n",
    "lines = pd.read_table('./vie-eng/vie.txt', names=['en', 'vi', 'other'], encoding='utf-8-sig')"
   ]
  },
  {
   "cell_type": "code",
   "execution_count": 10,
   "metadata": {},
   "outputs": [
    {
     "data": {
      "text/html": [
       "<div>\n",
       "<style scoped>\n",
       "    .dataframe tbody tr th:only-of-type {\n",
       "        vertical-align: middle;\n",
       "    }\n",
       "\n",
       "    .dataframe tbody tr th {\n",
       "        vertical-align: top;\n",
       "    }\n",
       "\n",
       "    .dataframe thead th {\n",
       "        text-align: right;\n",
       "    }\n",
       "</style>\n",
       "<table border=\"1\" class=\"dataframe\">\n",
       "  <thead>\n",
       "    <tr style=\"text-align: right;\">\n",
       "      <th></th>\n",
       "      <th>en</th>\n",
       "      <th>vi</th>\n",
       "      <th>other</th>\n",
       "    </tr>\n",
       "  </thead>\n",
       "  <tbody>\n",
       "    <tr>\n",
       "      <th>0</th>\n",
       "      <td>Run!</td>\n",
       "      <td>Chạy!</td>\n",
       "      <td>CC-BY 2.0 (France) Attribution: tatoeba.org #9...</td>\n",
       "    </tr>\n",
       "    <tr>\n",
       "      <th>1</th>\n",
       "      <td>Help!</td>\n",
       "      <td>Giúp tôi với!</td>\n",
       "      <td>CC-BY 2.0 (France) Attribution: tatoeba.org #4...</td>\n",
       "    </tr>\n",
       "    <tr>\n",
       "      <th>2</th>\n",
       "      <td>Hello!</td>\n",
       "      <td>Chào bạn.</td>\n",
       "      <td>CC-BY 2.0 (France) Attribution: tatoeba.org #3...</td>\n",
       "    </tr>\n",
       "    <tr>\n",
       "      <th>3</th>\n",
       "      <td>Hurry!</td>\n",
       "      <td>Nhanh lên nào!</td>\n",
       "      <td>CC-BY 2.0 (France) Attribution: tatoeba.org #1...</td>\n",
       "    </tr>\n",
       "    <tr>\n",
       "      <th>4</th>\n",
       "      <td>Help me!</td>\n",
       "      <td>Cứu tôi với!</td>\n",
       "      <td>CC-BY 2.0 (France) Attribution: tatoeba.org #1...</td>\n",
       "    </tr>\n",
       "    <tr>\n",
       "      <th>...</th>\n",
       "      <td>...</td>\n",
       "      <td>...</td>\n",
       "      <td>...</td>\n",
       "    </tr>\n",
       "    <tr>\n",
       "      <th>3445</th>\n",
       "      <td>It may seem like a minor thing to you, but for...</td>\n",
       "      <td>Nó chỉ là việc nhỏ đối với bạn, nhưng đối với ...</td>\n",
       "      <td>CC-BY 2.0 (France) Attribution: tatoeba.org #9...</td>\n",
       "    </tr>\n",
       "    <tr>\n",
       "      <th>3446</th>\n",
       "      <td>The user you to want to send this message to d...</td>\n",
       "      <td>Người dùng bạn muốn gởi tin này đến không tồn ...</td>\n",
       "      <td>CC-BY 2.0 (France) Attribution: tatoeba.org #1...</td>\n",
       "    </tr>\n",
       "    <tr>\n",
       "      <th>3447</th>\n",
       "      <td>If you're tired, why don't you go to sleep? \"B...</td>\n",
       "      <td>Nếu mệt thì ngủ một chút đi? \"Bây giờ mà ngủ t...</td>\n",
       "      <td>CC-BY 2.0 (France) Attribution: tatoeba.org #1...</td>\n",
       "    </tr>\n",
       "    <tr>\n",
       "      <th>3448</th>\n",
       "      <td>It's very easy to sound natural in your own na...</td>\n",
       "      <td>Câu nói đó trong ngôn ngữ của bạn rất dễ để ng...</td>\n",
       "      <td>CC-BY 2.0 (France) Attribution: tatoeba.org #1...</td>\n",
       "    </tr>\n",
       "    <tr>\n",
       "      <th>3449</th>\n",
       "      <td>No matter how much you try to convince people ...</td>\n",
       "      <td>Cho dù bạn có thuyết phục mọi người rằng sô-cô...</td>\n",
       "      <td>CC-BY 2.0 (France) Attribution: tatoeba.org #9...</td>\n",
       "    </tr>\n",
       "  </tbody>\n",
       "</table>\n",
       "<p>3450 rows × 3 columns</p>\n",
       "</div>"
      ],
      "text/plain": [
       "                                                     en  \\\n",
       "0                                                  Run!   \n",
       "1                                                 Help!   \n",
       "2                                                Hello!   \n",
       "3                                                Hurry!   \n",
       "4                                              Help me!   \n",
       "...                                                 ...   \n",
       "3445  It may seem like a minor thing to you, but for...   \n",
       "3446  The user you to want to send this message to d...   \n",
       "3447  If you're tired, why don't you go to sleep? \"B...   \n",
       "3448  It's very easy to sound natural in your own na...   \n",
       "3449  No matter how much you try to convince people ...   \n",
       "\n",
       "                                                     vi  \\\n",
       "0                                                 Chạy!   \n",
       "1                                         Giúp tôi với!   \n",
       "2                                             Chào bạn.   \n",
       "3                                        Nhanh lên nào!   \n",
       "4                                          Cứu tôi với!   \n",
       "...                                                 ...   \n",
       "3445  Nó chỉ là việc nhỏ đối với bạn, nhưng đối với ...   \n",
       "3446  Người dùng bạn muốn gởi tin này đến không tồn ...   \n",
       "3447  Nếu mệt thì ngủ một chút đi? \"Bây giờ mà ngủ t...   \n",
       "3448  Câu nói đó trong ngôn ngữ của bạn rất dễ để ng...   \n",
       "3449  Cho dù bạn có thuyết phục mọi người rằng sô-cô...   \n",
       "\n",
       "                                                  other  \n",
       "0     CC-BY 2.0 (France) Attribution: tatoeba.org #9...  \n",
       "1     CC-BY 2.0 (France) Attribution: tatoeba.org #4...  \n",
       "2     CC-BY 2.0 (France) Attribution: tatoeba.org #3...  \n",
       "3     CC-BY 2.0 (France) Attribution: tatoeba.org #1...  \n",
       "4     CC-BY 2.0 (France) Attribution: tatoeba.org #1...  \n",
       "...                                                 ...  \n",
       "3445  CC-BY 2.0 (France) Attribution: tatoeba.org #9...  \n",
       "3446  CC-BY 2.0 (France) Attribution: tatoeba.org #1...  \n",
       "3447  CC-BY 2.0 (France) Attribution: tatoeba.org #1...  \n",
       "3448  CC-BY 2.0 (France) Attribution: tatoeba.org #1...  \n",
       "3449  CC-BY 2.0 (France) Attribution: tatoeba.org #9...  \n",
       "\n",
       "[3450 rows x 3 columns]"
      ]
     },
     "execution_count": 10,
     "metadata": {},
     "output_type": "execute_result"
    }
   ],
   "source": [
    "lines"
   ]
  },
  {
   "cell_type": "code",
   "execution_count": 11,
   "metadata": {},
   "outputs": [],
   "source": [
    "# Data cleanup\n",
    "# Delete column that don't use\n",
    "lines.drop(columns=['other'], inplace=True)\n",
    "# convert text to lower\n",
    "lines.en = lines.en.apply(lambda x: x.lower())\n",
    "lines.vi = lines.vi.apply(lambda x: x.lower())"
   ]
  },
  {
   "cell_type": "code",
   "execution_count": 12,
   "metadata": {},
   "outputs": [
    {
     "data": {
      "text/html": [
       "<div>\n",
       "<style scoped>\n",
       "    .dataframe tbody tr th:only-of-type {\n",
       "        vertical-align: middle;\n",
       "    }\n",
       "\n",
       "    .dataframe tbody tr th {\n",
       "        vertical-align: top;\n",
       "    }\n",
       "\n",
       "    .dataframe thead th {\n",
       "        text-align: right;\n",
       "    }\n",
       "</style>\n",
       "<table border=\"1\" class=\"dataframe\">\n",
       "  <thead>\n",
       "    <tr style=\"text-align: right;\">\n",
       "      <th></th>\n",
       "      <th>en</th>\n",
       "      <th>vi</th>\n",
       "    </tr>\n",
       "  </thead>\n",
       "  <tbody>\n",
       "    <tr>\n",
       "      <th>3445</th>\n",
       "      <td>it may seem like a minor thing to you, but for...</td>\n",
       "      <td>nó chỉ là việc nhỏ đối với bạn, nhưng đối với ...</td>\n",
       "    </tr>\n",
       "    <tr>\n",
       "      <th>3446</th>\n",
       "      <td>the user you to want to send this message to d...</td>\n",
       "      <td>người dùng bạn muốn gởi tin này đến không tồn ...</td>\n",
       "    </tr>\n",
       "    <tr>\n",
       "      <th>3447</th>\n",
       "      <td>if you're tired, why don't you go to sleep? \"b...</td>\n",
       "      <td>nếu mệt thì ngủ một chút đi? \"bây giờ mà ngủ t...</td>\n",
       "    </tr>\n",
       "    <tr>\n",
       "      <th>3448</th>\n",
       "      <td>it's very easy to sound natural in your own na...</td>\n",
       "      <td>câu nói đó trong ngôn ngữ của bạn rất dễ để ng...</td>\n",
       "    </tr>\n",
       "    <tr>\n",
       "      <th>3449</th>\n",
       "      <td>no matter how much you try to convince people ...</td>\n",
       "      <td>cho dù bạn có thuyết phục mọi người rằng sô-cô...</td>\n",
       "    </tr>\n",
       "  </tbody>\n",
       "</table>\n",
       "</div>"
      ],
      "text/plain": [
       "                                                     en  \\\n",
       "3445  it may seem like a minor thing to you, but for...   \n",
       "3446  the user you to want to send this message to d...   \n",
       "3447  if you're tired, why don't you go to sleep? \"b...   \n",
       "3448  it's very easy to sound natural in your own na...   \n",
       "3449  no matter how much you try to convince people ...   \n",
       "\n",
       "                                                     vi  \n",
       "3445  nó chỉ là việc nhỏ đối với bạn, nhưng đối với ...  \n",
       "3446  người dùng bạn muốn gởi tin này đến không tồn ...  \n",
       "3447  nếu mệt thì ngủ một chút đi? \"bây giờ mà ngủ t...  \n",
       "3448  câu nói đó trong ngôn ngữ của bạn rất dễ để ng...  \n",
       "3449  cho dù bạn có thuyết phục mọi người rằng sô-cô...  "
      ]
     },
     "execution_count": 12,
     "metadata": {},
     "output_type": "execute_result"
    }
   ],
   "source": [
    "lines.tail()"
   ]
  },
  {
   "cell_type": "code",
   "execution_count": 13,
   "metadata": {},
   "outputs": [],
   "source": [
    "import re\n",
    "# Process commas\n",
    "lines.en=lines.en.apply(lambda x: re.sub(\"'\", '', x)).apply(lambda x: re.sub(\",\", ' COMMA', x))\n",
    "lines.vi=lines.vi.apply(lambda x: re.sub(\"'\", '', x)).apply(lambda x: re.sub(\",\", ' COMMA', x))"
   ]
  },
  {
   "cell_type": "code",
   "execution_count": 14,
   "metadata": {},
   "outputs": [
    {
     "data": {
      "text/html": [
       "<div>\n",
       "<style scoped>\n",
       "    .dataframe tbody tr th:only-of-type {\n",
       "        vertical-align: middle;\n",
       "    }\n",
       "\n",
       "    .dataframe tbody tr th {\n",
       "        vertical-align: top;\n",
       "    }\n",
       "\n",
       "    .dataframe thead th {\n",
       "        text-align: right;\n",
       "    }\n",
       "</style>\n",
       "<table border=\"1\" class=\"dataframe\">\n",
       "  <thead>\n",
       "    <tr style=\"text-align: right;\">\n",
       "      <th></th>\n",
       "      <th>en</th>\n",
       "      <th>vi</th>\n",
       "    </tr>\n",
       "  </thead>\n",
       "  <tbody>\n",
       "    <tr>\n",
       "      <th>3445</th>\n",
       "      <td>it may seem like a minor thing to you COMMA bu...</td>\n",
       "      <td>nó chỉ là việc nhỏ đối với bạn COMMA nhưng đối...</td>\n",
       "    </tr>\n",
       "    <tr>\n",
       "      <th>3446</th>\n",
       "      <td>the user you to want to send this message to d...</td>\n",
       "      <td>người dùng bạn muốn gởi tin này đến không tồn ...</td>\n",
       "    </tr>\n",
       "    <tr>\n",
       "      <th>3447</th>\n",
       "      <td>if youre tired COMMA why dont you go to sleep?...</td>\n",
       "      <td>nếu mệt thì ngủ một chút đi? \"bây giờ mà ngủ t...</td>\n",
       "    </tr>\n",
       "    <tr>\n",
       "      <th>3448</th>\n",
       "      <td>its very easy to sound natural in your own nat...</td>\n",
       "      <td>câu nói đó trong ngôn ngữ của bạn rất dễ để ng...</td>\n",
       "    </tr>\n",
       "    <tr>\n",
       "      <th>3449</th>\n",
       "      <td>no matter how much you try to convince people ...</td>\n",
       "      <td>cho dù bạn có thuyết phục mọi người rằng sô-cô...</td>\n",
       "    </tr>\n",
       "  </tbody>\n",
       "</table>\n",
       "</div>"
      ],
      "text/plain": [
       "                                                     en  \\\n",
       "3445  it may seem like a minor thing to you COMMA bu...   \n",
       "3446  the user you to want to send this message to d...   \n",
       "3447  if youre tired COMMA why dont you go to sleep?...   \n",
       "3448  its very easy to sound natural in your own nat...   \n",
       "3449  no matter how much you try to convince people ...   \n",
       "\n",
       "                                                     vi  \n",
       "3445  nó chỉ là việc nhỏ đối với bạn COMMA nhưng đối...  \n",
       "3446  người dùng bạn muốn gởi tin này đến không tồn ...  \n",
       "3447  nếu mệt thì ngủ một chút đi? \"bây giờ mà ngủ t...  \n",
       "3448  câu nói đó trong ngôn ngữ của bạn rất dễ để ng...  \n",
       "3449  cho dù bạn có thuyết phục mọi người rằng sô-cô...  "
      ]
     },
     "execution_count": 14,
     "metadata": {},
     "output_type": "execute_result"
    }
   ],
   "source": [
    "lines.tail()"
   ]
  },
  {
   "cell_type": "code",
   "execution_count": 15,
   "metadata": {},
   "outputs": [],
   "source": [
    "import string\n",
    "# Getting rid of punctuation - Loại bỏ dấu chấm câu\n",
    "exclude = set(string.punctuation) # get punctuation from string library\n",
    "lines.en = lines.en.apply(lambda x: ''.join(ch for ch in x if ch not in exclude))\n",
    "lines.vi = lines.vi.apply(lambda x: ''.join(ch for ch in x if ch not in exclude))"
   ]
  },
  {
   "cell_type": "code",
   "execution_count": 16,
   "metadata": {},
   "outputs": [],
   "source": [
    "# Getting rid of digits - Loại bỏ các chữ số\n",
    "# https://www.geeksforgeeks.org/python-maketrans-translate-functions/\n",
    "digits = \"0123456789\"\n",
    "lines.en = lines.en.apply(lambda x: x.translate(x.maketrans('','', digits)))\n",
    "lines.vi = lines.vi.apply(lambda x: x.translate(x.maketrans('','', digits)))"
   ]
  },
  {
   "cell_type": "code",
   "execution_count": 17,
   "metadata": {},
   "outputs": [],
   "source": [
    "# Sample processing\n",
    "# Appending SOS and EOS to target data\n",
    "lines.vi = lines.vi.apply(lambda x: 'SOS_' + x + '_EOS')"
   ]
  },
  {
   "cell_type": "code",
   "execution_count": 18,
   "metadata": {},
   "outputs": [
    {
     "data": {
      "text/html": [
       "<div>\n",
       "<style scoped>\n",
       "    .dataframe tbody tr th:only-of-type {\n",
       "        vertical-align: middle;\n",
       "    }\n",
       "\n",
       "    .dataframe tbody tr th {\n",
       "        vertical-align: top;\n",
       "    }\n",
       "\n",
       "    .dataframe thead th {\n",
       "        text-align: right;\n",
       "    }\n",
       "</style>\n",
       "<table border=\"1\" class=\"dataframe\">\n",
       "  <thead>\n",
       "    <tr style=\"text-align: right;\">\n",
       "      <th></th>\n",
       "      <th>en</th>\n",
       "      <th>vi</th>\n",
       "    </tr>\n",
       "  </thead>\n",
       "  <tbody>\n",
       "    <tr>\n",
       "      <th>3445</th>\n",
       "      <td>it may seem like a minor thing to you COMMA bu...</td>\n",
       "      <td>SOS_nó chỉ là việc nhỏ đối với bạn COMMA nhưng...</td>\n",
       "    </tr>\n",
       "    <tr>\n",
       "      <th>3446</th>\n",
       "      <td>the user you to want to send this message to d...</td>\n",
       "      <td>SOS_người dùng bạn muốn gởi tin này đến không ...</td>\n",
       "    </tr>\n",
       "    <tr>\n",
       "      <th>3447</th>\n",
       "      <td>if youre tired COMMA why dont you go to sleep ...</td>\n",
       "      <td>SOS_nếu mệt thì ngủ một chút đi bây giờ mà ngủ...</td>\n",
       "    </tr>\n",
       "    <tr>\n",
       "      <th>3448</th>\n",
       "      <td>its very easy to sound natural in your own nat...</td>\n",
       "      <td>SOS_câu nói đó trong ngôn ngữ của bạn rất dễ đ...</td>\n",
       "    </tr>\n",
       "    <tr>\n",
       "      <th>3449</th>\n",
       "      <td>no matter how much you try to convince people ...</td>\n",
       "      <td>SOS_cho dù bạn có thuyết phục mọi người rằng s...</td>\n",
       "    </tr>\n",
       "  </tbody>\n",
       "</table>\n",
       "</div>"
      ],
      "text/plain": [
       "                                                     en  \\\n",
       "3445  it may seem like a minor thing to you COMMA bu...   \n",
       "3446  the user you to want to send this message to d...   \n",
       "3447  if youre tired COMMA why dont you go to sleep ...   \n",
       "3448  its very easy to sound natural in your own nat...   \n",
       "3449  no matter how much you try to convince people ...   \n",
       "\n",
       "                                                     vi  \n",
       "3445  SOS_nó chỉ là việc nhỏ đối với bạn COMMA nhưng...  \n",
       "3446  SOS_người dùng bạn muốn gởi tin này đến không ...  \n",
       "3447  SOS_nếu mệt thì ngủ một chút đi bây giờ mà ngủ...  \n",
       "3448  SOS_câu nói đó trong ngôn ngữ của bạn rất dễ đ...  \n",
       "3449  SOS_cho dù bạn có thuyết phục mọi người rằng s...  "
      ]
     },
     "execution_count": 18,
     "metadata": {},
     "output_type": "execute_result"
    }
   ],
   "source": [
    "lines.tail()"
   ]
  },
  {
   "cell_type": "code",
   "execution_count": 19,
   "metadata": {},
   "outputs": [],
   "source": [
    "# Create word dictionary\n",
    "en_words = set()\n",
    "for line in lines.en:\n",
    "    for word in line.split():\n",
    "        if word not in en_words:\n",
    "            en_words.add(word)\n",
    "\n",
    "vi_words = set()\n",
    "for line in lines.vi:\n",
    "    for word in line.split():\n",
    "        if word not in vi_words:\n",
    "            vi_words.add(word)\n",
    "            \n",
    "# Get length and size\n",
    "num_en_words = len(en_words)\n",
    "num_vi_words = len(vi_words)\n",
    "\n",
    "max_en_words_per_sample = max([len(sample.split())for sample in lines.en])+5\n",
    "max_vi_words_per_sample = max([len(sample.split())for sample in lines.vi])+5\n",
    "\n",
    "num_en_samples = len(lines.en)\n",
    "num_vi_samples = len(lines.vi)\n",
    "\n",
    "# Get lists of words:\n",
    "input_words = sorted(list(en_words))\n",
    "target_words = sorted(list(vi_words))\n",
    "\n",
    "en_token_to_int = dict()\n",
    "en_int_to_token = dict()\n",
    "\n",
    "vi_token_to_int = dict()\n",
    "vi_int_to_token = dict()\n",
    "\n",
    "\n",
    "# Tokenizing the words (Conver them to numbers)\n",
    "for i, token in enumerate(input_words):\n",
    "    en_token_to_int[token] = i\n",
    "    en_int_to_token[i] = token\n",
    "\n",
    "for i, token in enumerate(target_words):\n",
    "    vi_token_to_int[token] = i\n",
    "    vi_int_to_token[i] = token\n",
    "    \n",
    "# Initiate numpy arrray to hold the data that out seq2seq model will use:\n",
    "encoder_input_data = np.zeros((num_en_samples, max_en_words_per_sample), dtype='float32')\n",
    "decoder_input_data = np.zeros((num_vi_samples, max_vi_words_per_sample), dtype='float32')\n",
    "decoder_target_data = np.zeros((num_vi_samples, max_vi_words_per_sample,  num_vi_words), dtype='float32')"
   ]
  },
  {
   "cell_type": "code",
   "execution_count": 20,
   "metadata": {},
   "outputs": [],
   "source": [
    "# process sample, to get input, output, target data:\n",
    "for i, (input_text, target_text) in enumerate(zip(lines.en, lines.vi)):\n",
    "    for t, word in enumerate(input_text.split()):\n",
    "        encoder_input_data[i,t] = en_token_to_int[word]\n",
    "        \n",
    "    for t, word in enumerate(target_text.split()):\n",
    "        # Decoder_target_data is ahead of decoder_input_data by one timestep\n",
    "        decoder_input_data[i,t] = vi_token_to_int[word]\n",
    "        if t > 0:\n",
    "            # decoder_target_data will be ahead by one timestep\n",
    "            # and will not include start character\n",
    "            decoder_target_data[i, t-1, vi_token_to_int[word]] = 1"
   ]
  },
  {
   "cell_type": "markdown",
   "metadata": {},
   "source": [
    "Việc sử dụng lớp Embedding cụ thể như sau:\n",
    "> Embedding_layer = Embedding(input_dim = num_words, output_dim = vec_len)\n",
    "\n",
    "Trong đó:\n",
    "* num_words: số từ trong dictionary\n",
    "* vec_len: Độ dài vector mà sẽ biểu diễn các tuwf"
   ]
  },
  {
   "cell_type": "markdown",
   "metadata": {},
   "source": [
    "## 2.2 Xây dựng mô hình"
   ]
  },
  {
   "cell_type": "code",
   "execution_count": 21,
   "metadata": {},
   "outputs": [],
   "source": [
    "import pandas as pd\n",
    "import numpy as np\n",
    "import string\n",
    "from string import digits\n",
    "\n",
    "from tensorflow.keras.models import Sequential, Model\n",
    "from tensorflow.keras.layers import Dense, LSTM, Input, Embedding, TimeDistributed, Flatten, Dropout\n",
    "from tensorflow.keras.callbacks import ModelCheckpoint"
   ]
  },
  {
   "cell_type": "markdown",
   "metadata": {},
   "source": [
    "### 2.2.1 Xây dựng encoder:"
   ]
  },
  {
   "cell_type": "code",
   "execution_count": 22,
   "metadata": {},
   "outputs": [],
   "source": [
    "# define some constants:\n",
    "vec_len = 300 # length of the vector that we will get freom the embeding layer\n",
    "latent_dim = 1024 # Hidden layers dimension\n",
    "dropout_rate =  0.2 # Rate of dropuout layers\n",
    "batch_size = 64 # batch_size\n",
    "epochs = 3 # Num of epochs\n",
    "\n",
    "# Define an input sequence and process it\n",
    "# Input layer of encoder\n",
    "encoder_input = Input(shape=(None,))\n",
    "\n",
    "# Hidden layers of the encoder:\n",
    "encoder_embedding =  Embedding(input_dim = num_en_words, output_dim =  vec_len)(encoder_input)\n",
    "encoder_dropout = (TimeDistributed(Dropout(rate=dropout_rate)))(encoder_embedding)\n",
    "encoder_LSTM = LSTM(latent_dim, return_sequences=True)(encoder_dropout)\n",
    "\n",
    "# output the layer of encoder:\n",
    "encoder_LSTM2_layer = LSTM(latent_dim, return_state = True)\n",
    "encoder_outputs, state_h, state_c = encoder_LSTM2_layer(encoder_LSTM)\n",
    "\n",
    "# We discard encoder_outputs and only keep the states\n",
    "encoder_states = [state_h, state_c]"
   ]
  },
  {
   "cell_type": "markdown",
   "metadata": {},
   "source": [
    "Encoder được tạo thành từ:\n",
    "1. Input layer: Lấy các câu tiếng Anh và pass nó vào lớp nhúng\n",
    "2. Embedding layer: Lấy các câu tiếng Anh và chuyển mỗi từ thành vector có độ dài cố định\n",
    "3. Lớp LSTM 1: Mỗi bước, nó lấy một vectỏ biểu diễn một từ và pass qua output của nó đến layer tiếp theo.\n",
    "4. Lớp LSTM 2: Nó thực hiện tương tự như layer trước, nhưng thay vì cho qua output, nó sẽ pass các trạng thái của nó qua lớp LSTM đầu tiên của mạng decoder.\n",
    "\n",
    "![11](./images/11.jpeg)"
   ]
  },
  {
   "cell_type": "markdown",
   "metadata": {},
   "source": [
    "### 2.2.2 Xây dựng decoder"
   ]
  },
  {
   "cell_type": "code",
   "execution_count": 23,
   "metadata": {},
   "outputs": [],
   "source": [
    "# set up the decoder, using encoder_states as initial stae\n",
    "# Input layer of the decoder\n",
    "decoder_input = Input(shape=(None,))\n",
    "\n",
    "# Hidden layers of the decoder\n",
    "decoder_embedding_layer = Embedding(input_dim = num_vi_words, output_dim = vec_len)\n",
    "decoder_embedding = decoder_embedding_layer(decoder_input)\n",
    "\n",
    "decoder_droupout_layer = (TimeDistributed(Dropout(rate = dropout_rate)))\n",
    "decoder_dropout = decoder_droupout_layer(decoder_embedding)\n",
    "\n",
    "decoder_LSTM_layer = LSTM(latent_dim, return_sequences=True)\n",
    "decoder_LSTM = decoder_LSTM_layer(decoder_dropout, initial_state=encoder_states)\n",
    "\n",
    "decoder_LSTM_layer_2 = LSTM(latent_dim, return_sequences=True, return_state=True)\n",
    "decoder_LSTM_2, _, _ = decoder_LSTM_layer_2(decoder_LSTM)\n",
    "\n",
    "# Output layer of the decoder\n",
    "decoder_dense = Dense(num_vi_words, activation='softmax')\n",
    "decoder_outputs = decoder_dense(decoder_LSTM_2)"
   ]
  },
  {
   "cell_type": "markdown",
   "metadata": {},
   "source": [
    "Decoder được tạo thành từ:\n",
    "1. Input layer: Lấy các câu tiếng Việt và pass nó qua lớp nhúng.\n",
    "2. Embedding layer: Lấy các câu tiếng Việt và chuyển mỗi từ thành các vector cố định\n",
    "3. Layer LSTM 1: Tại mỗi bước, nó sẽ lấy một vector biểu diễn một từ và pass qua output của nó để đến layer tiếp theo, nhưng với decoder, chúng ta cần khởi tạo trạng thái ban đầu của layer này là trạng thái của cuối của LSTM lớp LSTM của encoder.\n",
    "4. Layer LSTM 2: Xử lý đầu ra từ layer trước và pass nó qua output của nó để đến layer Dense\n",
    "5. Dense layer (Output layer): Lấy các ouput từ layer trước và output ra xác suất tương ứng với từng từ trong từ điển của tiếng Việt.\n",
    "\n",
    "![12](./images/12.jpeg)"
   ]
  },
  {
   "cell_type": "markdown",
   "metadata": {},
   "source": [
    "### 2.2.3 Kết hợp encoder và decoder để tạo thành mô hình"
   ]
  },
  {
   "cell_type": "code",
   "execution_count": 24,
   "metadata": {},
   "outputs": [
    {
     "name": "stdout",
     "output_type": "stream",
     "text": [
      "Model: \"functional_1\"\n",
      "__________________________________________________________________________________________________\n",
      "Layer (type)                    Output Shape         Param #     Connected to                     \n",
      "==================================================================================================\n",
      "input_1 (InputLayer)            [(None, None)]       0                                            \n",
      "__________________________________________________________________________________________________\n",
      "embedding (Embedding)           (None, None, 300)    817200      input_1[0][0]                    \n",
      "__________________________________________________________________________________________________\n",
      "input_2 (InputLayer)            [(None, None)]       0                                            \n",
      "__________________________________________________________________________________________________\n",
      "time_distributed (TimeDistribut (None, None, 300)    0           embedding[0][0]                  \n",
      "__________________________________________________________________________________________________\n",
      "embedding_1 (Embedding)         (None, None, 300)    876900      input_2[0][0]                    \n",
      "__________________________________________________________________________________________________\n",
      "lstm (LSTM)                     (None, None, 1024)   5427200     time_distributed[0][0]           \n",
      "__________________________________________________________________________________________________\n",
      "time_distributed_1 (TimeDistrib (None, None, 300)    0           embedding_1[0][0]                \n",
      "__________________________________________________________________________________________________\n",
      "lstm_1 (LSTM)                   [(None, 1024), (None 8392704     lstm[0][0]                       \n",
      "__________________________________________________________________________________________________\n",
      "lstm_2 (LSTM)                   (None, None, 1024)   5427200     time_distributed_1[0][0]         \n",
      "                                                                 lstm_1[0][1]                     \n",
      "                                                                 lstm_1[0][2]                     \n",
      "__________________________________________________________________________________________________\n",
      "lstm_3 (LSTM)                   [(None, None, 1024), 8392704     lstm_2[0][0]                     \n",
      "__________________________________________________________________________________________________\n",
      "dense (Dense)                   (None, None, 2923)   2996075     lstm_3[0][0]                     \n",
      "==================================================================================================\n",
      "Total params: 32,329,983\n",
      "Trainable params: 32,329,983\n",
      "Non-trainable params: 0\n",
      "__________________________________________________________________________________________________\n"
     ]
    }
   ],
   "source": [
    "# define the model that will turn\n",
    "# encoder_input_data and decoder_input_data into decoder_target_data\n",
    "model = Model([encoder_input, decoder_input], decoder_outputs)\n",
    "\n",
    "model.summary()"
   ]
  },
  {
   "cell_type": "markdown",
   "metadata": {},
   "source": [
    "![10](./images/10.png)"
   ]
  },
  {
   "cell_type": "code",
   "execution_count": 25,
   "metadata": {},
   "outputs": [],
   "source": [
    "# define a checkpoint callback:\n",
    "checkpoint_name = 'Weights-{epoch:03d}--{val_loss:.5f}.hdf5'\n",
    "checkpoint = ModelCheckpoint(checkpoint_name, monitor='val_loss', save_best_only=True, mode='auto')\n",
    "callbacks_list = [checkpoint]"
   ]
  },
  {
   "cell_type": "markdown",
   "metadata": {},
   "source": [
    "### 2.2.4 Huấn luyện mô hình"
   ]
  },
  {
   "cell_type": "code",
   "execution_count": 26,
   "metadata": {},
   "outputs": [
    {
     "name": "stdout",
     "output_type": "stream",
     "text": [
      "Epoch 1/3\n",
      "49/49 [==============================] - 311s 6s/step - loss: 0.9829 - val_loss: 1.9494\n",
      "Epoch 2/3\n",
      "49/49 [==============================] - 304s 6s/step - loss: 0.9315 - val_loss: 1.9177\n",
      "Epoch 3/3\n",
      "49/49 [==============================] - 286s 6s/step - loss: 0.9069 - val_loss: 1.9216\n"
     ]
    },
    {
     "data": {
      "text/plain": [
       "<tensorflow.python.keras.callbacks.History at 0x7fb318233100>"
      ]
     },
     "execution_count": 26,
     "metadata": {},
     "output_type": "execute_result"
    }
   ],
   "source": [
    "model.compile(optimizer='adam', loss='categorical_crossentropy')\n",
    "model.fit([encoder_input_data, decoder_input_data], decoder_target_data, batch_size=batch_size, epochs=epochs, validation_split = 0.1, callbacks = callbacks_list)"
   ]
  },
  {
   "cell_type": "markdown",
   "metadata": {},
   "source": [
    "Vì là demo nên tôi chỉ thực hiện 3 epochs, và dữ liệu khá nhỏ. Trên thực tế, chúng ta cần dữ liệu lớn hơn rất nhiều và cần huấn luyện mô hình lâu hơn. Phần dự đoán của mô hình xin để là bài tập cho bạn đọc :) "
   ]
  }
 ],
 "metadata": {
  "kernelspec": {
   "display_name": "Python 3",
   "language": "python",
   "name": "python3"
  },
  "language_info": {
   "codemirror_mode": {
    "name": "ipython",
    "version": 3
   },
   "file_extension": ".py",
   "mimetype": "text/x-python",
   "name": "python",
   "nbconvert_exporter": "python",
   "pygments_lexer": "ipython3",
   "version": "3.8.2"
  }
 },
 "nbformat": 4,
 "nbformat_minor": 2
}
