{
 "cells": [
  {
   "cell_type": "markdown",
   "metadata": {},
   "source": [
    "Nguồn:\n",
    "1. https://www.youtube.com/watch?v=faheDNsr-B4&list=PLZEIt444jqpCyaGWG1Jvq2ylfOdjppEOR"
   ]
  },
  {
   "cell_type": "markdown",
   "metadata": {},
   "source": [
    "# Cài đặt OpenCV"
   ]
  },
  {
   "cell_type": "markdown",
   "metadata": {},
   "source": [
    "1. Truy cập: https://opencv.org/releases/ tải về phiên bản OpenCV cho hệ điều hành tương ứng.\n",
    "2. Giải nén OpenCv ra 1 thư mục nào đó.\n",
    "3. Truy cập vào opencv --> build --> python --> cv2 --> chọn phiên bản python tương ứng với máy (Ví dụ máy tôi là python 3.7)--> copy file đó và cho vào `C:\\Program Files\\Python37\\Lib\\site-packages`.\n",
    "4. Mở cmd và chạy lệnh `pip install opencv-python`\n",
    "5. Test lại bằng cách mở python và `import cv2`"
   ]
  },
  {
   "cell_type": "markdown",
   "metadata": {},
   "source": [
    "# Mở ảnh với OpenCV"
   ]
  },
  {
   "cell_type": "code",
   "execution_count": 9,
   "metadata": {},
   "outputs": [],
   "source": [
    "import cv2\n",
    "img = cv2.imread('./avatar.jpg')\n",
    "cv2.imshow('image', img)\n",
    "cv2.waitKey(0) # chờ ấn 1 phím gì đó rồi mới tắt\n",
    "cv2.destroyAllWindows() # giải phóng"
   ]
  },
  {
   "cell_type": "markdown",
   "metadata": {},
   "source": [
    "# Lưu một bức ảnh và vẽ một đường thẳng"
   ]
  },
  {
   "cell_type": "code",
   "execution_count": 6,
   "metadata": {},
   "outputs": [],
   "source": [
    "img = cv2.imread(\"./avatar.jpg\")\n",
    "cv2.line(img, (0,0), (400, 300), (255,0,0), 5) \n",
    "# img, toạ độ bắt đầu, toạ độ kết thúc , (r,g,b),pixel width\n",
    "cv2.imwrite('./ly.jpg', img)\n",
    "cv2.destroyAllWindows()"
   ]
  },
  {
   "cell_type": "markdown",
   "metadata": {},
   "source": [
    "# Thao tác với pixel ảnh"
   ]
  },
  {
   "cell_type": "code",
   "execution_count": 13,
   "metadata": {},
   "outputs": [
    {
     "name": "stdout",
     "output_type": "stream",
     "text": [
      "[252   0   0]\n"
     ]
    }
   ],
   "source": [
    "img = cv2.imread('./ly.jpg')\n",
    "px = img[0][0]\n",
    "print(px)"
   ]
  },
  {
   "cell_type": "code",
   "execution_count": 15,
   "metadata": {},
   "outputs": [
    {
     "data": {
      "text/plain": [
       "array([1, 1, 1], dtype=uint8)"
      ]
     },
     "execution_count": 15,
     "metadata": {},
     "output_type": "execute_result"
    }
   ],
   "source": [
    "img[0][0] = [1, 1, 1]\n",
    "for i in range(100):\n",
    "    img[i][i] = [1, 1, 1]\n",
    "    img[i + 1][i + 1] = [1, 1, 1]\n",
    "px = img[0][0]\n",
    "px"
   ]
  },
  {
   "cell_type": "code",
   "execution_count": 16,
   "metadata": {},
   "outputs": [
    {
     "data": {
      "text/plain": [
       "True"
      ]
     },
     "execution_count": 16,
     "metadata": {},
     "output_type": "execute_result"
    }
   ],
   "source": [
    "cv2.imwrite('./ly2.jpg',img)"
   ]
  },
  {
   "cell_type": "markdown",
   "metadata": {},
   "source": [
    "# Đọc thuộc tính và cắt ghép, đổi kênh màu ảnh"
   ]
  },
  {
   "cell_type": "code",
   "execution_count": 18,
   "metadata": {},
   "outputs": [
    {
     "data": {
      "text/plain": [
       "(718, 720, 3)"
      ]
     },
     "execution_count": 18,
     "metadata": {},
     "output_type": "execute_result"
    }
   ],
   "source": [
    "img = cv2.imread('./avatar.jpg')\n",
    "img.shape # kích thước ảnh"
   ]
  },
  {
   "cell_type": "code",
   "execution_count": 19,
   "metadata": {},
   "outputs": [
    {
     "data": {
      "text/plain": [
       "(718, 720)"
      ]
     },
     "execution_count": 19,
     "metadata": {},
     "output_type": "execute_result"
    }
   ],
   "source": [
    "# đọc ảnh xám\n",
    "img = cv2.imread('./avatar.jpg', 0)\n",
    "img.shape"
   ]
  },
  {
   "cell_type": "code",
   "execution_count": 21,
   "metadata": {},
   "outputs": [
    {
     "data": {
      "text/plain": [
       "516960"
      ]
     },
     "execution_count": 21,
     "metadata": {},
     "output_type": "execute_result"
    }
   ],
   "source": [
    "img.size # kích thước ảnh = byte"
   ]
  },
  {
   "cell_type": "code",
   "execution_count": 22,
   "metadata": {},
   "outputs": [
    {
     "data": {
      "text/plain": [
       "dtype('uint8')"
      ]
     },
     "execution_count": 22,
     "metadata": {},
     "output_type": "execute_result"
    }
   ],
   "source": [
    "img.dtype"
   ]
  },
  {
   "cell_type": "code",
   "execution_count": 24,
   "metadata": {},
   "outputs": [
    {
     "data": {
      "text/plain": [
       "-1"
      ]
     },
     "execution_count": 24,
     "metadata": {},
     "output_type": "execute_result"
    }
   ],
   "source": [
    "# cắt ảnh\n",
    "subimg = img[200: 300, 200: 500]\n",
    "cv2.imshow(\"image\", subimg)\n",
    "cv2.waitKey()"
   ]
  },
  {
   "cell_type": "code",
   "execution_count": 27,
   "metadata": {},
   "outputs": [
    {
     "data": {
      "text/plain": [
       "-1"
      ]
     },
     "execution_count": 27,
     "metadata": {},
     "output_type": "execute_result"
    }
   ],
   "source": [
    "# chuyển kênh màu\n",
    "img = cv2.imread('./avatar.jpg')\n",
    "subimg = img[:,:,2]\n",
    "cv2.imshow(\"image\", subimg)\n",
    "cv2.waitKey()"
   ]
  },
  {
   "cell_type": "markdown",
   "metadata": {},
   "source": [
    "# Hoà trộn 2 bức ảnh với nhau"
   ]
  },
  {
   "cell_type": "markdown",
   "metadata": {},
   "source": [
    "Điều kiện: cùng kênh màu (ảnh màu hoặc xám), cùng kích thước"
   ]
  },
  {
   "cell_type": "code",
   "execution_count": 35,
   "metadata": {},
   "outputs": [
    {
     "data": {
      "text/plain": [
       "-1"
      ]
     },
     "execution_count": 35,
     "metadata": {},
     "output_type": "execute_result"
    }
   ],
   "source": [
    "img1 = cv2.imread('./avatar.jpg')\n",
    "img2 = cv2.imread('./anh2.jpg')\n",
    "img1 = img1[100:700, 100:700]\n",
    "img2 = img2[100:700, 100:700]\n",
    "\n",
    "img3 = cv2.add(img1, img2)\n",
    "cv2.imshow(\"image\", img3)\n",
    "cv2.waitKey()"
   ]
  },
  {
   "cell_type": "markdown",
   "metadata": {},
   "source": [
    "# Tách một đối tượng có màu nhất định ra khỏi ảnh"
   ]
  },
  {
   "cell_type": "code",
   "execution_count": 37,
   "metadata": {},
   "outputs": [
    {
     "data": {
      "text/plain": [
       "array([[[ 99, 255, 232]]], dtype=uint8)"
      ]
     },
     "execution_count": 37,
     "metadata": {},
     "output_type": "execute_result"
    }
   ],
   "source": [
    "import numpy as np\n",
    "img = np.uint8([[[232, 162, 0]]])\n",
    "hsv_img = cv2.cvtColor(img, cv2.COLOR_BGR2HSV)\n",
    "hsv_img"
   ]
  },
  {
   "cell_type": "code",
   "execution_count": 45,
   "metadata": {},
   "outputs": [
    {
     "data": {
      "text/plain": [
       "-1"
      ]
     },
     "execution_count": 45,
     "metadata": {},
     "output_type": "execute_result"
    }
   ],
   "source": [
    "img = cv2.imread('./anh3.png')\n",
    "# chuyển đổi không gian màu\n",
    "hsv_img = cv2.cvtColor(img, cv2.COLOR_BGR2HSV)\n",
    "# Tạo mặt nạ\n",
    "min_mau = np.array([ 97, 255, 232])\n",
    "max_mau = np.array([ 100, 255, 232])\n",
    "mask = cv2.inRange(hsv_img, min_mau, max_mau)\n",
    "# sau bước này những đối tượng màu xanh sẽ thành trắng, các màu còn lại là 0\n",
    "# thực hiện phép and 2 ảnh để lọc\n",
    "final = cv2.bitwise_and(img, img, mask = mask)\n",
    "cv2.imshow(\"Day la buc anh\", final)\n",
    "cv2.waitKey()"
   ]
  },
  {
   "cell_type": "markdown",
   "metadata": {},
   "source": [
    "# Xử lý video "
   ]
  },
  {
   "cell_type": "markdown",
   "metadata": {},
   "source": [
    "Trên môi trường windown, cần cài FFmpeg"
   ]
  },
  {
   "cell_type": "markdown",
   "metadata": {},
   "source": [
    "```\n",
    "import cv2\n",
    "vidcap = cv2.VideoCapture('United.mp4')\n",
    "success, image = vidcap.read()\n",
    "count = 0\n",
    "success = True\n",
    "while success:\n",
    "    cv2.imwrite(\"frame%d.jpg\" % count, image)\n",
    "    success, image = vidcap.read()\n",
    "    print(\"Read a new frame:\", success)\n",
    "    count += 1\n",
    "```"
   ]
  },
  {
   "cell_type": "markdown",
   "metadata": {},
   "source": [
    "# Tách biên ảnh"
   ]
  },
  {
   "cell_type": "code",
   "execution_count": 53,
   "metadata": {},
   "outputs": [
    {
     "data": {
      "text/plain": [
       "-1"
      ]
     },
     "execution_count": 53,
     "metadata": {},
     "output_type": "execute_result"
    }
   ],
   "source": [
    "img = cv2.imread('./avatar.jpg', 0) # chuyển ảnh xám\n",
    "# phân ngưỡng\n",
    "# điểm ảnh từ 100 đến 200 thì thành trắng, ngoài thành đen\n",
    "img2 = cv2.Canny(img, 100, 200)\n",
    "cv2.imshow(\"Thang dzai\", img2)\n",
    "cv2.waitKey()"
   ]
  },
  {
   "cell_type": "code",
   "execution_count": 54,
   "metadata": {},
   "outputs": [
    {
     "data": {
      "text/plain": [
       "array([[  0,   0,   0, ...,   0,   0,   0],\n",
       "       [  0,   0,   0, ...,   0,   0,   0],\n",
       "       [  0,   0,   0, ...,   0,   0,   0],\n",
       "       ...,\n",
       "       [  0, 255,   0, ...,   0,   0,   0],\n",
       "       [  0, 255,   0, ...,   0,   0,   0],\n",
       "       [  0, 255,   0, ...,   0,   0,   0]], dtype=uint8)"
      ]
     },
     "execution_count": 54,
     "metadata": {},
     "output_type": "execute_result"
    }
   ],
   "source": [
    "img2"
   ]
  },
  {
   "cell_type": "markdown",
   "metadata": {},
   "source": [
    "# Reading ang loading images with OpenCV and Numpy"
   ]
  },
  {
   "cell_type": "code",
   "execution_count": 3,
   "metadata": {},
   "outputs": [],
   "source": [
    "import numpy \n",
    "import cv2\n",
    "\n",
    "avatar_image = cv2.imread(\"./avatar.jpg\")\n",
    "avatar_gray_image = cv2.cvtColor(avatar_image, cv2.COLOR_BGR2GRAY)\n",
    "cv2.imshow(\"Gray avatar\", avatar_gray_image)\n",
    "cv2.imshow(\"Color avatar\", avatar_gray_image)\n",
    "cv2.imwrite(\"gray_avatar.jpg\", avatar_gray_image)\n",
    "cv2.waitKey(0)\n",
    "cv2.destroyAllWindows()"
   ]
  },
  {
   "cell_type": "markdown",
   "metadata": {},
   "source": [
    "**Dòng 1:** Import thư viện numpy, điều này quan tọng bởi vì định dạng ma trận ảnh là kiểu ndarray numpy\n",
    "\n",
    "**Dòng 2:** Import thư viện OpenCV\n",
    "\n",
    "**Dòng 4:** Đọc file ảnh avatar.jpg, lưu nó vào biến avatar_image\n",
    "\n",
    "**Dòng 5:** Chuyển đổi sang ảnh xám sử dụng phương thức cvtColor bởi hằng số COLOR_BGR2GRAY và lưu vào một biến khác gọi là avatar_gray_image\n",
    "\n",
    "**Dòng 6 và 7:** Hiển thị ảnh\n",
    "\n",
    "**Dòng 8:** Lưu ảnh với tên file là gray_avatar.jpg\n",
    "\n",
    "**Dòng 9:** Chờ nhấn 1 phím thì mới tắt hiển thị ảnh\n",
    "\n",
    "**Dòng 10:** Đóng tất cả các windows"
   ]
  },
  {
   "cell_type": "markdown",
   "metadata": {},
   "source": [
    "# Loading Videos from a File"
   ]
  },
  {
   "cell_type": "markdown",
   "metadata": {},
   "source": [
    "# Reading the Video and Writing into a File"
   ]
  },
  {
   "cell_type": "markdown",
   "metadata": {},
   "source": [
    "# 4. Image Manipulation and Segmentation"
   ]
  },
  {
   "cell_type": "markdown",
   "metadata": {},
   "source": [
    "### Truy cập và thao tác pixel"
   ]
  },
  {
   "cell_type": "code",
   "execution_count": 10,
   "metadata": {},
   "outputs": [
    {
     "name": "stdout",
     "output_type": "stream",
     "text": [
      "[187 196 193]\n"
     ]
    },
    {
     "data": {
      "text/plain": [
       "-1"
      ]
     },
     "execution_count": 10,
     "metadata": {},
     "output_type": "execute_result"
    }
   ],
   "source": [
    "import numpy \n",
    "import cv2\n",
    "\n",
    "avatar_image = cv2.imread('./avatar.jpg')\n",
    "pixel = avatar_image[200,250]\n",
    "\n",
    "print(pixel)\n",
    "avatar_image[200, 250] = (255,0,0)\n",
    "\n",
    "#thay đổi màu thành xanh của một vùng\n",
    "avatar_image[200:250, 200:350] = (0,255,0)\n",
    "\n",
    "cv2.imshow('image pixel', avatar_image)\n",
    "cv2.waitKey(0)"
   ]
  },
  {
   "cell_type": "markdown",
   "metadata": {},
   "source": [
    "### Draw geometric shapes or writing text on a color image"
   ]
  },
  {
   "cell_type": "markdown",
   "metadata": {},
   "source": [
    "Các hàm: line(), rectangle(), circle(), ellipse(), polygon(), putText()\n",
    "\n",
    "Chú ý màu ở đây là BGR"
   ]
  },
  {
   "cell_type": "markdown",
   "metadata": {},
   "source": [
    "```\n",
    "The functions and syntax are as follows:\n",
    "• cv2.line(): To draw a line, this function takes the\n",
    "following arguments:\n",
    "a. Image object on which the line needs to be drawn\n",
    "b. Starting point’s pixel coordinates\n",
    "c. Ending point’s pixel coordinates\n",
    "d. Color in BGR (not RGB) format\n",
    "e. Thickness (in pixels)\n",
    "• cv2.rectangle(): To draw a square or rectangle,\n",
    "similar to the line() function, this function takes the\n",
    "following arguments:\n",
    "a. Image object on which the rectangle needs to be drawn\n",
    "b. Pixel coordinates of the vertex at the top left\n",
    "c. Pixel coordinates of the lower-right vertex\n",
    "d. Color in BGR (not RGB)\n",
    "e. Thickness (in pixels)\n",
    "• cv2.circle(): To draw a circle, this function takes the\n",
    "following arguments:\n",
    "a. Image object on which the circle needs to be drawn\n",
    "b. Center pixel’s coordinates\n",
    "c. Pixel radius of the circle\n",
    "d. Color in BGR (not RGB)\n",
    "e. Thickness (in pixels)\n",
    "• cv2.ellipse(): To draw a ellipse, this function takes\n",
    "the following arguments:\n",
    "a. Image object on which the ellipse needs to be drawn\n",
    "b. Center pixel’s coordinates\n",
    "c. Length of the minor and major axes\n",
    "d. Rotation angle of the ellipse (calculated\n",
    "counterclockwise)\n",
    "e. Starting angle (calculated clockwise)\n",
    "f. Final angle (calculated clockwise)\n",
    "g. Color in BGR (not RGB—be careful)\n",
    "h. Thickness\n",
    "• cv2.polyline(): To draw a polygon, this function takes\n",
    "the following arguments:\n",
    "a. Image object on which the polygon needs to be drawn\n",
    "b. The image object on which to draw\n",
    "c. The array of coordinates\n",
    "d. True, if it is a closed line\n",
    "e. Color\n",
    "f. Thickness\n",
    "• cv2.putText(): To write text, this function takes the\n",
    "following arguments:\n",
    "a. The image on which the text is to be written\n",
    "b. The text to be written\n",
    "c. Coordinates of the text’s starting point\n",
    "d. Font to be used\n",
    "e. Font size\n",
    "f. Text color\n",
    "g. Text thickness\n",
    "h. The type of line used\n",
    "```"
   ]
  },
  {
   "cell_type": "code",
   "execution_count": 11,
   "metadata": {},
   "outputs": [
    {
     "data": {
      "text/plain": [
       "-1"
      ]
     },
     "execution_count": 11,
     "metadata": {},
     "output_type": "execute_result"
    }
   ],
   "source": [
    "import numpy as np\n",
    "import cv2\n",
    "\n",
    "avatar = cv2.imread('./avatar.jpg')\n",
    "\n",
    "cv2.line(avatar, (25,21), (100, 100), (255,0,0), 5)\n",
    "cv2.rectangle(avatar, (25,21), (200, 200), (0, 255,0), 2)\n",
    "cv2.circle(avatar, (50,50), 50, (0,0,255), -1)\n",
    "\n",
    "cv2.imshow(\"Geometry\", avatar)\n",
    "cv2.waitKey(0)"
   ]
  },
  {
   "cell_type": "markdown",
   "metadata": {},
   "source": [
    "### Filtering Images"
   ]
  },
  {
   "cell_type": "code",
   "execution_count": 16,
   "metadata": {},
   "outputs": [
    {
     "data": {
      "text/plain": [
       "-1"
      ]
     },
     "execution_count": 16,
     "metadata": {},
     "output_type": "execute_result"
    }
   ],
   "source": [
    "import numpy as np\n",
    "import cv2\n",
    "\n",
    "avatar = cv2.imread('./avatar.jpg')\n",
    "# giá trị mỗi điểm ảnh bằng median của các điểm ảnh quanh vùng dc quét\n",
    "# lọc vùng 3x3\n",
    "noisereduced_version = cv2.medianBlur(avatar,3)\n",
    "\n",
    "# lọc vùng 9x9\n",
    "noisereduced_version2 = cv2.medianBlur(avatar,9)\n",
    "\n",
    "cv2.imshow(\"Fillter 1\", noisereduced_version)\n",
    "cv2.imshow(\"Fillter 2\", noisereduced_version2)\n",
    "cv2.waitKey(0)"
   ]
  },
  {
   "cell_type": "markdown",
   "metadata": {},
   "source": [
    "![Image](./images/1.png)"
   ]
  },
  {
   "cell_type": "markdown",
   "metadata": {},
   "source": [
    "### Transfroming Images"
   ]
  },
  {
   "cell_type": "code",
   "execution_count": 22,
   "metadata": {},
   "outputs": [
    {
     "data": {
      "text/plain": [
       "-1"
      ]
     },
     "execution_count": 22,
     "metadata": {},
     "output_type": "execute_result"
    }
   ],
   "source": [
    "import numpy as np\n",
    "import cv2\n",
    "# dịch chuyển affine (tuyến tín)\n",
    "image = cv2.imread('./avatar.jpg')\n",
    "num_rows, num_cols = image.shape[:2]\n",
    "# ma trận chuyển đổi, 70 là hướng của x, 110 là hướng của y\n",
    "translation_matrix = np.float32([[1,0,70], [0,1,110]])\n",
    "image_translation = cv2.warpAffine(image, translation_matrix, (num_cols, num_rows))\n",
    "cv2.imshow('Translation', image_translation)\n",
    "cv2.waitKey()"
   ]
  },
  {
   "cell_type": "markdown",
   "metadata": {},
   "source": [
    "### Rotation"
   ]
  },
  {
   "cell_type": "markdown",
   "metadata": {},
   "source": [
    "R = $[[cos(\\theta) , -sin(\\theta)], [sin(\\theta), cos(\\theta)]]$\n",
    "\n",
    "$\\theta$ là góc xoay theo hướng ngược chiều kim đồng hồ. OpenCV cung cấp hàm getRotationMatrix2D thay vì lập ma trận này, \n",
    "Bạn có thể chỉ định điểm xung quanh mà hình ảnh sẽ được xoay, góc xoay theo độ và hệ số tỷ lệ cho hình ảnh. Khi đã có ma trận chuyển đổi, có thể sử dụng hàm warpAffine()."
   ]
  },
  {
   "cell_type": "markdown",
   "metadata": {},
   "source": [
    "### image scaling"
   ]
  },
  {
   "cell_type": "code",
   "execution_count": 1,
   "metadata": {},
   "outputs": [],
   "source": [
    "import cv2\n",
    "import numpy as np\n",
    "\n",
    "img = cv2.imread('./avatar.jpg')\n",
    "\n",
    "img_scaled = cv2.resize(img,None,fx=1.2, fy=1.2, interpolation = cv2.INTER_LINEAR)\n",
    "cv2.imshow('Scaling - Linear Interpolation', img_scaled)\n",
    "img_scaled = cv2.resize(img,None,fx=1.2, fy=1.2, interpolation = cv2.INTER_CUBIC)\n",
    "cv2.imshow('Scaling - Cubic Interpolation', img_scaled)\n",
    "img_scaled = cv2.resize(img,(450, 400), interpolation = cv2.INTER_AREA)\n",
    "cv2.imshow('Scaling - Skewed Size', img_scaled)\n",
    "\n",
    "cv2.waitKey()\n",
    "cv2.destroyAllWindows()"
   ]
  },
  {
   "cell_type": "markdown",
   "metadata": {},
   "source": [
    "### Edge Detection"
   ]
  },
  {
   "cell_type": "code",
   "execution_count": null,
   "metadata": {},
   "outputs": [],
   "source": [
    "import cv2\n",
    "import numpy as np\n",
    "\n",
    "image = cv2.imread('./avatar.jpg')\n",
    "hsv = cv2.cvtColor(image, cv2.COLOR_BGR2HSV)\n",
    "\n",
    "lower_red = np.array([30, 150, 50])\n",
    "upper_red = np.array([255, 255, 180])\n",
    "\n",
    "mask = cv2.inRange(hsv, lower_red, upper_red)\n",
    "res = cv2.bitwise_and(image, image, mask=mask)\n",
    "\n",
    "cv2.imshow('origin', image)\n",
    "edges = cv2.Canny(image, 100, 200)\n",
    "cv2.imshow('Edges', edges)\n",
    "\n",
    "cv2.waitKey()\n",
    "cv2.destroyAllWindows()"
   ]
  },
  {
   "cell_type": "markdown",
   "metadata": {},
   "source": [
    "### Image segmentation"
   ]
  },
  {
   "cell_type": "markdown",
   "metadata": {},
   "source": [
    "<font color=\"red\"> LOADING...</font>"
   ]
  },
  {
   "cell_type": "markdown",
   "metadata": {},
   "source": [
    "## OPENCV TUTORIALS"
   ]
  },
  {
   "cell_type": "markdown",
   "metadata": {},
   "source": [
    "https://docs.opencv.org/master/d6/d00/tutorial_py_root.html"
   ]
  },
  {
   "cell_type": "code",
   "execution_count": 10,
   "metadata": {},
   "outputs": [
    {
     "data": {
      "text/plain": [
       "'4.1.2'"
      ]
     },
     "execution_count": 10,
     "metadata": {},
     "output_type": "execute_result"
    }
   ],
   "source": [
    "import cv2 as cv\n",
    "cv.__version__"
   ]
  },
  {
   "cell_type": "markdown",
   "metadata": {},
   "source": [
    "# 2. Các đặc trưng của Gui trong OpenCV"
   ]
  },
  {
   "cell_type": "markdown",
   "metadata": {},
   "source": [
    "## 2.1 Getting started with Images"
   ]
  },
  {
   "cell_type": "markdown",
   "metadata": {},
   "source": [
    "### Mục tiêu:\n",
    "* Bạn sẽ học về cách đọc một hình ảnh, làm thế nào để hiển thị nó, và làm thế nào để lưu nó.\n",
    "* Bạn sẽ học về các hàm: `cv.imread()`, `cv.imshow()`, `cv.imwrite()`\n",
    "* Ngoài ra, bạn sẽ học làm thế nào để hiển thị arh với Matplotlib\n",
    "\n",
    "### Sử dụng OpenCV\n",
    "#### Đọc một hình ảnh\n",
    "Sử dụng hàm `cv.imread()` để đọc một hình ảnh. \n",
    "\n",
    "Tham số thứ 2 là cờ chỉ định các đọc:\n",
    "* `cv.IMREAD_COLOR`: Đọc ảnh màu, đây là tham số mặc định.\n",
    "* `cv.IMREAD_GRAYSCALE`: Đọc chế độ ảnh xám\n",
    "* `cv.IMREAD_UNCHANGED`: Tải ảnh bao gồm cả kênh alpha\n",
    "\n",
    "**Note:** Thay vì sử dụng 3 cờ trên, bạn có thể sử dụng các tương ứng các số nguyên 1, 0 và -1.\n",
    "\n",
    "**Chú ý:** Ngay cả khi đường dẫn sai, nó sẽ không gây ra lỗi nào, nhưng print img sẽ trả về `None`"
   ]
  },
  {
   "cell_type": "code",
   "execution_count": 11,
   "metadata": {},
   "outputs": [],
   "source": [
    "import numpy as np\n",
    "import cv2 as cv\n",
    "\n",
    "# Load a color image in grayscale\n",
    "img = cv.imread('./avatar.jpg', 0)"
   ]
  },
  {
   "cell_type": "markdown",
   "metadata": {},
   "source": [
    "#### Hiển thị một hình ảnh\n",
    "Sử dụng hàm `cv.imshow()` để hiển thị một hình ảnh lên cửa sổ. Cửa sổ hiển thị sẽ tự động fit cho vừa với kích thước hình ảnh.\n",
    "\n",
    "Tham số đầu tiên là một string, là tên của cửa sổ hiển thị. Tham số thứ 2 là hình ảnh.Bạn có thể tạo nhiều cửa sổ nếu bạn muốn, nhưng tên các cửa sổ phải khác nhau."
   ]
  },
  {
   "cell_type": "code",
   "execution_count": 13,
   "metadata": {},
   "outputs": [],
   "source": [
    "cv.imshow('image', img)\n",
    "cv.waitKey(0)\n",
    "cv.destroyAllWindows()"
   ]
  },
  {
   "cell_type": "code",
   "execution_count": null,
   "metadata": {},
   "outputs": [],
   "source": []
  },
  {
   "cell_type": "markdown",
   "metadata": {},
   "source": [
    "`cv.waitKey()` là một hàm ràng buộc bàn phím. Tham số của nó là thời gian tính bằng mili giây. Hàm sẽ chờ số mini giây được chỉ định cho bất kỳ sự kiện bàn phím nào. Nếu bạn nhấn bất kỳ phím nào trong thời gian đó, chương trình sẽ tiếp tục. Tham số 0 là bỏ qua, nó sẽ chờ vô hạn cho tới khi ấn một phím bất kỳ.\n",
    "\n",
    "**Note:** Bên cạnh các sự kiện bàn phím ràng buộc, hàm này cũng xử lý nhiều sự kiện GUI khác, vì vậy bạn PHẢI sử dụng nó để thực sự hiển thị hình ảnh.\n",
    "\n",
    "`cv.destroyAllwindows()`: giải phóng tất cả các cửa sổ tạo ra. Nếu bạn muốn huỷ bất kỳ cửa sổ nào thì có thể dùng hàm `cv.destroyWindow()`, trong đó tham số là tên cửa sổ.\n",
    "\n",
    "**Note:** Có một trường hợp đặc biệt khi bạn có thể tạo một cửa sổ trống và tải hình ảnh vào nó sau. Trong trường hợp đó, bạn có thể chỉ định xem cửa sổ có thể thay đổi kích thước hay không. Nó được thực hiện với hàm `cv.namedWindow()` . Theo mặc định, cờ là `cv.WINDOW_AUTOSIZE` . Nhưng nếu bạn chỉ định cờ là `cv.WINDOW_NORMAL` , bạn có thể thay đổi kích thước cửa sổ. Sẽ hữu ích khi hình ảnh có kích thước quá lớn và khi thêm thanh theo dõi vào cửa sổ"
   ]
  },
  {
   "cell_type": "code",
   "execution_count": null,
   "metadata": {},
   "outputs": [],
   "source": []
  }
 ],
 "metadata": {
  "kernelspec": {
   "display_name": "Python 3",
   "language": "python",
   "name": "python3"
  },
  "language_info": {
   "codemirror_mode": {
    "name": "ipython",
    "version": 3
   },
   "file_extension": ".py",
   "mimetype": "text/x-python",
   "name": "python",
   "nbconvert_exporter": "python",
   "pygments_lexer": "ipython3",
   "version": "3.7.4"
  }
 },
 "nbformat": 4,
 "nbformat_minor": 2
}
