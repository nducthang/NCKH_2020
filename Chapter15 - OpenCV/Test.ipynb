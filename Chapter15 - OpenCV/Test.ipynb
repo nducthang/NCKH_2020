{
 "cells": [
  {
   "cell_type": "markdown",
   "metadata": {},
   "source": [
    "# Cài đặt OpenCV"
   ]
  },
  {
   "cell_type": "markdown",
   "metadata": {},
   "source": [
    "1. Truy cập: https://opencv.org/releases/ tải về phiên bản OpenCV cho hệ điều hành tương ứng.\n",
    "2. Giải nén OpenCv ra 1 thư mục nào đó.\n",
    "3. Truy cập vào opencv --> build --> python --> cv2 --> chọn phiên bản python tương ứng với máy (Ví dụ máy tôi là python 3.7)--> copy file đó và cho vào `C:\\Program Files\\Python37\\Lib\\site-packages`.\n",
    "4. Mở cmd và chạy lệnh `pip install opencv-python`\n",
    "5. Test lại bằng cách mở python và `import cv2`"
   ]
  },
  {
   "cell_type": "code",
   "execution_count": null,
   "metadata": {},
   "outputs": [],
   "source": []
  }
 ],
 "metadata": {
  "kernelspec": {
   "display_name": "Python 3",
   "language": "python",
   "name": "python3"
  },
  "language_info": {
   "codemirror_mode": {
    "name": "ipython",
    "version": 3
   },
   "file_extension": ".py",
   "mimetype": "text/x-python",
   "name": "python",
   "nbconvert_exporter": "python",
   "pygments_lexer": "ipython3",
   "version": "3.7.4"
  }
 },
 "nbformat": 4,
 "nbformat_minor": 2
}
