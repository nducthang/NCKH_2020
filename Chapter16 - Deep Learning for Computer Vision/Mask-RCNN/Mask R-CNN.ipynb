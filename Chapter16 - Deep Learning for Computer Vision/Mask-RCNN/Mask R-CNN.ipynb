{
 "cells": [
  {
   "cell_type": "markdown",
   "metadata": {},
   "source": [
    "Nguồn:\n",
    "1. Mask R-CNN (Paper)"
   ]
  },
  {
   "cell_type": "markdown",
   "metadata": {},
   "source": [
    "# 0. Abstract\n",
    "Chúng tôi trình bày một khái niệm đơn giản, linh hoạt, và khung chung cho object instance segmentation. Cách tiếp cận của chúng tôi phát hiện một cách hiệu quả các đối tượng là một hình ảnh trong khi đồng thời sinh một mặt nạ chất lượng cao cho mỗi instance. Phương pháp gọi là Mask R-CNN, mở rộng của Faster R-CNN bằng cách thêm một nhánh dự đoán mặt nạ đối tượng song song với nhánh bounding box recognition đã tồn tại. Mask R-CNN đơn giản đế huấn luyện và chỉ thêm một chi phí nhỏ vào Faster R-CNN, chạy 5fps. Tuy nhiên, Mask R-CNN đơn giản để khái quát các nhiệm vụ khác, ví dụ cho phép ước lượng tư thế của con người trong cùng một khuôn khổ. Chúng tôi cho thấy top kết quả trong cả 3 track của COCO, bao gồm instance segmentation, bounding box object detection, và person keypoint detection. Mask R-CNN nhanh hơn so với tất cả các mô hình hiện có, mô hình đơn giản trên tất cả các nhiệm vụ, thắng thử thách COCO 2016. Chúng tôi hy vọng sự đơn giản của chúng và cách tiếp cận hiệu quả sẽ đóng vai trò như một cơ sở vững chắc và giúp nghiêm cứu trong tương lai về instance-level regonition. Code có thể xem tại: https://github.com/facebookresearch/Detectron"
   ]
  },
  {
   "cell_type": "markdown",
   "metadata": {},
   "source": [
    "# 1. Introduction\n",
    "cộng đồng vision đã nhanh chóng cải tiến hiệu suất của phát hiện đối tượng (object detect) và sematic segmentation trong một thời gian ngắn. Phần lớn, các hệ thống tiến bộ được thúc đẩy bởi hệ thống mạnh mẽ như Fast/Faster R-CNN và FCN cho object dectection và sematic segmentation. Các phương pháp này là khái niệm trực quan và cung cấp linh hoạt mạnh mẽ, đào tạo nhanh và suy luận nhanh. Mục tiêu của chúng tôi trong công việc này là phát triển một khung cho *instance segmentation*.\n",
    "\n",
    "*Instance segmetation* là thách thức bởi vì nó yêu cầu phát hiện chính xác tất cả đối tượng trong một hìh ảnh đồng thời cũng phân đoạn mỗi đối tượng. Do đó tổ hợp các phần tử từ bài toán phân lớp computer vision cho object detect, tại đây mục tiêu là phân lớp object riêng và localize sử dụng bounding box, và sematic segmentaion, tại đây mục tiêu là phân lớp mỗi pixel trong tập cố định các danh mục không phân biệt đối tượng instances. Với này, người ta kỳ vọng một phương pháp phức tạp để cho kết quả tốt. Tuy nhiên, chúng tôi chỉ ra một hệ thống đáng ngạc nhiên, đơn giản và linh hoạt và nhanh có thể vượt qua các kết quả kiến trúc instance segmentation.\n",
    "\n",
    "Phương pháp của chúng tôi gọi là *Mask R-CNN*, mở rộng của Faster R-CNN bằng cách thêm một nhánh dự đoán segmentaion maskss trên mỗi Region of Interest (RoI), và song song với nhánh phân lớp và bounding box regression đã tồn tại (Hình 1). Nhánh mặt nạ là một FCN nhỏ áp dụng cho mỗi RoI, dự đoán một mặt nạ segmentation trong một pixel-to-pixel. Mask R-CNN đơn giản để triển kahi và train cho khung Faster R-CNN, tạo một điều kiện một loạt các thiết kế linh hoạt. Thêm nữa, nhánh mặt nạ chỉ thêm một computational overhead, tạo điều kiện cho một hệ thống nhanh chóng và thử nghiệm nanh chóng.\n",
    "\n",
    "Trong Mask R-CNN nguyên tắc là một phần mở rộng của Faster R-CNN, chưa xây dựng nhánh mặt nạ đúng là rất quan trọng cho kết quả một. Quan trọng nhất, Faster R-CNN không được thiết kế pixel-to-pixel liên kết giữa mạng input và output. Đây là điều hiển nhiên nhất trong cách RoIPool [18, 12], trên thực tế hoạt động cốt lõi cho tham dự vào các trường hợp, thực hiện thô lượng tử hóa không gian cho khai thác tính năng. Để khắc phục những lệch chi tiết, chúng tôi đề xuất một đơn giản, lớp lượng tử miễn phí, gọi RoIAlign, mà trung thành bảo tồn các địa điểm không gian chính xác. Mặc dù là một sự thay đổi dường như nhỏ, RoIAlign có tác động lớn: nó cải thiện độ chính xác mặt nạ bằng cách tương đối 10% đến 50%, cho thấy lợi nhuận lớn hơn dưới số liệu nội địa hóa chặt chẽ hơn. Thứ hai, chúng tôi tìm thấy nó cần thiết để mặt nạ tách và dự đoán lớp: chúng tôi\n",
    "dự đoán một mặt nạ nhị phân cho mỗi lớp một cách độc lập, mà không cạnh tranh giữa các lớp, dựa vào RoI của mạng để dự đoán category. Ngược lại, FCNs thường thực hiện mỗi điểm ảnh đa lớp phân loại, which couples segmentation and classification, and based on our experiments works poorly for instance segmentation.\n",
    "\n",
    "..."
   ]
  },
  {
   "cell_type": "markdown",
   "metadata": {},
   "source": [
    "# 2. Related work\n",
    "**R-CNN:** ...\n",
    "\n",
    "**Instance segmentation:** ..."
   ]
  },
  {
   "cell_type": "markdown",
   "metadata": {},
   "source": [
    "# 3. Mask R-CNN"
   ]
  },
  {
   "cell_type": "code",
   "execution_count": null,
   "metadata": {},
   "outputs": [],
   "source": []
  }
 ],
 "metadata": {
  "kernelspec": {
   "display_name": "Python 3",
   "language": "python",
   "name": "python3"
  },
  "language_info": {
   "codemirror_mode": {
    "name": "ipython",
    "version": 3
   },
   "file_extension": ".py",
   "mimetype": "text/x-python",
   "name": "python",
   "nbconvert_exporter": "python",
   "pygments_lexer": "ipython3",
   "version": "3.7.4"
  }
 },
 "nbformat": 4,
 "nbformat_minor": 2
}
