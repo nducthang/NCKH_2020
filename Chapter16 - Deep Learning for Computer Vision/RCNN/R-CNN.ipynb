{
 "cells": [
  {
   "cell_type": "markdown",
   "metadata": {},
   "source": [
    "# Mục lục\n",
    "1. Mô hình R-CNN\n",
    "2. Selective search\n",
    "3. Bouding Box Regression\n",
    "4. IoU\n",
    "\n",
    "# Tài liệu tham khảo\n",
    "- https://lilianweng.github.io/lil-log/2017/12/31/object-recognition-for-dummies-part-3.html#r-cnn\n",
    "- https://github.com/yangxue0827/RCNN\n",
    "- https://github.com/Liu-Yicheng/R-CNN\n",
    "- https://helpex.vn/article/tu-r-cnn-den-r-cnn-nhanh-hon-su-phat-trien-cua-cong-nghe-phat-hien-doi-tuong-5c66458aae03f601287658bf\n",
    "- https://nttuan8.com/bai-11-object-detection-voi-faster-r-cnn/#RCNN_(Region_with_CNN_feature)\n",
    "- Rich feature hirarchies for accurate object detection and sematic segmentaion (Paper)\n",
    "- https://d2l.ai/chapter_computer-vision/rcnn.html\n",
    "- https://thorpham.github.io/blog/\n",
    "- http://cs.brown.edu/people/pfelzens/segment/"
   ]
  },
  {
   "cell_type": "markdown",
   "metadata": {},
   "source": [
    "# 1. Mô hình R-CNN\n",
    "Mạng CNN và các kiến trúc CNN hiện đại giúp phân loại nhận dạng hình ảnh, mạng CNN chỉ phân loại được ảnh chứa 1 đối tượng. Tuy nhiên, trong cuộc sống bình thường thì ảnh không chỉ chứa 1 đối tượng mà còn có thể chứa nhiều đối tượng. Nếu hình ảnh chứa nhiều đối tượng thì CNN chưa thực hiện được việc phân vùng đối tượng, các bài toán nhận dạng nhiều đối tượng trong ảnh gọi là `object detection`.\n",
    "\n",
    "Về cơ bản, một bài toán object detection được chia thành 2 bài toán nhỏ sau đây:\n",
    "* Xác định các bouding box (hình chữ nhật) quanh đối tượng\n",
    "* Với mỗi bouding box cần phân loại xem đó là đối tượng gì.\n",
    "\n",
    "R-CNN là một trong số những thuật toán cơ bản và là nền tảng cho nhiều thuật toán khác để nhận dạng nhiều đối tượng trong ảnh.\n",
    "\n",
    "R-CNN (Girshick et al, 2014) là viết tắt của cụm từ `\"Region-based Convolutional Neural Networks\"`. Ý tưởng chính của R-CNN trải qua 2 bước:\n",
    "1. Dùng thuật toán Selective Search để lấy ra khoảng 2000 bouding box trong ảnh mà có khả năng chứa đối tượng.\n",
    "2. Với mỗi bouding box, ta xác định xem nó là đối tượng nào."
   ]
  },
  {
   "cell_type": "markdown",
   "metadata": {},
   "source": [
    "![RCNN](./images/RCNN.png)"
   ]
  },
  {
   "cell_type": "markdown",
   "metadata": {},
   "source": [
    "Cách thức hoạt động của R-CNN có thể được tóm tắt như sau:\n",
    "1. Huấn luyện (hoặc sử dụng pre-train) một mô hình CNN phân loại (ví dụ như AlexNet)\n",
    "2. **Selective search** được sử dụng để tìm kiếm các region proposal trên hình ảnh đầu vào (khoảng 2000 vùng đề xuất trên mỗi ảnh). Các vùng này có thể có đối tượng hoặc không và chúng có kích thước khác nhau.\n",
    "3. Các vùng đề xuất được **warped** để đưa về kích thước cố định mà mạng CNN yêu cầu.\n",
    "4. Thực hiện fine-tuning (nếu sử dụng pre-train) mạng CNN cho K+1 lớp; trong đó K là số đối tượng chúng ta cần phân lớp và bổ sung thêm 1 lớp gọi là *background*.\n",
    "5. Với mỗi vùng đề xuất, thực hiện lan truyền qua mạng CNN sẽ tạo ra một vector đặc trưng. Vector đặc trưng này sau đó sử dụng 1 **binary SVM** được đào tạo cho từng lớp 1 cách độc lập. (Xác định đối tượng có thuộc về mỗi loại hay không?)\n",
    "6. Sử dụng **bouding box regression** để tinh chỉnh vị trí các vùng đề xuất. Đối với mỗi lớp, huấn luyện 1 mô hình hồi quy để xác định xem hộp có được tối ưu hoá hay không?"
   ]
  },
  {
   "cell_type": "markdown",
   "metadata": {},
   "source": [
    "![r-cnn.svg](./images/r-cnn.svg)"
   ]
  },
  {
   "cell_type": "markdown",
   "metadata": {},
   "source": [
    "# 2. Selective search\n",
    "Thuật toán selective search đóng vai trò quan trọng trong việc đề xuất vùng dựa trên đầu vào là các phần phân đoạn. Đầu vào của thuật toán là ảnh màu, đầu ra là khoảng 2000 region proposal (bouding box) mà có khả năng chứa các đối tượng.\n",
    "\n",
    "Đầu tiên ảnh được phân đoạn (segment) qua thuật toán `Graph based image segmentation`, thuật toán dựa trên đồ thị và không sử dụng deep learning.\n",
    "\n",
    "![selective search](./images/graph-based-segmentation.png)"
   ]
  },
  {
   "cell_type": "markdown",
   "metadata": {},
   "source": [
    "Rõ ràng, ta không thể dùng mỗi màu trong đầu ra để là một region proposal được vì:\n",
    "* Mỗi đối tượng trong ảnh có thể chứa nhiều hơn 1 màu.\n",
    "* Các đối tượng bị che mất một phần như cái đĩa dưới cái chén không thể xác định được như hình trên.\n",
    "\n",
    "Vì vậy, cần nhóm các vùng màu với nhau để làm region proposal.\n",
    "\n",
    "Từ đó,selective seach trải qua các bước như sau:\n",
    "1. Thêm toàn bộ các khoanh vùng tương ứng đối với mỗi phần phân đoạn vào danh sách region proposal (Đề xuất vùng).\n",
    "2. Tiến hành nhóm các phần phân đoạn dựa trên độ tương quan.\n",
    "3. Quay lại bước 1 cho đến khi đạt só lượng region proposal cần thiết.\n",
    "\n",
    "Việc đánh giá độ tương quan của các phần phân đoạn để nhóm thành 1 nhóm có thể dựa trên các tiêu chí: màu sắc, kết cấu, kích thước và hình dạng.\n",
    "\n",
    "![selectivesearch](./images/selectivesearch.png)"
   ]
  },
  {
   "cell_type": "markdown",
   "metadata": {},
   "source": [
    "# 3. Bounding box regression\n",
    "Các tác giả sử dụng bouding box regression để cải thiện hiệu suất. Sau khi dự đoán cho mỗi vùng với 1 class riêng bằng SVM, các tác giả đưa thêm một tầng hồi quy để tinh chỉnh lại các bouding box dự đoán.\n",
    "\n",
    "Đầu vào của thuật toán là một tập $N$ cặp $(p,g)$ với $p$ là box dự đoán và $g$ là box thuật, box dự đoán có toạ độ $p=(p_x, p_y, p_w, p_h)$ (Toạ độ trung tâm, chiều rộng, chiều cao), box thật $g=(g_x, g_y, g_w, g_h)$. Mục tiêu của chúng ta là cần học một chuyển đổi ánh xạ từ box dự đoán $p$ thành một box thật (ground-truth) $g$.\n",
    "\n",
    "Chúng ta tham số hoá chuyển đổi trong 4 hàm: $d_x(p), d_y(p), d_w(p), d_h(p)$. Với mỗi đầu vào $p$, thực hiện chuyển đổi như sau:\n",
    "$$\\begin{aligned}\n",
    "\\hat{g}_x &= p_w d_x(\\mathbf{p}) + p_x \\\\\n",
    "\\hat{g}_y &= p_h d_y(\\mathbf{p}) + p_y \\\\\n",
    "\\hat{g}_w &= p_w \\exp({d_w(\\mathbf{p})}) \\\\\n",
    "\\hat{g}_h &= p_h \\exp({d_h(\\mathbf{p})})\n",
    "\\end{aligned}$$"
   ]
  },
  {
   "cell_type": "markdown",
   "metadata": {},
   "source": [
    "![RCNN-bbox-regression.png](./images/RCNN-bbox-regression.png)"
   ]
  },
  {
   "cell_type": "markdown",
   "metadata": {},
   "source": [
    "Một lợi ích rõ ràng của việc áp dụng chuyển đổi như vậy là tất cả các hàm hiệu chỉnh hộp giới hạn, $d_i(p)$ với $i \\in \\{x,y,w,h\\}$, có thể lấy một vài giá trị giữa $[-\\inf, \\inf]$. Mục tiêu là học:\n",
    "$$\\begin{align}\n",
    "t_x = (g_x-p_x)/p_w \\\\\n",
    "t_y = (g_y-p_y)/p_h \\\\\n",
    "t_w = log(g_w/p_w) \\\\\n",
    "t_h = log(g_h/p_h) \\\\\n",
    "\\end{align}$$\n",
    "Mục tiêu của chúng ta là cần cực tiểu hoá hàm mất mát MSE với regularization:\n",
    "$$\\mathcal{L}_\\text{reg} = \\sum_{i \\in \\{x, y, w, h\\}} (t_i - d_i(\\mathbf{p}))^2 + \\lambda \\|\\mathbf{w}\\|^2$$"
   ]
  },
  {
   "cell_type": "markdown",
   "metadata": {},
   "source": [
    "Một điều đáng chú ý là không phải tất cả các box đề xuất đều có các ground-box tương ứng. Ở đây, chỉ có các box đề xuất mà có IoU với box thật ít nhất 0,6 trở lên mới được giữ lại để đào tạo mô hình."
   ]
  },
  {
   "cell_type": "markdown",
   "metadata": {},
   "source": [
    "# 4. IoU\n",
    "IoU được sử dụng trong bài toán object detection, để đánh giá xem bounding box dự đoán đối tượng khớp với ground truth thật của đối tượng.\n",
    "\n",
    "![IoU-2](images/IoU-2.png)\n",
    "\n",
    "Nhận xét:\n",
    "* Chỉ số IoU trong khoảng [0,1]\n",
    "* IoU càng gần 1 thì bounding box dự đoán càng gần ground truth\n",
    "\n",
    "![IoU_ex](./images/IoU_ex.png)"
   ]
  },
  {
   "cell_type": "code",
   "execution_count": null,
   "metadata": {},
   "outputs": [],
   "source": []
  }
 ],
 "metadata": {
  "kernelspec": {
   "display_name": "Python 3.7.4 64-bit",
   "language": "python",
   "name": "python37464bit800f9d2561c149afb9ac2fee10598ef6"
  },
  "language_info": {
   "codemirror_mode": {
    "name": "ipython",
    "version": 3
   },
   "file_extension": ".py",
   "mimetype": "text/x-python",
   "name": "python",
   "nbconvert_exporter": "python",
   "pygments_lexer": "ipython3",
   "version": "3.7.4"
  }
 },
 "nbformat": 4,
 "nbformat_minor": 2
}
