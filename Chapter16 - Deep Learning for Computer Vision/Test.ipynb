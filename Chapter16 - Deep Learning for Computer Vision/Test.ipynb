{
 "cells": [
  {
   "cell_type": "markdown",
   "metadata": {},
   "source": [
    "Trong chương này, chúng ta sẽ thảo luận về Image dataset và ImageNet Large Scale Visual Recognition Challenge (ILSVRC).\n",
    "## 1.1 The imageNet dataset\n",
    "ImageNet là một dự án mục đích đánh nhãn và phân loại ảnh dựa vào 22000 loại của nó dựa trên một tập hợp đã định nghĩa các từ và nhóm từ. Ở thời điểm viết bài này, có 14 triệu ảnh trong dự án ImageNet.\n",
    "\n",
    "Vậy làm thế nào để tổ chức ImageNet? Để sắp xếp các data. Imagenet theo hệ thống phân cấp WordNet. Mỗi từ/câu có nghĩa trong WordNet gọi là sysnonym set (bộ từ đồng nghĩa) or synset với tên gọi ngắn. Trong dự án ImagNet, các hình ảnh đã phân loại theo những synsets; mục tiêu của dự án là có 1000+ hình ảnh cho mỗi synset.\n",
    "### 4.1.1 ILSVRC\n",
    "Trong thị giác máy tính và học sâu, bất cứ khi nào bạn nghe thấy mọi người nói về mạng lưới hình ảnh, có khả năng họ đề cập đến ILSVRC. Mục tiêu của phân lớp hình ảnh trong thách thức này là train một mô hình có thể phân lớp chính xác hình ảnh vào  1000 loại đối tượng riêng biệt, hình ảnh bên trong dataset Imaget được thu thập bằng cách biên soạn bộ dữ liệu trước và cào các trang web trực tuyến phổ biến. Những bức ảnh sau đó được đánh nhãn bằng tya, chú thích và gán thẻ.Kể từ khi kiến trúc AlexNet tinh đã được giới thiệu vào năm 2012, Convolutional thần kinh phương pháp mạng đã thống trị các thách thức ILSVRC, cả về độ chính xác và số lượng mục.\n",
    "![Top 5 Error Rate](./images/1.png)\n",
    "Kể từ năm 2012, các bảng dẫn cho những thách thức ILSVRC đã bị chi phối bởi các cách tiếp cận sâu learningbased với cấp bậc-1 và xếp hạng-5 độ chính xác tăng lên hàng năm (Hình 4.1). mô hình\n",
    "được đào tạo về ≈ 1,2 triệu hình ảnh đào tạo với một 50.000 hình ảnh để xác nhận (50 hình ảnh\n",
    "mỗi synset) và 100.000 hình ảnh để thử nghiệm (100 ảnh mỗi synset).\n",
    "\n",
    "Những 1.000 loại hình ảnh đại diện cho lớp đối tượng khác nhau mà chúng ta có thể gặp phải trong chúng tôi\n",
    "ngày-to-ngày cuộc sống, chẳng hạn như loài chó, mèo, các đối tượng hộ gia đình khác nhau, các loại xe, và nhiều\n",
    "hơn. Bạn có thể tìm danh sách đầy đủ các loại đối tượng trong thử thách ILSVRC trên chính thức này\n",
    "trang tài liệu ImageNet (http://pyimg.co/1ogm0).\n",
    "\n",
    "Hơn nữa, hình ảnh trong ImageNet khác nhau đáng kể giữa các quy mô đối tượng, số trường hợp,\n",
    "hình ảnh lộn xộn / tắc, biến dạng, kết cấu, màu sắc, hình dạng và kích thước thực tế. Bộ dữ liệu này là\n",
    "thách thức, để nói rằng ít nhất, và trong một số trường hợp, thật khó cho con người thậm chí đến một cách chính xác nhãn. Bởi vì\n",
    "về bản chất thách thức của tập dữ liệu này, các mô hình học tập sâu hoạt động tốt trên ImageNet là\n",
    "có khả năng khái quát tốt để hình ảnh bên ngoài của xác nhận và kiểm tra bộ - đây là lý do chính xác\n",
    "lý do tại sao chúng tôi áp dụng học tập chuyển giao cho các mô hình này là tốt.\n",
    "\n",
    "Chúng tôi sẽ thảo luận thêm ví dụ về hình ảnh và các lớp học cụ thể trong Chương 5 khi chúng tôi bắt đầu khám phá\n",
    "mã ImageNet bộ dữ liệu và ghi vào chuẩn bị hình ảnh của chúng tôi cho đào tạo. Tuy nhiên, cho đến thời điểm đó, tôi\n",
    "rất muốn khuyên bạn nên tận phút 10-20 và duyệt synsets (http://pyimg.co/1ogm0)\n",
    "trong trình duyệt web của bạn để có được một cảm giác về quy mô và thách thức liên quan đến phân loại một cách chính xác\n",
    "những bức ảnh này.\n",
    "\n",
    "## 4.2 Obtaining ImageNet\n",
    "dataset phân lớp ImageNet là khá lớn, khoảng 138GB cho train, 6.3GB cho validation, và 13GB cho test. Trước khi bạn có thể donwload ImageNet, đầu tiên bạn cần được chấp nhận bởi ILSVRC và download hình ảnh và các label. Section này sẽ giúp bạn thu thập được dataset ImageNet.\n",
    "### 4.2.1 Requesting Access to ILSVRC Challenge\n"
   ]
  },
  {
   "cell_type": "code",
   "execution_count": null,
   "metadata": {},
   "outputs": [],
   "source": []
  }
 ],
 "metadata": {
  "kernelspec": {
   "display_name": "Python 3",
   "language": "python",
   "name": "python3"
  },
  "language_info": {
   "codemirror_mode": {
    "name": "ipython",
    "version": 3
   },
   "file_extension": ".py",
   "mimetype": "text/x-python",
   "name": "python",
   "nbconvert_exporter": "python",
   "pygments_lexer": "ipython3",
   "version": "3.7.4"
  }
 },
 "nbformat": 4,
 "nbformat_minor": 2
}
