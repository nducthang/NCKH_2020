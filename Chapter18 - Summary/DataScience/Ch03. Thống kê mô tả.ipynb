{
 "cells": [
  {
   "cell_type": "markdown",
   "metadata": {},
   "source": [
    "Trong jupyter này, chúng ta sẽ làm quen với các thống kê Mô tả bao gồm các khái niệm, thuật ngữ, biện pháp và công cụ giúp mô tả, hiển thị và tóm tắt dữ liệu một cách có ý nghĩa. Khi phân tích dữ liệu, chẳng hạn như giá thuê căn hộ mỗi năm, có thể sử dụng cả số liệu thống kê mô tả và suy luận để phân tích kết quả và đưa ra một số kết luận. Chúng tôi sẽ thảo luận về các khái niệm, thuật ngữ và thủ tục cơ bản, như trung bình, trung vị, phương sai, tương quan, v.v., để khám phá, mô tả và tóm tắt tập dữ liệu đã cho."
   ]
  },
  {
   "cell_type": "markdown",
   "metadata": {},
   "source": [
    "# 1. Thống kê mô tả \n",
    "1.1 Getting data <br/>\n",
    "1.2 Data preparation <br/>\n",
    "1.3 Improving data as a pandas DataFrame <br/>\n",
    "1.4 Data clearning <br/>"
   ]
  },
  {
   "cell_type": "markdown",
   "metadata": {},
   "source": [
    "# 1.1 Getting data\n",
    "The adult example"
   ]
  },
  {
   "cell_type": "markdown",
   "metadata": {},
   "source": [
    "Bộ data này xấp xỉ 32000 mẫu quan sát khác nhau về dân số US: tuổi, giới tính, tình trạng hôn nhân, quê quán, thu nhập, giáo dục, nghề nghiệp...<br/>\n",
    "Chúng ta sẽ khám phá data này và trả lời câu hỏi như là: \"Có phải là đàn ông có thu nhập cao hơn phụ nữ, ví dụ để nhận được trên 50000$ mỗi năm?\"<br/>\n",
    "Chi tiết xem tại: https://archive.ics.uci.edu/ml/datasets/Adult"
   ]
  },
  {
   "cell_type": "markdown",
   "metadata": {},
   "source": [
    "# 1.2 Data preparation"
   ]
  },
  {
   "cell_type": "code",
   "execution_count": 1,
   "metadata": {},
   "outputs": [],
   "source": [
    "file = open('./files/ch03/adult.data','r')\n",
    "def chr_int(a):\n",
    "    if a.isdigit(): return int(a)\n",
    "    else: return 0\n",
    "data = []\n",
    "for line in file:\n",
    "    data1 = line.split(', ')\n",
    "    if len(data1) == 15:\n",
    "        data.append([chr_int(data1[0]), data1[1], chr_int(data1[2]), data1[3],chr_int(data1[4]), data1[5],data1[6], data1[7], data1[8], data1[9], chr_int(data1[10]),chr_int(data1[11]),chr_int(data1[12]),data1[13], data1[14] ])"
   ]
  },
  {
   "cell_type": "code",
   "execution_count": 2,
   "metadata": {},
   "outputs": [
    {
     "name": "stdout",
     "output_type": "stream",
     "text": [
      "[[50, 'Self-emp-not-inc', 83311, 'Bachelors', 13, 'Married-civ-spouse', 'Exec-managerial', 'Husband', 'White', 'Male', 0, 0, 13, 'United-States', '<=50K\\n']]\n"
     ]
    }
   ],
   "source": [
    "print(data[1:2])"
   ]
  },
  {
   "cell_type": "markdown",
   "metadata": {},
   "source": [
    "## 1.3 Importing data as a pandas DataFrame"
   ]
  },
  {
   "cell_type": "markdown",
   "metadata": {},
   "source": [
    "Một trong những cách dễ quả lý dữ liệu trong python là sử dụng <i>DataFrame</i>, được định nghĩa trong thư viện <i>Pandas</i>. Không gian 2 chiều, kích cỡ có thể thay đổi, có khả năng không đồng nhất cấu trúc bảng với các trục:"
   ]
  },
  {
   "cell_type": "code",
   "execution_count": 3,
   "metadata": {},
   "outputs": [],
   "source": [
    "import pandas as pd\n",
    "df = pd.DataFrame(data)\n",
    "df.columns =  [\n",
    "'age', 'type_employer', 'fnlwgt',\n",
    "'education', 'education_num', 'marital',\n",
    "'occupation','relationship', 'race',\n",
    "'sex', 'capital_gain', 'capital_loss',\n",
    "'hr_per_week', 'country', 'income'\n",
    "]"
   ]
  },
  {
   "cell_type": "code",
   "execution_count": 4,
   "metadata": {},
   "outputs": [
    {
     "data": {
      "text/html": [
       "<div>\n",
       "<style scoped>\n",
       "    .dataframe tbody tr th:only-of-type {\n",
       "        vertical-align: middle;\n",
       "    }\n",
       "\n",
       "    .dataframe tbody tr th {\n",
       "        vertical-align: top;\n",
       "    }\n",
       "\n",
       "    .dataframe thead th {\n",
       "        text-align: right;\n",
       "    }\n",
       "</style>\n",
       "<table border=\"1\" class=\"dataframe\">\n",
       "  <thead>\n",
       "    <tr style=\"text-align: right;\">\n",
       "      <th></th>\n",
       "      <th>age</th>\n",
       "      <th>type_employer</th>\n",
       "      <th>fnlwgt</th>\n",
       "      <th>education</th>\n",
       "      <th>education_num</th>\n",
       "      <th>marital</th>\n",
       "      <th>occupation</th>\n",
       "      <th>relationship</th>\n",
       "      <th>race</th>\n",
       "      <th>sex</th>\n",
       "      <th>capital_gain</th>\n",
       "      <th>capital_loss</th>\n",
       "      <th>hr_per_week</th>\n",
       "      <th>country</th>\n",
       "      <th>income</th>\n",
       "    </tr>\n",
       "  </thead>\n",
       "  <tbody>\n",
       "    <tr>\n",
       "      <th>0</th>\n",
       "      <td>39</td>\n",
       "      <td>State-gov</td>\n",
       "      <td>77516</td>\n",
       "      <td>Bachelors</td>\n",
       "      <td>13</td>\n",
       "      <td>Never-married</td>\n",
       "      <td>Adm-clerical</td>\n",
       "      <td>Not-in-family</td>\n",
       "      <td>White</td>\n",
       "      <td>Male</td>\n",
       "      <td>2174</td>\n",
       "      <td>0</td>\n",
       "      <td>40</td>\n",
       "      <td>United-States</td>\n",
       "      <td>&lt;=50K\\n</td>\n",
       "    </tr>\n",
       "    <tr>\n",
       "      <th>1</th>\n",
       "      <td>50</td>\n",
       "      <td>Self-emp-not-inc</td>\n",
       "      <td>83311</td>\n",
       "      <td>Bachelors</td>\n",
       "      <td>13</td>\n",
       "      <td>Married-civ-spouse</td>\n",
       "      <td>Exec-managerial</td>\n",
       "      <td>Husband</td>\n",
       "      <td>White</td>\n",
       "      <td>Male</td>\n",
       "      <td>0</td>\n",
       "      <td>0</td>\n",
       "      <td>13</td>\n",
       "      <td>United-States</td>\n",
       "      <td>&lt;=50K\\n</td>\n",
       "    </tr>\n",
       "    <tr>\n",
       "      <th>2</th>\n",
       "      <td>38</td>\n",
       "      <td>Private</td>\n",
       "      <td>215646</td>\n",
       "      <td>HS-grad</td>\n",
       "      <td>9</td>\n",
       "      <td>Divorced</td>\n",
       "      <td>Handlers-cleaners</td>\n",
       "      <td>Not-in-family</td>\n",
       "      <td>White</td>\n",
       "      <td>Male</td>\n",
       "      <td>0</td>\n",
       "      <td>0</td>\n",
       "      <td>40</td>\n",
       "      <td>United-States</td>\n",
       "      <td>&lt;=50K\\n</td>\n",
       "    </tr>\n",
       "    <tr>\n",
       "      <th>3</th>\n",
       "      <td>53</td>\n",
       "      <td>Private</td>\n",
       "      <td>234721</td>\n",
       "      <td>11th</td>\n",
       "      <td>7</td>\n",
       "      <td>Married-civ-spouse</td>\n",
       "      <td>Handlers-cleaners</td>\n",
       "      <td>Husband</td>\n",
       "      <td>Black</td>\n",
       "      <td>Male</td>\n",
       "      <td>0</td>\n",
       "      <td>0</td>\n",
       "      <td>40</td>\n",
       "      <td>United-States</td>\n",
       "      <td>&lt;=50K\\n</td>\n",
       "    </tr>\n",
       "    <tr>\n",
       "      <th>4</th>\n",
       "      <td>28</td>\n",
       "      <td>Private</td>\n",
       "      <td>338409</td>\n",
       "      <td>Bachelors</td>\n",
       "      <td>13</td>\n",
       "      <td>Married-civ-spouse</td>\n",
       "      <td>Prof-specialty</td>\n",
       "      <td>Wife</td>\n",
       "      <td>Black</td>\n",
       "      <td>Female</td>\n",
       "      <td>0</td>\n",
       "      <td>0</td>\n",
       "      <td>40</td>\n",
       "      <td>Cuba</td>\n",
       "      <td>&lt;=50K\\n</td>\n",
       "    </tr>\n",
       "  </tbody>\n",
       "</table>\n",
       "</div>"
      ],
      "text/plain": [
       "   age     type_employer  fnlwgt  education  education_num  \\\n",
       "0   39         State-gov   77516  Bachelors             13   \n",
       "1   50  Self-emp-not-inc   83311  Bachelors             13   \n",
       "2   38           Private  215646    HS-grad              9   \n",
       "3   53           Private  234721       11th              7   \n",
       "4   28           Private  338409  Bachelors             13   \n",
       "\n",
       "              marital         occupation   relationship   race     sex  \\\n",
       "0       Never-married       Adm-clerical  Not-in-family  White    Male   \n",
       "1  Married-civ-spouse    Exec-managerial        Husband  White    Male   \n",
       "2            Divorced  Handlers-cleaners  Not-in-family  White    Male   \n",
       "3  Married-civ-spouse  Handlers-cleaners        Husband  Black    Male   \n",
       "4  Married-civ-spouse     Prof-specialty           Wife  Black  Female   \n",
       "\n",
       "   capital_gain  capital_loss  hr_per_week        country   income  \n",
       "0          2174             0           40  United-States  <=50K\\n  \n",
       "1             0             0           13  United-States  <=50K\\n  \n",
       "2             0             0           40  United-States  <=50K\\n  \n",
       "3             0             0           40  United-States  <=50K\\n  \n",
       "4             0             0           40           Cuba  <=50K\\n  "
      ]
     },
     "execution_count": 4,
     "metadata": {},
     "output_type": "execute_result"
    }
   ],
   "source": [
    "df.head()"
   ]
  },
  {
   "cell_type": "code",
   "execution_count": 5,
   "metadata": {},
   "outputs": [
    {
     "data": {
      "text/plain": [
       "(32561, 15)"
      ]
     },
     "execution_count": 5,
     "metadata": {},
     "output_type": "execute_result"
    }
   ],
   "source": [
    "df.shape"
   ]
  },
  {
   "cell_type": "markdown",
   "metadata": {},
   "source": [
    "Đếm số item trên mỗi country:"
   ]
  },
  {
   "cell_type": "code",
   "execution_count": 6,
   "metadata": {},
   "outputs": [
    {
     "data": {
      "text/plain": [
       "country\n",
       "?                               583\n",
       "Cambodia                         19\n",
       "Canada                          121\n",
       "China                            75\n",
       "Columbia                         59\n",
       "Cuba                             95\n",
       "Dominican-Republic               70\n",
       "Ecuador                          28\n",
       "El-Salvador                     106\n",
       "England                          90\n",
       "France                           29\n",
       "Germany                         137\n",
       "Greece                           29\n",
       "Guatemala                        64\n",
       "Haiti                            44\n",
       "Holand-Netherlands                1\n",
       "Honduras                         13\n",
       "Hong                             20\n",
       "Hungary                          13\n",
       "India                           100\n",
       "Iran                             43\n",
       "Ireland                          24\n",
       "Italy                            73\n",
       "Jamaica                          81\n",
       "Japan                            62\n",
       "Laos                             18\n",
       "Mexico                          643\n",
       "Nicaragua                        34\n",
       "Outlying-US(Guam-USVI-etc)       14\n",
       "Peru                             31\n",
       "Philippines                     198\n",
       "Poland                           60\n",
       "Portugal                         37\n",
       "Puerto-Rico                     114\n",
       "Scotland                         12\n",
       "South                            80\n",
       "Taiwan                           51\n",
       "Thailand                         18\n",
       "Trinadad&Tobago                  19\n",
       "United-States                 29170\n",
       "Vietnam                          67\n",
       "Yugoslavia                       16\n",
       "dtype: int64"
      ]
     },
     "execution_count": 6,
     "metadata": {},
     "output_type": "execute_result"
    }
   ],
   "source": [
    "counts = df.groupby('country').size()\n",
    "counts"
   ]
  },
  {
   "cell_type": "markdown",
   "metadata": {},
   "source": [
    "Đếm số item theo tuổi:"
   ]
  },
  {
   "cell_type": "code",
   "execution_count": 7,
   "metadata": {},
   "outputs": [
    {
     "data": {
      "text/plain": [
       "age\n",
       "17    395\n",
       "18    550\n",
       "19    712\n",
       "20    753\n",
       "21    720\n",
       "     ... \n",
       "85      3\n",
       "86      1\n",
       "87      1\n",
       "88      3\n",
       "90     43\n",
       "Length: 73, dtype: int64"
      ]
     },
     "execution_count": 7,
     "metadata": {},
     "output_type": "execute_result"
    }
   ],
   "source": [
    "counts = df.groupby('age').size()\n",
    "counts"
   ]
  },
  {
   "cell_type": "markdown",
   "metadata": {},
   "source": [
    "chia người thành 2 nhóm: men và women"
   ]
  },
  {
   "cell_type": "code",
   "execution_count": 8,
   "metadata": {},
   "outputs": [],
   "source": [
    "ml = df[(df.sex == 'Male')]\n",
    "ml1 = df[(df.sex == 'Male') & (df.income == '>50K\\n')]\n",
    "fm = df[(df.sex == 'Female')]\n",
    "fm1 = df[(df.sex == 'Female') & (df.income == '>50K\\n')]"
   ]
  },
  {
   "cell_type": "code",
   "execution_count": 9,
   "metadata": {},
   "outputs": [
    {
     "name": "stdout",
     "output_type": "stream",
     "text": [
      "Tỷ lệ người thu nhập cao: 24\n",
      "Tỷ lệ đàn ông thu nhập cao: 30\n",
      "Tỷ lệ phụ nữ thu nhập cao: 10\n"
     ]
    }
   ],
   "source": [
    "# Tóm tắt data\n",
    "df1 = df[(df.income == '>50K\\n')]\n",
    "print(\"Tỷ lệ người thu nhập cao:\",int(len(df1)/float(len(df))*100))\n",
    "print(\"Tỷ lệ đàn ông thu nhập cao:\",int(len(ml1)/float(len(ml))*100))\n",
    "print(\"Tỷ lệ phụ nữ thu nhập cao:\",int(len(fm1)/float(len(fm))*100))"
   ]
  },
  {
   "cell_type": "markdown",
   "metadata": {},
   "source": [
    "## 1.4 Data Cleaning\n",
    "Các bước phổ biến nhất là:\n",
    "+ **Spample the data (Lấy mẫu dữ liệu)**: Nếu số lượng dữ liệu thô là rất lớn, việc xử lý tất cả chúng có thể đòi hỏi một lượng lớn khả năng xử lý có thể không thực tế.  Trong trường hợp này, việc lấy mẫu dữ liệu đầu vào để giảm kích thước dữ liệu cần xử lý là khá phổ biến.\n",
    "+ **Impute missing data**: Điều khá phổ biến là một số bản ghi đầu vào không đầy đủ theo nghĩa là các trường nhất định bị thiếu hoặc có lỗi đầu vào.  Trong định dạng dữ liệu dạng bảng điển hình, chúng ta cần xác thực mỗi bản ghi chứa cùng một số trường và mỗi trường chứa loại dữ liệu mà chúng ta mong đợi.  Trong trường hợp bản ghi bị thiếu một số trường, chúng tôi có các lựa chọn sau: \n",
    "<small>\n",
    "* (a) Hủy toàn bộ bản ghi nếu nó không đầy đủ;  \n",
    "\n",
    "* (b) Suy ra giá trị còn thiếu dựa trên dữ liệu từ các bản ghi khác.  Một cách tiếp cận phổ biến là điền vào dữ liệu còn thiếu với mức trung bình hoặc trung bình.\n",
    "</small>"
   ]
  },
  {
   "cell_type": "markdown",
   "metadata": {},
   "source": [
    "* **Chuẩn hóá giá trị**: chuẩn hóa dữ liệu về một khoảng\n",
    "* **Giảm chiều**\n",
    "* **Thêm đặc trưng dẫn xuất**\n",
    "* **Phân biệt gía trị thành các danh mục (categorical)**\n",
    "* **Phân loại nhị phân**: Một số mô hình học máy nhất định chỉ nhận đầu vào nhị phân (hoặc đầu vào số).  Trong trường hợp này, chúng ta cần chuyển đổi thuộc tính phân loại thành nhiều thuộc tính nhị phân, trong khi mỗi thuộc tính nhị phân tương ứng với một giá trị cụ thể của danh mục.\n",
    "* **Chọn, tổ hợp, tổng hợp dữ liệu**: Thiết kế dạng dữ liệu huấn luyện là phần quan trọng nhất trong toàn bộ bài tập mô hình dự đoán bởi vì độ chính xác chủ yếu phụ thuộc vào việc các đặc trưng đầu vào có được cấu trúc ở dạng thích hợp cung cấp tín hiệu mạnh cho thuật toán học hay không.  Thay vì sử dụng dữ liệu thô như hiện tại, điều khá phổ biến là nhiều phần dữ liệu thô cần được kết hợp với nhau hoặc tổng hợp nhiều bản ghi dữ liệu thô dọc theo một số chiều."
   ]
  },
  {
   "cell_type": "markdown",
   "metadata": {},
   "source": [
    "# 2. Phân tích thăm dò dữ liệu\n",
    "## 2.1 Tóm tắt dữ liệu "
   ]
  },
  {
   "cell_type": "code",
   "execution_count": 10,
   "metadata": {},
   "outputs": [
    {
     "name": "stdout",
     "output_type": "stream",
     "text": [
      "Trung bình tuổi đàn ông: 39.43354749885268\n",
      "Trung bình tuổi phụ nữ: 36.85823043357163\n",
      "Trung bình tuổi đàn ông có thu nhập cao: 44.62578805163614\n",
      "Trung bình tuổi phụ nữ có thu nhập cao: 42.125530110262936\n"
     ]
    }
   ],
   "source": [
    "# Mean\n",
    "print(\"Trung bình tuổi đàn ông:\",ml['age'].mean())\n",
    "print(\"Trung bình tuổi phụ nữ:\",fm['age'].mean())\n",
    "print(\"Trung bình tuổi đàn ông có thu nhập cao:\",ml1['age'].mean())\n",
    "print(\"Trung bình tuổi phụ nữ có thu nhập cao:\",fm1['age'].mean())"
   ]
  },
  {
   "cell_type": "code",
   "execution_count": 11,
   "metadata": {},
   "outputs": [
    {
     "name": "stdout",
     "output_type": "stream",
     "text": [
      "Variance tuổi đàn ông: 178.77375174529985\n",
      "Variance tuổi phụ nữ: 196.3837063948063\n",
      "Variance tuổi đàn ông có thu nhập cao: 109.94506674864569\n",
      "Variance tuổi phụ nữ có thu nhập cao: 109.41377041059515\n",
      "Std tuổi đàn ông: 13.370630192526448\n",
      "Std tuổi phụ nữ: 14.013697099438332\n",
      "Std tuổi đàn ông có thu nhập cao: 10.485469314658532\n",
      "Std tuổi phụ nữ có thu nhập cao: 10.460103747601892\n",
      "Median tuổi đàn ông: 38.0\n",
      "Median tuổi phụ nữ: 35.0\n",
      "Median tuổi đàn ông có thu nhập cao: 44.0\n",
      "Median tuổi phụ nữ có thu nhập cao: 41.0\n"
     ]
    }
   ],
   "source": [
    "# Variance\n",
    "print(\"Variance tuổi đàn ông:\",ml['age'].var())\n",
    "print(\"Variance tuổi phụ nữ:\",fm['age'].var())\n",
    "print(\"Variance tuổi đàn ông có thu nhập cao:\",ml1['age'].var())\n",
    "print(\"Variance tuổi phụ nữ có thu nhập cao:\",fm1['age'].var())\n",
    "# Std\n",
    "print(\"Std tuổi đàn ông:\",ml['age'].std())\n",
    "print(\"Std tuổi phụ nữ:\",fm['age'].std())\n",
    "print(\"Std tuổi đàn ông có thu nhập cao:\",ml1['age'].std())\n",
    "print(\"Std tuổi phụ nữ có thu nhập cao:\",fm1['age'].std())\n",
    "# Median\n",
    "print(\"Median tuổi đàn ông:\",ml['age'].median())\n",
    "print(\"Median tuổi phụ nữ:\",fm['age'].median())\n",
    "print(\"Median tuổi đàn ông có thu nhập cao:\",ml1['age'].median())\n",
    "print(\"Median tuổi phụ nữ có thu nhập cao:\",fm1['age'].median())"
   ]
  },
  {
   "cell_type": "code",
   "execution_count": 12,
   "metadata": {},
   "outputs": [
    {
     "name": "stdout",
     "output_type": "stream",
     "text": [
      "Thống kế số giờ làm việc trên tuần của đàn ông: mu: 42.42808627810923 var: 146.88846717140746 std: 12.11975524387384\n",
      "Thống kê số giờ làm việc trên tuần của phụ nữ: mu: 36.410361154953115 var: 139.50679700047422 std: 11.811299547487323\n"
     ]
    }
   ],
   "source": [
    "ml_mu_hr = ml['hr_per_week'].mean()\n",
    "fm_mu_hr = fm['hr_per_week'].mean()\n",
    "ml_var_hr = ml['hr_per_week'].var()\n",
    "fm_var_hr = fm['hr_per_week'].var()\n",
    "ml_std_hr = ml['hr_per_week'].std()\n",
    "fm_std_hr = fm['hr_per_week'].std()\n",
    "print('Thống kế số giờ làm việc trên tuần của đàn ông: mu:', ml_mu_hr, 'var:', ml_var_hr, 'std:', ml_std_hr)\n",
    "print('Thống kê số giờ làm việc trên tuần của phụ nữ: mu:', fm_mu_hr, 'var:', fm_var_hr, 'std:', fm_std_hr)"
   ]
  },
  {
   "cell_type": "markdown",
   "metadata": {},
   "source": [
    "## 2.2 Histogram"
   ]
  },
  {
   "cell_type": "markdown",
   "metadata": {},
   "source": [
    "Vẽ đồ thị histogram để xem phân phối dữ liệu."
   ]
  },
  {
   "cell_type": "code",
   "execution_count": 13,
   "metadata": {},
   "outputs": [
    {
     "data": {
      "image/png": "[encoded data removed]",
      "text/plain": [
       "<Figure size 432x288 with 1 Axes>"
      ]
     },
     "metadata": {
      "needs_background": "light"
     },
     "output_type": "display_data"
    }
   ],
   "source": [
    "import matplotlib.pyplot as plt\n",
    "ml_age = ml['age']\n",
    "ml_age.hist(histtype = 'stepfilled', bins = 20)\n",
    "\n",
    "plt.xlabel('Age', fontsize=15)\n",
    "plt.ylabel('Male samples', fontsize=15)\n",
    "plt.show()"
   ]
  },
  {
   "cell_type": "code",
   "execution_count": 14,
   "metadata": {},
   "outputs": [
    {
     "data": {
      "image/png": "[encoded data removed]",
      "text/plain": [
       "<Figure size 432x288 with 1 Axes>"
      ]
     },
     "metadata": {
      "needs_background": "light"
     },
     "output_type": "display_data"
    }
   ],
   "source": [
    "fm_age = fm['age']\n",
    "fm_age.hist(histtype = 'stepfilled', bins = 10)\n",
    "\n",
    "plt.xlabel('Age', fontsize=15)\n",
    "plt.ylabel('Female samples', fontsize=15)\n",
    "plt.show()"
   ]
  },
  {
   "cell_type": "markdown",
   "metadata": {},
   "source": [
    "Nếu chúng ta muốn so sánh, chúng ta có thể vẽ các biểu đồ trên cùng 1 đồ thị như sau:"
   ]
  },
  {
   "cell_type": "code",
   "execution_count": 15,
   "metadata": {},
   "outputs": [
    {
     "data": {
      "image/png": "[encoded data removed]",
      "text/plain": [
       "<Figure size 432x288 with 1 Axes>"
      ]
     },
     "metadata": {
      "needs_background": "light"
     },
     "output_type": "display_data"
    }
   ],
   "source": [
    "import seaborn as sns\n",
    "\n",
    "ml_age.hist(histtype = 'stepfilled', alpha=0.5, bins = 20)\n",
    "fm_age.hist(histtype = 'stepfilled', alpha=0.5, bins = 10, color=sns.desaturate(\"indianred\",0.75))\n",
    "\n",
    "plt.xlabel('Age',fontsize=15)\n",
    "plt.ylabel('Samples',fontsize=15)\n",
    "plt.show()"
   ]
  },
  {
   "cell_type": "markdown",
   "metadata": {},
   "source": [
    "## 2.3 Data Distributions\n",
    "Chúng ta có thể chuẩn hóa hóa tần số của biểu đồ bằng cách chia / chuẩn hóa cho $n$ - số lượng mẫu.  Biểu đồ chuẩn hóa được gọi là Hàm xác suất khối (PMF)."
   ]
  },
  {
   "cell_type": "code",
   "execution_count": 16,
   "metadata": {},
   "outputs": [
    {
     "data": {
      "image/png": "[encoded data removed]",
      "text/plain": [
       "<Figure size 432x288 with 1 Axes>"
      ]
     },
     "metadata": {
      "needs_background": "light"
     },
     "output_type": "display_data"
    }
   ],
   "source": [
    "ml_age.hist(histtype='stepfilled',bins=20)\n",
    "plt.xlabel('Age',fontsize=15)\n",
    "plt.ylabel('Probability',fontsize=15)\n",
    "plt.show()"
   ]
  },
  {
   "cell_type": "code",
   "execution_count": 17,
   "metadata": {},
   "outputs": [
    {
     "data": {
      "image/png": "[encoded data removed]",
      "text/plain": [
       "<Figure size 432x288 with 1 Axes>"
      ]
     },
     "metadata": {
      "needs_background": "light"
     },
     "output_type": "display_data"
    }
   ],
   "source": [
    "fm_age.hist(histtype='stepfilled', bins=20)\n",
    "plt.xlabel('Age',fontsize=15)\n",
    "plt.ylabel('Probability',fontsize=15)\n",
    "plt.show()"
   ]
  },
  {
   "cell_type": "markdown",
   "metadata": {},
   "source": [
    "Hàm phân bố xác suất PDF:"
   ]
  },
  {
   "cell_type": "code",
   "execution_count": 18,
   "metadata": {},
   "outputs": [
    {
     "data": {
      "image/png": "[encoded data removed]",
      "text/plain": [
       "<Figure size 432x288 with 1 Axes>"
      ]
     },
     "metadata": {
      "needs_background": "light"
     },
     "output_type": "display_data"
    }
   ],
   "source": [
    "ml_age.hist(histtype='step', cumulative=True, linewidth=3.5, bins=20)\n",
    "plt.xlabel('Age',fontsize=15)\n",
    "plt.ylabel('CDF',fontsize=15)\n",
    "plt.show()"
   ]
  },
  {
   "cell_type": "code",
   "execution_count": 19,
   "metadata": {},
   "outputs": [
    {
     "data": {
      "image/png": "[encoded data removed]",
      "text/plain": [
       "<Figure size 432x288 with 1 Axes>"
      ]
     },
     "metadata": {
      "needs_background": "light"
     },
     "output_type": "display_data"
    }
   ],
   "source": [
    "fm_age.hist(histtype='step', cumulative=True, linewidth=3.5, bins=20)\n",
    "plt.xlabel('Age',fontsize=15)\n",
    "plt.ylabel('CDF',fontsize=15)\n",
    "plt.show()"
   ]
  },
  {
   "cell_type": "code",
   "execution_count": 20,
   "metadata": {},
   "outputs": [
    {
     "data": {
      "text/plain": [
       "<AxesSubplot:>"
      ]
     },
     "execution_count": 20,
     "metadata": {},
     "output_type": "execute_result"
    },
    {
     "data": {
      "image/png": "[encoded data removed]",
      "text/plain": [
       "<Figure size 432x288 with 1 Axes>"
      ]
     },
     "metadata": {
      "needs_background": "light"
     },
     "output_type": "display_data"
    }
   ],
   "source": [
    "ml_age.hist(histtype = 'step', cumulative = True, linewidth = 3.5, bins = 20)\n",
    "fm_age.hist(histtype = 'step', cumulative = True, linewidth = 3.5, bins = 10, color=sns.desaturate(\"indianred\",0.75))"
   ]
  },
  {
   "cell_type": "code",
   "execution_count": 21,
   "metadata": {},
   "outputs": [
    {
     "name": "stdout",
     "output_type": "stream",
     "text": [
      "Chênh lệch kỳ vọng: 2.5753170652810553\n"
     ]
    }
   ],
   "source": [
    "print(\"Chênh lệch kỳ vọng:\", ml_age.mean() - fm_age.mean())"
   ]
  },
  {
   "cell_type": "markdown",
   "metadata": {},
   "source": [
    "## 2.4 Ngoại lệ (outliers)\n",
    "Chúng ta có thể tìm ra các ngoại lệ bằng cách: \n",
    "- Tính toán các mẫu ở xa trung vị.  \n",
    "- Tính toán các mẫu có giá trị vượt quá giá trị trung bình 2 hoặc 3 lần độ lệch chuẩn."
   ]
  },
  {
   "cell_type": "code",
   "execution_count": 22,
   "metadata": {},
   "outputs": [
    {
     "data": {
      "text/plain": [
       "37.0"
      ]
     },
     "execution_count": 22,
     "metadata": {},
     "output_type": "execute_result"
    }
   ],
   "source": [
    "df['age'].median()"
   ]
  },
  {
   "cell_type": "markdown",
   "metadata": {},
   "source": [
    "Tìm số ngoại lệ:"
   ]
  },
  {
   "cell_type": "code",
   "execution_count": 23,
   "metadata": {},
   "outputs": [
    {
     "data": {
      "text/plain": [
       "5"
      ]
     },
     "execution_count": 23,
     "metadata": {},
     "output_type": "execute_result"
    }
   ],
   "source": [
    "len(df[(df.income=='>50K\\n') & (df['age'] < df['age'].median() - 15)])"
   ]
  },
  {
   "cell_type": "code",
   "execution_count": 24,
   "metadata": {},
   "outputs": [
    {
     "data": {
      "text/plain": [
       "69"
      ]
     },
     "execution_count": 24,
     "metadata": {},
     "output_type": "execute_result"
    }
   ],
   "source": [
    "len(df[(df.income == '>50K\\n') & (df['age'] > df['age'].median() + 35)])"
   ]
  },
  {
   "cell_type": "markdown",
   "metadata": {},
   "source": [
    "Nếu coi ngoại lệ như là lỗi, có thể tùy chọn bằng cách bỏ chúng đi:"
   ]
  },
  {
   "cell_type": "code",
   "execution_count": 25,
   "metadata": {},
   "outputs": [
    {
     "data": {
      "text/plain": [
       "(32492, 15)"
      ]
     },
     "execution_count": 25,
     "metadata": {},
     "output_type": "execute_result"
    }
   ],
   "source": [
    "df2 = df.drop(df.index[(df.income=='>50K\\n') & (df['age']>df['age'].median() + 35) & (df['age'] > df['age'].median() -15)])\n",
    "df2.shape"
   ]
  },
  {
   "cell_type": "code",
   "execution_count": 26,
   "metadata": {},
   "outputs": [],
   "source": [
    "ml1_age=ml1['age']\n",
    "fm1_age=fm1['age']\n",
    "\n",
    "ml2_age = ml1_age.drop(ml1_age.index[(ml1_age > df['age'].median() + 35) & (ml1_age > df['age'].median() - 15)])\n",
    "fm2_age = fm1_age.drop(fm1_age.index[(fm1_age > df['age'].median() + 35) & (fm1_age > df['age'].median() - 15)])"
   ]
  },
  {
   "cell_type": "code",
   "execution_count": 27,
   "metadata": {},
   "outputs": [
    {
     "name": "stdout",
     "output_type": "stream",
     "text": [
      "Men statistics: Mean: 44.317982123920615 Std: 10.019749857171409 Median: 44.0 Min: 19 Max: 72\n"
     ]
    }
   ],
   "source": [
    "mu2ml = ml2_age.mean()\n",
    "std2ml = ml2_age.std()\n",
    "md2ml = ml2_age.median()\n",
    "# Computing the mean, std, median, min and max for the high-income male population\n",
    "print(\"Men statistics: Mean:\", mu2ml, \"Std:\", std2ml, \"Median:\", md2ml, \"Min:\", ml2_age.min(), \"Max:\", ml2_age.max())"
   ]
  },
  {
   "cell_type": "code",
   "execution_count": 28,
   "metadata": {},
   "outputs": [
    {
     "name": "stdout",
     "output_type": "stream",
     "text": [
      "Women statistics: Mean: 44.317982123920615 Std: 10.019749857171409 Median: 44.0 Min: 19 Max: 72\n"
     ]
    }
   ],
   "source": [
    "mu3ml = fm2_age.mean()\n",
    "std3ml = fm2_age.std()\n",
    "md3ml = fm2_age.median()\n",
    "# Computing the mean, std, median, min and max for the high-income female population\n",
    "print(\"Women statistics: Mean:\", mu2ml, \"Std:\", std2ml, \"Median:\", md2ml, \"Min:\", fm2_age.min(), \"Max:\", fm2_age.max())"
   ]
  },
  {
   "cell_type": "code",
   "execution_count": 29,
   "metadata": {},
   "outputs": [
    {
     "name": "stdout",
     "output_type": "stream",
     "text": [
      "The mean difference with outliers is: 2.58.\n",
      "The mean difference without outliers is: 2.44.\n"
     ]
    }
   ],
   "source": [
    "print('The mean difference with outliers is: %4.2f.' % (ml_age.mean() - fm_age.mean()))\n",
    "print(\"The mean difference without outliers is: %4.2f.\" % (ml2_age.mean() - fm2_age.mean()))"
   ]
  },
  {
   "cell_type": "markdown",
   "metadata": {},
   "source": [
    "Hãy so sánh trực quan các phân phối tuổi trước và sau khi xóa các ngoại lệ:|"
   ]
  },
  {
   "cell_type": "code",
   "execution_count": 30,
   "metadata": {},
   "outputs": [
    {
     "data": {
      "text/plain": [
       "Text(0.5, 0, 'Samples')"
      ]
     },
     "execution_count": 30,
     "metadata": {},
     "output_type": "execute_result"
    },
    {
     "data": {
      "image/png": "[encoded data removed]",
      "text/plain": [
       "<Figure size 964.8x360 with 1 Axes>"
      ]
     },
     "metadata": {
      "needs_background": "light"
     },
     "output_type": "display_data"
    }
   ],
   "source": [
    "plt.figure(figsize=(13.4,5))\n",
    "\n",
    "df.age[(df.income == '>50K\\n')].plot(alpha=.25, color='blue')\n",
    "df2.age[(df2.income == '>50K\\n')].plot(alpha=.45,color='red')\n",
    "\n",
    "plt.ylabel('Age')\n",
    "plt.xlabel('Samples')"
   ]
  },
  {
   "cell_type": "markdown",
   "metadata": {},
   "source": [
    "Quan sát sự khác nhau giữa chênh lệch nam và nữ trong dữ liệu đã làm sạch:"
   ]
  },
  {
   "cell_type": "code",
   "execution_count": 31,
   "metadata": {},
   "outputs": [
    {
     "name": "stderr",
     "output_type": "stream",
     "text": [
      "<ipython-input-31-aa1cf42752a5>:4: VisibleDeprecationWarning: Passing `normed=True` on non-uniform bins has always been broken, and computes neither the probability density function nor the probability mass function. The result is only correct if the bins are uniform, when density=True will produce the same result anyway. The argument will be removed in a future version of numpy.\n",
      "  countx,divisionx = np.histogram(ml2_age, normed=True)\n",
      "<ipython-input-31-aa1cf42752a5>:5: VisibleDeprecationWarning: Passing `normed=True` on non-uniform bins has always been broken, and computes neither the probability density function nor the probability mass function. The result is only correct if the bins are uniform, when density=True will produce the same result anyway. The argument will be removed in a future version of numpy.\n",
      "  county,divisiony = np.histogram(fm2_age, normed=True)\n"
     ]
    },
    {
     "data": {
      "image/png": "[encoded data removed]",
      "text/plain": [
       "<Figure size 432x288 with 1 Axes>"
      ]
     },
     "metadata": {
      "needs_background": "light"
     },
     "output_type": "display_data"
    }
   ],
   "source": [
    "import matplotlib.pyplot as plt\n",
    "import numpy as np\n",
    "\n",
    "countx,divisionx = np.histogram(ml2_age, normed=True) \n",
    "county,divisiony = np.histogram(fm2_age, normed=True)\n",
    "\n",
    "val = [(divisionx[i]+divisionx[i+1])/2 for i in range(len(divisionx)-1)]\n",
    "plt.plot(val, countx-county, 'o-') \n",
    "plt.title('Differences in promoting men vs. women')\n",
    "plt.xlabel('Age',fontsize=15)\n",
    "plt.ylabel('Differences',fontsize=15)\n",
    "plt.show()"
   ]
  },
  {
   "cell_type": "markdown",
   "metadata": {},
   "source": [
    "## 2.5 Measuring asymmetry (optinal)"
   ]
  },
  {
   "cell_type": "markdown",
   "metadata": {},
   "source": [
    "Skewness là một số liệu thống kê đo lường sự bất đối xứng của tập hợp các mẫu dữ liệu $x_i$:\n",
    "$$ g_1 = \\frac{\\frac{1}{n} \\sum_i (x_i - \\mu)^2 }{\\frac{1}{n} \\sum_i (x_i - \\mu)^3 }$$\n",
    "\n",
    "Tử số là độ lệch bình phương trung bình (hoặc phương sai) và mẫu số là độ lệch trung bình khối.\n",
    "\n",
    "Độ lệch âm biểu thị rằng phân phối \"lệch trái\" (nó kéo dài ra bên trái hơn bên phải).\n",
    "\n",
    "Skewness có thể bị ảnh hưởng bởi các ngoại lệ !!!  Một cách khác đơn giản hơn là xem xét mối quan hệ giữa giá trị trung bình ($μ$) và trung vị ($μ_{\\frac{1}{2}}$)."
   ]
  },
  {
   "cell_type": "code",
   "execution_count": 32,
   "metadata": {},
   "outputs": [
    {
     "data": {
      "text/plain": [
       "7        52\n",
       "9        42\n",
       "10       37\n",
       "11       30\n",
       "14       40\n",
       "         ..\n",
       "32532    34\n",
       "32533    54\n",
       "32539    71\n",
       "32554    53\n",
       "32557    40\n",
       "Name: age, Length: 6601, dtype: int64"
      ]
     },
     "execution_count": 32,
     "metadata": {},
     "output_type": "execute_result"
    }
   ],
   "source": [
    "ml2_age"
   ]
  },
  {
   "cell_type": "code",
   "execution_count": 33,
   "metadata": {},
   "outputs": [
    {
     "name": "stdout",
     "output_type": "stream",
     "text": [
      "The skewness of the male population is: 0.26644438384328223\n",
      "The skewness of the female population is: 0.3863335249128606\n"
     ]
    }
   ],
   "source": [
    "def skewness(x):\n",
    "    res=0\n",
    "    m=x.mean()\n",
    "    s=x.std()\n",
    "    for i in x:\n",
    "        res+=(i-m)*(i-m)*(i-m)\n",
    "    res/=(len(x)*s*s*s)\n",
    "    return res\n",
    "\n",
    "print(\"The skewness of the male population is:\", skewness(ml2_age))\n",
    "print(\"The skewness of the female population is:\", skewness(fm2_age))"
   ]
  },
  {
   "cell_type": "markdown",
   "metadata": {},
   "source": [
    "Dân số nữ bị lệch nhiều hơn nam giới, có lẽ vì nam giới\n",
    "có thể dễ nghỉ hưu muộn hơn so với phụ nữ."
   ]
  },
  {
   "cell_type": "markdown",
   "metadata": {},
   "source": [
    "**Pearson's median skewness coefficient** là một thay thế mạnh mẽ hơn:\n",
    "$$ g_p = \\frac{3(\\mu - \\mu_{\\frac{1}{2}})}{\\sigma} $$"
   ]
  },
  {
   "cell_type": "code",
   "execution_count": 34,
   "metadata": {},
   "outputs": [
    {
     "name": "stdout",
     "output_type": "stream",
     "text": [
      "The Pearson's coefficient of the male population is: 0.09520660549016392\n",
      "The Pearson's coefficient of the female population is: 0.2621531209596967\n"
     ]
    }
   ],
   "source": [
    "def pearson(x):\n",
    "    return 3*(x.mean()-x.median())/x.std()\n",
    "\n",
    "print(\"The Pearson's coefficient of the male population is:\", pearson(ml2_age))\n",
    "print(\"The Pearson's coefficient of the female population is:\", pearson(fm2_age))"
   ]
  },
  {
   "cell_type": "markdown",
   "metadata": {},
   "source": [
    "Sau khi khám phá dữ liệu, tuổi trung bình của nam giới trong tập dữ liệu của chúng tôi là 39,4 ; trong khi đối với phụ nữ là 36,8 Khi phân tích mức lương thu nhập cao, tuổi trung bình của nam giới tăng lên 44,6 tuổi; trong khi đối với phụ nữ, tăng lên 42,1 năm.\n",
    "\n",
    "Khi dữ liệu được xóa khỏi các ngoại lệ, chúng tôi thu được tuổi trung bình cho thu nhập cao nam: 44,3 và nữ: 41,8."
   ]
  }
 ],
 "metadata": {
  "kernelspec": {
   "display_name": "Python 3",
   "language": "python",
   "name": "python3"
  },
  "language_info": {
   "codemirror_mode": {
    "name": "ipython",
    "version": 3
   },
   "file_extension": ".py",
   "mimetype": "text/x-python",
   "name": "python",
   "nbconvert_exporter": "python",
   "pygments_lexer": "ipython3",
   "version": "3.8.5"
  }
 },
 "nbformat": 4,
 "nbformat_minor": 2
}
