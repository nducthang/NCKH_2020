{
 "cells": [
  {
   "cell_type": "markdown",
   "metadata": {},
   "source": [
    "# Decision Tree: Iterative Dichomiser 3 (ID3)\n",
    "# Cây quyết định và thuật toán ID3"
   ]
  },
  {
   "cell_type": "markdown",
   "metadata": {},
   "source": [
    "## 1. Tổng quan"
   ]
  },
  {
   "cell_type": "markdown",
   "metadata": {},
   "source": [
    "Decision tree là một mô hình supervised learning, có thể được áp dụng vào cả hai bài toán classification và regression. Việc xây dựng một decision tree trên dữ liệu huấn luyện cho trước là việc đi xác định các câu hỏi và thứ tự của chúng. Một điểm đáng lưu ý của decision tree là nó có thể làm việc với các đặc trưng (trong các tài liệu về decision tree, các đặc trưng thường được gọi là thuộc tính – attribute) dạng categorical, thường là rời rạc và không có thứ tự. Ví dụ, mưa, nắng hay xanh, đỏ, v.v. Decision tree cũng làm việc với dữ liệu có vector đặc trưng bao gồm cả thuộc tính dạng categorical và liên tục (numeric). Một điểm đáng lưu ý nữa là decision tree ít yêu cầu việc chuẩn hoá dữ liệu."
   ]
  },
  {
   "cell_type": "markdown",
   "metadata": {},
   "source": [
    "<img src=\"img/dt_1.png\" width=\"400\">"
   ]
  },
  {
   "cell_type": "markdown",
   "metadata": {},
   "source": [
    "ID3 là một thuật toán decision tree được áp dụng cho các bài toán classification mà tất cả các thuộc tính đều ở dạng categorical. Trong ID3, chúng ta cần xác định thứ tự của thuộc tính cần được xem xét tại mỗi bước. Một số các đại lượng quan trọng trong thuật toán ID3: Hàm số entropy, Entropy tại node của cây, tổng số Entropy tại mỗi Child_node, information gain của thuộc tính."
   ]
  },
  {
   "cell_type": "markdown",
   "metadata": {},
   "source": [
    "<img src=\"img/dt_2.png\" width=\"600\">\n",
    "<img src=\"img/dt_3.png\" width=\"600\">\n",
    "<img src=\"img/dt_4.png\" width=\"600\">\n",
    "<img src=\"img/dt_5.png\" width=\"600\">"
   ]
  },
  {
   "cell_type": "markdown",
   "metadata": {},
   "source": [
    "## 2. Cài đặt thuật toán"
   ]
  },
  {
   "cell_type": "markdown",
   "metadata": {},
   "source": [
    "### Các thư viện được sử dụng"
   ]
  },
  {
   "cell_type": "code",
   "execution_count": 1,
   "metadata": {},
   "outputs": [],
   "source": [
    "import pandas as pd\n",
    "import math as mt\n",
    "from collections import Counter"
   ]
  },
  {
   "cell_type": "markdown",
   "metadata": {},
   "source": [
    "### Hàm tính toán Entropy\n",
    "Sử dụng hàm `log` cơ số e, có thể sử dụng hàm `log` cơ số 2 thay thế."
   ]
  },
  {
   "cell_type": "code",
   "execution_count": 2,
   "metadata": {},
   "outputs": [],
   "source": [
    "# Function to calculate the entropy of probaility of observations\n",
    "def entropy(probs):\n",
    "    return sum([-prob * mt.log(prob, 2) for prob in probs])"
   ]
  },
  {
   "cell_type": "markdown",
   "metadata": {},
   "source": [
    "### Hàm tính toán Entropy với đầu vào là một dãy\n",
    "Hàm `Counter` đầu ra là một dict bao gồm keys là phần tử, value là số lần xuất hiện của phần tử đó trong dãy."
   ]
  },
  {
   "cell_type": "code",
   "execution_count": 3,
   "metadata": {},
   "outputs": [],
   "source": [
    "# Function to calulate the entropy of the given Data Sets/List with respect to target attributes\n",
    "def entropy_of_list(a_list):\n",
    "    cnt = Counter(x for x in a_list)\n",
    "    num_instances = len(a_list)\n",
    "    probs = [x/num_instances for x in cnt.values()]\n",
    "    return entropy(probs)"
   ]
  },
  {
   "cell_type": "markdown",
   "metadata": {},
   "source": [
    "### Hàm tính toán information gain của thuộc tính\n",
    "Sử dụng các hàm trong pandas: `groupby`, `agg`"
   ]
  },
  {
   "cell_type": "code",
   "execution_count": 4,
   "metadata": {},
   "outputs": [],
   "source": [
    "# Information gain of Attributes\n",
    "def information_gain(df, split_attribute_name, target_attribute_name, trace=0):\n",
    "    # split data by possible vals of attribute\n",
    "    df_split = df.groupby(split_attribute_name)\n",
    "    # proportion of Obs in Each data_split\n",
    "    nobs = len(df.index)\n",
    "    df_agg_ent = df_split.agg({target_attribute_name: [entropy_of_list, lambda x: len(x) / nobs]})[\n",
    "        target_attribute_name]\n",
    "    df_agg_ent.columns = ['Entropy', 'PropObservations']\n",
    "    # Calculate Information Gain:\n",
    "    new_entropy = sum(df_agg_ent['Entropy'] * df_agg_ent['PropObservations'])\n",
    "    old_entropy = entropy_of_list(df[target_attribute_name])\n",
    "    return old_entropy - new_entropy"
   ]
  },
  {
   "cell_type": "markdown",
   "metadata": {},
   "source": [
    "### Hàm thực thi thuật toán ID3"
   ]
  },
  {
   "cell_type": "code",
   "execution_count": 5,
   "metadata": {},
   "outputs": [],
   "source": [
    "# ID3 Algorithm\n",
    "def id3_algorithm(df, target_attribute_name, attribute_names, default_class=None):\n",
    "    cnt = Counter(x for x in df[target_attribute_name])\n",
    "    if len(cnt) == 1:\n",
    "        return next(iter(cnt))\n",
    "    elif df.empty or (not attribute_names):\n",
    "        return default_class\n",
    "    else:\n",
    "        # Get Default Value for next recursive call of this function:\n",
    "        default_class = max(cnt.keys())\n",
    "        # Compute the information gain of the attribute:\n",
    "        gainz = [information_gain(df, attr, target_attribute_name) for attr in attribute_names]\n",
    "        # index of best attribute\n",
    "        index_of_max = gainz.index(max(gainz))\n",
    "        # choose best attribute to split on\n",
    "        best_attr = attribute_names[index_of_max]\n",
    "        # create an empty tree, to be populated in a moment\n",
    "        # Iniiate the tree with best attribute as a node\n",
    "        tree = {best_attr: {}}\n",
    "        remaining_attribute_names = [i for i in attribute_names if i != best_attr]\n",
    "        # Split dataset\n",
    "        # On each split, recursively call this algorithm.\n",
    "        # populate the empty tree with subtrees, which\n",
    "        # are the result of the recursive call\n",
    "        for attr_val, data_subset in df.groupby(best_attr):\n",
    "            subtree = id3_algorithm(data_subset, target_attribute_name, remaining_attribute_names, default_class)\n",
    "            tree[best_attr][attr_val] = subtree\n",
    "        return tree"
   ]
  },
  {
   "cell_type": "markdown",
   "metadata": {},
   "source": [
    "### Độ chính xác của cây quyết định"
   ]
  },
  {
   "cell_type": "code",
   "execution_count": 6,
   "metadata": {},
   "outputs": [],
   "source": [
    "# Classification accuracy\n",
    "def classify(instance, tree, default=None):\n",
    "    # instance of play tennis with predict\n",
    "    attribute = next(iter(tree))\n",
    "    if instance[attribute] in tree[attribute].keys():  # Value of the attributs in  set of Tree keys\n",
    "        result = tree[attribute][instance[attribute]]\n",
    "        if isinstance(result, dict):  # this is a tree, delve deeper\n",
    "            return classify(instance, result)\n",
    "        else:\n",
    "            return result  # this is a label\n",
    "    else:\n",
    "        return default"
   ]
  },
  {
   "cell_type": "markdown",
   "metadata": {},
   "source": [
    "## 3. Bài toán cụ thể"
   ]
  },
  {
   "cell_type": "markdown",
   "metadata": {},
   "source": [
    "### Dữ liệu"
   ]
  },
  {
   "cell_type": "markdown",
   "metadata": {},
   "source": [
    "Dữ liệu này mô tả mối quan hệ giữa thời tiết trong 14 ngày (bốn cột đầu, không tính cột id) và việc một đội bóng có chơi bóng hay không (cột cuối cùng). Nói cách khác, ta phải dự đoán giá trị ở cột cuối cùng nếu biết giá trị của bốn cột còn lại."
   ]
  },
  {
   "cell_type": "code",
   "execution_count": 7,
   "metadata": {},
   "outputs": [
    {
     "name": "stdout",
     "output_type": "stream",
     "text": [
      "    id   outlook temperature humidity    wind play\n",
      "0    1     sunny         hot     high    weak   no\n",
      "1    2     sunny         hot     high  strong   no\n",
      "2    3  overcast         hot     high    weak  yes\n",
      "3    4     rainy        mild     high    weak  yes\n",
      "4    5     rainy        cool   normal    weak  yes\n",
      "5    6     rainy        cool   normal  strong   no\n",
      "6    7  overcast        cool   normal  strong  yes\n",
      "7    8     sunny        mild     high    weak   no\n",
      "8    9     sunny        cool   normal    weak  yes\n",
      "9   10     rainy        mild   normal    weak  yes\n",
      "10  11     sunny        mild   normal  strong  yes\n",
      "11  12  overcast        mild     high  strong  yes\n",
      "12  13  overcast         hot   normal    weak  yes\n",
      "13  14     rainy        mild     high  strong   no\n"
     ]
    }
   ],
   "source": [
    "df_tennis = pd.read_csv(\"weather.csv\")\n",
    "print(df_tennis)"
   ]
  },
  {
   "cell_type": "markdown",
   "metadata": {},
   "source": [
    "### Tính toán entropy tại node gốc"
   ]
  },
  {
   "cell_type": "code",
   "execution_count": 8,
   "metadata": {},
   "outputs": [
    {
     "name": "stdout",
     "output_type": "stream",
     "text": [
      "\n",
      " Total Entropy of PlayTennis Data Set: 0.9402859586706309\n"
     ]
    }
   ],
   "source": [
    "total_entropy = entropy_of_list(df_tennis['play'])\n",
    "print(\"\\n Total Entropy of PlayTennis Data Set:\",total_entropy)"
   ]
  },
  {
   "cell_type": "markdown",
   "metadata": {},
   "source": [
    "Trong bài viết machine learning cơ bản, cơ số được sử dụng là log cơ số `e`.\n",
    "<img src=\"img/dt_6.png\" width=\"700\">"
   ]
  },
  {
   "cell_type": "markdown",
   "metadata": {},
   "source": [
    "### Tính toán iformation gain của các thuộc tính: `outlook`, `temperature`, `humidity` và `wind`"
   ]
  },
  {
   "cell_type": "code",
   "execution_count": 9,
   "metadata": {},
   "outputs": [
    {
     "name": "stdout",
     "output_type": "stream",
     "text": [
      "Info-gain for Outlook is :0.2467498197744391 \n",
      "\n",
      "\n",
      " Info-gain for Humidity is: 0.15183550136234136 \n",
      "\n",
      "\n",
      " Info-gain for Wind is:0.04812703040826927 \n",
      "\n",
      "\n",
      " Info-gain for Temperature is:0.029222565658954647 \n",
      "\n"
     ]
    }
   ],
   "source": [
    "print('Info-gain for Outlook is :'+str( information_gain(df_tennis, 'outlook', 'play')),\"\\n\")\n",
    "print('\\n Info-gain for Humidity is: ' + str( information_gain(df_tennis, 'humidity', 'play')),\"\\n\")\n",
    "print('\\n Info-gain for Wind is:' + str( information_gain(df_tennis, 'wind', 'play')),\"\\n\")\n",
    "print('\\n Info-gain for Temperature is:' + str( information_gain(df_tennis, 'temperature','play')),\"\\n\")"
   ]
  },
  {
   "cell_type": "markdown",
   "metadata": {},
   "source": [
    "Rõ ràng thuộc tính `outlook` sẽ được chọn vì có info-gain lớn nhất so với 3 thuộc tính còn lại, nên root = 'outlook'."
   ]
  },
  {
   "cell_type": "markdown",
   "metadata": {},
   "source": [
    "### Xây dựng cây quyết định bằng thuật toán ID3"
   ]
  },
  {
   "cell_type": "code",
   "execution_count": 10,
   "metadata": {},
   "outputs": [
    {
     "name": "stdout",
     "output_type": "stream",
     "text": [
      "List of Attributes: ['id', 'outlook', 'temperature', 'humidity', 'wind', 'play']\n",
      "Predicting Attributes: ['outlook', 'temperature', 'humidity', 'wind']\n",
      "Decision tree:\n",
      " {'outlook': {'overcast': 'yes', 'rainy': {'wind': {'strong': 'no', 'weak': 'yes'}}, 'sunny': {'humidity': {'high': 'no', 'normal': 'yes'}}}}\n"
     ]
    }
   ],
   "source": [
    "attribute_names = list(df_tennis.columns)\n",
    "print(\"List of Attributes:\", attribute_names)\n",
    "# Remove the class attribute\n",
    "attribute_names.remove('play')\n",
    "attribute_names.remove('id')\n",
    "print(\"Predicting Attributes:\", attribute_names)\n",
    "tree = id3_algorithm(df_tennis, 'play', attribute_names)\n",
    "print(\"Decision tree:\\n\",tree)"
   ]
  },
  {
   "cell_type": "markdown",
   "metadata": {},
   "source": [
    "Cây quyết định ta xây dựng được phù hợp với cây quyết định trên bài viết ML_cơ bản."
   ]
  },
  {
   "cell_type": "markdown",
   "metadata": {},
   "source": [
    "### Độ chính xác của cây quyết định"
   ]
  },
  {
   "cell_type": "code",
   "execution_count": 11,
   "metadata": {},
   "outputs": [
    {
     "name": "stdout",
     "output_type": "stream",
     "text": [
      "Decision tree predict:\n",
      "0      no\n",
      "1      no\n",
      "2     yes\n",
      "3     yes\n",
      "4     yes\n",
      "5      no\n",
      "6     yes\n",
      "7      no\n",
      "8     yes\n",
      "9     yes\n",
      "10    yes\n",
      "11    yes\n",
      "12    yes\n",
      "13     no\n",
      "Name: predicted, dtype: object\n",
      "\n",
      " Accuracy is:\n",
      "1.0\n"
     ]
    },
    {
     "data": {
      "text/html": [
       "<div>\n",
       "<style scoped>\n",
       "    .dataframe tbody tr th:only-of-type {\n",
       "        vertical-align: middle;\n",
       "    }\n",
       "\n",
       "    .dataframe tbody tr th {\n",
       "        vertical-align: top;\n",
       "    }\n",
       "\n",
       "    .dataframe thead th {\n",
       "        text-align: right;\n",
       "    }\n",
       "</style>\n",
       "<table border=\"1\" class=\"dataframe\">\n",
       "  <thead>\n",
       "    <tr style=\"text-align: right;\">\n",
       "      <th></th>\n",
       "      <th>play</th>\n",
       "      <th>predicted</th>\n",
       "    </tr>\n",
       "  </thead>\n",
       "  <tbody>\n",
       "    <tr>\n",
       "      <th>0</th>\n",
       "      <td>no</td>\n",
       "      <td>no</td>\n",
       "    </tr>\n",
       "    <tr>\n",
       "      <th>1</th>\n",
       "      <td>no</td>\n",
       "      <td>no</td>\n",
       "    </tr>\n",
       "    <tr>\n",
       "      <th>2</th>\n",
       "      <td>yes</td>\n",
       "      <td>yes</td>\n",
       "    </tr>\n",
       "    <tr>\n",
       "      <th>3</th>\n",
       "      <td>yes</td>\n",
       "      <td>yes</td>\n",
       "    </tr>\n",
       "    <tr>\n",
       "      <th>4</th>\n",
       "      <td>yes</td>\n",
       "      <td>yes</td>\n",
       "    </tr>\n",
       "    <tr>\n",
       "      <th>5</th>\n",
       "      <td>no</td>\n",
       "      <td>no</td>\n",
       "    </tr>\n",
       "    <tr>\n",
       "      <th>6</th>\n",
       "      <td>yes</td>\n",
       "      <td>yes</td>\n",
       "    </tr>\n",
       "    <tr>\n",
       "      <th>7</th>\n",
       "      <td>no</td>\n",
       "      <td>no</td>\n",
       "    </tr>\n",
       "    <tr>\n",
       "      <th>8</th>\n",
       "      <td>yes</td>\n",
       "      <td>yes</td>\n",
       "    </tr>\n",
       "    <tr>\n",
       "      <th>9</th>\n",
       "      <td>yes</td>\n",
       "      <td>yes</td>\n",
       "    </tr>\n",
       "    <tr>\n",
       "      <th>10</th>\n",
       "      <td>yes</td>\n",
       "      <td>yes</td>\n",
       "    </tr>\n",
       "    <tr>\n",
       "      <th>11</th>\n",
       "      <td>yes</td>\n",
       "      <td>yes</td>\n",
       "    </tr>\n",
       "    <tr>\n",
       "      <th>12</th>\n",
       "      <td>yes</td>\n",
       "      <td>yes</td>\n",
       "    </tr>\n",
       "    <tr>\n",
       "      <th>13</th>\n",
       "      <td>no</td>\n",
       "      <td>no</td>\n",
       "    </tr>\n",
       "  </tbody>\n",
       "</table>\n",
       "</div>"
      ],
      "text/plain": [
       "   play predicted\n",
       "0    no        no\n",
       "1    no        no\n",
       "2   yes       yes\n",
       "3   yes       yes\n",
       "4   yes       yes\n",
       "5    no        no\n",
       "6   yes       yes\n",
       "7    no        no\n",
       "8   yes       yes\n",
       "9   yes       yes\n",
       "10  yes       yes\n",
       "11  yes       yes\n",
       "12  yes       yes\n",
       "13   no        no"
      ]
     },
     "execution_count": 11,
     "metadata": {},
     "output_type": "execute_result"
    }
   ],
   "source": [
    "print(\"Decision tree predict:\")\n",
    "df_tennis['predicted'] = df_tennis.apply(classify, axis=1, args=(tree, 'No'))\n",
    "print(df_tennis['predicted'])\n",
    "print('\\n Accuracy is:\\n' + str( sum(df_tennis['play']==df_tennis['predicted'] ) / (1.0*len(df_tennis.index)) ))\n",
    "df_tennis[['play', 'predicted']]"
   ]
  },
  {
   "cell_type": "markdown",
   "metadata": {},
   "source": [
    "### Chia dữ liệu và dự đoán"
   ]
  },
  {
   "cell_type": "code",
   "execution_count": 12,
   "metadata": {},
   "outputs": [
    {
     "name": "stdout",
     "output_type": "stream",
     "text": [
      "\n",
      "\n",
      " Accuracy is : 0.75\n"
     ]
    },
    {
     "name": "stderr",
     "output_type": "stream",
     "text": [
      "c:\\users\\admin\\appdata\\local\\programs\\python\\python36\\lib\\site-packages\\ipykernel_launcher.py:7: SettingWithCopyWarning: \n",
      "A value is trying to be set on a copy of a slice from a DataFrame.\n",
      "Try using .loc[row_indexer,col_indexer] = value instead\n",
      "\n",
      "See the caveats in the documentation: https://pandas.pydata.org/pandas-docs/stable/user_guide/indexing.html#returning-a-view-versus-a-copy\n",
      "  import sys\n"
     ]
    }
   ],
   "source": [
    "training_data = df_tennis.iloc[1:-4] # all but last four instances\n",
    "test_data  = df_tennis.iloc[-4:] # just the last four\n",
    "train_tree = id3_algorithm(training_data, 'play', attribute_names)\n",
    "test_data['predicted2'] = test_data.apply(                               \n",
    "                                          classify, \n",
    "                                          axis=1, \n",
    "                                          args=(train_tree,'Yes') ) \n",
    "\n",
    "\n",
    "print ('\\n\\n Accuracy is : ' + str( sum(test_data['play']==test_data['predicted2'] ) / (1.0*len(test_data.index)) ))"
   ]
  },
  {
   "cell_type": "markdown",
   "metadata": {},
   "source": [
    "Như vậy khi ta chia dữ liệu thành hai phần thì độ chính xác của mô hình là `75%`."
   ]
  },
  {
   "cell_type": "markdown",
   "metadata": {},
   "source": [
    "## 4. Sử dụng thư viện Sklearn trong python\n"
   ]
  },
  {
   "cell_type": "code",
   "execution_count": 13,
   "metadata": {},
   "outputs": [],
   "source": [
    "from sklearn.datasets import load_iris\n",
    "from sklearn import tree"
   ]
  },
  {
   "cell_type": "code",
   "execution_count": 14,
   "metadata": {},
   "outputs": [],
   "source": [
    "X, y = load_iris(return_X_y=True)\n",
    "clf = tree.DecisionTreeClassifier()\n",
    "clf = clf.fit(X, y)"
   ]
  },
  {
   "cell_type": "code",
   "execution_count": 15,
   "metadata": {},
   "outputs": [
    {
     "data": {
      "text/plain": [
       "[Text(167.4, 199.32, 'X[2] <= 2.45\\ngini = 0.667\\nsamples = 150\\nvalue = [50, 50, 50]'),\n",
       " Text(141.64615384615385, 163.07999999999998, 'gini = 0.0\\nsamples = 50\\nvalue = [50, 0, 0]'),\n",
       " Text(193.15384615384616, 163.07999999999998, 'X[3] <= 1.75\\ngini = 0.5\\nsamples = 100\\nvalue = [0, 50, 50]'),\n",
       " Text(103.01538461538462, 126.83999999999999, 'X[2] <= 4.95\\ngini = 0.168\\nsamples = 54\\nvalue = [0, 49, 5]'),\n",
       " Text(51.50769230769231, 90.6, 'X[3] <= 1.65\\ngini = 0.041\\nsamples = 48\\nvalue = [0, 47, 1]'),\n",
       " Text(25.753846153846155, 54.359999999999985, 'gini = 0.0\\nsamples = 47\\nvalue = [0, 47, 0]'),\n",
       " Text(77.26153846153846, 54.359999999999985, 'gini = 0.0\\nsamples = 1\\nvalue = [0, 0, 1]'),\n",
       " Text(154.52307692307693, 90.6, 'X[3] <= 1.55\\ngini = 0.444\\nsamples = 6\\nvalue = [0, 2, 4]'),\n",
       " Text(128.76923076923077, 54.359999999999985, 'gini = 0.0\\nsamples = 3\\nvalue = [0, 0, 3]'),\n",
       " Text(180.27692307692308, 54.359999999999985, 'X[0] <= 6.95\\ngini = 0.444\\nsamples = 3\\nvalue = [0, 2, 1]'),\n",
       " Text(154.52307692307693, 18.119999999999976, 'gini = 0.0\\nsamples = 2\\nvalue = [0, 2, 0]'),\n",
       " Text(206.03076923076924, 18.119999999999976, 'gini = 0.0\\nsamples = 1\\nvalue = [0, 0, 1]'),\n",
       " Text(283.2923076923077, 126.83999999999999, 'X[2] <= 4.85\\ngini = 0.043\\nsamples = 46\\nvalue = [0, 1, 45]'),\n",
       " Text(257.53846153846155, 90.6, 'X[1] <= 3.1\\ngini = 0.444\\nsamples = 3\\nvalue = [0, 1, 2]'),\n",
       " Text(231.7846153846154, 54.359999999999985, 'gini = 0.0\\nsamples = 2\\nvalue = [0, 0, 2]'),\n",
       " Text(283.2923076923077, 54.359999999999985, 'gini = 0.0\\nsamples = 1\\nvalue = [0, 1, 0]'),\n",
       " Text(309.04615384615386, 90.6, 'gini = 0.0\\nsamples = 43\\nvalue = [0, 0, 43]')]"
      ]
     },
     "execution_count": 15,
     "metadata": {},
     "output_type": "execute_result"
    },
    {
     "data": {
      "image/png": "[encoded data removed]",
      "text/plain": [
       "<Figure size 432x288 with 1 Axes>"
      ]
     },
     "metadata": {
      "needs_background": "light"
     },
     "output_type": "display_data"
    }
   ],
   "source": [
    "tree.plot_tree(clf) "
   ]
  },
  {
   "cell_type": "markdown",
   "metadata": {},
   "source": [
    "## 5. Tài liệu tham khảo"
   ]
  },
  {
   "cell_type": "markdown",
   "metadata": {},
   "source": [
    "1. https://machinelearningcoban.com/2018/01/14/id3/\n",
    "2. https://github.com/profthyagu/Python-Decision-Tree-Using-ID3\n",
    "3. https://scikit-learn.org/stable/modules/tree.html"
   ]
  },
  {
   "cell_type": "markdown",
   "metadata": {},
   "source": [
    "# End"
   ]
  }
 ],
 "metadata": {
  "kernelspec": {
   "display_name": "Python 3",
   "language": "python",
   "name": "python3"
  },
  "language_info": {
   "codemirror_mode": {
    "name": "ipython",
    "version": 3
   },
   "file_extension": ".py",
   "mimetype": "text/x-python",
   "name": "python",
   "nbconvert_exporter": "python",
   "pygments_lexer": "ipython3",
   "version": "3.6.1"
  }
 },
 "nbformat": 4,
 "nbformat_minor": 4
}
