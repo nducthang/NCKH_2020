{
 "cells": [
  {
   "cell_type": "markdown",
   "metadata": {},
   "source": [
    "### Cây quyết định. Thuật toán ID3"
   ]
  },
  {
   "cell_type": "markdown",
   "metadata": {},
   "source": [
    "Sử dụng các thư viện"
   ]
  },
  {
   "cell_type": "code",
   "execution_count": 1,
   "metadata": {},
   "outputs": [],
   "source": [
    "import pandas as pd\n",
    "import math as mt\n",
    "from collections import Counter\n",
    "from sklearn.model_selection import train_test_split"
   ]
  },
  {
   "cell_type": "markdown",
   "metadata": {},
   "source": [
    "Hàm tính toán Entropy"
   ]
  },
  {
   "cell_type": "code",
   "execution_count": 2,
   "metadata": {},
   "outputs": [],
   "source": [
    "# Function to calculate the entropy of probaility of observations\n",
    "def entropy(probs):\n",
    "    return sum([-prob * mt.log(prob, 2) for prob in probs])"
   ]
  },
  {
   "cell_type": "markdown",
   "metadata": {},
   "source": [
    "Hàm tính toán Entropy với đầu vào là một dãy\n",
    "\n",
    "Hàm Counter đầu ra là một dict bao gồm keys là phần tử, value là số lần xuất hiện của phần tử đó trong dãy."
   ]
  },
  {
   "cell_type": "code",
   "execution_count": 3,
   "metadata": {},
   "outputs": [],
   "source": [
    "# Function to calulate the entropy of the given Data Sets/List with respect to target attributes\n",
    "def entropy_of_list(a_list):\n",
    "    cnt = Counter(x for x in a_list)\n",
    "    num_instances = len(a_list)\n",
    "    probs = [x/num_instances for x in cnt.values()]\n",
    "    return entropy(probs)"
   ]
  },
  {
   "cell_type": "markdown",
   "metadata": {},
   "source": [
    "Hàm tính toán information gain của thuộc tính\n",
    "\n",
    "Sử dụng các hàm trong pandas: groupby, agg"
   ]
  },
  {
   "cell_type": "code",
   "execution_count": 4,
   "metadata": {},
   "outputs": [],
   "source": [
    "# Information gain of Attributes\n",
    "def information_gain(df, split_attribute_name, target_attribute_name, trace=0):\n",
    "    # split data by possible vals of attribute\n",
    "    df_split = df.groupby(split_attribute_name)\n",
    "    # proportion of Obs in Each data_split\n",
    "    nobs = len(df.index)\n",
    "    df_agg_ent = df_split.agg({target_attribute_name: [entropy_of_list, lambda x: len(x) / nobs]})[\n",
    "        target_attribute_name]\n",
    "    df_agg_ent.columns = ['Entropy', 'PropObservations']\n",
    "    # Calculate Information Gain:\n",
    "    new_entropy = sum(df_agg_ent['Entropy'] * df_agg_ent['PropObservations'])\n",
    "    old_entropy = entropy_of_list(df[target_attribute_name])\n",
    "    return old_entropy - new_entropy"
   ]
  },
  {
   "cell_type": "markdown",
   "metadata": {},
   "source": [
    "Thuật toán ID3"
   ]
  },
  {
   "cell_type": "code",
   "execution_count": 5,
   "metadata": {},
   "outputs": [],
   "source": [
    "# ID3 Algorithm\n",
    "def id3_algorithm(df, target_attribute_name, attribute_names, default_class=None):\n",
    "    cnt = Counter(x for x in df[target_attribute_name])\n",
    "    if len(cnt) == 1:\n",
    "        return next(iter(cnt))\n",
    "    elif df.empty or (not attribute_names):\n",
    "        return default_class\n",
    "    else:\n",
    "        # Get Default Value for next recursive call of this function:\n",
    "        default_class = max(cnt.keys())\n",
    "        # Compute the information gain of the attribute:\n",
    "        gainz = [information_gain(df, attr, target_attribute_name) for attr in attribute_names]\n",
    "        # index of best attribute\n",
    "        index_of_max = gainz.index(max(gainz))\n",
    "        # choose best attribute to split on\n",
    "        best_attr = attribute_names[index_of_max]\n",
    "        # create an empty tree, to be populated in a moment\n",
    "        # Iniiate the tree with best attribute as a node\n",
    "        tree = {best_attr: {}}\n",
    "        remaining_attribute_names = [i for i in attribute_names if i != best_attr]\n",
    "        # Split dataset\n",
    "        # On each split, recursively call this algorithm.\n",
    "        # populate the empty tree with subtrees, which\n",
    "        # are the result of the recursive call\n",
    "        for attr_val, data_subset in df.groupby(best_attr):\n",
    "            subtree = id3_algorithm(data_subset, target_attribute_name, remaining_attribute_names, default_class)\n",
    "            tree[best_attr][attr_val] = subtree\n",
    "        return tree"
   ]
  },
  {
   "cell_type": "markdown",
   "metadata": {},
   "source": [
    "Độ chính xác của cây quyết định"
   ]
  },
  {
   "cell_type": "code",
   "execution_count": 6,
   "metadata": {},
   "outputs": [],
   "source": [
    "# Classification accuracy\n",
    "def classify(instance, tree, default=None):\n",
    "    # instance of play tennis with predict\n",
    "    attribute = next(iter(tree))\n",
    "    if instance[attribute] in tree[attribute].keys():  # Value of the attributs in  set of Tree keys\n",
    "        result = tree[attribute][instance[attribute]]\n",
    "        if isinstance(result, dict):  # this is a tree, delve deeper\n",
    "            return classify(instance, result)\n",
    "        else:\n",
    "            return result  # this is a label\n",
    "    else:\n",
    "        return default"
   ]
  },
  {
   "cell_type": "markdown",
   "metadata": {},
   "source": [
    "### Bài toán dự đoán người mắc bệnh tiểu đường"
   ]
  },
  {
   "cell_type": "markdown",
   "metadata": {},
   "source": [
    "Dữ liệu gồm 768 bản ghi, 9 trường dữ liệu gồm thông tin về bệnh tiểu đường\n",
    "\n",
    "Các trường dữ liệu bao gồm: ố lần mang thai,huyết áp, độ dày, insulin huyết thanh, chỉ số khối cơ thể, phả hệ, tuổi và phân lớp."
   ]
  },
  {
   "cell_type": "code",
   "execution_count": 7,
   "metadata": {},
   "outputs": [
    {
     "data": {
      "text/html": [
       "<div>\n",
       "<style scoped>\n",
       "    .dataframe tbody tr th:only-of-type {\n",
       "        vertical-align: middle;\n",
       "    }\n",
       "\n",
       "    .dataframe tbody tr th {\n",
       "        vertical-align: top;\n",
       "    }\n",
       "\n",
       "    .dataframe thead th {\n",
       "        text-align: right;\n",
       "    }\n",
       "</style>\n",
       "<table border=\"1\" class=\"dataframe\">\n",
       "  <thead>\n",
       "    <tr style=\"text-align: right;\">\n",
       "      <th></th>\n",
       "      <th>Number</th>\n",
       "      <th>Plasma glucose</th>\n",
       "      <th>Diastolic blood</th>\n",
       "      <th>Triceps skin</th>\n",
       "      <th>2-Hour serum</th>\n",
       "      <th>Body mass</th>\n",
       "      <th>Diabetes</th>\n",
       "      <th>Age</th>\n",
       "      <th>Class</th>\n",
       "    </tr>\n",
       "  </thead>\n",
       "  <tbody>\n",
       "    <tr>\n",
       "      <th>0</th>\n",
       "      <td>6</td>\n",
       "      <td>148</td>\n",
       "      <td>72</td>\n",
       "      <td>35</td>\n",
       "      <td>0</td>\n",
       "      <td>33.6</td>\n",
       "      <td>0.627</td>\n",
       "      <td>50</td>\n",
       "      <td>1</td>\n",
       "    </tr>\n",
       "    <tr>\n",
       "      <th>1</th>\n",
       "      <td>1</td>\n",
       "      <td>85</td>\n",
       "      <td>66</td>\n",
       "      <td>29</td>\n",
       "      <td>0</td>\n",
       "      <td>26.6</td>\n",
       "      <td>0.351</td>\n",
       "      <td>31</td>\n",
       "      <td>0</td>\n",
       "    </tr>\n",
       "    <tr>\n",
       "      <th>2</th>\n",
       "      <td>8</td>\n",
       "      <td>183</td>\n",
       "      <td>64</td>\n",
       "      <td>0</td>\n",
       "      <td>0</td>\n",
       "      <td>23.3</td>\n",
       "      <td>0.672</td>\n",
       "      <td>32</td>\n",
       "      <td>1</td>\n",
       "    </tr>\n",
       "    <tr>\n",
       "      <th>3</th>\n",
       "      <td>1</td>\n",
       "      <td>89</td>\n",
       "      <td>66</td>\n",
       "      <td>23</td>\n",
       "      <td>94</td>\n",
       "      <td>28.1</td>\n",
       "      <td>0.167</td>\n",
       "      <td>21</td>\n",
       "      <td>0</td>\n",
       "    </tr>\n",
       "    <tr>\n",
       "      <th>4</th>\n",
       "      <td>0</td>\n",
       "      <td>137</td>\n",
       "      <td>40</td>\n",
       "      <td>35</td>\n",
       "      <td>168</td>\n",
       "      <td>43.1</td>\n",
       "      <td>2.288</td>\n",
       "      <td>33</td>\n",
       "      <td>1</td>\n",
       "    </tr>\n",
       "  </tbody>\n",
       "</table>\n",
       "</div>"
      ],
      "text/plain": [
       "   Number  Plasma glucose  Diastolic blood  Triceps skin  2-Hour serum  \\\n",
       "0       6             148               72            35             0   \n",
       "1       1              85               66            29             0   \n",
       "2       8             183               64             0             0   \n",
       "3       1              89               66            23            94   \n",
       "4       0             137               40            35           168   \n",
       "\n",
       "   Body mass  Diabetes  Age  Class  \n",
       "0       33.6     0.627   50      1  \n",
       "1       26.6     0.351   31      0  \n",
       "2       23.3     0.672   32      1  \n",
       "3       28.1     0.167   21      0  \n",
       "4       43.1     2.288   33      1  "
      ]
     },
     "execution_count": 7,
     "metadata": {},
     "output_type": "execute_result"
    }
   ],
   "source": [
    "df_data = pd.read_csv(\"pima-indians-diabetes.csv\")\n",
    "df_data.head(5)"
   ]
  },
  {
   "cell_type": "code",
   "execution_count": 8,
   "metadata": {},
   "outputs": [
    {
     "name": "stdout",
     "output_type": "stream",
     "text": [
      "<class 'pandas.core.frame.DataFrame'>\n",
      "RangeIndex: 768 entries, 0 to 767\n",
      "Data columns (total 9 columns):\n",
      " #   Column           Non-Null Count  Dtype  \n",
      "---  ------           --------------  -----  \n",
      " 0   Number           768 non-null    int64  \n",
      " 1   Plasma glucose   768 non-null    int64  \n",
      " 2   Diastolic blood  768 non-null    int64  \n",
      " 3   Triceps skin     768 non-null    int64  \n",
      " 4   2-Hour serum     768 non-null    int64  \n",
      " 5   Body mass        768 non-null    float64\n",
      " 6   Diabetes         768 non-null    float64\n",
      " 7   Age              768 non-null    int64  \n",
      " 8   Class            768 non-null    int64  \n",
      "dtypes: float64(2), int64(7)\n",
      "memory usage: 54.1 KB\n"
     ]
    }
   ],
   "source": [
    "df_data.info()"
   ]
  },
  {
   "cell_type": "markdown",
   "metadata": {},
   "source": [
    "ID3 decision tree là nó có thể làm việc với các đặc trưng dạng categorical, thường là rời rạc và không có thứ tự.\n",
    "\n",
    "Cần tiền xử lý dữ liệu: xóa bỏ 2 thuộc tính có kiểu dữ liệu float là: Body mass và Diabetes."
   ]
  },
  {
   "cell_type": "markdown",
   "metadata": {},
   "source": [
    "Lấy tên các đặc trưng"
   ]
  },
  {
   "cell_type": "code",
   "execution_count": 9,
   "metadata": {},
   "outputs": [],
   "source": [
    " attribute_names = list(df_data.columns)"
   ]
  },
  {
   "cell_type": "code",
   "execution_count": 10,
   "metadata": {},
   "outputs": [
    {
     "data": {
      "text/plain": [
       "['Number',\n",
       " 'Plasma glucose',\n",
       " 'Diastolic blood',\n",
       " 'Triceps skin',\n",
       " '2-Hour serum',\n",
       " 'Body mass',\n",
       " 'Diabetes',\n",
       " 'Age',\n",
       " 'Class']"
      ]
     },
     "execution_count": 10,
     "metadata": {},
     "output_type": "execute_result"
    }
   ],
   "source": [
    " attribute_names"
   ]
  },
  {
   "cell_type": "code",
   "execution_count": 11,
   "metadata": {},
   "outputs": [],
   "source": [
    "attribute_names.remove('Class')\n",
    "attribute_names.remove('Body mass')\n",
    "attribute_names.remove('Diabetes')"
   ]
  },
  {
   "cell_type": "code",
   "execution_count": 12,
   "metadata": {},
   "outputs": [
    {
     "name": "stdout",
     "output_type": "stream",
     "text": [
      "Predicting Attributes: ['Number', 'Plasma glucose', 'Diastolic blood', 'Triceps skin', '2-Hour serum', 'Age']\n"
     ]
    }
   ],
   "source": [
    " print(\"Predicting Attributes:\", attribute_names)"
   ]
  },
  {
   "cell_type": "markdown",
   "metadata": {},
   "source": [
    "Chia dữ liệu thành hai tập training và test với tỉ lệ 8:2"
   ]
  },
  {
   "cell_type": "code",
   "execution_count": 13,
   "metadata": {},
   "outputs": [
    {
     "name": "stdout",
     "output_type": "stream",
     "text": [
      "     Number  Plasma glucose  Diastolic blood  Triceps skin  2-Hour serum  \\\n",
      "182       1               0               74            20            23   \n",
      "349       5               0               80            32             0   \n",
      "394       4             158               78             0             0   \n",
      "423       2             115               64            22             0   \n",
      "207       5             162              104             0             0   \n",
      "..      ...             ...              ...           ...           ...   \n",
      "692       2             121               70            32            95   \n",
      "646       1             167               74            17           144   \n",
      "709       2              93               64            32           160   \n",
      "103       1              81               72            18            40   \n",
      "267       2             128               64            42             0   \n",
      "\n",
      "     Body mass  Diabetes  Age  Class  \n",
      "182       27.7     0.299   21      0  \n",
      "349       41.0     0.346   37      1  \n",
      "394       32.9     0.803   31      1  \n",
      "423       30.8     0.421   21      0  \n",
      "207       37.7     0.151   52      1  \n",
      "..         ...       ...  ...    ...  \n",
      "692       39.1     0.886   23      0  \n",
      "646       23.4     0.447   33      1  \n",
      "709       38.0     0.674   23      1  \n",
      "103       26.6     0.283   24      0  \n",
      "267       40.0     1.101   24      0  \n",
      "\n",
      "[614 rows x 9 columns]\n"
     ]
    }
   ],
   "source": [
    "training_data, test_data = train_test_split(df_data, test_size=0.2)\n",
    "print(training_data)"
   ]
  },
  {
   "cell_type": "markdown",
   "metadata": {},
   "source": [
    "Hình thành cây quyết định"
   ]
  },
  {
   "cell_type": "code",
   "execution_count": 14,
   "metadata": {},
   "outputs": [
    {
     "name": "stdout",
     "output_type": "stream",
     "text": [
      "{'Plasma glucose': {0: {'Number': {1: 0, 5: 1}}, 44: 0, 56: 0, 57: 0, 61: 0, 62: 0, 65: 0, 67: 0, 68: 0, 71: 0, 72: 0, 73: 0, 74: 0, 75: 0, 76: 0, 77: 0, 78: 0, 79: 0, 80: {'Number': {1: 0, 3: 1, 6: 0}}, 81: 0, 82: 0, 83: 0, 84: {'Number': {0: 0, 1: 0, 2: 0, 3: 0, 4: 0, 8: 0, 12: 1}}, 85: {'Number': {1: 0, 2: 0, 4: 0, 5: 1, 6: 0, 11: 0}}, 86: 0, 87: 0, 88: {'Diastolic blood': {30: 1, 58: 0, 62: 0, 66: 0, 74: 0, 78: 0}}, 89: 0, 90: {'Triceps skin': {0: 0, 8: 0, 12: 0, 14: 0, 17: 0, 18: 0, 42: 1, 47: 0}}, 91: 0, 92: {'Number': {1: 0, 2: 0, 4: 0, 6: 0, 12: 1}}, 93: {'Number': {0: 0, 1: 0, 2: 1, 6: 0}}, 94: 0, 95: {'Diastolic blood': {54: 0, 64: {'Number': {0: 0, 4: 1}}, 66: 0, 70: 0, 72: 0, 82: 1, 85: 1}}, 96: 0, 97: {'Number': {0: 0, 1: 0, 4: 0, 5: 1, 7: 1}}, 98: 0, 99: 0, 100: {'Number': {0: 0, 1: 0, 2: 0, 3: 0, 7: 1, 8: {'Diastolic blood': {74: 1, 76: 0}}, 12: 0, 14: 1}}, 101: {'Diastolic blood': {50: 0, 58: 0, 65: 0, 76: 0, 86: 1}}, 102: {'Triceps skin': {0: 1, 17: 0, 23: 0, 36: 1, 39: 0, 40: 0, 46: 0}}, 103: {'Number': {1: 0, 4: 0, 5: 0, 6: 0, 7: 1, 11: 0}}, 104: {'Age': {22: 1, 23: 0, 27: 0, 38: 1, 41: 1, 48: 0}}, 105: 0, 106: {'Diastolic blood': {52: 0, 54: 0, 60: 1, 64: 0, 70: 0, 72: 0, 76: 0, 80: 0, 82: 0, 92: 0}}, 107: {'Number': {0: {'Diastolic blood': {62: 1, 76: 0}}, 1: 0, 2: 0, 3: 1, 6: 0, 7: 1}}, 108: {'Diastolic blood': {44: 0, 52: 0, 62: 0, 64: 0, 70: 1, 72: 0, 80: 1, 88: 0}}, 109: {'Number': {1: 0, 2: 0, 4: 1, 5: 0, 6: 0, 8: 1}}, 110: 0, 111: {'Number': {0: 0, 1: 0, 2: 0, 3: 0, 5: 0, 6: 0, 10: 1, 11: 1}}, 112: {'Number': {1: 0, 2: 0, 3: 1, 4: 0, 8: 0, 9: 1}}, 113: {'Diastolic blood': {64: 1, 76: 1, 80: 0}}, 114: {'Age': {21: 0, 24: 0, 25: 0, 27: 0, 31: 0, 34: 1, 37: 0, 42: 1, 57: 0}}, 115: {'Age': {21: 0, 28: 1, 29: 0, 30: 1, 32: 1, 40: 1, 44: 1}}, 116: {'Age': {21: 0, 23: 0, 24: 0, 25: 0, 30: 0, 35: 1, 37: 0}}, 117: {'Diastolic blood': {0: 0, 60: 0, 64: 0, 66: 0, 80: 0, 88: 1, 90: 0}}, 118: {'Diastolic blood': {64: 0, 70: 0, 72: 0, 80: 1, 84: 1}}, 119: {'Diastolic blood': {0: {'Number': {0: 1, 2: 0}}, 44: 0, 50: 1, 54: 0, 66: 0, 80: 1, 86: 1, 88: 0}}, 120: {'Number': {1: 0, 2: 0, 3: 0, 4: 0, 8: 1, 9: 0, 11: 1}}, 121: {'Number': {0: 1, 1: 0, 2: 0, 3: 1, 12: 0}}, 122: {'Number': {1: 1, 2: 0, 3: 0, 4: 0, 5: 0, 9: 1, 10: 0}}, 123: {'Triceps skin': {0: 1, 15: 0, 32: 0, 35: 0, 37: 0, 40: 0, 44: 0, 45: 0}}, 124: {'Triceps skin': {0: 1, 13: 0, 20: 1, 24: 1, 28: 1, 32: 0, 33: 0, 36: 0}}, 125: {'Age': {21: 0, 24: 0, 25: 0, 27: 1, 28: 1, 31: 0, 41: 1, 45: 1, 49: 1, 51: 0, 54: 1}}, 126: {'Diastolic blood': {56: 0, 60: 1, 78: 0, 84: 0, 86: 0, 88: 0, 90: 1}}, 127: 0, 128: {'Triceps skin': {0: 0, 17: 0, 19: 1, 25: 1, 37: 1, 39: 1, 42: 0, 45: 1}}, 129: {'Diastolic blood': {0: 0, 60: 0, 62: 1, 64: 1, 74: 0, 76: 0, 80: 0, 84: 0, 86: 0, 90: 0, 92: 1, 110: 1}}, 130: {'Age': {21: 0, 22: 0, 34: 1, 37: 1, 45: 1}}, 131: {'Number': {0: 1, 1: 0, 4: 0}}, 132: {'Number': {0: 0, 3: 1, 4: 0}}, 133: {'Number': {1: 1, 7: 0, 8: 1, 10: 0}}, 134: {'Number': {0: 0, 2: 1, 4: 1, 6: 1, 9: 0}}, 135: {'Diastolic blood': {0: 1, 68: 1, 94: 0}}, 136: {'Diastolic blood': {70: 1, 74: 0, 82: 0, 84: 1, 90: 0}}, 137: {'Number': {0: 0, 4: 0, 5: 1, 6: 0, 7: 0}}, 138: {'Number': {0: 1, 1: 0, 11: 0}}, 139: {'Diastolic blood': {46: 0, 54: 1, 62: 0, 64: 0, 80: 1}}, 140: {'Diastolic blood': {65: 1, 74: 0, 82: 1, 85: 0, 94: 1}}, 141: {'Number': {0: 1, 2: 0, 3: 1}}, 142: {'Number': {2: 0, 3: 0, 4: 1, 7: 1}}, 143: {'Number': {1: 0, 5: 0, 8: 1, 11: 1}}, 144: {'Triceps skin': {26: 1, 27: 0, 28: 0, 32: 1, 40: 0, 46: 1}}, 145: 1, 146: {'Diastolic blood': {0: 1, 70: 1, 76: 0, 78: 1, 82: 0, 85: 0, 92: 1}}, 147: {'Number': {1: 1, 5: 0, 6: 1}}, 148: {'Number': {3: 0, 4: 1, 6: 1, 10: 1}}, 149: 1, 150: {'Diastolic blood': {66: 0, 76: 0, 78: 1}}, 151: {'Number': {0: 1, 1: 0, 4: 0, 6: 0, 8: 1, 12: 1}}, 152: 1, 153: 0, 154: {'Number': {4: 0, 6: 0, 8: 1, 9: 0}}, 155: {'Number': {2: 1, 5: 0, 8: 1}}, 156: 1, 157: 0, 158: {'Age': {24: 0, 28: 1, 29: 1, 31: 1, 35: 1, 44: 1, 63: 0, 66: 1}}, 159: {'Diastolic blood': {64: 0, 66: 1}}, 161: {'Number': {0: 0, 7: 1, 10: 1}}, 162: {'Number': {5: 1, 10: 0}}, 163: 1, 164: {'Number': {1: 0, 9: 1}}, 165: 0, 166: {'Number': {5: 1, 6: 0}}, 167: 1, 168: 1, 169: 1, 170: 1, 171: 1, 172: 1, 173: {'Number': {0: 0, 3: 1, 4: 1}}, 174: 1, 175: 0, 176: 1, 178: 1, 179: {'Number': {0: 1, 7: 0, 8: 1}}, 180: {'Number': {0: 1, 1: 1, 3: 0}}, 181: 1, 182: 1, 183: {'Number': {6: 0, 8: 1}}, 184: 1, 187: 1, 188: 1, 189: {'Number': {0: 1, 1: 1, 4: 0, 5: 1}}, 190: 1, 191: 0, 193: 0, 194: {'Number': {6: 1, 7: 1, 8: 0}}, 195: 1, 196: 1, 197: {'Number': {2: 1, 4: 0, 8: 1}}, 198: 1, 199: 1}}\n"
     ]
    }
   ],
   "source": [
    "train_tree = id3_algorithm(training_data, 'Class', attribute_names)\n",
    "print(train_tree)"
   ]
  },
  {
   "cell_type": "markdown",
   "metadata": {},
   "source": [
    "Dự đoán của cây quyết định"
   ]
  },
  {
   "cell_type": "code",
   "execution_count": 15,
   "metadata": {},
   "outputs": [
    {
     "name": "stderr",
     "output_type": "stream",
     "text": [
      "c:\\users\\admin\\appdata\\local\\programs\\python\\python36\\lib\\site-packages\\ipykernel_launcher.py:1: SettingWithCopyWarning: \n",
      "A value is trying to be set on a copy of a slice from a DataFrame.\n",
      "Try using .loc[row_indexer,col_indexer] = value instead\n",
      "\n",
      "See the caveats in the documentation: https://pandas.pydata.org/pandas-docs/stable/user_guide/indexing.html#returning-a-view-versus-a-copy\n",
      "  \"\"\"Entry point for launching an IPython kernel.\n"
     ]
    }
   ],
   "source": [
    "test_data['predicted'] = test_data.apply(classify,axis=1,args=(train_tree, 1))"
   ]
  },
  {
   "cell_type": "code",
   "execution_count": 22,
   "metadata": {},
   "outputs": [
    {
     "data": {
      "text/html": [
       "<div>\n",
       "<style scoped>\n",
       "    .dataframe tbody tr th:only-of-type {\n",
       "        vertical-align: middle;\n",
       "    }\n",
       "\n",
       "    .dataframe tbody tr th {\n",
       "        vertical-align: top;\n",
       "    }\n",
       "\n",
       "    .dataframe thead th {\n",
       "        text-align: right;\n",
       "    }\n",
       "</style>\n",
       "<table border=\"1\" class=\"dataframe\">\n",
       "  <thead>\n",
       "    <tr style=\"text-align: right;\">\n",
       "      <th></th>\n",
       "      <th>Class</th>\n",
       "      <th>predicted</th>\n",
       "    </tr>\n",
       "  </thead>\n",
       "  <tbody>\n",
       "    <tr>\n",
       "      <th>74</th>\n",
       "      <td>0</td>\n",
       "      <td>0.0</td>\n",
       "    </tr>\n",
       "    <tr>\n",
       "      <th>355</th>\n",
       "      <td>1</td>\n",
       "      <td>0.0</td>\n",
       "    </tr>\n",
       "    <tr>\n",
       "      <th>216</th>\n",
       "      <td>1</td>\n",
       "      <td>0.0</td>\n",
       "    </tr>\n",
       "    <tr>\n",
       "      <th>714</th>\n",
       "      <td>0</td>\n",
       "      <td>1.0</td>\n",
       "    </tr>\n",
       "    <tr>\n",
       "      <th>649</th>\n",
       "      <td>0</td>\n",
       "      <td>NaN</td>\n",
       "    </tr>\n",
       "    <tr>\n",
       "      <th>...</th>\n",
       "      <td>...</td>\n",
       "      <td>...</td>\n",
       "    </tr>\n",
       "    <tr>\n",
       "      <th>404</th>\n",
       "      <td>1</td>\n",
       "      <td>1.0</td>\n",
       "    </tr>\n",
       "    <tr>\n",
       "      <th>70</th>\n",
       "      <td>1</td>\n",
       "      <td>0.0</td>\n",
       "    </tr>\n",
       "    <tr>\n",
       "      <th>187</th>\n",
       "      <td>1</td>\n",
       "      <td>NaN</td>\n",
       "    </tr>\n",
       "    <tr>\n",
       "      <th>341</th>\n",
       "      <td>0</td>\n",
       "      <td>NaN</td>\n",
       "    </tr>\n",
       "    <tr>\n",
       "      <th>22</th>\n",
       "      <td>1</td>\n",
       "      <td>1.0</td>\n",
       "    </tr>\n",
       "  </tbody>\n",
       "</table>\n",
       "<p>154 rows × 2 columns</p>\n",
       "</div>"
      ],
      "text/plain": [
       "     Class  predicted\n",
       "74       0        0.0\n",
       "355      1        0.0\n",
       "216      1        0.0\n",
       "714      0        1.0\n",
       "649      0        NaN\n",
       "..     ...        ...\n",
       "404      1        1.0\n",
       "70       1        0.0\n",
       "187      1        NaN\n",
       "341      0        NaN\n",
       "22       1        1.0\n",
       "\n",
       "[154 rows x 2 columns]"
      ]
     },
     "execution_count": 22,
     "metadata": {},
     "output_type": "execute_result"
    }
   ],
   "source": [
    "test_data[['Class', 'predicted']]"
   ]
  },
  {
   "cell_type": "markdown",
   "metadata": {},
   "source": [
    "Tính toán độ chính xác của cây quyết định"
   ]
  },
  {
   "cell_type": "code",
   "execution_count": 21,
   "metadata": {},
   "outputs": [
    {
     "name": "stdout",
     "output_type": "stream",
     "text": [
      " Accuracy model is :  46.753246753246756 %\n"
     ]
    }
   ],
   "source": [
    "print(' Accuracy model is : ', 100*sum(test_data['Class'] == test_data['predicted']) / (1.0 * len(test_data.index)), \"%\")"
   ]
  },
  {
   "cell_type": "markdown",
   "metadata": {},
   "source": [
    "Nhận thấy rằng độ chính xác của mô hình cây quyết định ID3 rất thấp và trong trường dự đoán có các giá trị NAN, bởi vì bộ dữ liệu được lựa chọn tương đối liên tục và các giá trị trong tập test có thể không xuất hiện trong tập train. Nhìn chung cây quyết định dễ mắc phải hiện tượng overfit."
   ]
  },
  {
   "cell_type": "code",
   "execution_count": null,
   "metadata": {},
   "outputs": [],
   "source": []
  }
 ],
 "metadata": {
  "kernelspec": {
   "display_name": "Python 3",
   "language": "python",
   "name": "python3"
  },
  "language_info": {
   "codemirror_mode": {
    "name": "ipython",
    "version": 3
   },
   "file_extension": ".py",
   "mimetype": "text/x-python",
   "name": "python",
   "nbconvert_exporter": "python",
   "pygments_lexer": "ipython3",
   "version": "3.6.1"
  }
 },
 "nbformat": 4,
 "nbformat_minor": 4
}
