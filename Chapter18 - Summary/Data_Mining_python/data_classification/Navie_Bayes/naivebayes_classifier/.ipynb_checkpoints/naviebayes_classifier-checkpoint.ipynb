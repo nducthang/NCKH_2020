{
 "cells": [
  {
   "cell_type": "markdown",
   "metadata": {},
   "source": [
    "# Thuật toán phân lớp Naive Bayes Classifier"
   ]
  },
  {
   "cell_type": "markdown",
   "metadata": {},
   "source": [
    "Lý thuyết tham khảo: https://machinelearningcoban.com/2017/08/08/nbc/"
   ]
  },
  {
   "cell_type": "markdown",
   "metadata": {},
   "source": [
    "Bài 1: Cho các văn bản d1, d2, d3, d4 thuộc vào các lớp tương ứng B(Bắc), B, B, N(Nam). Xác định lớp của văn bản d5,d6.\n",
    "\n",
    "Ý tưởng: sử dụng mô hình Multinominal navie Bayes trong phân loại văn bản mà vector đặc trưng được dựng dựa trên ý tưởng bag of words (BoW)."
   ]
  },
  {
   "cell_type": "code",
   "execution_count": 1,
   "metadata": {},
   "outputs": [
    {
     "name": "stdout",
     "output_type": "stream",
     "text": [
      "Danh sách từ điển: ['banhbo' 'banhgio' 'buncha' 'chaolong' 'hanoi' 'hutiu' 'omai' 'pho'\n",
      " 'saigon']\n"
     ]
    }
   ],
   "source": [
    "import numpy as np\n",
    "d1 = \"hanoi pho chaolong hanoi\"\n",
    "d2 = \"hanoi buncha pho omai\"\n",
    "d3 = \"pho banhgio omai\"\n",
    "d4 = \"saigon hutiu banhbo pho\"\n",
    "d5 = \"hanoi hanoi buncha hutiu\"\n",
    "d6 = \"pho hutiu banhbo\"\n",
    "d1 = np.array(list(d1.split()))\n",
    "d2 = np.array(list(d2.split()))\n",
    "d3 = np.array(list(d3.split()))\n",
    "d4 = np.array(list(d4.split()))\n",
    "d5 = np.array(list(d5.split()))\n",
    "d6 = np.array(list(d6.split()))\n",
    "dic = np.unique(np.concatenate((d1,d2,d3,d4)))\n",
    "print(\"Danh sách từ điển:\",dic)"
   ]
  },
  {
   "cell_type": "code",
   "execution_count": 2,
   "metadata": {},
   "outputs": [],
   "source": [
    "def feature_vector(str,dic):\n",
    "    feature_str = np.zeros(dic.shape[0])\n",
    "    for i in range(dic.shape[0]):\n",
    "        item = 0\n",
    "        for j in range(str.shape[0]):\n",
    "            if str[j] == dic[i]:\n",
    "                item = item +1\n",
    "            feature_str[i] = item\n",
    "    return feature_str"
   ]
  },
  {
   "cell_type": "code",
   "execution_count": 3,
   "metadata": {},
   "outputs": [
    {
     "name": "stdout",
     "output_type": "stream",
     "text": [
      "[1. 0. 0. 0. 0. 1. 0. 1. 0.]\n"
     ]
    }
   ],
   "source": [
    "d1 = feature_vector(d1,dic)\n",
    "d2 = feature_vector(d2,dic)\n",
    "d3 = feature_vector(d3,dic)\n",
    "d4 = feature_vector(d4,dic)\n",
    "d5 = feature_vector(d5,dic)\n",
    "d6 = feature_vector(d6,dic)\n",
    "print(d6)"
   ]
  },
  {
   "cell_type": "markdown",
   "metadata": {},
   "source": [
    "sử dụng thư viện scikit learn"
   ]
  },
  {
   "cell_type": "code",
   "execution_count": 4,
   "metadata": {},
   "outputs": [
    {
     "name": "stdout",
     "output_type": "stream",
     "text": [
      "[[0. 0. 0. 1. 2. 0. 0. 1. 0.]\n",
      " [0. 0. 1. 0. 1. 0. 1. 1. 0.]\n",
      " [0. 1. 0. 0. 0. 0. 1. 1. 0.]\n",
      " [1. 0. 0. 0. 0. 1. 0. 1. 1.]]\n",
      "[[0. 0. 1. 0. 2. 1. 0. 0. 0.]]\n",
      "[[1. 0. 0. 0. 0. 1. 0. 1. 0.]]\n",
      "\n",
      "Probability of d6 in each class: [[0.89548823 0.10451177]]\n",
      "\n",
      "Predicting class of d5: B\n",
      "\n",
      "Probability of d6 in each class: [[0.29175335 0.70824665]]\n",
      "\n",
      "Predicting class of d5: N\n"
     ]
    }
   ],
   "source": [
    "from sklearn.naive_bayes import MultinomialNB\n",
    "#train data\n",
    "train_data = np.array([d1, d2, d3, d4])\n",
    "print(train_data)\n",
    "label = np.array(['B', 'B', 'B', 'N'])\n",
    "# test data: d5, d6\n",
    "d5 = np.array([d5])\n",
    "d6 = np.array([d6])\n",
    "print(d5)\n",
    "print(d6)\n",
    "model = MultinomialNB() # sử dụng multinomial naive bayes\n",
    "# tranning\n",
    "model.fit(train_data, label)\n",
    "# test\n",
    "print('\\nProbability of d6 in each class:', model.predict_proba(d5))\n",
    "print('\\nPredicting class of d5:', str(model.predict(d5)[0]))\n",
    "print('\\nProbability of d6 in each class:', model.predict_proba(d6))\n",
    "print('\\nPredicting class of d5:', str(model.predict(d6)[0]))"
   ]
  },
  {
   "cell_type": "markdown",
   "metadata": {},
   "source": [
    "Ý tưởng: sử dụng mô hình Bernoulli navie Bayes, cần phải thay đổi về feature vector, chỉ quan tâm từ đó có xuất hiện trong mô hình này hay không mà không cần biết có bao nhiêu lần. Vì vậy feature vector sẽ chỉ gồm các giá trị nhị phân."
   ]
  },
  {
   "cell_type": "code",
   "execution_count": 5,
   "metadata": {},
   "outputs": [
    {
     "name": "stdout",
     "output_type": "stream",
     "text": [
      "Danh sách từ điển: ['banhbo' 'banhgio' 'buncha' 'chaolong' 'hanoi' 'hutiu' 'omai' 'pho'\n",
      " 'saigon']\n"
     ]
    }
   ],
   "source": [
    "import numpy as np\n",
    "d1 = \"hanoi pho chaolong hanoi\"\n",
    "d2 = \"hanoi buncha pho omai\"\n",
    "d3 = \"pho banhgio omai\"\n",
    "d4 = \"saigon hutiu banhbo pho\"\n",
    "d5 = \"hanoi hanoi buncha hutiu\"\n",
    "d6 = \"pho hutiu banhbo\"\n",
    "d1 = np.array(list(d1.split()))\n",
    "d2 = np.array(list(d2.split()))\n",
    "d3 = np.array(list(d3.split()))\n",
    "d4 = np.array(list(d4.split()))\n",
    "d5 = np.array(list(d5.split()))\n",
    "d6 = np.array(list(d6.split()))\n",
    "dic = np.unique(np.concatenate((d1,d2,d3,d4)))\n",
    "print(\"Danh sách từ điển:\",dic)"
   ]
  },
  {
   "cell_type": "code",
   "execution_count": 6,
   "metadata": {},
   "outputs": [],
   "source": [
    "def feature_vector_new(str,dic):\n",
    "    feature_str = np.zeros(dic.shape[0])\n",
    "    for i in range(dic.shape[0]):\n",
    "        for j in range(str.shape[0]):\n",
    "            if str[j] == dic[i]:\n",
    "                feature_str[i] = 1   \n",
    "                break\n",
    "    return feature_str\n",
    "d1 = feature_vector_new(d1,dic)\n",
    "d2 = feature_vector_new(d2,dic)\n",
    "d3 = feature_vector_new(d3,dic)\n",
    "d4 = feature_vector_new(d4,dic)\n",
    "d5 = feature_vector_new(d5,dic)\n",
    "d6 = feature_vector_new(d6,dic)\n"
   ]
  },
  {
   "cell_type": "code",
   "execution_count": 7,
   "metadata": {},
   "outputs": [
    {
     "name": "stdout",
     "output_type": "stream",
     "text": [
      "\n",
      "Probability of d6 in each class: [[0.76554295 0.23445705]]\n",
      "\n",
      "Predicting class of d5: B\n",
      "\n",
      "Probability of d6 in each class: [[0.16948581 0.83051419]]\n",
      "\n",
      "Predicting class of d5: N\n",
      "\n",
      "Probability of d56 in each class:\n",
      " [[0.76554295 0.23445705]\n",
      " [0.16948581 0.83051419]]\n",
      "\n",
      "Predicting class of d56: ['B' 'N']\n"
     ]
    }
   ],
   "source": [
    "from sklearn.naive_bayes import BernoulliNB\n",
    "train_data = np.array([d1,d2,d3,d4])\n",
    "label = np.array(['B', 'B', 'B', 'N']) # 0-B,1-N\n",
    "d56 = np.array([d5,d6])\n",
    "d5 = np.array([d5])\n",
    "d6 = np.array([d6])\n",
    "## call BernoulliNB\n",
    "model = BernoulliNB()\n",
    "model.fit(train_data,label)\n",
    "#test\n",
    "print('\\nProbability of d6 in each class:', model.predict_proba(d5))\n",
    "print('\\nPredicting class of d5:', str(model.predict(d5)[0]))\n",
    "print('\\nProbability of d6 in each class:', model.predict_proba(d6))\n",
    "print('\\nPredicting class of d5:', str(model.predict(d6)[0]))\n",
    "print('\\nProbability of d56 in each class:\\n', model.predict_proba(d56))\n",
    "print('\\nPredicting class of d56:', str(model.predict(d56)))"
   ]
  },
  {
   "cell_type": "code",
   "execution_count": null,
   "metadata": {},
   "outputs": [],
   "source": []
  }
 ],
 "metadata": {
  "kernelspec": {
   "display_name": "Python 3",
   "language": "python",
   "name": "python3"
  },
  "language_info": {
   "codemirror_mode": {
    "name": "ipython",
    "version": 3
   },
   "file_extension": ".py",
   "mimetype": "text/x-python",
   "name": "python",
   "nbconvert_exporter": "python",
   "pygments_lexer": "ipython3",
   "version": "3.6.1"
  }
 },
 "nbformat": 4,
 "nbformat_minor": 4
}
