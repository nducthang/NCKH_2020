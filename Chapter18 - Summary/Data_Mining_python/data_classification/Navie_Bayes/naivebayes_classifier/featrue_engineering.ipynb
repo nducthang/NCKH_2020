{
 "cells": [
  {
   "cell_type": "markdown",
   "metadata": {},
   "source": [
    "# Feature engineering\n",
    "Nội dung\n",
    "1. Giới thiệu về feature vertor.\n",
    "2. Mô hình chung cho bài toán Machine Learning.\n",
    "3. Một số ví dụ về Featrue Engineering.\n",
    "\n",
    "Tài liệu:\n",
    "\n",
    "https://machinelearningcoban.com/general/2017/02/06/featureengineering/"
   ]
  },
  {
   "cell_type": "markdown",
   "metadata": {},
   "source": [
    " 1. Giới thiệu về feature vertor.\n",
    " \n",
    "Mỗi điểm dữ liệu trong các bài toán Machine Learning thường được biểu diễn bằng một vector, được gọi là vector đặc trưng (feature vector). Trong một bài toán, để tính toán trong mô hình, các feature vector của tất cả các điểm thường có kích thước như nhau. Toàn bộ các vector được lưu thành một ma trận. Ở dữ liệu thô, kích thước của các điểm thường khác nhau.\n",
    "\n",
    "VD: Trong computer vision, các bức ảnh thường là các ma trận hoặc các tensor có kích thước khác nhau. Trong natural language processing độ dài các văn bản thường là khác nhau.\n",
    "\n",
    "Chúng ta cần tìm cách loại bỏ những điểm dữ liệu nhiễu, để đưa dữ liệu thô về cùng một chuẩn. Qúa trình này gọi là <b> trích chọn đặc trưng (feature engineering)."
   ]
  },
  {
   "cell_type": "markdown",
   "metadata": {},
   "source": [
    "2. Mô hình chung cho bài toán Machine Learning. \n",
    "\n",
    "(Xem tài liệu tham khảo)\n"
   ]
  },
  {
   "cell_type": "markdown",
   "metadata": {},
   "source": [
    "3. Một số ví dụ về Featrue Engineering\n",
    "\n",
    "Đối với bài toán xử lý ảnh, mỗi bức ảnh có độ dài m.n pixel, cách đơn giản nhất là kéo dài ma trận thành các pixel thành một vecto có m.n phần tử, kỹ thuật này còn gọi là vecto hóa (vectorization). Các điểm dữ liệu có số đặc trung khác nhau (do kích thước khác nhau) và số lượng đặc trưng cực lớn, ta cần chọn ra một số đặc trưng nhỏ hơn để phù hợp với bài toán. Với dữ liệu có số chiều rất lớn, phương pháp được dùng là làm giảm chiều dữ liệu, để giảm bộ nhớ và khối lượng tính toán. (Chi tiết CNN và xử lý ảnh)"
   ]
  },
  {
   "cell_type": "markdown",
   "metadata": {},
   "source": [
    "# Bag of words"
   ]
  },
  {
   "cell_type": "markdown",
   "metadata": {},
   "source": [
    "Bag of word -BoW là kĩ thuật phổ biến trong xử lý văn bản.\n",
    "\n"
   ]
  },
  {
   "cell_type": "markdown",
   "metadata": {},
   "source": [
    "Cho hai văn bản sau:\n",
    "\n",
    "(1) \"John likes to watch movies. Marry likes movies too.\"\n",
    "\n",
    "(2) \"John also likes to watch football games.\"\n",
    "\n",
    "Danh sách từ điển dựa trên hai văn bản là:\n",
    "\n",
    "$[\"John\", \"likes\", \"to\", \"watch\",\"movies\", \"also\", football\", \"games\", \"Mary\", \"too\"]$\n",
    "\n",
    "Với hai văn bản trên ta sẽ có được hai vector đặc trưng có số chiều bằng số chiều của từ điển, mỗi phần tử đại diện cho số từ xuất hiện trong văn bản đó:\n",
    "\n",
    "(1) $[1,2,1,1,2,0,0,0,1,1]$\n",
    "\n",
    "(2)$[1,1,1,1,0,1,1,1,0,0]$"
   ]
  },
  {
   "cell_type": "code",
   "execution_count": 55,
   "metadata": {},
   "outputs": [
    {
     "name": "stdout",
     "output_type": "stream",
     "text": [
      "Danh sách từ điển: ['John' 'Marry' 'also' 'football' 'games' 'likes' 'movies' 'to' 'too'\n",
      " 'watch']\n",
      "Đoạn văn 1: ['John' 'likes' 'to' 'watch' 'movies' 'Marry' 'likes' 'movies' 'too']\n",
      "Đoạn văn 2: ['John' 'also' 'likes' 'to' 'watch' 'football' 'games']\n",
      "[1. 1. 0. 0. 0. 2. 2. 1. 1. 1.]\n"
     ]
    }
   ],
   "source": [
    "import numpy as np\n",
    "\n",
    "str1 = \"John likes to watch movies  Marry likes movies too\"\n",
    "str1_new    = list(str1.split()) #covert string to list\n",
    "str2 = \"John also likes to watch football games \"\n",
    "str2_new = list(str2.split())    #covert string to list\n",
    "dictionary = np.unique(np.array(str1_new + str2_new))\n",
    "print(\"Danh sách từ điển:\",dictionary)\n",
    "feature_str1 = np.zeros(dictionary.shape[0])\n",
    "str1_new = np.array(str1_new)\n",
    "str2_new = np.array(str2_new)\n",
    "print(\"Đoạn văn 1:\",str1_new)\n",
    "print(\"Đoạn văn 2:\",str2_new)\n",
    "for i in range(dictionary.shape[0]):\n",
    "    dem = 0\n",
    "    for j in range(str1_new.shape[0]):\n",
    "        if str1_new[j] == dictionary[i]:  \n",
    "            dem = dem + 1\n",
    "        feature_str1[i] = dem\n",
    "print(feature_str1 )\n",
    "         "
   ]
  },
  {
   "cell_type": "code",
   "execution_count": 50,
   "metadata": {},
   "outputs": [],
   "source": [
    "def feature_vector(str,dic):\n",
    "    feature_str = np.zeros(dic.shape[0])\n",
    "    for i in range(dic.shape[0]):\n",
    "        item = 0\n",
    "        for j in range(str.shape[0]):\n",
    "            if str[j] == dic[i]:\n",
    "                item = item +1\n",
    "            feature_str[i] = item\n",
    "    return feature_str"
   ]
  },
  {
   "cell_type": "code",
   "execution_count": 51,
   "metadata": {},
   "outputs": [
    {
     "name": "stdout",
     "output_type": "stream",
     "text": [
      "[1. 1. 0. 0. 0. 2. 2. 1. 1. 1.]\n"
     ]
    }
   ],
   "source": [
    "print(feature_vector(str1_new,dictionary))"
   ]
  },
  {
   "cell_type": "code",
   "execution_count": 54,
   "metadata": {},
   "outputs": [
    {
     "name": "stdout",
     "output_type": "stream",
     "text": [
      "[1. 0. 1. 1. 1. 1. 0. 1. 0. 1.]\n"
     ]
    }
   ],
   "source": [
    "print(feature_vector(str2_new,dictionary))"
   ]
  },
  {
   "cell_type": "code",
   "execution_count": null,
   "metadata": {},
   "outputs": [],
   "source": []
  }
 ],
 "metadata": {
  "kernelspec": {
   "display_name": "Python 3",
   "language": "python",
   "name": "python3"
  },
  "language_info": {
   "codemirror_mode": {
    "name": "ipython",
    "version": 3
   },
   "file_extension": ".py",
   "mimetype": "text/x-python",
   "name": "python",
   "nbconvert_exporter": "python",
   "pygments_lexer": "ipython3",
   "version": "3.6.1"
  }
 },
 "nbformat": 4,
 "nbformat_minor": 4
}
