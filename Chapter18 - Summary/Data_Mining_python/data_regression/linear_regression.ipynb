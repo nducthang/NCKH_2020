{
 "cells": [
  {
   "cell_type": "markdown",
   "metadata": {},
   "source": [
    "# Thuật toán Linear Regression (Hồi quy tuyến tính)."
   ]
  },
  {
   "cell_type": "markdown",
   "metadata": {},
   "source": [
    "1. Cài đặt thuật toán.\n",
    "2. Tối ưu hàm mất mát bằng thuật toán `gradient (batch gradient descent)`.\n",
    "3. Sử dụng các thư viện hỗ trợ.\n",
    "4. Nhận xét ưu điểm và nhược điểm.\n"
   ]
  },
  {
   "cell_type": "markdown",
   "metadata": {},
   "source": [
    "## 1. Cài đặt thuật toán.\n",
    "### Các thư viện tính toán"
   ]
  },
  {
   "cell_type": "code",
   "execution_count": 1,
   "metadata": {},
   "outputs": [],
   "source": [
    "import numpy as np\n",
    "import matplotlib.pyplot as plt\n",
    "import math as mt"
   ]
  },
  {
   "cell_type": "markdown",
   "metadata": {},
   "source": [
    "### Thêm ma trận `1*N` vào ma trận X_train"
   ]
  },
  {
   "cell_type": "code",
   "execution_count": 2,
   "metadata": {},
   "outputs": [],
   "source": [
    "def linear_data(X):\n",
    "    N,d = X.shape\n",
    "    one = np.ones((N,1))\n",
    "    X_bar = np.concatenate((one,X),axis = 1)\n",
    "    return X_bar"
   ]
  },
  {
   "cell_type": "markdown",
   "metadata": {},
   "source": [
    "### Tìm nghiệm `w` cho bài toán"
   ]
  },
  {
   "cell_type": "code",
   "execution_count": 3,
   "metadata": {},
   "outputs": [],
   "source": [
    "def linear_regression(X_train,y_train):\n",
    "    X_bar = linear_data(X_train)\n",
    "    A = np.dot(X_bar.T, X_bar)\n",
    "    b = np.dot(X_bar.T, y_train)\n",
    "    w = np.dot(np.linalg.pinv(A), b)\n",
    "    return w"
   ]
  },
  {
   "cell_type": "markdown",
   "metadata": {},
   "source": [
    "### Hàm dự đoán khi biết vector hệ số `w`"
   ]
  },
  {
   "cell_type": "code",
   "execution_count": 4,
   "metadata": {},
   "outputs": [],
   "source": [
    "def linearregression_predic(X_train,y_train,X_test):\n",
    "    X1 = linear_data(X_test)\n",
    "    w = linear_regression(X_train,y_train)\n",
    "    return X1.dot(w)"
   ]
  },
  {
   "cell_type": "markdown",
   "metadata": {},
   "source": [
    "## 2. Tối ưu hàm mất mát bằng thuật toán gradient descent "
   ]
  },
  {
   "cell_type": "markdown",
   "metadata": {},
   "source": [
    "### Đạo hàm của hàm mất mát"
   ]
  },
  {
   "cell_type": "code",
   "execution_count": 5,
   "metadata": {},
   "outputs": [],
   "source": [
    "def grad(w):\n",
    "    N = X_bar.shape[0]\n",
    "    return 1/N*X_bar.T.dot(X_bar.dot(w)-y)"
   ]
  },
  {
   "cell_type": "markdown",
   "metadata": {},
   "source": [
    "### Gía trị hàm mất mát"
   ]
  },
  {
   "cell_type": "code",
   "execution_count": 6,
   "metadata": {},
   "outputs": [],
   "source": [
    "def cost(w):\n",
    "    N = X_bar.shape[0]\n",
    "    return 0.5/N* np.linalg.norm(y-X_bar.dot(w))**2"
   ]
  },
  {
   "cell_type": "markdown",
   "metadata": {},
   "source": [
    "### Thuật toán gradient descent"
   ]
  },
  {
   "cell_type": "code",
   "execution_count": 7,
   "metadata": {},
   "outputs": [],
   "source": [
    "def lr_gd(w_init, grad, eta):\n",
    "    w = [w_init]\n",
    "    cost_hist =[] # lưu giá trị hàm mất mát sau mỗi vòng lặp\n",
    "    for it in range(100):\n",
    "        w_new = w[-1]- eta*grad(w[-1])\n",
    "        if np.linalg.norm(grad(w_new))/len(w_new) <1e-3:\n",
    "            break\n",
    "        cost_hist.append(cost(w_new))\n",
    "        w.append(w_new)\n",
    "    return (w, it,cost_hist)"
   ]
  },
  {
   "cell_type": "markdown",
   "metadata": {},
   "source": [
    "## 3. Sử dụng các thư viện hỗ trợ"
   ]
  },
  {
   "cell_type": "code",
   "execution_count": 8,
   "metadata": {},
   "outputs": [],
   "source": [
    "from sklearn import datasets, linear_model\n",
    "from sklearn.model_selection import train_test_split"
   ]
  },
  {
   "cell_type": "markdown",
   "metadata": {},
   "source": [
    "### Test bài toán về chiều cao và cân nặng\n",
    "Thuật toán 1."
   ]
  },
  {
   "cell_type": "code",
   "execution_count": 9,
   "metadata": {},
   "outputs": [
    {
     "name": "stdout",
     "output_type": "stream",
     "text": [
      "Tham số của mô hình: \n",
      "[-33.73541021   0.55920496]\n"
     ]
    }
   ],
   "source": [
    "X_train = np.array([[147, 150, 153, 158, 163, 165, 168, 170, 173, 175, 178, 180, 183]]).T\n",
    "y_train = np.array([ 49, 50, 51,  54, 58, 59, 60, 62, 63, 64, 66, 67, 68])\n",
    "X_test = np.array([[160,152]]).T\n",
    "y_pred = linearregression_predic(X_train,y_train,X_test)\n",
    "print(\"Tham số của mô hình: \")\n",
    "print(linear_regression(X_train,y_train))"
   ]
  },
  {
   "cell_type": "markdown",
   "metadata": {},
   "source": [
    "Thuật toán 3."
   ]
  },
  {
   "cell_type": "code",
   "execution_count": 10,
   "metadata": {},
   "outputs": [
    {
     "name": "stdout",
     "output_type": "stream",
     "text": [
      "Tham số của mô hình: \n",
      "[-36.61176640647586, 0.5771899392888118]\n"
     ]
    }
   ],
   "source": [
    "X = np.array([[147, 150, 153, 158, 163, 165, 168, 170, 173, 175, 178, 180, 183, 185, 187]]).T\n",
    "y = np.array([ 49, 50, 51,  54, 58, 59, 60, 62, 63, 64, 66, 67, 68, 71, 72])\n",
    "regr = linear_model.LinearRegression() \n",
    "regr.fit(X,y)           \n",
    "print(\"Tham số của mô hình: \")\n",
    "print([regr.intercept_, regr.coef_[0]])"
   ]
  },
  {
   "cell_type": "markdown",
   "metadata": {},
   "source": [
    "## 4.  Ưu nhược điểm"
   ]
  },
  {
   "cell_type": "markdown",
   "metadata": {},
   "source": [
    "- `Ưu điểm`: Phù hợp các dữ liệu có dạng tuyến tính (đường thẳng, mặt phẳng, siêu phẳng). Mô hình và tính toán đơn giản.\n",
    "\n",
    "- `Nhược điểm  `: Nhạy cảm với tín hiệu nhiễu (tiền xử lý dữ liệu), có thể sử dụng hàm mất mát `Huber loss`, không biểu diễn được các mô hình phức tạp (outcome- input: không nhất thiết phải tuyến tính) "
   ]
  },
  {
   "cell_type": "code",
   "execution_count": 11,
   "metadata": {},
   "outputs": [
    {
     "data": {
      "text/plain": [
       "5.0"
      ]
     },
     "execution_count": 11,
     "metadata": {},
     "output_type": "execute_result"
    }
   ],
   "source": [
    "5. "
   ]
  }
 ],
 "metadata": {
  "kernelspec": {
   "display_name": "Python 3",
   "language": "python",
   "name": "python3"
  },
  "language_info": {
   "codemirror_mode": {
    "name": "ipython",
    "version": 3
   },
   "file_extension": ".py",
   "mimetype": "text/x-python",
   "name": "python",
   "nbconvert_exporter": "python",
   "pygments_lexer": "ipython3",
   "version": "3.6.1"
  }
 },
 "nbformat": 4,
 "nbformat_minor": 4
}
