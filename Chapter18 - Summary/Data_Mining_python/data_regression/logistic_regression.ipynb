{
 "cells": [
  {
   "cell_type": "markdown",
   "metadata": {},
   "source": [
    "# Logistic Regression (Hồi quy Logistic)\n"
   ]
  },
  {
   "cell_type": "markdown",
   "metadata": {},
   "source": [
    "1. Cài đặt thuật toán.\n",
    "2. Sử dụng các thư viện khác. Ứng dụng trên bài toán đơn giản.\n",
    "3. `Nhận xét`, `Ưu điểm `, `Nhược điểm `."
   ]
  },
  {
   "cell_type": "markdown",
   "metadata": {},
   "source": [
    "## 1. Cài đặt thuật toán"
   ]
  },
  {
   "cell_type": "markdown",
   "metadata": {},
   "source": [
    "### Các thư viện tính toán"
   ]
  },
  {
   "cell_type": "code",
   "execution_count": 1,
   "metadata": {},
   "outputs": [],
   "source": [
    "import numpy as np\n",
    "import matplotlib.pyplot as plt"
   ]
  },
  {
   "cell_type": "markdown",
   "metadata": {},
   "source": [
    "### Thiết lập hàm sigmoid"
   ]
  },
  {
   "cell_type": "code",
   "execution_count": 2,
   "metadata": {},
   "outputs": [],
   "source": [
    "def sigmoid(S):\n",
    "    return 1/(1 + np.exp(-S))"
   ]
  },
  {
   "cell_type": "markdown",
   "metadata": {},
   "source": [
    "### Thiết lập hàm xác suất"
   ]
  },
  {
   "cell_type": "code",
   "execution_count": 3,
   "metadata": {},
   "outputs": [],
   "source": [
    "def prob(w, X):\n",
    "    return sigmoid(X.dot(w))"
   ]
  },
  {
   "cell_type": "markdown",
   "metadata": {},
   "source": [
    "### Thiết lập hàm mất mát"
   ]
  },
  {
   "cell_type": "code",
   "execution_count": 4,
   "metadata": {},
   "outputs": [],
   "source": [
    "def loss(w, X, y, lam):\n",
    "    z = prob(w, X)\n",
    "    return -np.mean(y*np.log(z) + (1-y)*np.log(1-z)) + 0.5*lam/X.shape[0]*np.sum(w*w)"
   ]
  },
  {
   "cell_type": "markdown",
   "metadata": {},
   "source": [
    "### Sử dụng thuật toán gradient descent (Stochastic gradient descent)"
   ]
  },
  {
   "cell_type": "code",
   "execution_count": 5,
   "metadata": {},
   "outputs": [],
   "source": [
    "def logistic_regression(w_init, X, y, lam = 0.001, lr = 0.1, nepoches = 2000):\n",
    "    # lam - regularization paramether, lr - learning rate, nepoches - number of epoches\n",
    "    N, d = X.shape[0], X.shape[1]\n",
    "    w = w_old = w_init \n",
    "    # store history of loss in loss_hist\n",
    "    loss_hist = [loss(w_init, X, y, lam)]\n",
    "    ep = 0 \n",
    "    while ep < nepoches: \n",
    "        ep += 1\n",
    "        mix_ids = np.random.permutation(N)\n",
    "        for i in mix_ids:\n",
    "            xi = X[i]\n",
    "            yi = y[i]\n",
    "            zi = sigmoid(xi.dot(w))\n",
    "            w = w - lr*((zi - yi)*xi + lam*w)\n",
    "        loss_hist.append(loss(w, X, y, lam))\n",
    "        if np.linalg.norm(w - w_old)/d < 1e-6:\n",
    "            break \n",
    "        w_old = w\n",
    "    return w, loss_hist "
   ]
  },
  {
   "cell_type": "markdown",
   "metadata": {},
   "source": [
    "### Hàm dự đoán"
   ]
  },
  {
   "cell_type": "code",
   "execution_count": 6,
   "metadata": {},
   "outputs": [],
   "source": [
    "def predict(w, X, threshold=0.5):\n",
    "    res = np.zeros(X.shape[0])\n",
    "    res[np.where(prob(w,X)>threshold)[0]] = 1\n",
    "    return res"
   ]
  },
  {
   "cell_type": "markdown",
   "metadata": {},
   "source": [
    "## 2. Sử dụng các thư viện hỗ trợ"
   ]
  },
  {
   "cell_type": "code",
   "execution_count": 7,
   "metadata": {},
   "outputs": [],
   "source": [
    "from sklearn.linear_model import LogisticRegression"
   ]
  },
  {
   "cell_type": "markdown",
   "metadata": {},
   "source": [
    "### Bài toán thời gian ôn thi và kết quả của thí sinh\n",
    "#### Sử dụng thuật toán cài đặt"
   ]
  },
  {
   "cell_type": "code",
   "execution_count": 8,
   "metadata": {},
   "outputs": [
    {
     "name": "stdout",
     "output_type": "stream",
     "text": [
      "[[0.5  0.75 1.   1.25 1.5  1.75 1.75 2.   2.25 2.5  2.75 3.   3.25 3.5\n",
      "  4.   4.25 4.5  4.75 5.   5.5 ]]\n",
      "[0 0 0 0 0 0 1 0 1 0 1 0 1 0 1 1 1 1 1 1]\n",
      "(1, 20)\n",
      "(20,)\n"
     ]
    }
   ],
   "source": [
    "X = np.array([[0.50, 0.75, 1.00, 1.25, 1.50, 1.75, 1.75, 2.00, 2.25, 2.50, \n",
    "              2.75, 3.00, 3.25, 3.50, 4.00, 4.25, 4.50, 4.75, 5.00, 5.50]])\n",
    "y = np.array([0, 0, 0, 0, 0, 0, 1, 0, 1, 0, 1, 0, 1, 0, 1, 1, 1, 1, 1, 1])\n",
    "print(X)\n",
    "print(y)\n",
    "print(X.shape)\n",
    "print(y.shape)"
   ]
  },
  {
   "cell_type": "code",
   "execution_count": 9,
   "metadata": {},
   "outputs": [
    {
     "name": "stdout",
     "output_type": "stream",
     "text": [
      "[0, 1, 2, 3, 4, 5, 7, 9, 11, 13]\n",
      "[6, 8, 10, 12, 14, 15, 16, 17, 18, 19]\n",
      "[array([0.5 , 0.75, 1.  , 1.25, 1.5 , 1.75, 2.  , 2.5 , 3.  , 3.5 ])] [0 0 0 0 0 0 0 0 0 0]\n"
     ]
    },
    {
     "data": {
      "image/png": "[encoded data removed]",
      "text/plain": [
       "<Figure size 432x288 with 1 Axes>"
      ]
     },
     "metadata": {
      "needs_background": "light"
     },
     "output_type": "display_data"
    }
   ],
   "source": [
    "index_0 = []\n",
    "index_1 = []\n",
    "for i in range(y.shape[0]):\n",
    "    if y[i] == 0:\n",
    "        index_0.append(i)\n",
    "    if y[i] == 1:\n",
    "        index_1.append(i)\n",
    "print(index_0)\n",
    "print(index_1)\n",
    "print(list(X[:,index_0]),y[index_0])\n",
    "plt.plot(X[:,index_0].reshape(-1,1),y[index_0],'ro')\n",
    "plt.plot(X[:,index_1].reshape(-1,1),y[index_1],'bs')\n",
    "plt.show()"
   ]
  },
  {
   "cell_type": "code",
   "execution_count": 10,
   "metadata": {},
   "outputs": [
    {
     "name": "stdout",
     "output_type": "stream",
     "text": [
      "[[1.   0.5 ]\n",
      " [1.   0.75]\n",
      " [1.   1.  ]\n",
      " [1.   1.25]\n",
      " [1.   1.5 ]\n",
      " [1.   1.75]\n",
      " [1.   1.75]\n",
      " [1.   2.  ]\n",
      " [1.   2.25]\n",
      " [1.   2.5 ]\n",
      " [1.   2.75]\n",
      " [1.   3.  ]\n",
      " [1.   3.25]\n",
      " [1.   3.5 ]\n",
      " [1.   4.  ]\n",
      " [1.   4.25]\n",
      " [1.   4.5 ]\n",
      " [1.   4.75]\n",
      " [1.   5.  ]\n",
      " [1.   5.5 ]]\n"
     ]
    }
   ],
   "source": [
    "# Chuẩn hóa dữ liệu\n",
    "X = np.array([[0.50, 0.75, 1.00, 1.25, 1.50, 1.75, 1.75, 2.00, 2.25, 2.50, \n",
    "              2.75, 3.00, 3.25, 3.50, 4.00, 4.25, 4.50, 4.75, 5.00, 5.50]]).T\n",
    "y = np.array([0, 0, 0, 0, 0, 0, 1, 0, 1, 0, 1, 0, 1, 0, 1, 1, 1, 1, 1, 1])\n",
    "X_bar = np.concatenate((np.ones((X.shape[0],1)), X), axis = 1)\n",
    "print(X_bar)"
   ]
  },
  {
   "cell_type": "code",
   "execution_count": 11,
   "metadata": {},
   "outputs": [
    {
     "name": "stdout",
     "output_type": "stream",
     "text": [
      "Solution of Logistic Regression: [-4.06790627  1.59722251]\n",
      "Final loss: 0.40591644166193036\n",
      "0.40591644166193036\n"
     ]
    }
   ],
   "source": [
    "w_init = np.random.randn(X_bar.shape[1])\n",
    "lam = 0.0001\n",
    "w, loss_hist = logistic_regression(w_init, X_bar, y, lam, lr = 0.05, nepoches = 500)\n",
    "print('Solution of Logistic Regression:', w)\n",
    "print('Final loss:', loss(w, X_bar, y, lam))\n",
    "print(loss_hist[-1])"
   ]
  },
  {
   "cell_type": "markdown",
   "metadata": {},
   "source": [
    "####  Dự đoán một người ôn thi 1.5 h và một người ôn thi 4h"
   ]
  },
  {
   "cell_type": "code",
   "execution_count": 12,
   "metadata": {},
   "outputs": [],
   "source": [
    "X_test = np.array([[1, 1.5],[1, 4]])"
   ]
  },
  {
   "cell_type": "code",
   "execution_count": 13,
   "metadata": {},
   "outputs": [
    {
     "name": "stdout",
     "output_type": "stream",
     "text": [
      "[0.15814805 0.91060006]\n"
     ]
    }
   ],
   "source": [
    "print(prob(w,X_test))"
   ]
  },
  {
   "cell_type": "code",
   "execution_count": 14,
   "metadata": {},
   "outputs": [
    {
     "name": "stdout",
     "output_type": "stream",
     "text": [
      "[0. 1.]\n"
     ]
    }
   ],
   "source": [
    "print(predict(w,X_test))"
   ]
  },
  {
   "cell_type": "markdown",
   "metadata": {},
   "source": [
    "### Độ chính xác của mô hình"
   ]
  },
  {
   "cell_type": "code",
   "execution_count": 15,
   "metadata": {},
   "outputs": [
    {
     "name": "stdout",
     "output_type": "stream",
     "text": [
      "[0. 0. 0. 0. 0. 0. 0. 0. 0. 0. 1. 1. 1. 1. 1. 1. 1. 1. 1. 1.]\n"
     ]
    }
   ],
   "source": [
    "y_predict = predict(w,X_bar)\n",
    "print(y_predict)"
   ]
  },
  {
   "cell_type": "code",
   "execution_count": 16,
   "metadata": {},
   "outputs": [
    {
     "name": "stdout",
     "output_type": "stream",
     "text": [
      "[0 0 0 0 0 0 1 0 1 0 1 0 1 0 1 1 1 1 1 1]\n"
     ]
    }
   ],
   "source": [
    "y_train = y\n",
    "print(y_train)"
   ]
  },
  {
   "cell_type": "code",
   "execution_count": 22,
   "metadata": {},
   "outputs": [],
   "source": [
    "def accuracy(y_predict, y_train):\n",
    "    n = len(y_train)\n",
    "    sum = 0\n",
    "    for i in range(n):\n",
    "        if y_predict[i] == y_train[i]:\n",
    "           sum = sum + 1\n",
    "    return sum/n"
   ]
  },
  {
   "cell_type": "code",
   "execution_count": 25,
   "metadata": {},
   "outputs": [
    {
     "name": "stdout",
     "output_type": "stream",
     "text": [
      "Độ chính xác trên tập train 80.0 %\n"
     ]
    }
   ],
   "source": [
    "print(\"Độ chính xác trên tập train\", 100*accuracy(y_predict, y_train),\"%\")"
   ]
  },
  {
   "cell_type": "markdown",
   "metadata": {},
   "source": [
    "### Sử dụng thư viện hỗ trợ sklearn"
   ]
  },
  {
   "cell_type": "code",
   "execution_count": 18,
   "metadata": {},
   "outputs": [],
   "source": [
    "model_logis = LogisticRegression(random_state=0).fit(X, y)"
   ]
  },
  {
   "cell_type": "code",
   "execution_count": 19,
   "metadata": {},
   "outputs": [
    {
     "data": {
      "text/plain": [
       "array([0, 1])"
      ]
     },
     "execution_count": 19,
     "metadata": {},
     "output_type": "execute_result"
    }
   ],
   "source": [
    "model_logis.predict(np.array([[1.5],[4]]))"
   ]
  },
  {
   "cell_type": "code",
   "execution_count": 20,
   "metadata": {},
   "outputs": [
    {
     "data": {
      "text/plain": [
       "array([[0.80480773, 0.19519227],\n",
       "       [0.18924992, 0.81075008]])"
      ]
     },
     "execution_count": 20,
     "metadata": {},
     "output_type": "execute_result"
    }
   ],
   "source": [
    "model_logis.predict_proba(np.array([[1.5],[4]]))"
   ]
  },
  {
   "cell_type": "code",
   "execution_count": 21,
   "metadata": {},
   "outputs": [
    {
     "name": "stdout",
     "output_type": "stream",
     "text": [
      "[[1.14860386]] [-3.13952411]\n"
     ]
    }
   ],
   "source": [
    "print(model_logis.coef_,model_logis.intercept_)"
   ]
  },
  {
   "cell_type": "markdown",
   "metadata": {},
   "source": [
    "### Mô hình LR phân loại Hoa, độ chính xác: 100%"
   ]
  },
  {
   "cell_type": "markdown",
   "metadata": {},
   "source": [
    "### Mô hình LR trong bài toán phân loại chữ số viết tay: 99%"
   ]
  },
  {
   "cell_type": "markdown",
   "metadata": {},
   "source": [
    "## 3. Ưu nhược điểm"
   ]
  },
  {
   "cell_type": "markdown",
   "metadata": {},
   "source": [
    "- Thường áp dụng cho các bài toán phân lớp nhị phân.\n",
    "- Không yêu cầu giả thuyết tuyến tính (gần tuyến tính).\n",
    "- Sử dụng trong các bài toán Classification.\n",
    "- Ngưỡng quyết định có thể thay đổi (trong các bài toán quan trọng).\n",
    "- Mô hình Softmax regression: phân nhiều lớp dữ liệu."
   ]
  },
  {
   "cell_type": "code",
   "execution_count": null,
   "metadata": {},
   "outputs": [],
   "source": []
  }
 ],
 "metadata": {
  "kernelspec": {
   "display_name": "Python 3",
   "language": "python",
   "name": "python3"
  },
  "language_info": {
   "codemirror_mode": {
    "name": "ipython",
    "version": 3
   },
   "file_extension": ".py",
   "mimetype": "text/x-python",
   "name": "python",
   "nbconvert_exporter": "python",
   "pygments_lexer": "ipython3",
   "version": "3.6.1"
  }
 },
 "nbformat": 4,
 "nbformat_minor": 4
}
