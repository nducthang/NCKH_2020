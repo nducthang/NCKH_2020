{
 "cells": [
  {
   "cell_type": "code",
   "execution_count": 1,
   "metadata": {},
   "outputs": [],
   "source": [
    "import pandas as pd\n",
    "import numpy as np\n",
    "import math as mt"
   ]
  },
  {
   "cell_type": "code",
   "execution_count": 2,
   "metadata": {},
   "outputs": [
    {
     "name": "stderr",
     "output_type": "stream",
     "text": [
      "c:\\users\\admin\\appdata\\local\\programs\\python\\python36\\lib\\site-packages\\IPython\\core\\interactiveshell.py:3063: DtypeWarning: Columns (35,43) have mixed types.Specify dtype option on import or set low_memory=False.\n",
      "  interactivity=interactivity, compiler=compiler, result=result)\n"
     ]
    },
    {
     "name": "stdout",
     "output_type": "stream",
     "text": [
      "<class 'pandas.core.frame.DataFrame'>\n",
      "RangeIndex: 53030 entries, 0 to 53029\n",
      "Columns: 195 entries, id to Field_82\n",
      "dtypes: float64(133), int64(3), object(59)\n",
      "memory usage: 78.9+ MB\n"
     ]
    }
   ],
   "source": [
    "data_df = pd.read_csv('data/train.csv')\n",
    "data_df.head(3)\n",
    "data_df.shape\n",
    "data_df.info()"
   ]
  },
  {
   "cell_type": "code",
   "execution_count": 3,
   "metadata": {},
   "outputs": [
    {
     "data": {
      "text/plain": [
       "0        2019-07-24T03:39:02.854Z\n",
       "1                             NaN\n",
       "2        2019-01-17T07:15:26.367Z\n",
       "3                             NaN\n",
       "4                             NaN\n",
       "                   ...           \n",
       "53025    2019-12-24T15:39:31.156Z\n",
       "53026                         NaN\n",
       "53027    2017-11-11T17:15:01.948Z\n",
       "53028                         NaN\n",
       "53029                         NaN\n",
       "Name: Field_1, Length: 53030, dtype: object"
      ]
     },
     "execution_count": 3,
     "metadata": {},
     "output_type": "execute_result"
    }
   ],
   "source": [
    "data_df['Field_1']"
   ]
  },
  {
   "cell_type": "code",
   "execution_count": 4,
   "metadata": {},
   "outputs": [],
   "source": [
    "data_df[\"date_added\"] = pd.to_datetime(data_df['Field_1'])\n",
    "data_df['year_added'] = data_df['date_added'].dt.year\n",
    "data_df['month_added'] = data_df['date_added'].dt.month"
   ]
  },
  {
   "cell_type": "code",
   "execution_count": 5,
   "metadata": {},
   "outputs": [
    {
     "data": {
      "text/plain": [
       "0         7.0\n",
       "1         NaN\n",
       "2         1.0\n",
       "3         NaN\n",
       "4         NaN\n",
       "         ... \n",
       "53025    12.0\n",
       "53026     NaN\n",
       "53027    11.0\n",
       "53028     NaN\n",
       "53029     NaN\n",
       "Name: month_added, Length: 53030, dtype: float64"
      ]
     },
     "execution_count": 5,
     "metadata": {},
     "output_type": "execute_result"
    }
   ],
   "source": [
    "data_df['month_added'] "
   ]
  },
  {
   "cell_type": "code",
   "execution_count": 6,
   "metadata": {},
   "outputs": [
    {
     "data": {
      "text/plain": [
       "0        2019.0\n",
       "1           NaN\n",
       "2        2019.0\n",
       "3           NaN\n",
       "4           NaN\n",
       "          ...  \n",
       "53025    2019.0\n",
       "53026       NaN\n",
       "53027    2017.0\n",
       "53028       NaN\n",
       "53029       NaN\n",
       "Name: year_added, Length: 53030, dtype: float64"
      ]
     },
     "execution_count": 6,
     "metadata": {},
     "output_type": "execute_result"
    }
   ],
   "source": [
    "data_df['year_added'] "
   ]
  },
  {
   "cell_type": "code",
   "execution_count": 8,
   "metadata": {},
   "outputs": [
    {
     "data": {
      "text/plain": [
       "0    Trung tâm Kinh doanh tiền mặt\n",
       "1                              NaN\n",
       "2                              NaN\n",
       "3                              NaN\n",
       "4                              NaN\n",
       "Name: Field_18, dtype: object"
      ]
     },
     "execution_count": 8,
     "metadata": {},
     "output_type": "execute_result"
    }
   ],
   "source": [
    "data_df['Field_18'][0:5]"
   ]
  },
  {
   "cell_type": "code",
   "execution_count": 10,
   "metadata": {},
   "outputs": [
    {
     "data": {
      "text/html": [
       "<div>\n",
       "<style scoped>\n",
       "    .dataframe tbody tr th:only-of-type {\n",
       "        vertical-align: middle;\n",
       "    }\n",
       "\n",
       "    .dataframe tbody tr th {\n",
       "        vertical-align: top;\n",
       "    }\n",
       "\n",
       "    .dataframe thead th {\n",
       "        text-align: right;\n",
       "    }\n",
       "</style>\n",
       "<table border=\"1\" class=\"dataframe\">\n",
       "  <thead>\n",
       "    <tr style=\"text-align: right;\">\n",
       "      <th></th>\n",
       "      <th>id</th>\n",
       "      <th>label</th>\n",
       "      <th>Field_1</th>\n",
       "      <th>Field_2</th>\n",
       "      <th>Field_3</th>\n",
       "      <th>Field_4</th>\n",
       "      <th>Field_5</th>\n",
       "      <th>Field_6</th>\n",
       "      <th>Field_7</th>\n",
       "      <th>Field_8</th>\n",
       "      <th>...</th>\n",
       "      <th>brief</th>\n",
       "      <th>num_of_phone</th>\n",
       "      <th>Field_78</th>\n",
       "      <th>Field_79</th>\n",
       "      <th>Field_80</th>\n",
       "      <th>Field_81</th>\n",
       "      <th>Field_82</th>\n",
       "      <th>date_added</th>\n",
       "      <th>year_added</th>\n",
       "      <th>month_added</th>\n",
       "    </tr>\n",
       "  </thead>\n",
       "  <tbody>\n",
       "    <tr>\n",
       "      <th>2</th>\n",
       "      <td>2</td>\n",
       "      <td>0</td>\n",
       "      <td>2019-01-17T07:15:26.367Z</td>\n",
       "      <td>2019-01-17T07:17:45Z</td>\n",
       "      <td>2.0</td>\n",
       "      <td>T1</td>\n",
       "      <td>2019-01-17</td>\n",
       "      <td>2019-01-17</td>\n",
       "      <td>2019-01-01</td>\n",
       "      <td>2019-12-31</td>\n",
       "      <td>...</td>\n",
       "      <td>1</td>\n",
       "      <td>1.0</td>\n",
       "      <td>33.0</td>\n",
       "      <td>10.769445</td>\n",
       "      <td>6.466667</td>\n",
       "      <td>0.0</td>\n",
       "      <td>2</td>\n",
       "      <td>2019-01-17 07:15:26.367000+00:00</td>\n",
       "      <td>2019.0</td>\n",
       "      <td>1.0</td>\n",
       "    </tr>\n",
       "  </tbody>\n",
       "</table>\n",
       "<p>1 rows × 198 columns</p>\n",
       "</div>"
      ],
      "text/plain": [
       "   id  label                   Field_1               Field_2  Field_3 Field_4  \\\n",
       "2   2      0  2019-01-17T07:15:26.367Z  2019-01-17T07:17:45Z      2.0      T1   \n",
       "\n",
       "      Field_5     Field_6     Field_7     Field_8  ... brief  num_of_phone  \\\n",
       "2  2019-01-17  2019-01-17  2019-01-01  2019-12-31  ...     1           1.0   \n",
       "\n",
       "  Field_78   Field_79  Field_80  Field_81 Field_82  \\\n",
       "2     33.0  10.769445  6.466667       0.0        2   \n",
       "\n",
       "                        date_added  year_added month_added  \n",
       "2 2019-01-17 07:15:26.367000+00:00      2019.0         1.0  \n",
       "\n",
       "[1 rows x 198 columns]"
      ]
     },
     "execution_count": 10,
     "metadata": {},
     "output_type": "execute_result"
    }
   ],
   "source": [
    "data_df[1:195][1:2]"
   ]
  },
  {
   "cell_type": "code",
   "execution_count": 11,
   "metadata": {},
   "outputs": [
    {
     "data": {
      "text/plain": [
       "0               NaN\n",
       "1               NaN\n",
       "2        2019-08-18\n",
       "3               NaN\n",
       "4               NaN\n",
       "            ...    \n",
       "53025    2019-12-31\n",
       "53026           NaN\n",
       "53027           NaN\n",
       "53028           NaN\n",
       "53029    2019-09-18\n",
       "Name: F_startDate, Length: 53030, dtype: object"
      ]
     },
     "execution_count": 11,
     "metadata": {},
     "output_type": "execute_result"
    }
   ],
   "source": [
    "data_df[\"F_startDate\"]"
   ]
  },
  {
   "cell_type": "code",
   "execution_count": 12,
   "metadata": {},
   "outputs": [
    {
     "data": {
      "text/plain": [
       "0        2018-12-27\n",
       "1               NaN\n",
       "2        2019-01-17\n",
       "3               NaN\n",
       "4               NaN\n",
       "            ...    \n",
       "53025    2019-12-24\n",
       "53026           NaN\n",
       "53027    2017-07-22\n",
       "53028           NaN\n",
       "53029           NaN\n",
       "Name: Field_5, Length: 53030, dtype: object"
      ]
     },
     "execution_count": 12,
     "metadata": {},
     "output_type": "execute_result"
    }
   ],
   "source": [
    "data_df[\"Field_5\"]"
   ]
  },
  {
   "cell_type": "code",
   "execution_count": 14,
   "metadata": {},
   "outputs": [],
   "source": [
    "date_time = data_df['Field_1']"
   ]
  },
  {
   "cell_type": "markdown",
   "metadata": {},
   "source": [
    "1. Bước 1: Lấy tất cả các trường dữ liệu có độ dài lớn hơn hoặc bằng 9\n",
    " - lấy 1 bản ghi -> đưa về string\n",
    " - nếu là ngày tháng năm (lấy)\n",
    " - dữ liệu khác (loại bỏ)\n",
    "\n",
    "2. Bước 2: Chuyển dữ liệu về dạng tháng-năm\n",
    "\n",
    " - token string.\n",
    " - pandas datetime.\n",
    "\n",
    "3. Bước 3: Đưa dữ liệu khách hàng- ngày tháng về dictionary.\n"
   ]
  },
  {
   "cell_type": "code",
   "execution_count": 15,
   "metadata": {},
   "outputs": [
    {
     "data": {
      "text/plain": [
       "0        2019-07-24T03:39:02.854Z\n",
       "1                             NaN\n",
       "2        2019-01-17T07:15:26.367Z\n",
       "3                             NaN\n",
       "4                             NaN\n",
       "                   ...           \n",
       "53025    2019-12-24T15:39:31.156Z\n",
       "53026                         NaN\n",
       "53027    2017-11-11T17:15:01.948Z\n",
       "53028                         NaN\n",
       "53029                         NaN\n",
       "Name: Field_1, Length: 53030, dtype: object"
      ]
     },
     "execution_count": 15,
     "metadata": {},
     "output_type": "execute_result"
    }
   ],
   "source": [
    "data_df['Field_1']"
   ]
  },
  {
   "cell_type": "code",
   "execution_count": 18,
   "metadata": {},
   "outputs": [
    {
     "data": {
      "text/html": [
       "<div>\n",
       "<style scoped>\n",
       "    .dataframe tbody tr th:only-of-type {\n",
       "        vertical-align: middle;\n",
       "    }\n",
       "\n",
       "    .dataframe tbody tr th {\n",
       "        vertical-align: top;\n",
       "    }\n",
       "\n",
       "    .dataframe thead th {\n",
       "        text-align: right;\n",
       "    }\n",
       "</style>\n",
       "<table border=\"1\" class=\"dataframe\">\n",
       "  <thead>\n",
       "    <tr style=\"text-align: right;\">\n",
       "      <th></th>\n",
       "      <th>id</th>\n",
       "      <th>label</th>\n",
       "      <th>Field_1</th>\n",
       "      <th>Field_2</th>\n",
       "      <th>Field_3</th>\n",
       "      <th>Field_4</th>\n",
       "      <th>Field_5</th>\n",
       "      <th>Field_6</th>\n",
       "      <th>Field_7</th>\n",
       "      <th>Field_8</th>\n",
       "      <th>...</th>\n",
       "      <th>brief</th>\n",
       "      <th>num_of_phone</th>\n",
       "      <th>Field_78</th>\n",
       "      <th>Field_79</th>\n",
       "      <th>Field_80</th>\n",
       "      <th>Field_81</th>\n",
       "      <th>Field_82</th>\n",
       "      <th>date_added</th>\n",
       "      <th>year_added</th>\n",
       "      <th>month_added</th>\n",
       "    </tr>\n",
       "  </thead>\n",
       "  <tbody>\n",
       "    <tr>\n",
       "      <th>2</th>\n",
       "      <td>2</td>\n",
       "      <td>0</td>\n",
       "      <td>2019-01-17T07:15:26.367Z</td>\n",
       "      <td>2019-01-17T07:17:45Z</td>\n",
       "      <td>2.0</td>\n",
       "      <td>T1</td>\n",
       "      <td>2019-01-17</td>\n",
       "      <td>2019-01-17</td>\n",
       "      <td>2019-01-01</td>\n",
       "      <td>2019-12-31</td>\n",
       "      <td>...</td>\n",
       "      <td>1</td>\n",
       "      <td>1.0</td>\n",
       "      <td>33.0</td>\n",
       "      <td>10.769445</td>\n",
       "      <td>6.466667</td>\n",
       "      <td>0.0</td>\n",
       "      <td>2</td>\n",
       "      <td>2019-01-17 07:15:26.367000+00:00</td>\n",
       "      <td>2019.0</td>\n",
       "      <td>1.0</td>\n",
       "    </tr>\n",
       "  </tbody>\n",
       "</table>\n",
       "<p>1 rows × 198 columns</p>\n",
       "</div>"
      ],
      "text/plain": [
       "   id  label                   Field_1               Field_2  Field_3 Field_4  \\\n",
       "2   2      0  2019-01-17T07:15:26.367Z  2019-01-17T07:17:45Z      2.0      T1   \n",
       "\n",
       "      Field_5     Field_6     Field_7     Field_8  ... brief  num_of_phone  \\\n",
       "2  2019-01-17  2019-01-17  2019-01-01  2019-12-31  ...     1           1.0   \n",
       "\n",
       "  Field_78   Field_79  Field_80  Field_81 Field_82  \\\n",
       "2     33.0  10.769445  6.466667       0.0        2   \n",
       "\n",
       "                        date_added  year_added month_added  \n",
       "2 2019-01-17 07:15:26.367000+00:00      2019.0         1.0  \n",
       "\n",
       "[1 rows x 198 columns]"
      ]
     },
     "execution_count": 18,
     "metadata": {},
     "output_type": "execute_result"
    }
   ],
   "source": [
    "data_df[1:195][1:2]"
   ]
  },
  {
   "cell_type": "code",
   "execution_count": null,
   "metadata": {},
   "outputs": [],
   "source": []
  }
 ],
 "metadata": {
  "kernelspec": {
   "display_name": "Python 3",
   "language": "python",
   "name": "python3"
  },
  "language_info": {
   "codemirror_mode": {
    "name": "ipython",
    "version": 3
   },
   "file_extension": ".py",
   "mimetype": "text/x-python",
   "name": "python",
   "nbconvert_exporter": "python",
   "pygments_lexer": "ipython3",
   "version": "3.6.1"
  }
 },
 "nbformat": 4,
 "nbformat_minor": 4
}
