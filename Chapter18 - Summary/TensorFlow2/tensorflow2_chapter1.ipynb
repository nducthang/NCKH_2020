{
 "cells": [
  {
   "cell_type": "markdown",
   "metadata": {},
   "source": [
    "# CHAPTER I \n",
    "## INTRODUCTION TO TENSORFLOW 2.0"
   ]
  },
  {
   "cell_type": "markdown",
   "metadata": {},
   "source": [
    "- Tensorflow là một thư viện mã nguồn mở dùng để xử lí cách phép tính toán số học bằng cách mô tả một mô hình biểu đồ thể hiện sự thay đổi về giá trị của dữ liệu.\n",
    "- Thư viện rất phổ biến và có rất nhiều các hàm được xây dựng sẵn cho các bài toán về machine learning, deep learning hay AI. \n",
    "- Cài đặt thư viện tensorflow bằng câu lệnh :`pip install tensorflow`. Phiên bản mới nhất của tensorflow là tensorflow `2.3.1`\n",
    "\n",
    "\n",
    "\n"
   ]
  },
  {
   "cell_type": "code",
   "execution_count": 1,
   "metadata": {},
   "outputs": [],
   "source": [
    "import tensorflow as tf"
   ]
  },
  {
   "cell_type": "code",
   "execution_count": 2,
   "metadata": {},
   "outputs": [
    {
     "data": {
      "text/plain": [
       "'2.3.1'"
      ]
     },
     "execution_count": 2,
     "metadata": {},
     "output_type": "execute_result"
    }
   ],
   "source": [
    "tf.__version__"
   ]
  },
  {
   "cell_type": "markdown",
   "metadata": {},
   "source": [
    "### 1. So sánh TensorFlow 1 và TensorFlow 2"
   ]
  },
  {
   "cell_type": "markdown",
   "metadata": {},
   "source": [
    "Tensorflow 1 được ra mắt và được đông đảo cộng đồng CNTT chấp nhận, tuy nhiên phiên bản này vẫn tương đối khó sử dụng. Các nhà nghiên cứu đã ghi nhận những phản hồi và đã tích hợp vào phiên bản `tensorflow 2.0`.\n",
    "- Chỉnh sửa giúp phiên bản này thân thiện và dễ sử dụng hơn.\n",
    "- Chỉnh sửa giúp nâng cao hiệu suất.\n",
    "- Các sửa đổi liên quan đến việc triển khai."
   ]
  },
  {
   "cell_type": "markdown",
   "metadata": {},
   "source": [
    "### 2. Tensor + Flow = TensorFlow"
   ]
  },
  {
   "cell_type": "markdown",
   "metadata": {},
   "source": [
    "Tensor có thể hiểu đơn giản là đại diện cho một số thực (vô hướng), một vector (1 chiều) hay một ma trận (2 chiều). Tổng quát hơn tensor là một mảng nhiều chiều. Tensor có thể thuộc hai loại : `constant` (hằng), ` variable`(biến).\n",
    "- Rank của một tensor là số chiều của nó.\n",
    "- Shape là một bộ (tuple) của các số biểu diễn số lượng phần tử có trong mỗi chiều.\n",
    "\n",
    "Flow có thể hiểu đơn giản là luồng dữ liệu. Nếu phép tensorflow biểu diễn quy trình tính toán bằng một đồ thị, thì các đỉnh của đồ thị là các tensor và dòng chảy tính toán là flow, dòng chảy tính toán này có thể thực hiện các phép tính song song. \n"
   ]
  },
  {
   "cell_type": "markdown",
   "metadata": {},
   "source": [
    "### 3. Các đối tượng trong tensorflow 2"
   ]
  },
  {
   "cell_type": "markdown",
   "metadata": {},
   "source": [
    "Hằng số (constant) `tf.constant()`"
   ]
  },
  {
   "cell_type": "code",
   "execution_count": 3,
   "metadata": {},
   "outputs": [
    {
     "name": "stdout",
     "output_type": "stream",
     "text": [
      "tf.Tensor(10, shape=(), dtype=int32)\n",
      "tf.Tensor(\n",
      "[[0 1]\n",
      " [2 3]], shape=(2, 2), dtype=int32)\n",
      "tf.Tensor(9.0, shape=(), dtype=float32)\n"
     ]
    }
   ],
   "source": [
    "a = tf.constant(10)\n",
    "b= tf.constant([[0, 1],[2, 3]])\n",
    "c = tf.constant(9, dtype=tf.float32)\n",
    "print(a)\n",
    "print(b)\n",
    "print(c)"
   ]
  },
  {
   "cell_type": "markdown",
   "metadata": {},
   "source": [
    "Chúng ta có thể hiển thị trực tiếp giá trị của `a`. Khác biệt so với tensorflow 1, khi chúng ta phải tạo session, sau đó run session ấy. \n",
    "\n",
    "`a = tf.constant(10)\n",
    "with tf.Session() as sess:\n",
    "    print(sess.run(a))` \n",
    "    \n",
    "KL: TensorFlow 2.0 doesn’t require the session execution. (TensorFlow 2 không yêu cầu khởi tạo session)."
   ]
  },
  {
   "cell_type": "markdown",
   "metadata": {},
   "source": [
    "Biến (variable). `tf.Variable`\n",
    "\n",
    "Biến là là giá thay đổi trong một đồ thị. Thông thường trong mạng nơ ron thì biến chính là ma trận hệ số của hàm loss function. \n",
    "\n",
    "TensorFlow 2.0 doesn’t make it mandatory to initialize variables. (Tensorflow 2 không bắt buộc phải khởi tạo biến)"
   ]
  },
  {
   "cell_type": "code",
   "execution_count": 4,
   "metadata": {},
   "outputs": [
    {
     "name": "stdout",
     "output_type": "stream",
     "text": [
      "tf.Tensor(25, shape=(), dtype=int32)\n",
      "tf.Tensor(150, shape=(), dtype=int32)\n",
      "tf.Tensor(\n",
      "[[24 27]\n",
      " [48 55]], shape=(2, 2), dtype=int32)\n"
     ]
    }
   ],
   "source": [
    "a = tf.constant(10)\n",
    "b = tf.constant(15)\n",
    "c = tf.add(a,b)\n",
    "d = tf.multiply(a,b)\n",
    "print(c)\n",
    "print(d)\n",
    "x = tf.constant([[1, 2], [3, 4]])\n",
    "y = tf.constant([[5, 6], [7, 8]])\n",
    "e = tf.Variable(5)\n",
    "z= tf.matmul(x,y)+e # x*y + e\n",
    "print(z)"
   ]
  },
  {
   "cell_type": "markdown",
   "metadata": {},
   "source": [
    "https://github.com/iust-deep-learning/tensorflow-2-tutorial"
   ]
  },
  {
   "cell_type": "markdown",
   "metadata": {},
   "source": [
    "### 4. Một số các Tensor đặc biệt\n",
    "Một số câu lệnh khởi tạo các tensor đặc biệt như tensor toàn số 0, tensor toàn 1 hay tensor random"
   ]
  },
  {
   "cell_type": "markdown",
   "metadata": {},
   "source": [
    "`Tensor 0`\n",
    "\n",
    "tf.zeros(\n",
    "    shape, dtype=tf.dtypes.float32, name=None\n",
    ")\n",
    "\n",
    "Tạo một tensor 0 bằng một tensor đầu vào\n",
    "\n",
    "tf.zeros_like(\n",
    "    input, dtype=None, name=None\n",
    ")"
   ]
  },
  {
   "cell_type": "code",
   "execution_count": 16,
   "metadata": {},
   "outputs": [
    {
     "data": {
      "text/plain": [
       "<tf.Tensor: shape=(3, 4), dtype=int32, numpy=\n",
       "array([[0, 0, 0, 0],\n",
       "       [0, 0, 0, 0],\n",
       "       [0, 0, 0, 0]])>"
      ]
     },
     "execution_count": 16,
     "metadata": {},
     "output_type": "execute_result"
    }
   ],
   "source": [
    "tf.zeros([3, 4], tf.int32)"
   ]
  },
  {
   "cell_type": "code",
   "execution_count": 18,
   "metadata": {},
   "outputs": [
    {
     "name": "stdout",
     "output_type": "stream",
     "text": [
      "tf.Tensor(\n",
      "[[[0 0]\n",
      "  [0 0]]\n",
      "\n",
      " [[0 0]\n",
      "  [0 0]]], shape=(2, 2, 2), dtype=int32)\n"
     ]
    }
   ],
   "source": [
    "t_origin = tf.constant([[[1, 2], \n",
    "                         [3, 4]],\n",
    "                        [[5, 6],\n",
    "                         [7, 8]]])\n",
    "t_zeros = tf.zeros_like(t_origin)\n",
    "print(t_zeros)"
   ]
  },
  {
   "cell_type": "markdown",
   "metadata": {},
   "source": [
    "`tensor one`"
   ]
  },
  {
   "cell_type": "code",
   "execution_count": 19,
   "metadata": {},
   "outputs": [],
   "source": [
    "t_ones = tf.ones([2, 3, 2],tf.float32)\n",
    "t_ones_like = tf.ones_like(t_ones)"
   ]
  },
  {
   "cell_type": "code",
   "execution_count": 20,
   "metadata": {},
   "outputs": [
    {
     "data": {
      "text/plain": [
       "<tf.Tensor: shape=(2, 3, 2), dtype=float32, numpy=\n",
       "array([[[1., 1.],\n",
       "        [1., 1.],\n",
       "        [1., 1.]],\n",
       "\n",
       "       [[1., 1.],\n",
       "        [1., 1.],\n",
       "        [1., 1.]]], dtype=float32)>"
      ]
     },
     "execution_count": 20,
     "metadata": {},
     "output_type": "execute_result"
    }
   ],
   "source": [
    "t_ones"
   ]
  },
  {
   "cell_type": "markdown",
   "metadata": {},
   "source": [
    "`Tensor đơn vị`\n",
    "\n",
    "tf.eye(num_rows, num_columns=None, batch_shape=None, dtype=tf.dtypes.float32, name=None)"
   ]
  },
  {
   "cell_type": "code",
   "execution_count": 21,
   "metadata": {},
   "outputs": [
    {
     "data": {
      "text/plain": [
       "<tf.Tensor: shape=(2, 3), dtype=float32, numpy=\n",
       "array([[1., 0., 0.],\n",
       "       [0., 1., 0.]], dtype=float32)>"
      ]
     },
     "execution_count": 21,
     "metadata": {},
     "output_type": "execute_result"
    }
   ],
   "source": [
    "tf.eye(2)\n",
    "tf.eye(2, num_columns=3)"
   ]
  },
  {
   "cell_type": "markdown",
   "metadata": {},
   "source": [
    "`Tensor random`\n",
    "\n",
    "Tensor ngẫu nhiên đầu vào là kích thước, trung bình, độ lệch chuẩn, các phần tử tuân theo phân phối chuẩn.\n",
    "\n",
    "tf.random.normal(\n",
    "    shape,\n",
    "    mean=0.0,\n",
    "    stddev=1.0,\n",
    "    dtype=tf.float32,\n",
    "    seed=None,\n",
    "    name=None\n",
    ")\n",
    "\n",
    "tf.random.poisson(\n",
    "    lam, #tham số đặc trưng xác định phân phối poisson\n",
    "    shape, #kích thước của tensor\n",
    "    dtype=tf.float32,\n",
    "    seed=None,\n",
    "    name=None\n",
    ")\n",
    "\n",
    "tf.random.uniform(\n",
    "    shape, #kích thước của tensor\n",
    "    minval=0, #giá trị nhỏ nhất\n",
    "    maxval=None, #giá trị lớn nhất\n",
    "    dtype=tf.float32,\n",
    "    seed=None,\n",
    "    name=None\n",
    ")"
   ]
  },
  {
   "cell_type": "code",
   "execution_count": 24,
   "metadata": {},
   "outputs": [
    {
     "data": {
      "text/plain": [
       "<tf.Tensor: shape=(2, 3), dtype=float32, numpy=\n",
       "array([[11.412081, 11.60121 ,  8.194072],\n",
       "       [11.813763, 11.969242, 12.049738]], dtype=float32)>"
      ]
     },
     "execution_count": 24,
     "metadata": {},
     "output_type": "execute_result"
    }
   ],
   "source": [
    "t_random = tf.random.normal([2, 3], mean = 9, stddev = 2)\n",
    "t_random"
   ]
  },
  {
   "cell_type": "markdown",
   "metadata": {},
   "source": [
    "### 5. Các phép toán trên Tensor"
   ]
  },
  {
   "cell_type": "markdown",
   "metadata": {},
   "source": [
    "`Element-Wise Operations` (Thực hiện trên từng phần tử ma trận này với ma trận kia)"
   ]
  },
  {
   "cell_type": "code",
   "execution_count": 5,
   "metadata": {},
   "outputs": [
    {
     "name": "stdout",
     "output_type": "stream",
     "text": [
      "t1 + t2 = tf.Tensor(\n",
      "[[ 1  2  3]\n",
      " [ 4  6  7]\n",
      " [ 7  9 10]], shape=(3, 3), dtype=int32)\n",
      "t2 - t1 = tf.Tensor(\n",
      "[[1 2 3]\n",
      " [4 4 5]\n",
      " [7 7 8]], shape=(3, 3), dtype=int32)\n",
      "t1 * t2 = tf.Tensor(\n",
      "[[0 0 0]\n",
      " [0 5 6]\n",
      " [0 8 9]], shape=(3, 3), dtype=int32)\n",
      "t1 / t2 = tf.Tensor(\n",
      "[[0.         0.         0.        ]\n",
      " [0.         0.2        0.16666667]\n",
      " [0.         0.125      0.11111111]], shape=(3, 3), dtype=float64)\n"
     ]
    }
   ],
   "source": [
    "t1 = tf.constant([[0, 0, 0], [0, 1, 1], [0, 1, 1]])\n",
    "t2 = tf.constant([[1, 2, 3], [4, 5, 6], [7, 8, 9]])\n",
    "print('t1 + t2 =', t1 + t2)\n",
    "print('t2 - t1 =', t2 - t1)\n",
    "print('t1 * t2 =', t1 * t2)\n",
    "print('t1 / t2 =', t1 / t2)"
   ]
  },
  {
   "cell_type": "markdown",
   "metadata": {},
   "source": [
    "`Matrix Multiplication` (Phép nhân hai ma trận)"
   ]
  },
  {
   "cell_type": "code",
   "execution_count": 6,
   "metadata": {},
   "outputs": [
    {
     "name": "stdout",
     "output_type": "stream",
     "text": [
      "tf.matmul(t1, t2) = tf.Tensor(\n",
      "[[220 280]\n",
      " [490 640]], shape=(2, 2), dtype=int32)\n"
     ]
    }
   ],
   "source": [
    "t1 = tf.constant([[1, 2, 3], [4, 5, 6]])\n",
    "t2 = tf.constant([[10, 20], \n",
    "                  [30, 40],\n",
    "                  [50, 60]])\n",
    "print(\"tf.matmul(t1, t2) =\", tf.matmul(t1, t2))"
   ]
  },
  {
   "cell_type": "markdown",
   "metadata": {},
   "source": [
    "`Reshaping` (Định dạng lại kích thước)"
   ]
  },
  {
   "cell_type": "code",
   "execution_count": 9,
   "metadata": {},
   "outputs": [
    {
     "name": "stdout",
     "output_type": "stream",
     "text": [
      "tf.Tensor(\n",
      "[[1 2 3]\n",
      " [4 5 6]\n",
      " [7 8 9]], shape=(3, 3), dtype=int32)\n",
      "tf.Tensor(\n",
      "[[1 1 2 2]\n",
      " [3 3 4 4]], shape=(2, 4), dtype=int32)\n"
     ]
    }
   ],
   "source": [
    "t1 = tf.constant([1, 2, 3, 4, 5, 6, 7, 8, 9]) # shape :[9]\n",
    "print(tf.reshape(t, [3, 3]))\n",
    "t2 = tf.constant([[[1, 1], [2, 2]],\n",
    "                [[3, 3], [4, 4]]]) # shape :[2, 2, 2]\n",
    "print(tf.reshape(t2, [2, 4]))"
   ]
  },
  {
   "cell_type": "markdown",
   "metadata": {},
   "source": [
    "`Combining Tensors` (Kết hợp các Tensor)"
   ]
  },
  {
   "cell_type": "code",
   "execution_count": 11,
   "metadata": {},
   "outputs": [
    {
     "name": "stdout",
     "output_type": "stream",
     "text": [
      "tf.Tensor(\n",
      "[[1 1 1]\n",
      " [1 1 1]\n",
      " [2 2 2]\n",
      " [2 2 2]\n",
      " [3 3 3]\n",
      " [3 3 3]], shape=(6, 3), dtype=int32)\n",
      "tf.Tensor(\n",
      "[[1 1 1 2 2 2 3 3 3]\n",
      " [1 1 1 2 2 2 3 3 3]], shape=(2, 9), dtype=int32)\n"
     ]
    }
   ],
   "source": [
    "t1 = tf.constant([[1, 1, 1], [1, 1, 1]]) # shape = [2, 3]\n",
    "t2 = tf.constant([[2, 2, 2], [2, 2, 2]]) # shape = [2, 3]\n",
    "t3 = tf.constant([[3, 3, 3], [3, 3, 3]]) # shape = [2, 3]\n",
    "print(tf.concat([t1, t2, t3], axis = 0)) # Kết nối theo hàng\n",
    "print(tf.concat([t1, t2, t3], axis = 1)) # Kết nối theo cột"
   ]
  },
  {
   "cell_type": "markdown",
   "metadata": {},
   "source": [
    "`Reducing` (Tính sum, mean, max, min các phần tử của Tensor)\n",
    "\n",
    "Để tính mean/max/min của một tensor ta sẽ sử dụng hàm tf.reduce_mean/max/min():\n",
    "\n",
    "\n",
    "tf.reduce_mean(\n",
    "    input_tensor,\n",
    "    axis=None,\n",
    "    keepdims=None,\n",
    "    name=None\n",
    ")\n",
    "\n",
    "tf.reduce_max(\n",
    "    input_tensor,\n",
    "    axis=None,\n",
    "    keepdims=None,\n",
    "    name=None\n",
    ")\n",
    "\n",
    "tf.reduce_max(\n",
    "    input_tensor,\n",
    "    axis=None,\n",
    "    keepdims=None,\n",
    "    name=None\n",
    ")\n",
    "\n",
    "Kết quả trả về là giá trị theo các chiều"
   ]
  },
  {
   "cell_type": "code",
   "execution_count": 15,
   "metadata": {},
   "outputs": [
    {
     "name": "stdout",
     "output_type": "stream",
     "text": [
      "tf.Tensor(20, shape=(), dtype=int32)\n",
      "tf.Tensor([2 4 6 8], shape=(4,), dtype=int32)\n",
      "tf.Tensor([10 10], shape=(2,), dtype=int32)\n",
      "\n",
      "t1 = tf.Tensor(\n",
      "[[6 0 5 6]\n",
      " [8 3 2 8]\n",
      " [4 0 3 1]], shape=(3, 4), dtype=int32)\n",
      "tf.Tensor(0, shape=(), dtype=int32)\n",
      "tf.Tensor(8, shape=(), dtype=int32)\n",
      "tf.Tensor(3, shape=(), dtype=int32)\n"
     ]
    }
   ],
   "source": [
    "t = tf.constant([[1, 2, 3, 4], \n",
    "                 [1, 2, 3, 4]])\n",
    "\n",
    "# Tính tổng tất cả các phần tử của tensor\n",
    "print(tf.math.reduce_sum(t))\n",
    "\n",
    "# Đưa ra tensor chứa tổng các phần tử theo cột\n",
    "print(tf.math.reduce_sum(t, axis=0))\n",
    "\n",
    "# Đưa ra tensor chứa tổng các phần tử theo hàng\n",
    "print(tf.math.reduce_sum(t, axis=1))\n",
    "\n",
    "t1 = tf.random.uniform(shape=[3, 4], maxval=10, dtype=tf.int32)\n",
    "print(\"\\nt1 =\",t1)\n",
    "\n",
    "# Phần tử nhỏ nhất của tensor \n",
    "print(tf.math.reduce_min(t1))\n",
    "\n",
    "# Phần tử lớn nhất của tensor \n",
    "print(tf.math.reduce_max(t1))\n",
    "\n",
    "# Phần tử là giá trị trung bình của các phần tử trong tensor\n",
    "print(tf.math.reduce_mean(t1))"
   ]
  },
  {
   "cell_type": "markdown",
   "metadata": {},
   "source": [
    "Một số các hàm sử dụng phổ biến trong machine learning: `hàm mũ`, `hàm sigmoid`, `hàm relu`, `hàm softmax`, `hàm dấu`, `hàm uniqe`"
   ]
  },
  {
   "cell_type": "markdown",
   "metadata": {},
   "source": [
    "tf.math.exp(\n",
    "    x, name=None\n",
    ")"
   ]
  },
  {
   "cell_type": "code",
   "execution_count": 28,
   "metadata": {},
   "outputs": [
    {
     "name": "stdout",
     "output_type": "stream",
     "text": [
      "tf.Tensor(\n",
      "[[[2.7182817e+00 7.3890562e+00 2.0085537e+01]\n",
      "  [5.4598152e+01 1.4841316e+02 4.0342880e+02]\n",
      "  [1.0966332e+03 2.9809580e+03 8.1030840e+03]]], shape=(1, 3, 3), dtype=float32)\n"
     ]
    }
   ],
   "source": [
    "x = tf.constant([[[1, 2, 3], [4, 5, 6], [7, 8, 9]]], dtype = tf.float32)\n",
    "y = tf.exp(x)\n",
    "print(y)"
   ]
  },
  {
   "cell_type": "markdown",
   "metadata": {},
   "source": [
    "tf.nn.relu(\n",
    "    features, name=None\n",
    ")"
   ]
  },
  {
   "cell_type": "code",
   "execution_count": 29,
   "metadata": {},
   "outputs": [
    {
     "name": "stdout",
     "output_type": "stream",
     "text": [
      "tf.Tensor(\n",
      "[[[1. 0. 3.]\n",
      "  [4. 5. 0.]\n",
      "  [7. 0. 9.]]], shape=(1, 3, 3), dtype=float32)\n"
     ]
    }
   ],
   "source": [
    "x = tf.constant([[[1, -2, 3], [4, 5, -6], [7, -8, 9]]], dtype = tf.float32)\n",
    "y = tf.nn.relu(x)\n",
    "print(y)"
   ]
  },
  {
   "cell_type": "markdown",
   "metadata": {},
   "source": [
    "tf.math.sigmoid(\n",
    "    x, name=None\n",
    ")"
   ]
  },
  {
   "cell_type": "code",
   "execution_count": 30,
   "metadata": {},
   "outputs": [
    {
     "name": "stdout",
     "output_type": "stream",
     "text": [
      "tf.Tensor(\n",
      "[[[0.7310586  0.8807971  0.95257413]\n",
      "  [0.98201376 0.9933071  0.99752736]\n",
      "  [0.999089   0.99966455 0.9998766 ]]], shape=(1, 3, 3), dtype=float32)\n"
     ]
    }
   ],
   "source": [
    "x = tf.constant([[[1, 2, 3], [4, 5, 6], [7, 8, 9]]], dtype = tf.float32)\n",
    "y = tf.sigmoid(x)\n",
    "print(y)"
   ]
  },
  {
   "cell_type": "markdown",
   "metadata": {},
   "source": [
    "tf.nn.softmax(\n",
    "    logits, axis=None, name=None\n",
    ")"
   ]
  },
  {
   "cell_type": "code",
   "execution_count": 31,
   "metadata": {},
   "outputs": [
    {
     "name": "stdout",
     "output_type": "stream",
     "text": [
      "tf.Tensor(\n",
      "[5.7628046e-04 5.7628046e-04 1.5664927e-03 4.2581689e-03 1.1574903e-02\n",
      " 3.1463847e-02 8.5527599e-02 2.3248814e-01 6.3196826e-01], shape=(9,), dtype=float32)\n"
     ]
    }
   ],
   "source": [
    "x = tf.constant([1, 1, 2, 3, 4, 5, 6, 7, 8], dtype = tf.float32)\n",
    "y = tf.nn.softmax(x)\n",
    "print(y)"
   ]
  },
  {
   "cell_type": "markdown",
   "metadata": {},
   "source": [
    "tf.math.sign(\n",
    "    x, name=None\n",
    ")"
   ]
  },
  {
   "cell_type": "code",
   "execution_count": 32,
   "metadata": {},
   "outputs": [
    {
     "name": "stdout",
     "output_type": "stream",
     "text": [
      "tf.Tensor([ 1.  1. -1.  1.  1.  1. -1. -1.  1.], shape=(9,), dtype=float32)\n"
     ]
    }
   ],
   "source": [
    "x = tf.constant([1, 1, -2, 3, 4, 5, -6, -7, 8], dtype = tf.float32)\n",
    "y = tf.sign(x)\n",
    "print(y)"
   ]
  },
  {
   "cell_type": "markdown",
   "metadata": {},
   "source": [
    "tf.unique(\n",
    "    x, out_idx=tf.dtypes.int32, name=None\n",
    ")\n",
    "\n",
    "Trả ra các giá trị khác nhau và index của nó"
   ]
  },
  {
   "cell_type": "code",
   "execution_count": 33,
   "metadata": {},
   "outputs": [
    {
     "name": "stdout",
     "output_type": "stream",
     "text": [
      "tf.Tensor([ 1. -2.  3.  4.  5. -6. -7.  8.], shape=(8,), dtype=float32)\n",
      "tf.Tensor([0 0 1 2 3 4 5 6 7], shape=(9,), dtype=int32)\n"
     ]
    }
   ],
   "source": [
    "x = tf.constant([1, 1, -2, 3, 4, 5, -6, -7, 8], dtype = tf.float32)\n",
    "y, idx = tf.unique(x)\n",
    "print(y)\n",
    "print(idx)"
   ]
  },
  {
   "cell_type": "markdown",
   "metadata": {},
   "source": [
    "### THAM KHẢO : https://www.tensorflow.org/api_docs/python/tf"
   ]
  }
 ],
 "metadata": {
  "kernelspec": {
   "display_name": "Python 3",
   "language": "python",
   "name": "python3"
  },
  "language_info": {
   "codemirror_mode": {
    "name": "ipython",
    "version": 3
   },
   "file_extension": ".py",
   "mimetype": "text/x-python",
   "name": "python",
   "nbconvert_exporter": "python",
   "pygments_lexer": "ipython3",
   "version": "3.6.1"
  }
 },
 "nbformat": 4,
 "nbformat_minor": 4
}
