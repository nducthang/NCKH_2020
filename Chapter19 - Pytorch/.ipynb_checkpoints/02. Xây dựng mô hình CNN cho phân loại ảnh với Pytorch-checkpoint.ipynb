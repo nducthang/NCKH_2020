{
 "cells": [
  {
   "cell_type": "markdown",
   "metadata": {},
   "source": [
    "# Nguồn:\n",
    "1. https://phamdinhkhanh.github.io/2019/08/10/PytorchTurtorial1.html#3-x%C3%A2y-d%E1%BB%B1ng-m%E1%BA%A1ng-neural-network\n",
    "\n",
    "# Nội dung chính:\n",
    "\n",
    "1. Kiến trúc mạng CNN"
   ]
  },
  {
   "cell_type": "markdown",
   "metadata": {},
   "source": [
    "# 1. Kiến trúc mạng CNN\n",
    "Xây dựng mạng neural network sẽ trải qua các bước sau:\n",
    "* Xây dựng kiến trúc mạng\n",
    "* Phân chia dữ liệu train, test\n",
    "* Xác định phương pháp optimizer và hàm loss\n",
    "* Huấn luyện mô hình\n",
    "* Kiểm thử mô hình\n",
    "\n",
    "Trong bài này, chúng ta sẽ xây dựng một mạng CNN cho bài toán phân loại ảnh. Để xẩy dựng mạng neural, chúng ta sẽ kế thừa object **nn.Module**. Object này cho phép thực hiện quá trình lan truyền thuận và lan truyền ngược thông qua hàm **forward()** và **backward()**"
   ]
  },
  {
   "cell_type": "code",
   "execution_count": null,
   "metadata": {},
   "outputs": [],
   "source": [
    "import torch\n",
    "import torch.nn as nn\n",
    "import torch.nn.functional as F"
   ]
  }
 ],
 "metadata": {
  "kernelspec": {
   "display_name": "Python 3",
   "language": "python",
   "name": "python3"
  },
  "language_info": {
   "codemirror_mode": {
    "name": "ipython",
    "version": 3
   },
   "file_extension": ".py",
   "mimetype": "text/x-python",
   "name": "python",
   "nbconvert_exporter": "python",
   "pygments_lexer": "ipython3",
   "version": "3.6.9"
  }
 },
 "nbformat": 4,
 "nbformat_minor": 4
}
