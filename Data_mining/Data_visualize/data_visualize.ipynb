{
 "cells": [
  {
   "cell_type": "markdown",
   "metadata": {},
   "source": [
    "# Netflix Movies and TV Shows"
   ]
  },
  {
   "cell_type": "markdown",
   "metadata": {},
   "source": [
    "## source: https://www.kaggle.com/shivamb/netflix-shows?select=netflix_titles.csv\n",
    "## This dataset consists of tv shows and movies available on Netflix as of 2019"
   ]
  },
  {
   "cell_type": "markdown",
   "metadata": {},
   "source": [
    "## 1. Cài đặt thư viện"
   ]
  },
  {
   "cell_type": "code",
   "execution_count": 1,
   "metadata": {},
   "outputs": [],
   "source": [
    "import pandas as pd\n",
    "import matplotlib.pyplot as plt\n",
    "import numpy as np\n",
    "import math as mt\n",
    "import seaborn as sns"
   ]
  },
  {
   "cell_type": "markdown",
   "metadata": {},
   "source": [
    "## 2. Đọc file và xem thông tin của dataframe"
   ]
  },
  {
   "cell_type": "code",
   "execution_count": 2,
   "metadata": {},
   "outputs": [
    {
     "data": {
      "text/html": [
       "<div>\n",
       "<style scoped>\n",
       "    .dataframe tbody tr th:only-of-type {\n",
       "        vertical-align: middle;\n",
       "    }\n",
       "\n",
       "    .dataframe tbody tr th {\n",
       "        vertical-align: top;\n",
       "    }\n",
       "\n",
       "    .dataframe thead th {\n",
       "        text-align: right;\n",
       "    }\n",
       "</style>\n",
       "<table border=\"1\" class=\"dataframe\">\n",
       "  <thead>\n",
       "    <tr style=\"text-align: right;\">\n",
       "      <th></th>\n",
       "      <th>show_id</th>\n",
       "      <th>type</th>\n",
       "      <th>title</th>\n",
       "      <th>director</th>\n",
       "      <th>cast</th>\n",
       "      <th>country</th>\n",
       "      <th>date_added</th>\n",
       "      <th>release_year</th>\n",
       "      <th>rating</th>\n",
       "      <th>duration</th>\n",
       "      <th>listed_in</th>\n",
       "      <th>description</th>\n",
       "    </tr>\n",
       "  </thead>\n",
       "  <tbody>\n",
       "    <tr>\n",
       "      <th>0</th>\n",
       "      <td>81145628</td>\n",
       "      <td>Movie</td>\n",
       "      <td>Norm of the North: King Sized Adventure</td>\n",
       "      <td>Richard Finn, Tim Maltby</td>\n",
       "      <td>Alan Marriott, Andrew Toth, Brian Dobson, Cole...</td>\n",
       "      <td>United States, India, South Korea, China</td>\n",
       "      <td>September 9, 2019</td>\n",
       "      <td>2019</td>\n",
       "      <td>TV-PG</td>\n",
       "      <td>90 min</td>\n",
       "      <td>Children &amp; Family Movies, Comedies</td>\n",
       "      <td>Before planning an awesome wedding for his gra...</td>\n",
       "    </tr>\n",
       "    <tr>\n",
       "      <th>1</th>\n",
       "      <td>80117401</td>\n",
       "      <td>Movie</td>\n",
       "      <td>Jandino: Whatever it Takes</td>\n",
       "      <td>NaN</td>\n",
       "      <td>Jandino Asporaat</td>\n",
       "      <td>United Kingdom</td>\n",
       "      <td>September 9, 2016</td>\n",
       "      <td>2016</td>\n",
       "      <td>TV-MA</td>\n",
       "      <td>94 min</td>\n",
       "      <td>Stand-Up Comedy</td>\n",
       "      <td>Jandino Asporaat riffs on the challenges of ra...</td>\n",
       "    </tr>\n",
       "    <tr>\n",
       "      <th>2</th>\n",
       "      <td>70234439</td>\n",
       "      <td>TV Show</td>\n",
       "      <td>Transformers Prime</td>\n",
       "      <td>NaN</td>\n",
       "      <td>Peter Cullen, Sumalee Montano, Frank Welker, J...</td>\n",
       "      <td>United States</td>\n",
       "      <td>September 8, 2018</td>\n",
       "      <td>2013</td>\n",
       "      <td>TV-Y7-FV</td>\n",
       "      <td>1 Season</td>\n",
       "      <td>Kids' TV</td>\n",
       "      <td>With the help of three human allies, the Autob...</td>\n",
       "    </tr>\n",
       "  </tbody>\n",
       "</table>\n",
       "</div>"
      ],
      "text/plain": [
       "    show_id     type                                    title  \\\n",
       "0  81145628    Movie  Norm of the North: King Sized Adventure   \n",
       "1  80117401    Movie               Jandino: Whatever it Takes   \n",
       "2  70234439  TV Show                       Transformers Prime   \n",
       "\n",
       "                   director  \\\n",
       "0  Richard Finn, Tim Maltby   \n",
       "1                       NaN   \n",
       "2                       NaN   \n",
       "\n",
       "                                                cast  \\\n",
       "0  Alan Marriott, Andrew Toth, Brian Dobson, Cole...   \n",
       "1                                   Jandino Asporaat   \n",
       "2  Peter Cullen, Sumalee Montano, Frank Welker, J...   \n",
       "\n",
       "                                    country         date_added  release_year  \\\n",
       "0  United States, India, South Korea, China  September 9, 2019          2019   \n",
       "1                            United Kingdom  September 9, 2016          2016   \n",
       "2                             United States  September 8, 2018          2013   \n",
       "\n",
       "     rating  duration                           listed_in  \\\n",
       "0     TV-PG    90 min  Children & Family Movies, Comedies   \n",
       "1     TV-MA    94 min                     Stand-Up Comedy   \n",
       "2  TV-Y7-FV  1 Season                            Kids' TV   \n",
       "\n",
       "                                         description  \n",
       "0  Before planning an awesome wedding for his gra...  \n",
       "1  Jandino Asporaat riffs on the challenges of ra...  \n",
       "2  With the help of three human allies, the Autob...  "
      ]
     },
     "execution_count": 2,
     "metadata": {},
     "output_type": "execute_result"
    }
   ],
   "source": [
    "data_df = pd.read_csv('data/netflix_titles.csv')\n",
    "data_df.head(3)"
   ]
  },
  {
   "cell_type": "code",
   "execution_count": 3,
   "metadata": {},
   "outputs": [
    {
     "name": "stdout",
     "output_type": "stream",
     "text": [
      "<class 'pandas.core.frame.DataFrame'>\n",
      "RangeIndex: 6234 entries, 0 to 6233\n",
      "Data columns (total 12 columns):\n",
      " #   Column        Non-Null Count  Dtype \n",
      "---  ------        --------------  ----- \n",
      " 0   show_id       6234 non-null   int64 \n",
      " 1   type          6234 non-null   object\n",
      " 2   title         6234 non-null   object\n",
      " 3   director      4265 non-null   object\n",
      " 4   cast          5664 non-null   object\n",
      " 5   country       5758 non-null   object\n",
      " 6   date_added    6223 non-null   object\n",
      " 7   release_year  6234 non-null   int64 \n",
      " 8   rating        6224 non-null   object\n",
      " 9   duration      6234 non-null   object\n",
      " 10  listed_in     6234 non-null   object\n",
      " 11  description   6234 non-null   object\n",
      "dtypes: int64(2), object(10)\n",
      "memory usage: 584.6+ KB\n"
     ]
    }
   ],
   "source": [
    "data_df.shape\n",
    "data_df.info()"
   ]
  },
  {
   "cell_type": "markdown",
   "metadata": {},
   "source": [
    "### Thống kê dữ liệu thiếu theo các feautres"
   ]
  },
  {
   "cell_type": "code",
   "execution_count": 4,
   "metadata": {},
   "outputs": [
    {
     "data": {
      "text/plain": [
       "director        1969\n",
       "cast             570\n",
       "country          476\n",
       "date_added        11\n",
       "rating            10\n",
       "description        0\n",
       "listed_in          0\n",
       "duration           0\n",
       "release_year       0\n",
       "title              0\n",
       "type               0\n",
       "show_id            0\n",
       "dtype: int64"
      ]
     },
     "execution_count": 4,
     "metadata": {},
     "output_type": "execute_result"
    }
   ],
   "source": [
    "total = data_df.isnull().sum().sort_values(ascending=False)\n",
    "total"
   ]
  },
  {
   "cell_type": "code",
   "execution_count": 5,
   "metadata": {},
   "outputs": [
    {
     "data": {
      "text/plain": [
       "director        0.315849\n",
       "cast            0.091434\n",
       "country         0.076355\n",
       "date_added      0.001765\n",
       "rating          0.001604\n",
       "description     0.000000\n",
       "listed_in       0.000000\n",
       "duration        0.000000\n",
       "release_year    0.000000\n",
       "title           0.000000\n",
       "type            0.000000\n",
       "show_id         0.000000\n",
       "dtype: float64"
      ]
     },
     "execution_count": 5,
     "metadata": {},
     "output_type": "execute_result"
    }
   ],
   "source": [
    "precent = (data_df.isnull().sum()/data_df.isnull().count()).sort_values(ascending=False)\n",
    "precent"
   ]
  },
  {
   "cell_type": "code",
   "execution_count": 6,
   "metadata": {},
   "outputs": [
    {
     "data": {
      "text/html": [
       "<div>\n",
       "<style scoped>\n",
       "    .dataframe tbody tr th:only-of-type {\n",
       "        vertical-align: middle;\n",
       "    }\n",
       "\n",
       "    .dataframe tbody tr th {\n",
       "        vertical-align: top;\n",
       "    }\n",
       "\n",
       "    .dataframe thead th {\n",
       "        text-align: right;\n",
       "    }\n",
       "</style>\n",
       "<table border=\"1\" class=\"dataframe\">\n",
       "  <thead>\n",
       "    <tr style=\"text-align: right;\">\n",
       "      <th></th>\n",
       "      <th>Total</th>\n",
       "      <th>Percent</th>\n",
       "    </tr>\n",
       "  </thead>\n",
       "  <tbody>\n",
       "    <tr>\n",
       "      <th>director</th>\n",
       "      <td>1969</td>\n",
       "      <td>0.315849</td>\n",
       "    </tr>\n",
       "    <tr>\n",
       "      <th>cast</th>\n",
       "      <td>570</td>\n",
       "      <td>0.091434</td>\n",
       "    </tr>\n",
       "    <tr>\n",
       "      <th>country</th>\n",
       "      <td>476</td>\n",
       "      <td>0.076355</td>\n",
       "    </tr>\n",
       "    <tr>\n",
       "      <th>date_added</th>\n",
       "      <td>11</td>\n",
       "      <td>0.001765</td>\n",
       "    </tr>\n",
       "    <tr>\n",
       "      <th>rating</th>\n",
       "      <td>10</td>\n",
       "      <td>0.001604</td>\n",
       "    </tr>\n",
       "    <tr>\n",
       "      <th>description</th>\n",
       "      <td>0</td>\n",
       "      <td>0.000000</td>\n",
       "    </tr>\n",
       "    <tr>\n",
       "      <th>listed_in</th>\n",
       "      <td>0</td>\n",
       "      <td>0.000000</td>\n",
       "    </tr>\n",
       "    <tr>\n",
       "      <th>duration</th>\n",
       "      <td>0</td>\n",
       "      <td>0.000000</td>\n",
       "    </tr>\n",
       "    <tr>\n",
       "      <th>release_year</th>\n",
       "      <td>0</td>\n",
       "      <td>0.000000</td>\n",
       "    </tr>\n",
       "    <tr>\n",
       "      <th>title</th>\n",
       "      <td>0</td>\n",
       "      <td>0.000000</td>\n",
       "    </tr>\n",
       "    <tr>\n",
       "      <th>type</th>\n",
       "      <td>0</td>\n",
       "      <td>0.000000</td>\n",
       "    </tr>\n",
       "    <tr>\n",
       "      <th>show_id</th>\n",
       "      <td>0</td>\n",
       "      <td>0.000000</td>\n",
       "    </tr>\n",
       "  </tbody>\n",
       "</table>\n",
       "</div>"
      ],
      "text/plain": [
       "              Total   Percent\n",
       "director       1969  0.315849\n",
       "cast            570  0.091434\n",
       "country         476  0.076355\n",
       "date_added       11  0.001765\n",
       "rating           10  0.001604\n",
       "description       0  0.000000\n",
       "listed_in         0  0.000000\n",
       "duration          0  0.000000\n",
       "release_year      0  0.000000\n",
       "title             0  0.000000\n",
       "type              0  0.000000\n",
       "show_id           0  0.000000"
      ]
     },
     "execution_count": 6,
     "metadata": {},
     "output_type": "execute_result"
    }
   ],
   "source": [
    "missing_data = pd.concat([total, precent], axis=1, keys=['Total', 'Percent'])\n",
    "missing_data"
   ]
  },
  {
   "cell_type": "markdown",
   "metadata": {},
   "source": [
    "### Biểu diễn trên đồ thị"
   ]
  },
  {
   "cell_type": "code",
   "execution_count": 7,
   "metadata": {},
   "outputs": [
    {
     "data": {
      "text/html": [
       "<div>\n",
       "<style scoped>\n",
       "    .dataframe tbody tr th:only-of-type {\n",
       "        vertical-align: middle;\n",
       "    }\n",
       "\n",
       "    .dataframe tbody tr th {\n",
       "        vertical-align: top;\n",
       "    }\n",
       "\n",
       "    .dataframe thead th {\n",
       "        text-align: right;\n",
       "    }\n",
       "</style>\n",
       "<table border=\"1\" class=\"dataframe\">\n",
       "  <thead>\n",
       "    <tr style=\"text-align: right;\">\n",
       "      <th></th>\n",
       "      <th>Total</th>\n",
       "      <th>Percent</th>\n",
       "    </tr>\n",
       "  </thead>\n",
       "  <tbody>\n",
       "    <tr>\n",
       "      <th>director</th>\n",
       "      <td>1969</td>\n",
       "      <td>0.315849</td>\n",
       "    </tr>\n",
       "    <tr>\n",
       "      <th>cast</th>\n",
       "      <td>570</td>\n",
       "      <td>0.091434</td>\n",
       "    </tr>\n",
       "    <tr>\n",
       "      <th>country</th>\n",
       "      <td>476</td>\n",
       "      <td>0.076355</td>\n",
       "    </tr>\n",
       "    <tr>\n",
       "      <th>date_added</th>\n",
       "      <td>11</td>\n",
       "      <td>0.001765</td>\n",
       "    </tr>\n",
       "    <tr>\n",
       "      <th>rating</th>\n",
       "      <td>10</td>\n",
       "      <td>0.001604</td>\n",
       "    </tr>\n",
       "  </tbody>\n",
       "</table>\n",
       "</div>"
      ],
      "text/plain": [
       "            Total   Percent\n",
       "director     1969  0.315849\n",
       "cast          570  0.091434\n",
       "country       476  0.076355\n",
       "date_added     11  0.001765\n",
       "rating         10  0.001604"
      ]
     },
     "execution_count": 7,
     "metadata": {},
     "output_type": "execute_result"
    },
    {
     "data": {
      "image/png": "[encoded data removed]",
      "text/plain": [
       "<Figure size 1080x432 with 1 Axes>"
      ]
     },
     "metadata": {
      "needs_background": "light"
     },
     "output_type": "display_data"
    }
   ],
   "source": [
    "f, ax = plt.subplots(figsize=(15, 6))\n",
    "plt.xticks(rotation='90')\n",
    "sns.barplot(x=missing_data.index, y=missing_data['Percent'])\n",
    "plt.xlabel('Features', fontsize=15)\n",
    "plt.ylabel('Percent of missing values', fontsize=15)\n",
    "plt.title('Percent missing data by feature', fontsize=15)\n",
    "plt.savefig('image/datamisssing.png')\n",
    "missing_data.head()"
   ]
  },
  {
   "cell_type": "markdown",
   "metadata": {},
   "source": [
    "## 3. Các modul tính toán cơ bản"
   ]
  },
  {
   "cell_type": "markdown",
   "metadata": {},
   "source": [
    "### Tính trung bình (mean)"
   ]
  },
  {
   "cell_type": "code",
   "execution_count": 8,
   "metadata": {},
   "outputs": [],
   "source": [
    "def data_mean(data):\n",
    "    a = len(data)\n",
    "    sum = 0\n",
    "    for i in range(len(data)):\n",
    "        sum = sum + data[i]\n",
    "    return sum/len(data)\n",
    "    "
   ]
  },
  {
   "cell_type": "code",
   "execution_count": 9,
   "metadata": {},
   "outputs": [
    {
     "data": {
      "text/plain": [
       "76703679.31985883"
      ]
     },
     "execution_count": 9,
     "metadata": {},
     "output_type": "execute_result"
    }
   ],
   "source": [
    "data = data_df['show_id'].values\n",
    "data_mean(data)"
   ]
  },
  {
   "cell_type": "markdown",
   "metadata": {},
   "source": [
    "### Tính phương sai (variance), độ lệch chuẩn (std)"
   ]
  },
  {
   "cell_type": "code",
   "execution_count": 10,
   "metadata": {},
   "outputs": [],
   "source": [
    "def data_variance(data):\n",
    "    mean = data_mean(data)\n",
    "    a = len(data)\n",
    "    sum = 0\n",
    "    for i in range(len(data)):\n",
    "        sum = (mean - data[i])**2 + sum\n",
    "    return sum/a , mt.sqrt(sum/a)"
   ]
  },
  {
   "cell_type": "code",
   "execution_count": 11,
   "metadata": {},
   "outputs": [
    {
     "data": {
      "text/plain": [
       "(119729266397711.88, 10942086.930641333)"
      ]
     },
     "execution_count": 11,
     "metadata": {},
     "output_type": "execute_result"
    }
   ],
   "source": [
    "data_variance(data)"
   ]
  },
  {
   "cell_type": "markdown",
   "metadata": {},
   "source": [
    "### Tính trung vị (median), min, max"
   ]
  },
  {
   "cell_type": "code",
   "execution_count": 12,
   "metadata": {},
   "outputs": [],
   "source": [
    "def data_median(data):\n",
    "    data_sort = sorted(data)\n",
    "    a = len(data_sort)\n",
    "    index = (a-1) // 2\n",
    "    if a % 2:\n",
    "        return data_sort[0], data_sort[index], data_sort[a-1]\n",
    "    else:\n",
    "        return data_sort[0], (data_sort[index] + data_sort[index+1])/2.0, data_sort[a-1]"
   ]
  },
  {
   "cell_type": "code",
   "execution_count": 13,
   "metadata": {},
   "outputs": [
    {
     "data": {
      "text/plain": [
       "(247747, 80163367.0, 81235729)"
      ]
     },
     "execution_count": 13,
     "metadata": {},
     "output_type": "execute_result"
    }
   ],
   "source": [
    "data_median(data)"
   ]
  },
  {
   "cell_type": "markdown",
   "metadata": {},
   "source": [
    "### Tính Quantiles"
   ]
  },
  {
   "cell_type": "code",
   "execution_count": 14,
   "metadata": {},
   "outputs": [],
   "source": [
    "def data_quantiles(data):\n",
    "    data_sort = sorted(data)\n",
    "    a = len(data_sort)\n",
    "    index_1 = (a-1)//4\n",
    "    index_2 = (a-1)//2\n",
    "    index_3 = int((a-1)*(3/4))\n",
    "    return data_sort[index_1], data_sort[index_2], data_sort[index_3]"
   ]
  },
  {
   "cell_type": "code",
   "execution_count": 15,
   "metadata": {},
   "outputs": [
    {
     "data": {
      "text/plain": [
       "(80035689, 80163366, 80244855)"
      ]
     },
     "execution_count": 15,
     "metadata": {},
     "output_type": "execute_result"
    }
   ],
   "source": [
    " data_quantiles(data)"
   ]
  },
  {
   "cell_type": "markdown",
   "metadata": {},
   "source": [
    "# 4. Phân tích một số feature của bộ dữ liệu"
   ]
  },
  {
   "cell_type": "markdown",
   "metadata": {},
   "source": [
    "## Type"
   ]
  },
  {
   "cell_type": "code",
   "execution_count": 16,
   "metadata": {},
   "outputs": [],
   "source": [
    "def visualize_type():\n",
    "    data_type = data_df['type'].values\n",
    "    list_type = np.unique(data_type, return_counts= True)\n",
    "    type_program = list_type[0]\n",
    "    percent_program = list_type[1]\n",
    "    Explode = [0, 0.1]\n",
    "    plt.pie(percent_program, explode = Explode, labels = type_program, shadow = True, startangle = 45, autopct='%1.1f%%')\n",
    "    plt.axis('equal')\n",
    "    plt.legend(title =\"Type\")\n",
    "    plt.title(\"Percent TV show and Movie\",fontsize=15)\n",
    "    plt.savefig('image/type.png')\n",
    "    plt.show()\n",
    "    "
   ]
  },
  {
   "cell_type": "code",
   "execution_count": 17,
   "metadata": {},
   "outputs": [
    {
     "data": {
      "image/png": "[encoded data removed]",
      "text/plain": [
       "<Figure size 432x288 with 1 Axes>"
      ]
     },
     "metadata": {},
     "output_type": "display_data"
    }
   ],
   "source": [
    "visualize_type()"
   ]
  },
  {
   "cell_type": "markdown",
   "metadata": {},
   "source": [
    "## Title"
   ]
  },
  {
   "cell_type": "code",
   "execution_count": 18,
   "metadata": {},
   "outputs": [],
   "source": [
    "def visualize_title():\n",
    "    data_title = data_df['title'].values\n",
    "    #print(data_title[1:5])\n",
    "    list_data_title = np.unique(data_title)\n",
    "    # number unique title\n",
    "    unique_data_title = len(list_data_title)\n",
    "    list_data_title = [list_data_title[i].split() for i in range(len(list_data_title))]\n",
    "    list_title = []\n",
    "    for i in range(len(list_data_title)):\n",
    "        list_title = np.concatenate((list_title,list_data_title[i]))\n",
    "    list_title = [list_title[i].lower() for i in range(len(list_title))]\n",
    "    stop_work = [\"The\", \"of\", \"the\", \"and\", \"in\", \"A\", \"&\", \"My\", \"to\", \"a\" ,\"2\", 'i', 'me',\n",
    "                 'my', 'myself', 'we', 'our', 'ours', 'ourselves', 'you', \"you're\", \"you've\", \"you'll\", \"you'd\", 'your', \n",
    "                 'yours', 'yourself', 'yourselves', 'he', 'him', 'his', 'himself', 'she', \"she's\", 'her', 'hers', 'herself', 'it', \n",
    "                 \"it's\", 'its', 'itself', 'they', 'them', 'their', 'theirs', 'themselves', 'what', 'which', 'who', 'whom', 'this', 'that', \n",
    "                 \"that'll\", 'these', 'those', 'am', 'is', 'are', 'was', 'were', 'be', 'been', 'being', 'have', 'has', 'had', 'having', 'do',\n",
    "                 'does', 'did', 'doing', 'a', 'an', 'the', 'and', 'but', 'if', 'or', 'because', 'as', 'until', 'while', 'of', 'at', 'by', 'for',\n",
    "                 'with', 'about', 'against', 'between', 'into', 'through', 'during', 'before', 'after', 'above', 'below', 'to', 'from', 'up', \n",
    "                 'down', 'in', 'out', 'on', 'off', 'over', 'under', 'again', 'further', 'then', 'once', 'here', 'there', 'when', 'where', 'why',\n",
    "                 'how', 'all', 'any', 'both', 'each', 'few', 'more', 'most', 'other', 'some', 'such', 'no', 'nor', 'not', 'only', 'own', 'same',\n",
    "                 'so', 'than', 'too', 'very', 's', 't', 'can', 'will', 'just', 'don', \"don't\", 'should', \"should've\", 'now', 'd', 'll', 'm', 'o', \n",
    "                 're', 've', 'y', 'ain', 'aren', \"aren't\", 'couldn', \"couldn't\", 'didn', \"didn't\", 'doesn', \"doesn't\", 'hadn', \"hadn't\", 'hasn', \n",
    "                 \"hasn't\", 'haven', \"haven't\", 'isn', \"isn't\", 'ma', 'mightn', \"mightn't\", 'mustn', \"mustn't\", 'needn', \"needn't\", 'shan', \"shan't\",\n",
    "                 'shouldn', \"shouldn't\", 'wasn', \"wasn't\", 'weren', \"weren't\", 'won', \"won't\", 'wouldn', \"wouldn't\"] \n",
    "    for i in range(len(stop_work)):\n",
    "        list_title = np.delete(list_title,np.where(list_title == stop_work[i]))\n",
    "    list_title = np.unique(list_title, return_counts= True)\n",
    "    a = list_title[0]\n",
    "    b = list_title[1]\n",
    "    dict_key_work = dict()\n",
    "    for i in range(10):\n",
    "        key_work = a[np.argmax(b)] \n",
    "        dict_key_work[key_work] = np.amax(b)\n",
    "        a = np.delete(a,np.argmax(b))\n",
    "        b = np.delete(b,np.argmax(b))\n",
    "    return unique_data_title,  dict_key_work\n",
    "    "
   ]
  },
  {
   "cell_type": "code",
   "execution_count": 19,
   "metadata": {},
   "outputs": [],
   "source": [
    "unique_data_title,  dict_key_work = visualize_title()"
   ]
  },
  {
   "cell_type": "code",
   "execution_count": 20,
   "metadata": {},
   "outputs": [
    {
     "data": {
      "image/png": "[encoded data removed]",
      "text/plain": [
       "<Figure size 1080x576 with 1 Axes>"
      ]
     },
     "metadata": {
      "needs_background": "light"
     },
     "output_type": "display_data"
    }
   ],
   "source": [
    "names = list(dict_key_work.keys())\n",
    "values = list(dict_key_work.values())\n",
    "plt.figure(figsize=(15, 8))\n",
    "plt.bar(names, values, width=0.6, align='center', color =\"blue\")\n",
    "plt.title(\"Key word popular\",fontsize=15)\n",
    "plt.xlabel(\"Key word\",fontsize=15)\n",
    "plt.ylabel(\"Count\",fontsize=15)\n",
    "plt.savefig('image/title.png')\n",
    "plt.show()"
   ]
  },
  {
   "cell_type": "markdown",
   "metadata": {},
   "source": [
    "## Duration\n",
    "Total Duration - in minutes or number of seasons "
   ]
  },
  {
   "cell_type": "code",
   "execution_count": 21,
   "metadata": {},
   "outputs": [],
   "source": [
    "data_duration = data_df['duration'].values"
   ]
  },
  {
   "cell_type": "code",
   "execution_count": 22,
   "metadata": {},
   "outputs": [
    {
     "data": {
      "text/plain": [
       "array(['90 min', '94 min', '1 Season', ..., '60 min', '2 Seasons',\n",
       "       '10 Seasons'], dtype=object)"
      ]
     },
     "execution_count": 22,
     "metadata": {},
     "output_type": "execute_result"
    }
   ],
   "source": [
    "data_duration"
   ]
  },
  {
   "cell_type": "code",
   "execution_count": 23,
   "metadata": {},
   "outputs": [],
   "source": [
    "unique_data_duration = np.unique(data_duration, return_counts= True)"
   ]
  },
  {
   "cell_type": "code",
   "execution_count": 24,
   "metadata": {},
   "outputs": [
    {
     "data": {
      "text/plain": [
       "{'1 Season': 1321,\n",
       " '10 Seasons': 3,\n",
       " '10 min': 1,\n",
       " '100 min': 80,\n",
       " '101 min': 71,\n",
       " '102 min': 74,\n",
       " '103 min': 75,\n",
       " '104 min': 62,\n",
       " '105 min': 70,\n",
       " '106 min': 70,\n",
       " '107 min': 60,\n",
       " '108 min': 56,\n",
       " '109 min': 50,\n",
       " '11 Seasons': 3,\n",
       " '11 min': 1,\n",
       " '110 min': 69,\n",
       " '111 min': 43,\n",
       " '112 min': 41,\n",
       " '113 min': 40,\n",
       " '114 min': 33,\n",
       " '115 min': 31,\n",
       " '116 min': 49,\n",
       " '117 min': 40,\n",
       " '118 min': 45,\n",
       " '119 min': 47,\n",
       " '12 Seasons': 2,\n",
       " '12 min': 2,\n",
       " '120 min': 32,\n",
       " '121 min': 37,\n",
       " '122 min': 33,\n",
       " '123 min': 32,\n",
       " '124 min': 36,\n",
       " '125 min': 30,\n",
       " '126 min': 35,\n",
       " '127 min': 36,\n",
       " '128 min': 33,\n",
       " '129 min': 23,\n",
       " '13 Seasons': 2,\n",
       " '130 min': 30,\n",
       " '131 min': 23,\n",
       " '132 min': 27,\n",
       " '133 min': 28,\n",
       " '134 min': 18,\n",
       " '135 min': 28,\n",
       " '136 min': 15,\n",
       " '137 min': 33,\n",
       " '138 min': 12,\n",
       " '139 min': 13,\n",
       " '14 Seasons': 1,\n",
       " '14 min': 2,\n",
       " '140 min': 17,\n",
       " '141 min': 16,\n",
       " '142 min': 9,\n",
       " '143 min': 15,\n",
       " '144 min': 6,\n",
       " '145 min': 9,\n",
       " '146 min': 12,\n",
       " '147 min': 8,\n",
       " '148 min': 13,\n",
       " '149 min': 8,\n",
       " '15 Seasons': 2,\n",
       " '15 min': 1,\n",
       " '150 min': 14,\n",
       " '151 min': 13,\n",
       " '152 min': 4,\n",
       " '153 min': 11,\n",
       " '154 min': 11,\n",
       " '155 min': 7,\n",
       " '156 min': 6,\n",
       " '157 min': 4,\n",
       " '158 min': 9,\n",
       " '159 min': 6,\n",
       " '160 min': 5,\n",
       " '161 min': 7,\n",
       " '162 min': 11,\n",
       " '163 min': 12,\n",
       " '164 min': 3,\n",
       " '165 min': 5,\n",
       " '166 min': 6,\n",
       " '167 min': 1,\n",
       " '168 min': 7,\n",
       " '169 min': 2,\n",
       " '170 min': 4,\n",
       " '171 min': 4,\n",
       " '172 min': 3,\n",
       " '173 min': 3,\n",
       " '174 min': 1,\n",
       " '176 min': 3,\n",
       " '177 min': 3,\n",
       " '178 min': 1,\n",
       " '179 min': 2,\n",
       " '18 min': 1,\n",
       " '180 min': 1,\n",
       " '181 min': 1,\n",
       " '182 min': 1,\n",
       " '185 min': 4,\n",
       " '187 min': 1,\n",
       " '189 min': 1,\n",
       " '19 min': 2,\n",
       " '190 min': 1,\n",
       " '191 min': 1,\n",
       " '192 min': 1,\n",
       " '193 min': 1,\n",
       " '195 min': 1,\n",
       " '196 min': 1,\n",
       " '2 Seasons': 304,\n",
       " '20 min': 1,\n",
       " '200 min': 1,\n",
       " '201 min': 1,\n",
       " '203 min': 1,\n",
       " '205 min': 1,\n",
       " '209 min': 1,\n",
       " '214 min': 1,\n",
       " '22 min': 13,\n",
       " '224 min': 1,\n",
       " '228 min': 1,\n",
       " '23 min': 6,\n",
       " '24 min': 18,\n",
       " '25 min': 7,\n",
       " '26 min': 5,\n",
       " '27 min': 2,\n",
       " '28 min': 5,\n",
       " '29 min': 9,\n",
       " '3 Seasons': 158,\n",
       " '3 min': 1,\n",
       " '30 min': 5,\n",
       " '31 min': 2,\n",
       " '312 min': 1,\n",
       " '32 min': 4,\n",
       " '33 min': 1,\n",
       " '34 min': 1,\n",
       " '35 min': 2,\n",
       " '36 min': 1,\n",
       " '37 min': 1,\n",
       " '38 min': 4,\n",
       " '4 Seasons': 61,\n",
       " '40 min': 13,\n",
       " '41 min': 2,\n",
       " '42 min': 5,\n",
       " '43 min': 1,\n",
       " '44 min': 15,\n",
       " '45 min': 9,\n",
       " '46 min': 16,\n",
       " '47 min': 8,\n",
       " '48 min': 5,\n",
       " '49 min': 8,\n",
       " '5 Seasons': 46,\n",
       " '50 min': 6,\n",
       " '51 min': 8,\n",
       " '52 min': 17,\n",
       " '53 min': 24,\n",
       " '54 min': 20,\n",
       " '55 min': 13,\n",
       " '56 min': 11,\n",
       " '57 min': 12,\n",
       " '58 min': 19,\n",
       " '59 min': 20,\n",
       " '6 Seasons': 22,\n",
       " '60 min': 23,\n",
       " '61 min': 22,\n",
       " '62 min': 20,\n",
       " '63 min': 26,\n",
       " '64 min': 14,\n",
       " '65 min': 21,\n",
       " '66 min': 26,\n",
       " '67 min': 16,\n",
       " '68 min': 16,\n",
       " '69 min': 23,\n",
       " '7 Seasons': 21,\n",
       " '70 min': 18,\n",
       " '71 min': 20,\n",
       " '72 min': 21,\n",
       " '73 min': 23,\n",
       " '74 min': 28,\n",
       " '75 min': 28,\n",
       " '76 min': 17,\n",
       " '77 min': 24,\n",
       " '78 min': 39,\n",
       " '79 min': 32,\n",
       " '8 Seasons': 16,\n",
       " '80 min': 32,\n",
       " '81 min': 46,\n",
       " '82 min': 38,\n",
       " '83 min': 48,\n",
       " '84 min': 50,\n",
       " '85 min': 50,\n",
       " '86 min': 77,\n",
       " '87 min': 70,\n",
       " '88 min': 86,\n",
       " '89 min': 78,\n",
       " '9 Seasons': 7,\n",
       " '90 min': 111,\n",
       " '91 min': 104,\n",
       " '92 min': 101,\n",
       " '93 min': 90,\n",
       " '94 min': 94,\n",
       " '95 min': 94,\n",
       " '96 min': 85,\n",
       " '97 min': 88,\n",
       " '98 min': 83,\n",
       " '99 min': 88}"
      ]
     },
     "execution_count": 24,
     "metadata": {},
     "output_type": "execute_result"
    }
   ],
   "source": [
    "minitue = unique_data_duration[0].tolist()\n",
    "count   = unique_data_duration[1].tolist()\n",
    "list_minitue = {minitue[i] : count[i] for i in range(len(minitue))}\n",
    "list_minitue"
   ]
  },
  {
   "cell_type": "code",
   "execution_count": 25,
   "metadata": {},
   "outputs": [],
   "source": [
    "list_minitue= sorted(list_minitue.items(), key=lambda x: x[1],reverse = True)"
   ]
  },
  {
   "cell_type": "code",
   "execution_count": 26,
   "metadata": {},
   "outputs": [],
   "source": [
    "minitue_po = dict(list_minitue[0:10])"
   ]
  },
  {
   "cell_type": "code",
   "execution_count": 27,
   "metadata": {},
   "outputs": [
    {
     "data": {
      "text/plain": [
       "{'1 Season': 1321,\n",
       " '2 Seasons': 304,\n",
       " '3 Seasons': 158,\n",
       " '90 min': 111,\n",
       " '91 min': 104,\n",
       " '92 min': 101,\n",
       " '94 min': 94,\n",
       " '95 min': 94,\n",
       " '93 min': 90,\n",
       " '97 min': 88}"
      ]
     },
     "execution_count": 27,
     "metadata": {},
     "output_type": "execute_result"
    }
   ],
   "source": [
    "minitue_po"
   ]
  },
  {
   "cell_type": "code",
   "execution_count": 28,
   "metadata": {},
   "outputs": [
    {
     "data": {
      "image/png": "[encoded data removed]",
      "text/plain": [
       "<Figure size 1080x576 with 1 Axes>"
      ]
     },
     "metadata": {
      "needs_background": "light"
     },
     "output_type": "display_data"
    }
   ],
   "source": [
    "names = list(minitue_po.keys())\n",
    "values = list(minitue_po.values())\n",
    "plt.figure(figsize=(15, 8))\n",
    "plt.bar(names, values, width=0.6, align='center', color =\"green\")\n",
    "plt.title(\"Minitues popular\",fontsize=15)\n",
    "plt.xlabel(\"Minitues\",fontsize=15)\n",
    "plt.ylabel(\"Count\",fontsize=15)\n",
    "plt.savefig('image/duration.png')\n",
    "plt.show()"
   ]
  },
  {
   "cell_type": "markdown",
   "metadata": {},
   "source": [
    "## Growth in content over the years"
   ]
  },
  {
   "cell_type": "code",
   "execution_count": 29,
   "metadata": {},
   "outputs": [],
   "source": [
    "def content_add_year():\n",
    "    data_df[\"date_added\"] = pd.to_datetime(data_df['date_added'])\n",
    "    data_df['year_added'] = data_df['date_added'].dt.year\n",
    "    data_df['month_added'] = data_df['date_added'].dt.month\n",
    "    d1 = data_df[data_df[\"type\"] == \"TV Show\"]\n",
    "    d2 = data_df[data_df[\"type\"] == \"Movie\"]\n",
    "    col = \"year_added\"\n",
    "    vc1 = (d1[col].value_counts()).to_dict()\n",
    "    vc2 = (d2[col].value_counts()).to_dict()\n",
    "    vc1 = dict(sorted(vc1.items()))\n",
    "    vc2 = dict(sorted(vc2.items()))\n",
    "    del vc1[2020.0]\n",
    "    del vc2[2020.0]\n",
    "    year_vc1 = list(vc1.keys())\n",
    "    add_vc1 = list(vc1.values())\n",
    "    year_vc2 = list(vc2.keys())\n",
    "    add_vc2 = list(vc2.values())\n",
    "    plt.figure(figsize=(10, 8))\n",
    "    plt.plot(year_vc1 ,add_vc1, 'go-', label='TV-Show', color =\"blue\")\n",
    "    plt.plot(year_vc2 ,add_vc2, 'ro-', label='Movie', color =\"green\")\n",
    "    plt.title('Content added over the years',fontsize=15)\n",
    "    plt.xlabel('Year', fontsize=15)\n",
    "    plt.ylabel('Number',fontsize=15)\n",
    "    plt.legend(loc='best')\n",
    "    plt.savefig('image/content_add_year.png')\n",
    "    plt.show()\n",
    "\n"
   ]
  },
  {
   "cell_type": "code",
   "execution_count": 30,
   "metadata": {},
   "outputs": [
    {
     "data": {
      "image/png": "[encoded data removed]",
      "text/plain": [
       "<Figure size 720x576 with 1 Axes>"
      ]
     },
     "metadata": {
      "needs_background": "light"
     },
     "output_type": "display_data"
    }
   ],
   "source": [
    "content_add_year()"
   ]
  },
  {
   "cell_type": "markdown",
   "metadata": {},
   "source": [
    "## Content added over the month"
   ]
  },
  {
   "cell_type": "code",
   "execution_count": 31,
   "metadata": {},
   "outputs": [],
   "source": [
    "def add_content_month():\n",
    "    data_df[\"date_added\"] = pd.to_datetime(data_df['date_added'])\n",
    "    data_df['year_added'] = data_df['date_added'].dt.year\n",
    "    data_df['month_added'] = data_df['date_added'].dt.month\n",
    "    d1 = data_df[data_df[\"type\"] == \"TV Show\"]\n",
    "    d2 = data_df[data_df[\"type\"] == \"Movie\"]\n",
    "    col = \"month_added\"\n",
    "    vc1 = (d1[col].value_counts()).to_dict()\n",
    "    vc2 = (d2[col].value_counts()).to_dict()\n",
    "    vc1 = dict(sorted(vc1.items()))\n",
    "    vc2 = dict(sorted(vc2.items()))\n",
    "    month_vc1 = list(vc1.keys())\n",
    "    month_vc1 = [int(month_vc1[i]) for i in range(len(month_vc1))]\n",
    "    add_vc1 = list(vc1.values())\n",
    "    add_vc2 = list(vc2.values())\n",
    "    index = np.arange(12)\n",
    "    width = 0.30\n",
    "    plt.figure(figsize=(15, 8))\n",
    "    plt.bar(index, add_vc1, width, align='center', color =\"blue\", label = \"TV-Show\")\n",
    "    plt.bar(index + width, add_vc2, width, align='center', color =\"green\", label = \"Moive\")\n",
    "    plt.title(\"Content added over the month\",fontsize=15)\n",
    "    plt.xlabel(\"Month\",fontsize=15)\n",
    "    plt.ylabel(\"Count\",fontsize=15)\n",
    "    plt.xticks(index+width/2, month_vc1)\n",
    "    plt.legend(loc='best',fontsize=12)\n",
    "    plt.savefig('image/add_month.png')\n",
    "    plt.show()\n",
    "    "
   ]
  },
  {
   "cell_type": "code",
   "execution_count": 32,
   "metadata": {},
   "outputs": [
    {
     "data": {
      "image/png": "[encoded data removed]",
      "text/plain": [
       "<Figure size 1080x576 with 1 Axes>"
      ]
     },
     "metadata": {
      "needs_background": "light"
     },
     "output_type": "display_data"
    }
   ],
   "source": [
    "add_content_month()"
   ]
  },
  {
   "cell_type": "markdown",
   "metadata": {},
   "source": [
    "## Content from different Countries"
   ]
  },
  {
   "cell_type": "code",
   "execution_count": 33,
   "metadata": {},
   "outputs": [
    {
     "name": "stdout",
     "output_type": "stream",
     "text": [
      "count_country: 113\n",
      "['Afghanistan' 'Albania' 'Argentina' 'Armenia' 'Australia' 'Austria'\n",
      " 'Azerbaijan' 'Bangladesh' 'Belgium' 'Bermuda' 'Botswana' 'Brazil'\n",
      " 'Bulgaria' 'Cambodia' 'Canada' 'Cayman Islands' 'Chile' 'China'\n",
      " 'Colombia' 'Croatia' 'Cuba' 'Cyprus' 'Czech Republic' 'Denmark'\n",
      " 'Dominican Republic' 'East Germany' 'Ecuador' 'Egypt' 'Finland' 'France'\n",
      " 'Georgia' 'Germany' 'Ghana' 'Greece' 'Guatemala' 'Hong Kong' 'Hungary'\n",
      " 'Iceland' 'India' 'Indonesia' 'Iran' 'Iraq' 'Ireland' 'Israel' 'Italy'\n",
      " 'Japan' 'Jordan' 'Kazakhstan' 'Kenya' 'Kuwait' 'Latvia' 'Lebanon'\n",
      " 'Liechtenstein' 'Luxembourg' 'Malawi' 'Malaysia' 'Malta' 'Mauritius'\n",
      " 'Mexico' 'Mongolia' 'Montenegro' 'Morocco' 'Namibia' 'Nepal'\n",
      " 'Netherlands' 'New Zealand' 'Nicaragua' 'Nigeria' 'Norway' 'Pakistan'\n",
      " 'Panama' 'Paraguay' 'Peru' 'Philippines' 'Poland' 'Poland,' 'Portugal'\n",
      " 'Qatar' 'Romania' 'Russia' 'Samoa' 'Saudi Arabia' 'Senegal' 'Serbia'\n",
      " 'Singapore' 'Slovakia' 'Slovenia' 'Somalia' 'South Africa' 'South Korea'\n",
      " 'Soviet Union' 'Spain' 'Sri Lanka' 'Sudan' 'Sweden' 'Switzerland' 'Syria'\n",
      " 'Taiwan' 'Thailand' 'Turkey' 'Uganda' 'Ukraine' 'United Arab Emirates'\n",
      " 'United Kingdom' 'United Kingdom,' 'United States' 'United States,'\n",
      " 'Uruguay' 'Vatican City' 'Venezuela' 'Vietnam' 'West Germany' 'Zimbabwe']\n"
     ]
    }
   ],
   "source": [
    "data_country = (data_df['country'].dropna()).values\n",
    "country = []\n",
    "for i in range(len(data_country)):\n",
    "    country = country + data_country[i].split(\", \")\n",
    "country = np.unique(np.array(country),return_counts= True)\n",
    "print(\"count_country:\", len(country[0]))\n",
    "print(country[0])\n",
    "name_country = country[0]\n",
    "count_country = country[1]\n",
    "dict_country = dict()\n",
    "for i in range(len(country[0])):\n",
    "    dict_country[name_country[i]] = count_country[i]\n",
    "\n"
   ]
  },
  {
   "cell_type": "code",
   "execution_count": 34,
   "metadata": {},
   "outputs": [],
   "source": [
    "dict_country = sorted(dict_country.items(), key=lambda x: x[1],reverse = True)"
   ]
  },
  {
   "cell_type": "code",
   "execution_count": 35,
   "metadata": {},
   "outputs": [
    {
     "data": {
      "text/plain": [
       "{'United States': 2609,\n",
       " 'India': 838,\n",
       " 'United Kingdom': 601,\n",
       " 'Canada': 318,\n",
       " 'France': 271,\n",
       " 'Japan': 231,\n",
       " 'Spain': 178,\n",
       " 'South Korea': 162,\n",
       " 'Germany': 151,\n",
       " 'Mexico': 129,\n",
       " 'Australia': 126,\n",
       " 'China': 120,\n",
       " 'Hong Kong': 97,\n",
       " 'Turkey': 87,\n",
       " 'Taiwan': 75}"
      ]
     },
     "execution_count": 35,
     "metadata": {},
     "output_type": "execute_result"
    }
   ],
   "source": [
    "country_popular = dict(dict_country[0:15])\n",
    "country_popular"
   ]
  },
  {
   "cell_type": "code",
   "execution_count": 36,
   "metadata": {},
   "outputs": [
    {
     "data": {
      "image/png": "[encoded data removed]",
      "text/plain": [
       "<Figure size 1080x576 with 1 Axes>"
      ]
     },
     "metadata": {
      "needs_background": "light"
     },
     "output_type": "display_data"
    }
   ],
   "source": [
    "names = list(country_popular.keys())\n",
    "values = list(country_popular.values())\n",
    "plt.figure(figsize=(15, 8))\n",
    "plt.barh(names, values, align='center', color =\"green\")\n",
    "plt.title(\"Country popular\",fontsize=15)\n",
    "plt.xlabel(\"Count\",fontsize=15)\n",
    "plt.ylabel(\"Country\",fontsize=15)\n",
    "plt.savefig('image/country.png')\n",
    "plt.show()"
   ]
  },
  {
   "cell_type": "code",
   "execution_count": null,
   "metadata": {},
   "outputs": [],
   "source": []
  }
 ],
 "metadata": {
  "kernelspec": {
   "display_name": "Python 3",
   "language": "python",
   "name": "python3"
  },
  "language_info": {
   "codemirror_mode": {
    "name": "ipython",
    "version": 3
   },
   "file_extension": ".py",
   "mimetype": "text/x-python",
   "name": "python",
   "nbconvert_exporter": "python",
   "pygments_lexer": "ipython3",
   "version": "3.6.1"
  }
 },
 "nbformat": 4,
 "nbformat_minor": 4
}
