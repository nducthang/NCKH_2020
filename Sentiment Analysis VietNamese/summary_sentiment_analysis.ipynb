{
 "cells": [
  {
   "cell_type": "markdown",
   "metadata": {},
   "source": [
    "# Phân loại sắc thái bình luận trong Tiếng Việt \n",
    "# (Vietnamese sentiment analysis)"
   ]
  },
  {
   "cell_type": "markdown",
   "metadata": {},
   "source": [
    "## 1. Tài liệu tham khảo \n",
    "- Cuộc thi AIVIVN: https://www.aivivn.com/contests/1\n",
    "- Tổng kết cuộc thi AIVIVN: https://forum.machinelearningcoban.com/t/tong-ket-cuoc-thi-phan-loai-sac-thai-binh-luan/4545\n",
    "- https://viblo.asia/p/phan-tich-phan-hoi-khach-hang-hieu-qua-voi-machine-learningvietnamese-sentiment-analysis-Eb85opXOK2G\n",
    "- https://www.kaggle.com/kredy10/simple-lstm-for-text-classification\n",
    "- https://viblo.asia/p/xay-dung-mo-hinh-khong-gian-vector-cho-tieng-viet-GrLZDXr2Zk0"
   ]
  },
  {
   "cell_type": "markdown",
   "metadata": {},
   "source": [
    "## 2. Dữ liệu"
   ]
  },
  {
   "cell_type": "markdown",
   "metadata": {},
   "source": [
    "Nguồn: Cuộc thi phân loại sắc thái bình luận của aivivn `https://www.aivivn.com/contests/1`\n",
    "\n",
    "Mô tả: 3(file): file_train: train.crash, file test: test.crash, sample_submission.csv.\n",
    "\n",
    "Dữ liệu: Câu bình luận có độ dài bất kỳ được gán nhãn 0 hoặc 1, trong đó 1: bình luận tiêu cực, 0: bình luận tích cực\n",
    "\n",
    "train.crash: 16086 bình luận, test.crash: 10980 bình luận\n",
    "\n",
    "Mục tiêu: Xác định một bình luận là tiêu cực hay tích cực.\n",
    "\n",
    "Bình luận về dữ liệu: Dữ liệu là những câu review của khách hàng theo ngôn ngữ facebook, gồm nhiều teen code, icon cảm xúc, các từ cảm thám kéo dài, nhiều câu gây rối: `\"sản phẩm rất tốt tuy nhiên (nhưng)...\"`."
   ]
  },
  {
   "cell_type": "markdown",
   "metadata": {},
   "source": [
    "## 3. Phân tích hướng làm"
   ]
  },
  {
   "cell_type": "markdown",
   "metadata": {},
   "source": [
    "### Tiền xử lý dữ liệu\n",
    "- Chuẩn hóa các ký tự bị kéo dài. VD: chiếc áo này đẹp quaaa -> chiếc áo này đẹp quá,...\n",
    "- Chuẩn hóa một số sentiment word. VD \"okie\"-> \"ok\", \"k\" ->\"không\", \"tot\"->\"tốt\",...\n",
    "- Đưa các icon về tích cực (positive) hay tiêu cực (nagative). VD: ;) -> positive, :(( ->nagative.\n",
    "- Loại bỏ các dấu câu và các ký tự nhiễu.\n",
    "- Mở rộng data bằng cách thêm các câu bình luận không dấu. Thực tế, nhiều review cũng không có dấu.\n",
    "- Mở rộng train data bằng cách thêm vào các mẫu mới là lấy từ chính 2 từ điển, từ điển positive (các từ ngữ mang yếu tố tích cực) và từ điển nagative (các từ ngữ có ý nghĩa tiêu cực).\n",
    "\n",
    "\n",
    "\n",
    "### Chuẩn hóa các câu review\n",
    "Word embedding, CNN (fastext) và Machine Learning(TFIDF), RNN & LSTM (Tokenizer)\n",
    "\n",
    "\n",
    "### Lựa chọn model\n",
    "- `CNN`\n",
    "- `Machine learning: Classfication: SVM, Navie Bayes, Logistic_Regression, Decision_Tree`\n",
    "- `RNN & LSTM`"
   ]
  },
  {
   "cell_type": "markdown",
   "metadata": {},
   "source": [
    "## 4. Quy trình"
   ]
  },
  {
   "cell_type": "markdown",
   "metadata": {},
   "source": [
    "Bước 1. Lấy được các trường dữ liệu: `id, label, review`. Tiền xử lý dữ liệu. \n",
    "\n",
    "Bước 2. Sử dụng các công cụ để `Word Embedding` các từ.\n",
    "\n",
    "Bước 3. Chuẩn hóa độ dài các câu trong dữ liệu train. Chia tập dữ liệu theo tỷ lệ 7/3.\n",
    "\n",
    "Bước 4. Đưa vào các mô hình. Luyện mô hình.\n",
    "\n",
    "Bước 5. Predict với dữ liệu `validation_data`. Predict với dữ liệu `test`.\n",
    "\n",
    "Bước 6. Đánh giá độ chính xác và kết luận."
   ]
  },
  {
   "cell_type": "markdown",
   "metadata": {},
   "source": [
    "## 5. Tổng kết"
   ]
  },
  {
   "cell_type": "markdown",
   "metadata": {},
   "source": [
    "### Các file xử lý\n",
    "- File tiền xử lý dữ liệu và lấy dữ liệu : `pre_processing.py`, `data_processing.py`\n",
    "- File model: `model_cnn.py`, `model_machinelearning.py`, `model.py`"
   ]
  },
  {
   "cell_type": "markdown",
   "metadata": {},
   "source": [
    "### Độ chính xác của mỗi mô hình\n",
    "- CNN: `91.83% train data`, `85.65% test data`.\n",
    "- NavieBayes: `88.88% train data`, `88.43% test data`.\n",
    "- Logistic_regression: `92.26% train data`, `90.41 % test data`.\n",
    "- SVM :`95.82% train data`, `89.98% test data`.\n",
    "- Decision tree: `99.89% train data`, `83.75% test data`.\n",
    "- RNN: `91.5% train data`, `88.6% test data`."
   ]
  },
  {
   "cell_type": "code",
   "execution_count": null,
   "metadata": {},
   "outputs": [],
   "source": []
  }
 ],
 "metadata": {
  "kernelspec": {
   "display_name": "Python 3",
   "language": "python",
   "name": "python3"
  },
  "language_info": {
   "codemirror_mode": {
    "name": "ipython",
    "version": 3
   },
   "file_extension": ".py",
   "mimetype": "text/x-python",
   "name": "python",
   "nbconvert_exporter": "python",
   "pygments_lexer": "ipython3",
   "version": "3.6.1"
  }
 },
 "nbformat": 4,
 "nbformat_minor": 4
}
